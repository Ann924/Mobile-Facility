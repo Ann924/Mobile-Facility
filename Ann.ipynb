{
 "cells": [
  {
   "cell_type": "code",
   "execution_count": 231,
   "id": "disciplinary-updating",
   "metadata": {},
   "outputs": [
    {
     "name": "stdout",
     "output_type": "stream",
     "text": [
      "The autoreload extension is already loaded. To reload it, use:\n",
      "  %reload_ext autoreload\n"
     ]
    }
   ],
   "source": [
    "%load_ext autoreload\n",
    "%autoreload 2\n",
    "\n",
    "import networkx as nx\n",
    "import random\n",
    "from typing import Dict, List, Tuple, Set\n",
    "from problem import *\n",
    "from round import *\n",
    "from heuristics import *\n",
    "from utils import *"
   ]
  },
  {
   "cell_type": "code",
   "execution_count": 148,
   "id": "close-strength",
   "metadata": {},
   "outputs": [
    {
     "name": "stdout",
     "output_type": "stream",
     "text": [
      "[1, 1, 3]\n",
      "[1, 2, 3]\n",
      "[1, 2, 4]\n",
      "[0, 1, 3]\n",
      "[0, 2, 3]\n",
      "[0, 2, 4]\n"
     ]
    }
   ],
   "source": [
    "client_locations_excluded = []\n",
    "for person in client_locations:\n",
    "    if len(person)>1:\n",
    "        client_locations_excluded.append(person[1:])\n",
    "        #What happens to the indexing of people then? Do we have to make a map?\n",
    "\n",
    "#Brute force combinations\n",
    "covered_client_locations = set()\n",
    "client_locations = [[0, 1],[1,2],[3, 4]]\n",
    "\n",
    "initial_guess = [loc[0] for loc in client_locations]\n",
    "guesses = [([client_locations[ind][0] if ind!=0 else client_locations[ind][k] \n",
    "             for ind in range(len(client_locations))], 1)\n",
    "           for k in range(len(client_locations[0]))]\n",
    "\n",
    "while len(guesses)>0:\n",
    "    guess, guess_client_level = guesses.pop()\n",
    "    covered_client_locations.add(frozenset(guess))\n",
    "    print(guess)\n",
    "    \n",
    "    if guess_client_level<len(client_locations):\n",
    "        for ind in range(1, len(client_locations[guess_client_level])):\n",
    "            loc = client_locations[guess_client_level][ind]\n",
    "            new_guess = [i for i in guess]\n",
    "            new_guess[guess_client_level] = loc\n",
    "\n",
    "            if frozenset(new_guess) not in covered_client_locations:\n",
    "                guesses.append((new_guess, guess_client_level+1))"
   ]
  },
  {
   "cell_type": "code",
   "execution_count": 149,
   "id": "tracked-phase",
   "metadata": {},
   "outputs": [
    {
     "name": "stdout",
     "output_type": "stream",
     "text": [
      "[[0, 1, 4], [0, 2, 3], [0, 2, 4], [1, 1, 3], [1, 1, 4], [1, 2, 3], [1, 2, 4]]\n"
     ]
    }
   ],
   "source": [
    "client_locations_excluded = []\n",
    "for person in client_locations:\n",
    "    if len(person)>1:\n",
    "        client_locations_excluded.append(person[1:])\n",
    "        #What happens to the indexing of people then? Do we have to make a map?\n",
    "\n",
    "covered_client_locations = set()\n",
    "client_locations = [[0, 1],[1,2],[3, 4]]\n",
    "\n",
    "#Generate the possible facility combinations\n",
    "initial_guess = [loc[0] for loc in client_locations]\n",
    "guesses = [[loc] for loc in client_locations[0]]\n",
    "\n",
    "is_full = False\n",
    "while not is_full:\n",
    "    guess = guesses.pop(0)\n",
    "    if len(guess) == len(client_locations):\n",
    "        is_full = True\n",
    "    else:\n",
    "        ind = len(guess)\n",
    "        for loc in client_locations[ind]:\n",
    "            new_guess = [i for i in guess] + [loc]\n",
    "            guesses.append(new_guess)\n",
    "\n",
    "#Iterate through the possibilities and \n",
    "covered_dict = {}\n",
    "for guess in guesses:\n",
    "    set_guess = frozenset(guess)\n",
    "    if set_guess not in covered_set:\n",
    "        X = _k_supplier(distances, list(set(guess)), locations, k)\n",
    "        #Y = assign_facilities() <-- do this in the algorithm?\n",
    "        obj_value = calculate_objective(distances, X, Y)\n",
    "        covered_dict[set_guess] = obj_value\n",
    "\n",
    "covered_dict"
   ]
  },
  {
   "cell_type": "code",
   "execution_count": 153,
   "id": "brutal-backup",
   "metadata": {},
   "outputs": [
    {
     "name": "stdout",
     "output_type": "stream",
     "text": [
      "[(1, 2, 4, 5)]\n"
     ]
    }
   ],
   "source": [
    "'''c ← first(P)\n",
    "while c ≠ Λ do\n",
    "    if valid(P,c) then\n",
    "        output(P, c)\n",
    "    c ← next(P, c)\n",
    "end while'''\n",
    "\n",
    "from itertools import combinations\n",
    "\n",
    "client_locations = [[0, 1],[1,2],[3, 4, 5]]\n",
    "\n",
    "client_locations_excluded = []\n",
    "for person in client_locations:\n",
    "    if len(person)>1:\n",
    "        client_locations_excluded.append(person[1:])\n",
    "\n",
    "possible_hits = set(i for loc_set in client_locations_excluded for i in loc_set)\n",
    "combo = combinations(possible_hits, len(possible_hits))\n",
    "\n",
    "print(combo)"
   ]
  },
  {
   "cell_type": "code",
   "execution_count": 255,
   "id": "driven-reaction",
   "metadata": {},
   "outputs": [],
   "source": [
    "def fpt(G: List[List[float]], client_locations: List[List[int]], k):\n",
    "    \n",
    "    \"\"\"\n",
    "    Remove homes from the client_location list\n",
    "    Perhaps create mapping for the indices of people before exclusion and after?\n",
    "    \"\"\"\n",
    "    client_locations_excluded = []\n",
    "    for person in client_locations:\n",
    "        if len(person)>1:\n",
    "            client_locations_excluded.append(person[1:])\n",
    "    \n",
    "    guesses = [([loc[0] for loc in client_locations_excluded], [0 for i in range(len(client_locations_excluded))])]\n",
    "\n",
    "    covered_set = set()\n",
    "    while len(guesses)>0:\n",
    "        guess, indexing = guesses.pop(0)\n",
    "        print(guess)\n",
    "\n",
    "        \"\"\"\n",
    "        Locate facilities based on guess\n",
    "        Reformat input to work for k-supplier\n",
    "        \"\"\"\n",
    "        '''locations = list(set(k for i in client_locations_excluded for k in i))\n",
    "        facilities = _k_supplier(G, guess, locations, k)\n",
    "        Y = assign_facilities(G, client_locations_excluded, facilities)\n",
    "        obj_value = calculate_objective(G, Y)'''\n",
    "        \n",
    "        \"\"\"\n",
    "        Add more guess combinations by swapping out locations\n",
    "        Can alter this to reduce number of repeats?\n",
    "        Change \"covered_set\" to record based on indexing? (hash)\n",
    "        \"\"\"\n",
    "        for person, current_loc_ind in enumerate(indexing):\n",
    "            if current_loc_ind+1 < len(client_locations_excluded[person]):\n",
    "                new_indexing = [indexing[i] if i!=person else indexing[i]+1 for i in range(len(indexing))]\n",
    "                new_guess = [locations[new_indexing[ind]] for ind, locations in enumerate(client_locations_excluded)]\n",
    "                if frozenset(new_guess) not in covered_set:\n",
    "                    guesses.append((new_guess, new_indexing))\n",
    "                    #covered_set.add(frozenset(new_guess))\n",
    "    "
   ]
  },
  {
   "cell_type": "code",
   "execution_count": 264,
   "id": "closing-marketing",
   "metadata": {},
   "outputs": [],
   "source": [
    "\"\"\"\n",
    "COMBINATIONS REDONE\n",
    "\"\"\"\n",
    "def fpt(G: List[List[float]], client_locations: List[List[int]], k):\n",
    "    \n",
    "    \"\"\"\n",
    "    Remove homes from the client_location list\n",
    "    Perhaps create mapping for the indices of people before exclusion and after?\n",
    "    \"\"\"\n",
    "    client_locations_excluded = []\n",
    "    for person in client_locations:\n",
    "        if len(person)>1:\n",
    "            client_locations_excluded.append(person[1:])\n",
    "    \n",
    "    guesses:List[Tuple[List[int], List[int], int]]\n",
    "    guesses = [([loc[0] for loc in client_locations_excluded], [0 for i in range(len(client_locations_excluded))], 0)]\n",
    "\n",
    "    covered_set = set()\n",
    "    objective_facilities: List[Tuple[int, List[int], List[int]]] = []\n",
    "    while len(guesses)>0:\n",
    "        guess, indexing, person = guesses.pop(0)\n",
    "\n",
    "        \"\"\"\n",
    "        Locate facilities based on guess\n",
    "        Reformat input to work for k-supplier\n",
    "        \"\"\"\n",
    "        locations = list(set(k for i in client_locations_excluded for k in i))\n",
    "        facilities = _k_supplier(G, list(set(guess)), locations, k)\n",
    "        Y = assign_facilities(G, client_locations_excluded, facilities)\n",
    "        obj_value = calculate_objective(G, Y)\n",
    "        \n",
    "        objective_facilities.append((obj_value, facilities, guess))\n",
    "        \"\"\"\n",
    "        Add more guess combinations by swapping out locations\n",
    "        \"\"\"\n",
    "        for ind in range(person, len(indexing)):\n",
    "            current_loc_ind = indexing[ind]\n",
    "            \n",
    "            if current_loc_ind+1 < len(client_locations_excluded[ind]):\n",
    "                new_indexing = indexing[:ind] + [current_loc_ind+1] + indexing[ind+1:]\n",
    "                new_guess = [locations[new_indexing[i]] for i, locations in enumerate(client_locations_excluded)]\n",
    "                if frozenset(new_guess) not in covered_set:\n",
    "                    guesses.append((new_guess, new_indexing, ind))\n",
    "                    covered_set.add(frozenset(new_guess))\n",
    "    print(sorted(objective_facilities))"
   ]
  },
  {
   "cell_type": "code",
   "execution_count": 266,
   "id": "junior-villa",
   "metadata": {},
   "outputs": [
    {
     "name": "stdout",
     "output_type": "stream",
     "text": [
      "0\n",
      "{3}\n",
      "[(0, [3], [3, 3])]\n"
     ]
    }
   ],
   "source": [
    "fpt([[0],[1, 0],[2, 1, 0],[3, 2, 1, 0]], [[0, 3], [1, 3]], 2)"
   ]
  }
 ],
 "metadata": {
  "kernelspec": {
   "display_name": "Python 3",
   "language": "python",
   "name": "python3"
  },
  "language_info": {
   "codemirror_mode": {
    "name": "ipython",
    "version": 3
   },
   "file_extension": ".py",
   "mimetype": "text/x-python",
   "name": "python",
   "nbconvert_exporter": "python",
   "pygments_lexer": "ipython3",
   "version": "3.8.5"
  }
 },
 "nbformat": 4,
 "nbformat_minor": 5
}
