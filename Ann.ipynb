{
 "cells": [
  {
   "cell_type": "code",
   "execution_count": 30,
   "id": "protected-telling",
   "metadata": {},
   "outputs": [],
   "source": [
    "import networkx as nx\n",
    "import random\n",
    "from typing import Dict, List, Tuple, Set\n",
    "from problem import *\n",
    "from round import *\n",
    "from utils import cost, generate_input, assign_facilities"
   ]
  },
  {
   "cell_type": "code",
   "execution_count": 31,
   "id": "useful-scratch",
   "metadata": {},
   "outputs": [],
   "source": [
    "def _k_supplier(distances: List[List[int]], clients: List[int], locations: List[int], k: int):\n",
    "    \n",
    "    possible_OPT = [i for k in distances for i in k]\n",
    "    possible_OPT.sort()\n",
    "    \n",
    "    l = 0;\n",
    "    r = len(possible_OPT)-1\n",
    "    to_ret = -1\n",
    "    pairwise_disjoint = set()\n",
    "    \n",
    "    while l <= r:\n",
    "  \n",
    "        mid = l + (r - l) // 2;\n",
    "        \n",
    "        pairwise_disjoint =  _check_radius(possible_OPT[mid], distances, clients, locations, k)\n",
    "        if len(pairwise_disjoint) <= k:\n",
    "            l = mid + 1\n",
    "            to_ret = mid\n",
    "        else:\n",
    "            r = mid - 1\n",
    "    \n",
    "    if to_ret >= 0:\n",
    "        print(possible_OPT[to_ret])\n",
    "        facilities = _locate_facilities(possible_OPT[to_ret], distances, pairwise_disjoint, locations, k)\n",
    "        return facilities\n",
    "    else:\n",
    "        print(\"BAD CODE\")\n",
    "\n",
    "\n",
    "def _check_radius(radius: int, distances: List[List[int]], clients: List[int], locations: List[int], k: int):\n",
    "    \n",
    "    pairwise_disjoint = set()\n",
    "    \n",
    "    V = set(clients)\n",
    "    while len(V)!=0:\n",
    "        v = V.pop()\n",
    "        pairwise_disjoint.add(v)\n",
    "        remove = set()\n",
    "        for i in V:\n",
    "            if cost(distances,v,i)<2*radius:\n",
    "                remove.add(i)\n",
    "        V-=remove\n",
    "    \n",
    "    return pairwise_disjoint\n",
    "\n",
    "\n",
    "def _locate_facilities(radius: int, distances: List[List[int]], pairwise_disjoint: Set[int], locations: List[int], k: int):\n",
    "    \n",
    "    facilities = set()\n",
    "    for c in pairwise_disjoint:\n",
    "        for l in locations:\n",
    "            if cost(distances, c, l)< 2*radius:\n",
    "                facilities.add(l)\n",
    "                break\n",
    "    return facilities"
   ]
  },
  {
   "cell_type": "code",
   "execution_count": 32,
   "id": "alike-position",
   "metadata": {},
   "outputs": [
    {
     "name": "stdout",
     "output_type": "stream",
     "text": [
      "5\n"
     ]
    },
    {
     "data": {
      "text/plain": [
       "{1}"
      ]
     },
     "execution_count": 32,
     "metadata": {},
     "output_type": "execute_result"
    }
   ],
   "source": [
    "_k_supplier([[5,4,3],[5,5,5],[5,5,5]],[0, 2],[1],1)"
   ]
  }
 ],
 "metadata": {
  "kernelspec": {
   "display_name": "Python 3",
   "language": "python",
   "name": "python3"
  },
  "language_info": {
   "codemirror_mode": {
    "name": "ipython",
    "version": 3
   },
   "file_extension": ".py",
   "mimetype": "text/x-python",
   "name": "python",
   "nbconvert_exporter": "python",
   "pygments_lexer": "ipython3",
   "version": "3.8.5"
  }
 },
 "nbformat": 4,
 "nbformat_minor": 5
}
