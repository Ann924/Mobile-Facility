{
 "cells": [
  {
   "cell_type": "code",
   "execution_count": 86,
   "metadata": {},
   "outputs": [
    {
     "name": "stdout",
     "output_type": "stream",
     "text": [
      "The autoreload extension is already loaded. To reload it, use:\n",
      "  %reload_ext autoreload\n"
     ]
    }
   ],
   "source": [
    "%load_ext autoreload\n",
    "%autoreload 2\n",
    "\n",
    "import random\n",
    "import ray\n",
    "import pandas\n",
    "from typing import Dict, List, Tuple, Set\n",
    "from utils import *\n",
    "from problem import *\n",
    "from round import *\n",
    "from heuristics import *\n",
    "import matplotlib.pyplot as plt"
   ]
  },
  {
   "cell_type": "code",
   "execution_count": 96,
   "metadata": {},
   "outputs": [
    {
     "name": "stdin",
     "output_type": "stream",
     "text": [
      "Once deleted, variables cannot be recovered. Proceed (y/[n])?  y\n"
     ]
    }
   ],
   "source": [
    "%reset"
   ]
  },
  {
   "cell_type": "markdown",
   "metadata": {},
   "source": [
    "### SET COVER DATA ###"
   ]
  },
  {
   "cell_type": "markdown",
   "metadata": {},
   "source": [
    "##### Aggregation 1"
   ]
  },
  {
   "cell_type": "code",
   "execution_count": 5,
   "metadata": {},
   "outputs": [],
   "source": [
    "from config import LOCATIONS, CLIENT_LOCATIONS"
   ]
  },
  {
   "cell_type": "code",
   "execution_count": 66,
   "metadata": {},
   "outputs": [],
   "source": [
    "LOCATIONS_act = [(ind, value) for ind,value in LOCATIONS.items() if LOCATIONS[ind]['lid']<HOME_SHIFT]"
   ]
  },
  {
   "cell_type": "code",
   "execution_count": 67,
   "metadata": {},
   "outputs": [
    {
     "name": "stdout",
     "output_type": "stream",
     "text": [
      "0.01\n"
     ]
    }
   ],
   "source": [
    "radius = 10*10**(-3)\n",
    "print(radius)"
   ]
  },
  {
   "cell_type": "code",
   "execution_count": 7,
   "metadata": {},
   "outputs": [
    {
     "name": "stdout",
     "output_type": "stream",
     "text": [
      "9165\n",
      "646.5479264259338\n"
     ]
    }
   ],
   "source": [
    "import time\n",
    "\n",
    "start = time.time()\n",
    "radius_dict = {}\n",
    "for i in range(len(LOCATIONS_act)):\n",
    "    loc1 = LOCATIONS_act[i][0]\n",
    "    radius_dict[loc1] = []\n",
    "    \n",
    "    for j in range(len(LOCATIONS_act)):\n",
    "        loc2 = LOCATIONS_act[j][0]\n",
    "        dist = calculate_distance(loc1, loc2)\n",
    "        \n",
    "        if dist < radius:\n",
    "            radius_dict[loc1].append(loc2)\n",
    "\n",
    "end = time.time()\n",
    "\n",
    "print(len(radius_dict))\n",
    "print(end-start)\n"
   ]
  },
  {
   "cell_type": "code",
   "execution_count": 8,
   "metadata": {},
   "outputs": [],
   "source": [
    "cover = set()\n",
    "chosen = set()\n",
    "\n",
    "while len(cover) < len(LOCATIONS_act):\n",
    "    max_choice = (0, set(), -1)\n",
    "    \n",
    "    for key, val in radius_dict.items():\n",
    "        if key not in chosen:\n",
    "            set_choice = set(val)-cover\n",
    "            if len(set_choice)>max_choice[0]:\n",
    "                max_choice = (len(set_choice), set_choice, key)\n",
    "    \n",
    "    cover = cover.union(max_choice[1])\n",
    "    chosen.add(max_choice[2])"
   ]
  },
  {
   "cell_type": "code",
   "execution_count": 9,
   "metadata": {},
   "outputs": [],
   "source": [
    "import json\n",
    "with open('radius_cluster.json', 'w') as f:\n",
    "    data = {\"radius\": 10*10**(-3), \"radius_dict\": radius_dict}\n",
    "    json.dump(data, f)"
   ]
  },
  {
   "cell_type": "code",
   "execution_count": 11,
   "metadata": {},
   "outputs": [],
   "source": [
    "import json\n",
    "with open('radius_cover.json', 'w') as f:\n",
    "    data = {\"radius\": 10*10**(-3), \"chosen\": list(chosen)}\n",
    "    json.dump(data, f)"
   ]
  },
  {
   "cell_type": "code",
   "execution_count": 171,
   "metadata": {},
   "outputs": [],
   "source": [
    "import time\n",
    "import json\n",
    "def radius_cover(radius: int):\n",
    "    start = time.time()\n",
    "    radius_dict = {}\n",
    "    LOCATIONS_act = [(ind, value) for ind,value in enumerate(LOCATIONS) if LOCATIONS[ind]['lid']<HOME_SHIFT]\n",
    "    \n",
    "    for i in range(len(LOCATIONS_act)):\n",
    "        loc1 = LOCATIONS_act[i][0]\n",
    "        radius_dict[loc1] = []\n",
    "        \n",
    "        for j in range(len(LOCATIONS_act)):\n",
    "            loc2 = LOCATIONS_act[j][0]\n",
    "            dist = calculate_distance(loc1, loc2)\n",
    "            \n",
    "            if dist < radius:\n",
    "                radius_dict[loc1].append(loc2)\n",
    "    \n",
    "    print(len(radius_dict))\n",
    "    end = time.time()\n",
    "    \n",
    "    print(end-start)\n",
    "    \n",
    "    start = time.time()\n",
    "    cover = set()\n",
    "    chosen = set()\n",
    "    \n",
    "    while len(cover) < len(LOCATIONS_act):\n",
    "        max_choice = (0, set(), -1)\n",
    "        \n",
    "        for key, val in radius_dict.items():\n",
    "            if key not in chosen:\n",
    "                set_choice = set(val)-cover\n",
    "                if len(set_choice)>max_choice[0]:\n",
    "                    max_choice = (len(set_choice), set_choice, key)\n",
    "        \n",
    "        cover = cover.union(max_choice[1])\n",
    "        chosen.add(max_choice[2])\n",
    "    end = time.time()\n",
    "    \n",
    "    print(end-start)\n",
    "    \n",
    "    with open(f'radius_cover_{radius}.json', 'w') as f:\n",
    "        data = {\"radius\": radius, \"radius_dict\": radius_dict, \"chosen\": list(chosen)}\n",
    "        json.dump(data, f)"
   ]
  },
  {
   "cell_type": "code",
   "execution_count": 172,
   "metadata": {},
   "outputs": [
    {
     "name": "stdout",
     "output_type": "stream",
     "text": [
      "9165\n",
      "972.2640244960785\n",
      "26.504835605621338\n"
     ]
    }
   ],
   "source": [
    "radius_cover(0.02)"
   ]
  },
  {
   "cell_type": "code",
   "execution_count": 176,
   "metadata": {},
   "outputs": [],
   "source": [
    "file_dict = open(\"radius_cluster.json\", 'r')\n",
    "data_dict = json.load(file_dict)\n",
    "cluster_dict = {int(ind): val for ind, val in data_dict[\"radius_dict\"].items()}\n",
    "\n",
    "file_chosen = open(\"radius_cover.json\", 'r')\n",
    "data_chosen = json.load(file_chosen)\n",
    "chosen_points = set(data_chosen[\"chosen\"])\n",
    "\n",
    "with open(\"radius_cover_0.01.json\", \"w\") as f:\n",
    "    data = {\"radius\": 0.01, \"radius_dict\": cluster_dict, \"chosen\": list(chosen_points)}\n",
    "    json.dump(data, f)"
   ]
  },
  {
   "cell_type": "code",
   "execution_count": 179,
   "metadata": {},
   "outputs": [],
   "source": [
    "from config import LOCATIONS_agg"
   ]
  },
  {
   "cell_type": "code",
   "execution_count": 197,
   "metadata": {},
   "outputs": [
    {
     "data": {
      "text/plain": [
       "<matplotlib.collections.PathCollection at 0x7f578b61d790>"
      ]
     },
     "execution_count": 197,
     "metadata": {},
     "output_type": "execute_result"
    },
    {
     "data": {
      "image/png": "[encoded data removed]",
      "text/plain": [
       "<Figure size 432x288 with 1 Axes>"
      ]
     },
     "metadata": {
      "needs_background": "light"
     },
     "output_type": "display_data"
    }
   ],
   "source": [
    "import matplotlib.pyplot as plt\n",
    "\n",
    "latitude = [x['latitude'] for x in LOCATIONS]\n",
    "longitude = [x['longitude'] for x in LOCATIONS]\n",
    "plt.scatter(longitude, latitude, s = 0.01)\n",
    "\n",
    "latitude = [x['latitude'] for x in LOCATIONS_agg]\n",
    "longitude = [x['longitude'] for x in LOCATIONS_agg]\n",
    "plt.scatter(longitude, latitude, s = 0.05)"
   ]
  },
  {
   "cell_type": "markdown",
   "metadata": {},
   "source": [
    "#### Construct new locations ####"
   ]
  },
  {
   "cell_type": "code",
   "execution_count": 16,
   "metadata": {},
   "outputs": [
    {
     "name": "stdout",
     "output_type": "stream",
     "text": [
      "dict_keys(['lid', 'longitude', 'latitude', 'activity', 'pid'])\n"
     ]
    }
   ],
   "source": [
    "print(LOCATIONS[0].keys())"
   ]
  },
  {
   "cell_type": "code",
   "execution_count": 68,
   "metadata": {},
   "outputs": [],
   "source": [
    "reverse_lid_index = {}\n",
    "for i, loc in enumerate(LOCATIONS_act):\n",
    "    reverse_lid_index[loc[0]] = i"
   ]
  },
  {
   "cell_type": "code",
   "execution_count": 86,
   "metadata": {},
   "outputs": [],
   "source": [
    "def new_data():\n",
    "    file_dict = open(\"radius_cluster.json\", 'r')\n",
    "    data_dict = json.load(file_dict)\n",
    "    cluster_dict = {int(ind): val for ind, val in data_dict[\"radius_dict\"].items()}\n",
    "    \n",
    "    file_chosen = open(\"radius_cover.json\", 'r')\n",
    "    data_chosen = json.load(file_chosen)\n",
    "    chosen_points = set(data_chosen[\"chosen\"])\n",
    "    \n",
    "    temp = []\n",
    "    cluster_dict_single = {}\n",
    "    \n",
    "    #To avoid repeat coverage, assign aggregation centers (from radius_dict) to the closest location in their set\n",
    "    min_matching = {}\n",
    "    for cluster in cluster_dict.keys():\n",
    "        \n",
    "        min_center = (float('inf'), -1)\n",
    "        \n",
    "        for member in cluster_dict[cluster]:\n",
    "            \n",
    "            if member in chosen_points:\n",
    "                dist = calculate_distance(cluster, member)\n",
    "\n",
    "                if dist < min_center[0]:\n",
    "                    min_center = (dist, member)\n",
    "        \n",
    "        min_matching[cluster] = min_center[1]\n",
    "    \n",
    "    for point in chosen_points:\n",
    "        \n",
    "        pid_set = set()\n",
    "        member_list = []\n",
    "        \n",
    "        for loc in cluster_dict[point]:\n",
    "            \n",
    "            if min_matching[loc] == point:\n",
    "                member_list.append(loc)\n",
    "                pid_set = pid_set.union(LOCATIONS[loc]['pid'])\n",
    "        \n",
    "        temp.append({\"lid\": point,\n",
    "                     \"longitude\": LOCATIONS[point]['longitude'] ,\n",
    "                     \"latitude\": LOCATIONS[point]['latitude'],\n",
    "                     \"members\": member_list,\n",
    "                     \"activity\": len(pid_set),\n",
    "                     \"pid\": list(pid_set)})\n",
    "    \n",
    "    #print(temp.sort())\n",
    "    temp_res = []\n",
    "    LOCATIONS_res = [(ind, value) for ind,value in LOCATIONS.items() if LOCATIONS[ind]['lid']<HOME_SHIFT]\n",
    "    for loc in LOCATIONS_res:\n",
    "        new_dict = loc[1]\n",
    "        new_dict[\"members\"] = [loc[0]]\n",
    "        new_dict[\"lid\"] = loc[0]\n",
    "        temp_res.append(new_dict)\n",
    "    \n",
    "    temp = sorted(temp+temp_res, key = lambda x: x[\"activity\"], reverse = True)\n",
    "    \n",
    "    #-----Now for clients----#\n",
    "    \n",
    "    temp_client = {}\n",
    "    for key, val in CLIENT_LOCATIONS.items():\n",
    "        new_lid_list = []\n",
    "        for loc in val['lid']:\n",
    "            \n",
    "            if loc not in chosen_points and LOCATIONS[loc]['lid'] < HOME_SHIFT:\n",
    "                if min_matching[loc] not in new_lid_list:\n",
    "                    new_lid_list.append(min_matching[loc])\n",
    "            else:\n",
    "                new_lid_list.append(loc)\n",
    "        \n",
    "        temp_client[CLIENT_LOCATIONS[key]['pid']] = new_lid_list\n",
    "    \n",
    "    return temp, temp_client\n",
    "\n",
    "temp = new_data()"
   ]
  },
  {
   "cell_type": "code",
   "execution_count": 54,
   "metadata": {},
   "outputs": [],
   "source": [
    "import json\n",
    "from config import HOME_SHIFT\n",
    "def new_data_2():\n",
    "    \"\"\"\n",
    "    must be run after LOCATIONS and CLIENT_LOCATIONS are read int\n",
    "    creates a version of LOCATIONS and CLIENT_LOCATIONS that are based on the aggregate locs\n",
    "    \"\"\"\n",
    "    file_dict = open(\"radius_cluster.json\", 'r')\n",
    "    data_dict = json.load(file_dict)\n",
    "    cluster_dict = {int(ind): val for ind, val in data_dict[\"radius_dict\"].items()}\n",
    "    \n",
    "    file_chosen = open(\"radius_cover.json\", 'r')\n",
    "    data_chosen = json.load(file_chosen)\n",
    "    chosen_points = set(data_chosen[\"chosen\"])\n",
    "    \n",
    "    LOCATIONS_act = [(ind, value) for ind,value in enumerate(LOCATIONS) if LOCATIONS[ind]['lid']<HOME_SHIFT]\n",
    "    \n",
    "    reverse_lid_index = {}\n",
    "    for i, loc in enumerate(LOCATIONS_act):\n",
    "        reverse_lid_index[loc[0]] = i\n",
    "    \n",
    "    temp = []\n",
    "    cluster_dict_single = {}\n",
    "    \n",
    "    #To avoid repeat coverage, assign aggregation centers (from radius_dict) to the closest location in their set\n",
    "    min_matching = {}\n",
    "    for cluster in cluster_dict.keys():\n",
    "        \n",
    "        min_center = (float('inf'), -1)\n",
    "        \n",
    "        for member in cluster_dict[cluster]:\n",
    "            \n",
    "            if member in chosen_points:\n",
    "                dist = calculate_distance(cluster, member)\n",
    "\n",
    "                if dist < min_center[0]:\n",
    "                    min_center = (dist, member)\n",
    "        \n",
    "        min_matching[cluster] = min_center[1]\n",
    "    \n",
    "    for point in chosen_points:\n",
    "        \n",
    "        pid_set = set()\n",
    "        member_list = []\n",
    "        \n",
    "        for loc in cluster_dict[point]:\n",
    "            \n",
    "            if min_matching[loc] == point:\n",
    "                member_list.append(loc)\n",
    "                pid_set = pid_set.union(LOCATIONS[loc]['pid'])\n",
    "        \n",
    "        temp.append({\"lid\": point,\n",
    "                     \"longitude\": LOCATIONS[point]['longitude'] ,\n",
    "                     \"latitude\": LOCATIONS[point]['latitude'],\n",
    "                     \"members\": member_list,\n",
    "                     \"activity\": len(pid_set),\n",
    "                     \"pid\": list(pid_set)})\n",
    "    \n",
    "    #print(temp.sort())\n",
    "    temp_res = []\n",
    "    LOCATIONS_res = [(ind, value) for ind,value in enumerate(LOCATIONS) if LOCATIONS[ind]['lid'] > HOME_SHIFT]\n",
    "    \n",
    "    for loc in LOCATIONS_res:\n",
    "        new_dict = loc[1]\n",
    "        new_dict[\"members\"] = [loc[0]]\n",
    "        new_dict[\"lid\"] = loc[0]\n",
    "        temp_res.append(new_dict)\n",
    "    \n",
    "    temp = sorted(temp+temp_res, key = lambda x: x[\"activity\"], reverse = True)\n",
    "    \n",
    "    #-----Now for clients----#\n",
    "    \n",
    "    temp_client = {}\n",
    "    for key, val in CLIENT_LOCATIONS.items():\n",
    "        new_lid_list = []\n",
    "        for loc in val:\n",
    "            \n",
    "            if loc not in chosen_points and LOCATIONS[loc]['lid'] < HOME_SHIFT:\n",
    "                if min_matching[loc] not in new_lid_list:\n",
    "                    new_lid_list.append(min_matching[loc])\n",
    "            else:\n",
    "                new_lid_list.append(loc)\n",
    "        \n",
    "        temp_client[key] = new_lid_list\n",
    "    \n",
    "    return temp, temp_client"
   ]
  },
  {
   "cell_type": "code",
   "execution_count": null,
   "metadata": {},
   "outputs": [],
   "source": [
    "temp = new_data_2()\n",
    "temp_loc = temp[0]\n",
    "temp_client_loc = temp[1]"
   ]
  },
  {
   "cell_type": "code",
   "execution_count": 37,
   "metadata": {},
   "outputs": [
    {
     "name": "stdout",
     "output_type": "stream",
     "text": [
      "{'lid': 19202, 'longitude': -77.53687, 'latitude': 39.10995, 'activity': 0, 'pid': [], 'members': [19202]}\n"
     ]
    }
   ],
   "source": [
    "print(temp_loc[-1])"
   ]
  },
  {
   "cell_type": "code",
   "execution_count": 107,
   "metadata": {},
   "outputs": [
    {
     "name": "stdout",
     "output_type": "stream",
     "text": [
      "[9278, 405, 186, 246, 479, 23, 1777, 362, 324, 978, 323, 3, 50, 175, 674, 1307, 381, 464, 985, 1404]\n"
     ]
    }
   ],
   "source": [
    "print(temp_client_loc[list(temp_client_loc.keys())[0]])"
   ]
  },
  {
   "cell_type": "code",
   "execution_count": null,
   "metadata": {},
   "outputs": [],
   "source": [
    "for i in CLIENT_LOCATIONS.keys():\n",
    "    if len(temp_client_loc[CLIENT_LOCATIONS[i]['pid']]) != len(CLIENT_LOCATIONS[i]['lid']):\n",
    "        print(i, CLIENT_LOCATIONS[i]['pid'], len(temp_client_loc[CLIENT_LOCATIONS[i]['pid']]), len(CLIENT_LOCATIONS[i]['lid']))\n",
    "    #print(len(temp_client_loc[CLIENT_LOCATIONS[i]['pid']]), len(CLIENT_LOCATIONS[i]['lid']))"
   ]
  },
  {
   "cell_type": "code",
   "execution_count": 97,
   "metadata": {},
   "outputs": [
    {
     "name": "stdout",
     "output_type": "stream",
     "text": [
      "[9278, 405, 217, 246, 479, 23, 1777, 383, 345, 978, 323, 3, 50, 180, 704, 1307, 381, 464, 985, 1404]\n"
     ]
    }
   ],
   "source": [
    "my_keys = list(CLIENT_LOCATIONS.keys())\n",
    "print(CLIENT_LOCATIONS[my_keys[0]])"
   ]
  },
  {
   "cell_type": "code",
   "execution_count": 62,
   "metadata": {},
   "outputs": [],
   "source": [
    "from config import LOCATIONS, CLIENT_LOCATIONS, LOCATIONS_agg, CLIENT_LOCATIONS_agg"
   ]
  },
  {
   "cell_type": "code",
   "execution_count": 63,
   "metadata": {},
   "outputs": [
    {
     "name": "stdout",
     "output_type": "stream",
     "text": [
      "{'lid': 1001018209, 'longitude': -78.4884675, 'latitude': 38.0430255, 'activity': 2, 'pid': [5586585, 5586586]}\n"
     ]
    }
   ],
   "source": [
    "print(LOCATIONS[9278])"
   ]
  },
  {
   "cell_type": "code",
   "execution_count": 64,
   "metadata": {},
   "outputs": [
    {
     "name": "stdout",
     "output_type": "stream",
     "text": [
      "19203\n"
     ]
    }
   ],
   "source": [
    "def check_coverage():\n",
    "    covered = set()\n",
    "    for i in LOCATIONS_agg:\n",
    "        covered = covered.union(i[\"members\"])\n",
    "    print(len(covered))\n",
    "check_coverage()"
   ]
  },
  {
   "cell_type": "code",
   "execution_count": 73,
   "metadata": {},
   "outputs": [
    {
     "data": {
      "text/plain": [
       "{'lid': 19190,\n",
       " 'longitude': -78.5114755,\n",
       " 'latitude': 38.0110435,\n",
       " 'activity': 0,\n",
       " 'pid': [],\n",
       " 'members': [19190]}"
      ]
     },
     "execution_count": 73,
     "metadata": {},
     "output_type": "execute_result"
    }
   ],
   "source": [
    "LOCATIONS_agg[-1]"
   ]
  },
  {
   "cell_type": "code",
   "execution_count": 77,
   "metadata": {},
   "outputs": [
    {
     "data": {
      "text/plain": [
       "{'lid': 19188,\n",
       " 'longitude': -78.507331,\n",
       " 'latitude': 38.0145455,\n",
       " 'activity': 0,\n",
       " 'pid': [],\n",
       " 'members': [19188]}"
      ]
     },
     "execution_count": 77,
     "metadata": {},
     "output_type": "execute_result"
    }
   ],
   "source": [
    "LOCATIONS_agg[-2]\n",
    "#print(sorted([agg[\"lid\"] for agg in LOCATIONS_agg])[-1])"
   ]
  },
  {
   "cell_type": "code",
   "execution_count": 119,
   "metadata": {},
   "outputs": [],
   "source": [
    "def cover_most(s: int):\n",
    "    \"\"\"\n",
    "    Helper method for FPT: returns the set of activity locations of size s that cover the most clients\n",
    "    \"\"\"\n",
    "    covered = set()\n",
    "    selected = []\n",
    "    for i in range(s):\n",
    "        most_coverage = max([(len(set(LOCATIONS_agg[l]['pid']) - covered), l, LOCATIONS_agg[l]['lid']) for l in range(len(LOCATIONS_agg))])\n",
    "        selected.append(most_coverage[2])\n",
    "        covered = covered.union(LOCATIONS_agg[most_coverage[1]]['pid'])\n",
    "    print(len(covered)/len(CLIENT_LOCATIONS_agg.keys()))\n",
    "    return selected"
   ]
  },
  {
   "cell_type": "code",
   "execution_count": 122,
   "metadata": {},
   "outputs": [
    {
     "name": "stdout",
     "output_type": "stream",
     "text": [
      "0.9475208107129931\n",
      "[14, 12, 106, 81, 2, 4, 6, 92, 0, 24, 3, 1, 5, 7, 62, 37, 8, 72, 35, 30, 819, 175, 13, 23, 33, 9, 49, 22, 10, 324]\n"
     ]
    }
   ],
   "source": [
    "print(cover_most(30))"
   ]
  },
  {
   "cell_type": "code",
   "execution_count": 102,
   "metadata": {},
   "outputs": [],
   "source": [
    "def new_data_repeats():\n",
    "    \"\"\"\n",
    "    must be run after LOCATIONS and CLIENT_LOCATIONS are read int\n",
    "    creates a version of LOCATIONS and CLIENT_LOCATIONS that are based on the aggregate locs\n",
    "    locations that are covered by multiple aggregation centers will be selected to attend all\n",
    "    \"\"\"\n",
    "    \n",
    "    file_dict = open(\"radius_cluster.json\", 'r')\n",
    "    data_dict = json.load(file_dict)\n",
    "    cluster_dict = {int(ind): val for ind, val in data_dict[\"radius_dict\"].items()}\n",
    "    \n",
    "    file_chosen = open(\"radius_cover.json\", 'r')\n",
    "    data_chosen = json.load(file_chosen)\n",
    "    chosen_points = set(data_chosen[\"chosen\"])\n",
    "    \n",
    "    LOCATIONS_act = [(ind, value) for ind,value in enumerate(LOCATIONS) if LOCATIONS[ind]['lid']<HOME_SHIFT]\n",
    "    \n",
    "    reverse_lid_index = {}\n",
    "    for i, loc in enumerate(LOCATIONS_act):\n",
    "        reverse_lid_index[loc[0]] = i\n",
    "    \n",
    "    temp = []\n",
    "    cluster_dict_single = {}\n",
    "    \n",
    "    #To avoid repeat coverage, assign aggregation centers (from radius_dict) to the closest location in their set\n",
    "    min_matching = {}\n",
    "    for cluster in cluster_dict.keys():\n",
    "        \n",
    "        overlap = [member for member in cluster_dict[cluster] if member in chosen_points]\n",
    "        min_matching[cluster] = overlap\n",
    "    \n",
    "    for point in chosen_points:\n",
    "        \n",
    "        pid_set = set()\n",
    "        member_list = cluster_dict[point]\n",
    "        \n",
    "        for loc in cluster_dict[point]:\n",
    "            pid_set = pid_set.union(LOCATIONS[loc]['pid'])\n",
    "        \n",
    "        temp.append({\"lid\": point,\n",
    "                     \"longitude\": LOCATIONS[point]['longitude'] ,\n",
    "                     \"latitude\": LOCATIONS[point]['latitude'],\n",
    "                     \"members\": member_list,\n",
    "                     \"activity\": len(pid_set),\n",
    "                     \"pid\": list(pid_set)})\n",
    "    \n",
    "    temp_res = []\n",
    "    LOCATIONS_res = [(ind, value) for ind,value in enumerate(LOCATIONS) if LOCATIONS[ind]['lid'] > HOME_SHIFT]\n",
    "    \n",
    "    for loc in LOCATIONS_res:\n",
    "        new_dict = loc[1].copy()\n",
    "        new_dict[\"members\"] = [loc[0]]\n",
    "        new_dict[\"lid\"] = loc[0]\n",
    "        temp_res.append(new_dict)\n",
    "    \n",
    "    temp = sorted(temp+temp_res, key = lambda x: x[\"activity\"], reverse = True)\n",
    "    \n",
    "    #-----Now for clients----#\n",
    "    \n",
    "    temp_client = {}\n",
    "    for key, val in CLIENT_LOCATIONS.items():\n",
    "        new_lid_list = []\n",
    "        for loc in val:\n",
    "            if loc not in new_lid_list and LOCATIONS[loc]['lid'] < HOME_SHIFT:\n",
    "                for elem in min_matching[loc]:\n",
    "                    new_lid_list.append(elem)\n",
    "            else:\n",
    "                new_lid_list.append(loc)\n",
    "        \n",
    "        temp_client[key] = new_lid_list\n",
    "    \n",
    "    return temp, temp_client"
   ]
  },
  {
   "cell_type": "code",
   "execution_count": 103,
   "metadata": {},
   "outputs": [],
   "source": [
    "loc_2, client_2 = new_data_repeats()"
   ]
  },
  {
   "cell_type": "code",
   "execution_count": 104,
   "metadata": {},
   "outputs": [
    {
     "name": "stdout",
     "output_type": "stream",
     "text": [
      "19203\n"
     ]
    }
   ],
   "source": [
    "def check_coverage(locations):\n",
    "    covered = set()\n",
    "    for i in locations:\n",
    "        covered = covered.union(i[\"members\"])\n",
    "    print(len(covered))\n",
    "check_coverage(loc_2)"
   ]
  },
  {
   "cell_type": "code",
   "execution_count": 114,
   "metadata": {},
   "outputs": [
    {
     "name": "stdout",
     "output_type": "stream",
     "text": [
      "[803, 1039]\n"
     ]
    }
   ],
   "source": [
    "chosen_ids = set([v['lid'] for v in loc_2])\n",
    "for val in loc_2:\n",
    "    if val['lid'] == 803:\n",
    "        print([v for v in val['members'] if v in chosen_ids])"
   ]
  },
  {
   "cell_type": "code",
   "execution_count": 134,
   "metadata": {},
   "outputs": [],
   "source": [
    "from config import *"
   ]
  },
  {
   "cell_type": "code",
   "execution_count": 136,
   "metadata": {},
   "outputs": [
    {
     "name": "stdout",
     "output_type": "stream",
     "text": [
      "214\n"
     ]
    }
   ],
   "source": [
    "loc = LOCATIONS[1102]\n",
    "for l in LOCATIONS_agg_rep:\n",
    "    if l['lid_ind'] == 1102:\n",
    "        print(l['activity'])"
   ]
  },
  {
   "cell_type": "code",
   "execution_count": 137,
   "metadata": {},
   "outputs": [
    {
     "name": "stdout",
     "output_type": "stream",
     "text": [
      "156\n"
     ]
    }
   ],
   "source": [
    "for l in LOCATIONS_agg:\n",
    "    if l['lid_ind'] == 1102:\n",
    "        print(l['activity'])"
   ]
  },
  {
   "cell_type": "code",
   "execution_count": 141,
   "metadata": {},
   "outputs": [],
   "source": [
    "from config import LOCATIONS, CLIENT_LOCATIONS, aggregate_data\n",
    "\n",
    "LOCATIONS_agg, CLIENT_LOCATIONS_agg = aggregate_data(2)"
   ]
  },
  {
   "cell_type": "code",
   "execution_count": 147,
   "metadata": {},
   "outputs": [
    {
     "name": "stdout",
     "output_type": "stream",
     "text": [
      "COVERAGE OF CLIENTS BY 10 LOCATIONS:  0.8013632525033176\n"
     ]
    },
    {
     "name": "stderr",
     "output_type": "stream",
     "text": [
      "2021-08-13 16:03:56,508\tINFO worker.py:810 -- Calling ray.init() again after it has already been called.\n"
     ]
    },
    {
     "name": "stdout",
     "output_type": "stream",
     "text": [
      "(0.6281145051891007, [0, 6, 106, 81, 92])\n",
      "2.5480257915258515\n"
     ]
    }
   ],
   "source": [
    "X, Y = fpt3_parallel2(5, 10, 2)\n",
    "print(X)\n",
    "print(calculate_objective(Y))"
   ]
  },
  {
   "cell_type": "code",
   "execution_count": null,
   "metadata": {},
   "outputs": [],
   "source": [
    "for i in range(len(CLIENT_LOCATIONS)):\n",
    "    c_0 = CLIENT_LOCATIONS_agg_rep[list(CLIENT_LOCATIONS_agg_rep.keys())[i]]\n",
    "    c_1 = CLIENT_LOCATIONS_agg[list(CLIENT_LOCATIONS_agg.keys())[i]]\n",
    "    c_2 = CLIENT_LOCATIONS[list(CLIENT_LOCATIONS.keys())[i]]\n",
    "    if len(c_0)!= len(c_1):\n",
    "        print(f\"--------{i}-----------\")\n",
    "        print(c_0)\n",
    "        print(c_1)\n",
    "        print(c_2)"
   ]
  },
  {
   "cell_type": "code",
   "execution_count": 164,
   "metadata": {},
   "outputs": [],
   "source": [
    "from config import LOCATIONS, CLIENT_LOCATIONS, LOCATIONS_agg, CLIENT_LOCATIONS_agg"
   ]
  },
  {
   "cell_type": "code",
   "execution_count": 130,
   "metadata": {},
   "outputs": [
    {
     "name": "stdout",
     "output_type": "stream",
     "text": [
      "1000807577\n"
     ]
    }
   ],
   "source": [
    "print(LOCATIONS_agg[-1]['lid'])"
   ]
  },
  {
   "cell_type": "code",
   "execution_count": 132,
   "metadata": {},
   "outputs": [
    {
     "name": "stdout",
     "output_type": "stream",
     "text": [
      "0.9475208107129931\n",
      "[14, 12, 106, 81, 2, 4, 6, 92, 0, 24, 3, 1, 5, 7, 62, 37, 8, 72, 35, 30, 819, 175, 13, 23, 33, 9, 49, 22, 10, 324]\n",
      "0.9475208107129931\n",
      "[14, 12, 106, 81, 2, 4, 6, 92, 0, 24, 3, 1, 5, 7, 62, 37, 8, 72, 35, 30, 819, 175, 13, 23, 33, 9, 49, 22, 10, 324]\n"
     ]
    }
   ],
   "source": [
    "print(cover_most(30, 2))\n",
    "print(cover_most(30, 1))"
   ]
  },
  {
   "cell_type": "code",
   "execution_count": 165,
   "metadata": {},
   "outputs": [
    {
     "name": "stdout",
     "output_type": "stream",
     "text": [
      "dict_keys(['lid_ind', 'lid', 'longitude', 'latitude', 'members', 'activity', 'pid'])\n"
     ]
    }
   ],
   "source": [
    "print(LOCATIONS_agg[0].keys())"
   ]
  },
  {
   "cell_type": "markdown",
   "metadata": {},
   "source": [
    "##### Aggregation 2"
   ]
  },
  {
   "cell_type": "code",
   "execution_count": 3,
   "metadata": {},
   "outputs": [],
   "source": [
    "import json\n",
    "\n",
    "file_dict = open(\"aid2pid.json\", 'r')\n",
    "data_dict = json.load(file_dict)\n",
    "AID_LOC = data_dict['data']\n",
    "\n",
    "file_client = open(\"pid2aid.json\", 'r')\n",
    "data_client = json.load(file_client)\n",
    "AID_CLIENT = {int(key):val for key,val in data_client['data'].items()}"
   ]
  },
  {
   "cell_type": "code",
   "execution_count": 4,
   "metadata": {},
   "outputs": [],
   "source": [
    "from config import LOCATIONS, CLIENT_LOCATIONS"
   ]
  },
  {
   "cell_type": "code",
   "execution_count": null,
   "metadata": {},
   "outputs": [],
   "source": [
    "def build_aggregation():\n",
    "    file_dict = open(\"aid2pid.json\", 'r')\n",
    "    data_dict = json.load(file_dict)\n",
    "    AID_LOC = data_dict['data']\n",
    "\n",
    "    file_client = open(\"pid2aid.json\", 'r')\n",
    "    data_client = json.load(file_client)\n",
    "    AID_CLIENT = {int(key):val for key,val in data_client['data'].items()}\n",
    "    \n",
    "    lid_to_ind = {}\n",
    "    for ind, val in enumerate(LOCATIONS):\n",
    "        lid_to_ind[val['lid']] = ind\n",
    "    \n",
    "    original_loc_length = len(LOCATIONS)\n",
    "    ind_to_aid = {}\n",
    "    LOCATIONS_agg = []\n",
    "    \n",
    "    for i in range(len(AID_LOC)):\n",
    "        if AID_LOC[i]['aid'] >= HOME_SHIFT:\n",
    "            new_dict = {}\n",
    "            new_dict[\"lid_ind\"] = lid_to_ind[AID_LOC[i]['aid']]\n",
    "            new_dict[\"longitude\"] = AID_LOC[i]['longitude']\n",
    "            new_dict[\"latitude\"] = AID_LOC[i]['latitude']\n",
    "            new_dict[\"members\"] = [lid_to_ind[AID_LOC[i]['aid']]]\n",
    "            new_dict[\"activity\"] = AID_LOC[i][\"activity\"]\n",
    "            new_dict[\"pid\"] = AID_LOC[i][\"visitors\"]\n",
    "            \n",
    "            ind_to_aid[lid_to_ind[AID_LOC[i]['aid']]] = i\n",
    "        else:\n",
    "            new_dict = {}\n",
    "            new_dict[\"lid_ind\"] = original_loc_length + i\n",
    "            new_dict[\"longitude\"] = AID_LOC[i]['longitude']\n",
    "            new_dict[\"latitude\"] = AID_LOC[i]['latitude']\n",
    "            new_dict[\"members\"] = [lid_to_ind[m] for m in AID_LOC[i]['members']]\n",
    "            new_dict[\"activity\"] = AID_LOC[i][\"activity\"]\n",
    "            new_dict[\"pid\"] = AID_LOC[i][\"visitors\"]\n",
    "            \n",
    "            ind_to_aid[original_loc_length + i] = i\n",
    "        LOCATIONS_agg.append(new_dict)\n",
    "    \n",
    "    CLIENT_LOCATIONS_agg = {}\n",
    "    for key in CLIENT_LOCATIONS.keys():\n",
    "        new_list = []\n",
    "        for loc in AID_CLIENT[key]:\n",
    "            if loc >= HOME_SHIFT:\n",
    "                new_list.insert(0, lid_to_ind[loc])\n",
    "            else:\n",
    "                new_list.append(LOCATIONS_agg[loc]['lid_ind'])\n",
    "        CLIENT_LOCATIONS_agg[key] = new_list\n",
    "    \n",
    "    print(len(LOCATIONS_agg), len(CLIENT_LOCATIONS_agg))\n",
    "    print(CLIENT_LOCATIONS_agg[list(CLIENT_LOCATIONS_agg.keys())[0]])\n",
    "    print(list(CLIENT_LOCATIONS_agg.keys())[0])\n",
    "    return LOCATIONS_agg, CLIENT_LOCATIONS_agg\n",
    "build_aggregation()"
   ]
  },
  {
   "cell_type": "code",
   "execution_count": 14,
   "metadata": {},
   "outputs": [
    {
     "name": "stdout",
     "output_type": "stream",
     "text": [
      "5586585\n"
     ]
    }
   ],
   "source": [
    "print(list(CLIENT_LOCATIONS.keys())[0])"
   ]
  },
  {
   "cell_type": "code",
   "execution_count": 68,
   "metadata": {},
   "outputs": [],
   "source": [
    "\"\"\"\n",
    "1) Represent each aid by the loc closest to median\n",
    "2) Represent each aid by the loc that's least far from all other locs\n",
    "3) Represent each aid by most popular loc\n",
    "\"\"\"\n",
    "\n",
    "def single_linkage_aggregation2(radius: float = 0.02):\n",
    "    \"\"\"\n",
    "    Must be run after LOCATIONS and CLIENT_LOCATIONS are read in\n",
    "    Returns aggregated versions of LOCATIONS and CLIENT_LOCATIONS with single linkage clustering\n",
    "    \"\"\"\n",
    "    \n",
    "    file_dict = open(\"aid2pid.json\", 'r')\n",
    "    data_dict = json.load(file_dict)\n",
    "    AID_LOC = data_dict['data']\n",
    "\n",
    "    file_client = open(\"pid2aid.json\", 'r')\n",
    "    data_client = json.load(file_client)\n",
    "    AID_CLIENT = {int(key):val for key,val in data_client['data'].items()}\n",
    "    \n",
    "    lid_to_ind = {}\n",
    "    for ind, val in enumerate(LOCATIONS):\n",
    "        lid_to_ind[val['lid']] = ind\n",
    "    \n",
    "    ind_to_aid = {}\n",
    "    LOCATIONS_agg = []\n",
    "    original_loc_length = len(LOCATIONS)\n",
    "    \n",
    "    count = 0\n",
    "    for i in range(len(AID_LOC)):\n",
    "        \n",
    "        if AID_LOC[i]['aid'] >= HOME_SHIFT:\n",
    "            new_dict = {}\n",
    "            new_dict[\"lid_ind\"] = lid_to_ind[AID_LOC[i]['aid']]\n",
    "            new_dict[\"lid\"] = AID_LOC[i]['aid']\n",
    "            new_dict[\"longitude\"] = AID_LOC[i]['longitude']\n",
    "            new_dict[\"latitude\"] = AID_LOC[i]['latitude']\n",
    "            new_dict[\"members\"] = [lid_to_ind[AID_LOC[i]['aid']]]\n",
    "            new_dict[\"activity\"] = AID_LOC[i][\"activity\"]\n",
    "            new_dict[\"pid\"] = AID_LOC[i][\"visitors\"]\n",
    "            \n",
    "            ind_to_aid[lid_to_ind[AID_LOC[i]['aid']]] = i\n",
    "        \n",
    "        else:\n",
    "            \n",
    "            members_list = [lid_to_ind[m] for m in AID_LOC[i]['members']]\n",
    "            \n",
    "            min_dist = (10**9, -1, -1)\n",
    "            \n",
    "            for m in members_list:\n",
    "                \n",
    "                distance_list = []\n",
    "                \n",
    "                for b in members_list:\n",
    "                        \n",
    "                        coord1_row = LOCATIONS[m]\n",
    "                        coord2_row = LOCATIONS[b]\n",
    "                        \n",
    "                        coord1 = (coord1_row['latitude'], coord1_row['longitude'])\n",
    "                        coord2 = (coord2_row['latitude'], coord2_row['longitude'])\n",
    "                        \n",
    "                        dist = geopy.distance.great_circle(coord1, coord2).km\n",
    "                        \n",
    "                        distance_list.append((dist, m, b))\n",
    "                \n",
    "                dispersion = max(distance_list)\n",
    "                if dispersion[0]<min_dist[0]:\n",
    "                    min_dist = dispersion\n",
    "            \n",
    "            \n",
    "            #lids of new aggregated locations are set to be negative\n",
    "            new_dict = {}\n",
    "            new_dict[\"lid_ind\"] = min_dist[1]\n",
    "            new_dict[\"lid\"] = LOCATIONS[min_dist[1]]['lid']\n",
    "            new_dict[\"longitude\"] = AID_LOC[i]['longitude']\n",
    "            new_dict[\"latitude\"] = AID_LOC[i]['latitude']\n",
    "            new_dict[\"members\"] = [lid_to_ind[m] for m in AID_LOC[i]['members']]\n",
    "            new_dict[\"activity\"] = AID_LOC[i][\"activity\"]\n",
    "            new_dict[\"pid\"] = AID_LOC[i][\"visitors\"]\n",
    "            \n",
    "            ind_to_aid[new_dict[\"lid_ind\"]] = i\n",
    "            \n",
    "            count+=1\n",
    "            \n",
    "        LOCATIONS_agg.append(new_dict)\n",
    "    \n",
    "    CLIENT_LOCATIONS_agg = {}\n",
    "    for key in CLIENT_LOCATIONS.keys():\n",
    "        new_list = []\n",
    "        for loc in AID_CLIENT[key]:\n",
    "            if loc >= HOME_SHIFT:\n",
    "                new_list.insert(0, lid_to_ind[loc])\n",
    "            else:\n",
    "                new_list.append(LOCATIONS_agg[loc]['lid_ind'])\n",
    "        CLIENT_LOCATIONS_agg[key] = new_list\n",
    "    \n",
    "    return LOCATIONS_agg, CLIENT_LOCATIONS_agg"
   ]
  },
  {
   "cell_type": "code",
   "execution_count": 69,
   "metadata": {},
   "outputs": [],
   "source": [
    "import json\n",
    "locations_agg, client_locations_agg = single_linkage_aggregation2()"
   ]
  },
  {
   "cell_type": "code",
   "execution_count": 71,
   "metadata": {},
   "outputs": [
    {
     "name": "stdout",
     "output_type": "stream",
     "text": [
      "19203\n"
     ]
    }
   ],
   "source": [
    "print(len(LOCATIONS))"
   ]
  },
  {
   "cell_type": "code",
   "execution_count": 78,
   "metadata": {},
   "outputs": [
    {
     "name": "stdout",
     "output_type": "stream",
     "text": [
      "33156\n"
     ]
    }
   ],
   "source": [
    "print(len(client_locations_agg))"
   ]
  },
  {
   "cell_type": "code",
   "execution_count": 81,
   "metadata": {},
   "outputs": [
    {
     "name": "stdout",
     "output_type": "stream",
     "text": [
      "[9278, 3, 23, 229, 410, 175, 50, 186, 470, 362, 246, 674, 405, 464, 479, 978, 985, 1404, 1307, 1777]\n"
     ]
    }
   ],
   "source": [
    "print(client_locations_agg[5586585])"
   ]
  },
  {
   "cell_type": "code",
   "execution_count": 82,
   "metadata": {},
   "outputs": [
    {
     "name": "stdout",
     "output_type": "stream",
     "text": [
      "[9278, 405, 217, 246, 479, 23, 1777, 383, 345, 978, 323, 3, 50, 180, 704, 1307, 381, 464, 985, 1404]\n"
     ]
    }
   ],
   "source": [
    "print(CLIENT_LOCATIONS[5586585])"
   ]
  },
  {
   "cell_type": "code",
   "execution_count": 83,
   "metadata": {},
   "outputs": [
    {
     "name": "stdout",
     "output_type": "stream",
     "text": [
      "{704, 323, 217, 180, 345, 381, 383}\n"
     ]
    }
   ],
   "source": [
    "print(set(CLIENT_LOCATIONS[5586585])-set(client_locations_agg[5586585]))"
   ]
  },
  {
   "cell_type": "code",
   "execution_count": null,
   "metadata": {},
   "outputs": [],
   "source": [
    "for loc in {704, 323, 217, 180, 345, 381, 383}:\n",
    "    for loc_agg in client_locations_agg[5586585]:\n",
    "        if loc in LOCATIONS[loc_agg]['lid_ind']:"
   ]
  },
  {
   "cell_type": "code",
   "execution_count": 58,
   "metadata": {},
   "outputs": [],
   "source": [
    "from config import LOCATIONS"
   ]
  },
  {
   "cell_type": "code",
   "execution_count": 67,
   "metadata": {},
   "outputs": [
    {
     "name": "stdout",
     "output_type": "stream",
     "text": [
      "19203\n"
     ]
    }
   ],
   "source": [
    "print(len(LOCATIONS))"
   ]
  },
  {
   "cell_type": "code",
   "execution_count": 66,
   "metadata": {},
   "outputs": [],
   "source": [
    "from config import read_data_input\n",
    "LOCATIONS, CLIENT_LOCATIONS = read_data_input(\"data2.json\")"
   ]
  },
  {
   "cell_type": "code",
   "execution_count": null,
   "metadata": {},
   "outputs": [],
   "source": [
    "for ind, loc in enumerate(LOCATIONS):\n",
    "    if ind!= loc['lid_ind']:\n",
    "        print(ind, loc['lid_ind'])\n",
    "        \n",
    "print(len(LOCATIONS))"
   ]
  },
  {
   "cell_type": "code",
   "execution_count": 77,
   "metadata": {},
   "outputs": [
    {
     "name": "stdout",
     "output_type": "stream",
     "text": [
      "(0.023999865271865695, 113, 130)\n",
      "(0.023999865272312213, 107, 138)\n",
      "(0.023999865272312213, 121, 138)\n",
      "(0.017043223303306626, 122, 138)\n",
      "(0.017043223303306626, 112, 138)\n",
      "(0.017043223303306626, 135, 138)\n",
      "(0.023999865272312213, 108, 138)\n",
      "(0.017043223303306626, 110, 138)\n",
      "(0.023999865271865695, 116, 130)\n",
      "(0.023999865272312213, 130, 138)\n",
      "(0.017043223303306626, 125, 138)\n",
      "(0.023999865271865695, 128, 130)\n",
      "(0.023999865272312213, 106, 138)\n",
      "(0.017043223303306626, 152, 138)\n",
      "(0.023999865271865695, 115, 130)\n",
      "(0.023999865271865695, 138, 130)\n",
      "(0.023999865271865695, 109, 130)\n",
      "(0.017043223303306626, 122, 138)\n"
     ]
    }
   ],
   "source": [
    "members_list = [113, 107, 121, 122, 112, 135, 108, 110, 116, 130, 125, 128, 106, 152, 115, 138, 109]\n",
    "\n",
    "min_dist = (10**9, -1, -1)\n",
    "\n",
    "for m in members_list:\n",
    "\n",
    "    distance_list = []\n",
    "\n",
    "    for b in members_list:\n",
    "\n",
    "            coord1_row = LOCATIONS[m]\n",
    "            coord2_row = LOCATIONS[b]\n",
    "\n",
    "            coord1 = (coord1_row['latitude'], coord1_row['longitude'])\n",
    "            coord2 = (coord2_row['latitude'], coord2_row['longitude'])\n",
    "\n",
    "            dist = geopy.distance.great_circle(coord1, coord2).km\n",
    "\n",
    "            distance_list.append((dist, m, b))\n",
    "    \n",
    "    print(max(distance_list))\n",
    "    \n",
    "    dispersion = max(distance_list)\n",
    "    if dispersion[0]<min_dist[0]:\n",
    "        min_dist = dispersion\n",
    "\n",
    "print(min_dist)"
   ]
  },
  {
   "cell_type": "code",
   "execution_count": 14,
   "metadata": {},
   "outputs": [
    {
     "name": "stdout",
     "output_type": "stream",
     "text": [
      "33156\n"
     ]
    }
   ],
   "source": [
    "print(len(client_locations_agg))"
   ]
  },
  {
   "cell_type": "code",
   "execution_count": 92,
   "metadata": {},
   "outputs": [],
   "source": [
    "from config import single_linkage_aggregation2, LOCATIONS, CLIENT_LOCATIONS\n",
    "from config import aggregate_data"
   ]
  },
  {
   "cell_type": "code",
   "execution_count": 85,
   "metadata": {},
   "outputs": [],
   "source": [
    "locations_agg , client_locations_agg = single_linkage_aggregation2()"
   ]
  },
  {
   "cell_type": "code",
   "execution_count": 93,
   "metadata": {},
   "outputs": [
    {
     "name": "stdout",
     "output_type": "stream",
     "text": [
      "NOT IMPLEMENTED\n",
      "[64, 193, 0, 46, 20]\n"
     ]
    }
   ],
   "source": [
    "fac, assign = center_of_homes_agg(5, 2)\n",
    "print(fac)"
   ]
  },
  {
   "cell_type": "code",
   "execution_count": 94,
   "metadata": {},
   "outputs": [
    {
     "name": "stdout",
     "output_type": "stream",
     "text": [
      "1.9957973233734783\n"
     ]
    }
   ],
   "source": [
    "print(calculate_objective(assign))"
   ]
  },
  {
   "cell_type": "code",
   "execution_count": 95,
   "metadata": {},
   "outputs": [
    {
     "name": "stdout",
     "output_type": "stream",
     "text": [
      "[64, 193, 2, 0, 46]\n",
      "1.993687977423548\n"
     ]
    }
   ],
   "source": [
    "fac, assign = center_of_homes_agg(5, 0)\n",
    "print(fac)\n",
    "print(calculate_objective(assign))"
   ]
  },
  {
   "cell_type": "code",
   "execution_count": null,
   "metadata": {},
   "outputs": [],
   "source": [
    "def center_of_centers_agg(k: int, aggregation: int):\n",
    "    \"\"\"\n",
    "    PARAMETERS\n",
    "    ----------\n",
    "    k : int\n",
    "        number of facilities to be opened\n",
    "    \n",
    "    RETURNS\n",
    "    ----------\n",
    "    facilities : List[int]\n",
    "        contains facility indices that are open\n",
    "    assignments : List[Tuple[int, int]]\n",
    "        visited location and facility assignment indexed by each client\n",
    "    \"\"\"\n",
    "    \n",
    "    LOCATIONS_center, CLIENT_LOCATIONS_center = aggregate_data(aggregation)\n",
    "    \n",
    "    clients = []\n",
    "    \n",
    "    for client in CLIENT_LOCATIONS_center.values():\n",
    "        \n",
    "        dispersion = 1e10\n",
    "        effective_center = -1\n",
    "        \n",
    "        for center in client:\n",
    "            \n",
    "            max_dist = 0\n",
    "            \n",
    "            for loc in client:\n",
    "                max_dist = max(calculate_distance(center, loc), max_dist)\n",
    "                \n",
    "            if max_dist < dispersion:\n",
    "                dispersion = max_dist\n",
    "                effective_center = center\n",
    "                \n",
    "        clients.append(effective_center)\n",
    "        \n",
    "    locations = [LOCATIONS_center[i]['lid_ind'] for i in range(len(LOCATIONS_center)) if LOCATIONS_center[i]['lid'] < HOME_SHIFT]\n",
    "    facilities = _k_supplier(clients, locations, k)\n",
    "    \n",
    "    return facilities, assign_facilities(facilities)"
   ]
  },
  {
   "cell_type": "code",
   "execution_count": 98,
   "metadata": {},
   "outputs": [
    {
     "ename": "NameError",
     "evalue": "name 'center_of_centers_agg' is not defined",
     "output_type": "error",
     "traceback": [
      "\u001b[0;31m---------------------------------------------------------------------------\u001b[0m",
      "\u001b[0;31mNameError\u001b[0m                                 Traceback (most recent call last)",
      "\u001b[0;32m<ipython-input-98-7bab36bd5d9f>\u001b[0m in \u001b[0;36m<module>\u001b[0;34m\u001b[0m\n\u001b[0;32m----> 1\u001b[0;31m \u001b[0mfac1\u001b[0m\u001b[0;34m,\u001b[0m \u001b[0massign1\u001b[0m \u001b[0;34m=\u001b[0m \u001b[0mcenter_of_centers_agg\u001b[0m\u001b[0;34m(\u001b[0m\u001b[0;36m5\u001b[0m\u001b[0;34m,\u001b[0m \u001b[0;36m2\u001b[0m\u001b[0;34m)\u001b[0m\u001b[0;34m\u001b[0m\u001b[0;34m\u001b[0m\u001b[0m\n\u001b[0m\u001b[1;32m      2\u001b[0m \u001b[0mprint\u001b[0m\u001b[0;34m(\u001b[0m\u001b[0mfac1\u001b[0m\u001b[0;34m)\u001b[0m\u001b[0;34m\u001b[0m\u001b[0;34m\u001b[0m\u001b[0m\n\u001b[1;32m      3\u001b[0m \u001b[0mprint\u001b[0m\u001b[0;34m(\u001b[0m\u001b[0mcalculate_objective\u001b[0m\u001b[0;34m(\u001b[0m\u001b[0massign1\u001b[0m\u001b[0;34m)\u001b[0m\u001b[0;34m)\u001b[0m\u001b[0;34m\u001b[0m\u001b[0;34m\u001b[0m\u001b[0m\n",
      "\u001b[0;31mNameError\u001b[0m: name 'center_of_centers_agg' is not defined"
     ]
    }
   ],
   "source": [
    "fac1, assign1 = center_of_centers_agg(5, 2)\n",
    "print(fac1)\n",
    "print(calculate_objective(assign1))"
   ]
  },
  {
   "cell_type": "code",
   "execution_count": 96,
   "metadata": {},
   "outputs": [
    {
     "name": "stdout",
     "output_type": "stream",
     "text": [
      "[20, 14, 19, 18]\n"
     ]
    }
   ],
   "source": [
    "for i in range(len(locations_agg)):\n",
    "    if locations_agg[i]['lid_ind'] == 20:\n",
    "        print(locations_agg[i]['members'])"
   ]
  },
  {
   "cell_type": "markdown",
   "metadata": {},
   "source": [
    "### VISUALIZATION ###"
   ]
  },
  {
   "cell_type": "code",
   "execution_count": 26,
   "metadata": {},
   "outputs": [],
   "source": [
    "import folium\n",
    "from folium.plugins import FastMarkerCluster, MarkerCluster"
   ]
  },
  {
   "cell_type": "code",
   "execution_count": 7,
   "metadata": {},
   "outputs": [],
   "source": [
    "from config import LOCATIONS, CLIENT_LOCATIONS"
   ]
  },
  {
   "cell_type": "code",
   "execution_count": 12,
   "metadata": {},
   "outputs": [
    {
     "name": "stdout",
     "output_type": "stream",
     "text": [
      "YIKES! Not yet implemented\n"
     ]
    }
   ],
   "source": [
    "from config import aggregate_data\n",
    "LOCATIONS_agg , CLIENT_LOCATIONS_agg = aggregate_data(2)"
   ]
  },
  {
   "cell_type": "code",
   "execution_count": 150,
   "metadata": {},
   "outputs": [],
   "source": [
    "MEDIAN_LAT = sum([loc['latitude'] for loc in LOCATIONS])/len(LOCATIONS)\n",
    "MEDIAN_LONG = sum([loc['longitude'] for loc in LOCATIONS])/len(LOCATIONS)"
   ]
  },
  {
   "cell_type": "code",
   "execution_count": 13,
   "metadata": {},
   "outputs": [],
   "source": [
    "MEDIAN_LAT = sum([loc['latitude'] for loc in LOCATIONS_agg])/len(LOCATIONS_agg)\n",
    "MEDIAN_LONG = sum([loc['longitude'] for loc in LOCATIONS_agg])/len(LOCATIONS_agg)"
   ]
  },
  {
   "cell_type": "code",
   "execution_count": null,
   "metadata": {},
   "outputs": [],
   "source": [
    "geo_map = folium.Map(location=[MEDIAN_LAT, MEDIAN_LONG], zoom_start=5)\n",
    "m_cluster = MarkerCluster().add_to(geo_map)\n",
    "\n",
    "for ind, loc in enumerate(LOCATIONS_agg):\n",
    "    lat, long = loc['latitude'], loc['longitude']\n",
    "    folium.Marker((lat, long),\n",
    "                  popup=f\"<div><b>aid</b>:{ind} ({lat:.5f}, {long:.5f}) <b>Activity</b>: {loc['activity']} <br/></div>\",\n",
    "                  tooltip=ind,\n",
    "                  icon=folium.Icon(color='black',icon_color='#FFFF00')).add_to(m_cluster)\n",
    "    \n",
    "    for mem in loc['members']:\n",
    "        lat_m, long_m = LOCATIONS[mem]['latitude'], LOCATIONS[mem]['longitude']\n",
    "        folium.Marker((lat_m, long_m),\n",
    "                  popup=f\"<div><b>lid_ind</b>:{mem} ({lat_m:.5f}, {long_m:.5f}) <b>Activity</b>: {LOCATIONS[mem]['activity']} <br/></div>\",\n",
    "                  tooltip=ind).add_to(m_cluster)\n",
    "geo_map"
   ]
  },
  {
   "cell_type": "code",
   "execution_count": 18,
   "metadata": {},
   "outputs": [],
   "source": [
    "from config import aggregate_data\n",
    "LOCATIONS_agg , CLIENT_LOCATIONS_agg = aggregate_data(1)"
   ]
  },
  {
   "cell_type": "code",
   "execution_count": 19,
   "metadata": {},
   "outputs": [],
   "source": [
    "MEDIAN_LAT = sum([loc['latitude'] for loc in LOCATIONS_agg])/len(LOCATIONS_agg)\n",
    "MEDIAN_LONG = sum([loc['longitude'] for loc in LOCATIONS_agg])/len(LOCATIONS_agg)"
   ]
  },
  {
   "cell_type": "code",
   "execution_count": null,
   "metadata": {},
   "outputs": [],
   "source": [
    "geo_map = folium.Map(location=[MEDIAN_LAT, MEDIAN_LONG], zoom_start=5)\n",
    "m_cluster = MarkerCluster().add_to(geo_map)\n",
    "\n",
    "for ind, loc in enumerate(LOCATIONS_agg):\n",
    "    lat, long = loc['latitude'], loc['longitude']\n",
    "    folium.Marker((lat, long),\n",
    "                  popup=f\"<div><b>lid_ind</b>:{loc['lid_ind']} ({lat:.5f}, {long:.5f}) <b>Activity</b>: {loc['activity']} <br/></div>\",\n",
    "                  tooltip=ind,\n",
    "                  icon=folium.Icon(color='black',icon_color='#FFFF00')).add_to(m_cluster)\n",
    "    \n",
    "    for mem in loc['members']:\n",
    "        lat_m, long_m = LOCATIONS[mem]['latitude'], LOCATIONS[mem]['longitude']\n",
    "        folium.Marker((lat_m, long_m),\n",
    "                  popup=f\"<div><b>lid_ind</b>:{mem} ({lat_m:.5f}, {long_m:.5f}) <b>Activity</b>: {LOCATIONS[mem]['activity']} <br/></div>\",\n",
    "                  tooltip=ind).add_to(m_cluster)\n",
    "geo_map"
   ]
  },
  {
   "cell_type": "code",
   "execution_count": null,
   "metadata": {},
   "outputs": [],
   "source": [
    "geo_map = folium.Map(location=[MEDIAN_LAT, MEDIAN_LONG], zoom_start=5)\n",
    "m_cluster = MarkerCluster().add_to(geo_map)\n",
    "\n",
    "for ind, loc in enumerate(LOCATIONS_agg):\n",
    "    if LOCATIONS[loc['lid_ind']]['lid'] < HOME_SHIFT:\n",
    "        lat, long = loc['latitude'], loc['longitude']\n",
    "        folium.Circle(location=[lat, long],\n",
    "                            radius= 10,\n",
    "                            popup=f\"<div><b>lid</b>:{loc['lid_ind']} ({lat:.5f}, {long:.5f}) <b>Activity</b>: {LOCATIONS[loc['lid_ind']]['lid']<HOME_SHIFT}  <b>Members</b>: {LOCATIONS_agg[ind]['members']} <br/></div>\",\n",
    "                            fill=True).add_to(m_cluster)\n",
    "    #folium.Marker((lat, long),\n",
    "    #              popup=f\"<div><b>lid</b>:{loc['lid']} ({lat:.5f}, {long:.5f}) <b>Activity</b>: n/a <br/></div>\",\n",
    "    #              tooltip=loc['lid']).add_to(m_cluster)\n",
    "\n",
    "\"\"\"for ind, loc in enumerate(LOCATIONS):\n",
    "    if LOCATIONS[ind]['lid'] < HOME_SHIFT:\n",
    "        lat, long = loc['latitude'], loc['longitude']\n",
    "        folium.Marker(location = [lat, long],\n",
    "                      popup=f\"<div><b>lid</b>:{ind} ({lat:.5f}, {long:.5f}) <b>Activity</b>: {LOCATIONS[ind]['lid']<HOME_SHIFT} <br/></div>\",\n",
    "                      tooltip=ind).add_to(m_cluster)\"\"\"\n",
    "geo_map"
   ]
  },
  {
   "cell_type": "code",
   "execution_count": null,
   "metadata": {},
   "outputs": [],
   "source": [
    "geo_map = folium.Map(location=[38.02997, -78.47883], zoom_start=20)\n",
    "m_cluster = MarkerCluster().add_to(geo_map)\n",
    "\n",
    "\n",
    "folium.Circle(location=[38.03, -78.47883],\n",
    "                    radius= 10,\n",
    "                    #popup=f\"<div><b>lid</b>:{loc['lid']} ({lat:.5f}, {long:.5f}) <b>Activity</b>: {LOCATIONS[loc['lid']]['lid']<HOME_SHIFT} <br/></div>\",\n",
    "                   fill=True).add_to(m_cluster)\n",
    "    #folium.Marker((lat, long),\n",
    "    #              popup=f\"<div><b>lid</b>:{loc['lid']} ({lat:.5f}, {long:.5f}) <b>Activity</b>: n/a <br/></div>\",\n",
    "    #              tooltip=loc['lid']).add_to(m_cluster)\n",
    "\n",
    "#folium.Marker(location = [38.02997, -78.47883],\n",
    "                      #popup=f\"<div><b>lid</b>:{ind} ({lat:.5f}, {long:.5f}) <b>Activity</b>: {LOCATIONS[ind]['lid']<HOME_SHIFT} <br/></div>\",\n",
    "                     tooltip=ind).add_to(m_cluster)\n",
    "geo_map"
   ]
  },
  {
   "cell_type": "code",
   "execution_count": 21,
   "metadata": {},
   "outputs": [],
   "source": [
    "import pandas as pd"
   ]
  },
  {
   "cell_type": "code",
   "execution_count": 24,
   "metadata": {},
   "outputs": [
    {
     "data": {
      "text/html": [
       "<div>\n",
       "<style scoped>\n",
       "    .dataframe tbody tr th:only-of-type {\n",
       "        vertical-align: middle;\n",
       "    }\n",
       "\n",
       "    .dataframe tbody tr th {\n",
       "        vertical-align: top;\n",
       "    }\n",
       "\n",
       "    .dataframe thead th {\n",
       "        text-align: right;\n",
       "    }\n",
       "</style>\n",
       "<table border=\"1\" class=\"dataframe\">\n",
       "  <thead>\n",
       "    <tr style=\"text-align: right;\">\n",
       "      <th></th>\n",
       "      <th>lid</th>\n",
       "      <th>longitude</th>\n",
       "      <th>latitude</th>\n",
       "      <th>activity</th>\n",
       "      <th>pid</th>\n",
       "      <th>members</th>\n",
       "    </tr>\n",
       "  </thead>\n",
       "  <tbody>\n",
       "    <tr>\n",
       "      <th>0</th>\n",
       "      <td>0</td>\n",
       "      <td>-78.47261</td>\n",
       "      <td>38.05930</td>\n",
       "      <td>5609</td>\n",
       "      <td>[5603328, 5603334, 5603337, 5603343, 5603347, ...</td>\n",
       "      <td>[0]</td>\n",
       "    </tr>\n",
       "    <tr>\n",
       "      <th>1</th>\n",
       "      <td>1</td>\n",
       "      <td>-78.50246</td>\n",
       "      <td>38.03071</td>\n",
       "      <td>5547</td>\n",
       "      <td>[5603332, 5603335, 5603352, 5603361, 5603366, ...</td>\n",
       "      <td>[1]</td>\n",
       "    </tr>\n",
       "    <tr>\n",
       "      <th>2</th>\n",
       "      <td>2</td>\n",
       "      <td>-78.50059</td>\n",
       "      <td>38.03104</td>\n",
       "      <td>5485</td>\n",
       "      <td>[5603330, 5603334, 5603362, 5603373, 5603381, ...</td>\n",
       "      <td>[2]</td>\n",
       "    </tr>\n",
       "    <tr>\n",
       "      <th>3</th>\n",
       "      <td>3</td>\n",
       "      <td>-78.48789</td>\n",
       "      <td>38.06238</td>\n",
       "      <td>5485</td>\n",
       "      <td>[5603348, 5603365, 5603383, 5603385, 5603389, ...</td>\n",
       "      <td>[3]</td>\n",
       "    </tr>\n",
       "    <tr>\n",
       "      <th>4</th>\n",
       "      <td>4</td>\n",
       "      <td>-78.49865</td>\n",
       "      <td>38.03986</td>\n",
       "      <td>5470</td>\n",
       "      <td>[5603345, 5603346, 5603347, 5603372, 5603373, ...</td>\n",
       "      <td>[4]</td>\n",
       "    </tr>\n",
       "    <tr>\n",
       "      <th>...</th>\n",
       "      <td>...</td>\n",
       "      <td>...</td>\n",
       "      <td>...</td>\n",
       "      <td>...</td>\n",
       "      <td>...</td>\n",
       "      <td>...</td>\n",
       "    </tr>\n",
       "    <tr>\n",
       "      <th>19198</th>\n",
       "      <td>19198</td>\n",
       "      <td>-78.48487</td>\n",
       "      <td>38.03206</td>\n",
       "      <td>0</td>\n",
       "      <td>[]</td>\n",
       "      <td>[19198]</td>\n",
       "    </tr>\n",
       "    <tr>\n",
       "      <th>19199</th>\n",
       "      <td>19199</td>\n",
       "      <td>-78.84561</td>\n",
       "      <td>38.42466</td>\n",
       "      <td>0</td>\n",
       "      <td>[]</td>\n",
       "      <td>[19199]</td>\n",
       "    </tr>\n",
       "    <tr>\n",
       "      <th>19200</th>\n",
       "      <td>19200</td>\n",
       "      <td>-77.46860</td>\n",
       "      <td>37.65044</td>\n",
       "      <td>0</td>\n",
       "      <td>[]</td>\n",
       "      <td>[19200]</td>\n",
       "    </tr>\n",
       "    <tr>\n",
       "      <th>19201</th>\n",
       "      <td>19201</td>\n",
       "      <td>-77.46863</td>\n",
       "      <td>37.60773</td>\n",
       "      <td>0</td>\n",
       "      <td>[]</td>\n",
       "      <td>[19201]</td>\n",
       "    </tr>\n",
       "    <tr>\n",
       "      <th>19202</th>\n",
       "      <td>19202</td>\n",
       "      <td>-77.53687</td>\n",
       "      <td>39.10995</td>\n",
       "      <td>0</td>\n",
       "      <td>[]</td>\n",
       "      <td>[19202]</td>\n",
       "    </tr>\n",
       "  </tbody>\n",
       "</table>\n",
       "<p>19203 rows × 6 columns</p>\n",
       "</div>"
      ],
      "text/plain": [
       "         lid  longitude  latitude  activity  \\\n",
       "0          0  -78.47261  38.05930      5609   \n",
       "1          1  -78.50246  38.03071      5547   \n",
       "2          2  -78.50059  38.03104      5485   \n",
       "3          3  -78.48789  38.06238      5485   \n",
       "4          4  -78.49865  38.03986      5470   \n",
       "...      ...        ...       ...       ...   \n",
       "19198  19198  -78.48487  38.03206         0   \n",
       "19199  19199  -78.84561  38.42466         0   \n",
       "19200  19200  -77.46860  37.65044         0   \n",
       "19201  19201  -77.46863  37.60773         0   \n",
       "19202  19202  -77.53687  39.10995         0   \n",
       "\n",
       "                                                     pid  members  \n",
       "0      [5603328, 5603334, 5603337, 5603343, 5603347, ...      [0]  \n",
       "1      [5603332, 5603335, 5603352, 5603361, 5603366, ...      [1]  \n",
       "2      [5603330, 5603334, 5603362, 5603373, 5603381, ...      [2]  \n",
       "3      [5603348, 5603365, 5603383, 5603385, 5603389, ...      [3]  \n",
       "4      [5603345, 5603346, 5603347, 5603372, 5603373, ...      [4]  \n",
       "...                                                  ...      ...  \n",
       "19198                                                 []  [19198]  \n",
       "19199                                                 []  [19199]  \n",
       "19200                                                 []  [19200]  \n",
       "19201                                                 []  [19201]  \n",
       "19202                                                 []  [19202]  \n",
       "\n",
       "[19203 rows x 6 columns]"
      ]
     },
     "execution_count": 24,
     "metadata": {},
     "output_type": "execute_result"
    }
   ],
   "source": [
    "df_loc = pd.DataFrame(LOCATIONS)\n",
    "df_loc"
   ]
  },
  {
   "cell_type": "markdown",
   "metadata": {},
   "source": [
    "### LINEAR PROGRAM STUFF ###"
   ]
  },
  {
   "cell_type": "code",
   "execution_count": 13,
   "metadata": {},
   "outputs": [
    {
     "name": "stdout",
     "output_type": "stream",
     "text": [
      "10 10\n",
      "Number of variables = 151\n",
      "distances calculated 0.0009083747863769531\n",
      "0.0017940998077392578\n",
      "Number of constraints = 161\n"
     ]
    }
   ],
   "source": [
    "potential_facility_locations = list(range(10))\n",
    "    \n",
    "client_locations = []\n",
    "for person in CLIENT_LOCATIONS.values():\n",
    "    new_list = [p for p in person['lid'] if p in potential_facility_locations]\n",
    "    if len(new_list)>0:\n",
    "        client_locations.append(new_list)\n",
    "\n",
    "if 10 <= len(client_locations):\n",
    "    client_locations = client_locations[:10]\n",
    "\n",
    "print(len(potential_facility_locations), len(client_locations))\n",
    "\n",
    "#Solves the relaxed k-center linear program for multiple client locations\n",
    "my_lp = LP(list(potential_facility_locations), client_locations, 5)"
   ]
  },
  {
   "cell_type": "code",
   "execution_count": null,
   "metadata": {},
   "outputs": [
    {
     "name": "stdout",
     "output_type": "stream",
     "text": [
      "10 1000\n",
      "Number of variables = 17773\n",
      "distances calculated 0.0011556148529052734\n"
     ]
    }
   ],
   "source": [
    "from joblib import Parallel, delayed\n",
    "X_int, Y_int = integer_LP(5, 10, 1000)\n",
    "print(X_int)\n",
    "print(\"Recalculated Objective Value: \\t\" + str(calculate_objective(Y_int)))"
   ]
  },
  {
   "cell_type": "code",
   "execution_count": 60,
   "metadata": {},
   "outputs": [],
   "source": [
    "def calculate_objective_more(assignments: List[Tuple[int, int]]) -> float:\n",
    "    \"\"\"\n",
    "    Calculates the maximum distance any client must travel to reach their facility based on the assignments\n",
    "    \"\"\"\n",
    "    if len(assignments) == 0: return 0\n",
    "    \n",
    "    obj_val = [(calculate_distance(loc, fac), ind, loc, fac) for ind, (loc, fac) in enumerate(assignments)]\n",
    "    return max(obj_val)"
   ]
  },
  {
   "cell_type": "code",
   "execution_count": 74,
   "metadata": {},
   "outputs": [],
   "source": [
    "def calculate_percentile_objective_more(assignments: List[Tuple[int, int]], percentile: float) -> float:\n",
    "    \"\"\"\n",
    "    Given that we only need to cover a certain percentils of clients,\n",
    "    calculates the minimum objective value (maximum distance for any individual based on the assignments)\n",
    "    \"\"\"\n",
    "    if len(assignments) == 0: return 0\n",
    "    \n",
    "    obj_val = sorted([(calculate_distance(loc, fac), ind, loc, fac) for ind, (loc, fac) in enumerate(assignments)])\n",
    "    ind = math.floor(len(obj_val)*percentile) -1\n",
    "    \n",
    "    #If no clients are selected to be covered, then the objective is 0\n",
    "    if ind < 0: return 0\n",
    "    \n",
    "    return obj_val[ind]"
   ]
  },
  {
   "cell_type": "code",
   "execution_count": 51,
   "metadata": {},
   "outputs": [],
   "source": [
    "#Comparing Center of Centers\n",
    "\n",
    "assignments_og = assign_facilities([0, 2051, 5347, 2579, 1621])\n",
    "assignments_avg = assign_facilities([0, 10375, 8818, 2579, 1621])"
   ]
  },
  {
   "cell_type": "code",
   "execution_count": 76,
   "metadata": {},
   "outputs": [
    {
     "name": "stdout",
     "output_type": "stream",
     "text": [
      "------ 50 -------\n",
      "OG (1.315255575999558, 16003, 23, 0)\n",
      "AVG (1.315255575999558, 16516, 23, 0)\n",
      "------ 55 -------\n",
      "OG (1.3549920348124775, 8683, 6, 0)\n",
      "AVG (1.3549920348124775, 8945, 6, 0)\n",
      "------ 60 -------\n",
      "OG (1.3653987594782298, 6005, 701, 0)\n",
      "AVG (1.3653987594782298, 14371, 701, 0)\n",
      "------ 65 -------\n",
      "OG (1.3809101974891804, 29710, 3, 0)\n",
      "AVG (1.3809101974891804, 30055, 3, 0)\n",
      "------ 70 -------\n",
      "OG (1.4757433326513296, 20439, 515, 0)\n",
      "AVG (1.4757433326513296, 25539, 515, 0)\n",
      "------ 75 -------\n",
      "OG (1.6137261169250263, 23884, 7062, 0)\n",
      "AVG (1.6150195980200566, 7140, 465, 0)\n",
      "------ 80 -------\n",
      "OG (1.8022998464462856, 6800, 571, 0)\n",
      "AVG (1.8022998464462856, 16347, 571, 0)\n",
      "------ 85 -------\n",
      "OG (2.0878577290969806, 9129, 1251, 0)\n",
      "AVG (2.0941120536359397, 24708, 3588, 0)\n",
      "------ 90 -------\n",
      "OG (2.2588252196277097, 3215, 174, 0)\n",
      "AVG (2.2588252196277097, 6866, 174, 0)\n",
      "------ 95 -------\n",
      "OG (2.655366125612166, 21288, 1285, 0)\n",
      "AVG (2.6559331127593633, 20630, 1054, 0)\n",
      "------ 100 -------\n",
      "OG (6.395545048189607, 20043, 4745, 0)\n",
      "AVG (6.395545048189607, 20043, 4745, 0)\n"
     ]
    }
   ],
   "source": [
    "for i in range(50, 105, 5):\n",
    "    print(\"------\", i, \"-------\")\n",
    "    print(\"OG\", calculate_percentile_objective_more(assignments_og, i/100))\n",
    "    print(\"AVG\", calculate_percentile_objective_more(assignments_avg, i/100))"
   ]
  },
  {
   "cell_type": "code",
   "execution_count": 77,
   "metadata": {},
   "outputs": [
    {
     "name": "stdout",
     "output_type": "stream",
     "text": [
      "1.6137261169250263\n",
      "1.6150195980200566\n"
     ]
    }
   ],
   "source": [
    "print(calculate_distance(7062, 0))\n",
    "print(calculate_distance(465, 0))"
   ]
  },
  {
   "cell_type": "code",
   "execution_count": 62,
   "metadata": {},
   "outputs": [
    {
     "name": "stdout",
     "output_type": "stream",
     "text": [
      "(6.395545048189607, 20043, 4745, 0)\n",
      "(6.395545048189607, 20043, 4745, 0)\n"
     ]
    }
   ],
   "source": [
    "print(calculate_objective_more(assignments_og))\n",
    "print(calculate_objective_more(assignments_avg))"
   ]
  },
  {
   "cell_type": "code",
   "execution_count": 73,
   "metadata": {},
   "outputs": [
    {
     "name": "stdout",
     "output_type": "stream",
     "text": [
      "{'pid': 5611561, 'lid': [4745, 1656]}\n",
      "{'lid': 108796, 'longitude': -78.68085, 'latitude': 38.05213, 'activity': 28, 'pid': [5596545, 5621127, 5593866, 5616780, 5595533, 5619473, 5604762, 5607199, 5586847, 5605283, 5611561, 5590187, 5621803, 5608381, 5627002, 5600715, 5589714, 5615448, 5623000, 5606751, 5607267, 5597285, 5618535, 5587433, 5626353, 5611506, 5620985, 5594618]}\n"
     ]
    }
   ],
   "source": [
    "print(CLIENT_LOCATIONS[20043])"
   ]
  },
  {
   "cell_type": "code",
   "execution_count": 58,
   "metadata": {},
   "outputs": [
    {
     "name": "stdout",
     "output_type": "stream",
     "text": [
      "{'lid': 86442, 'longitude': -79.43519, 'latitude': 37.7861600000001, 'activity': 16, 'pid': [5618816, 5590497, 5620608, 5624613, 5591943, 5622887, 5616746, 5619978, 5614926, 5625551, 5614487, 5603859, 5602711, 5623545, 5586942, 5602495]}\n",
      "{'lid': 122514, 'longitude': -82.12999, 'latitude': 36.6301100000001, 'activity': 2, 'pid': [5606748, 5606749]}\n",
      "{'lid': 124090, 'longitude': -78.42043, 'latitude': 37.30821, 'activity': 4, 'pid': [5618596, 5604639, 5609805, 5603039]}\n",
      "{'lid': 38251, 'longitude': -79.17169, 'latitude': 37.3606, 'activity': 2, 'pid': [5612240, 5602773]}\n"
     ]
    }
   ],
   "source": [
    "print(LOCATIONS[2051])\n",
    "print(LOCATIONS[10375])\n",
    "print(LOCATIONS[5347])\n",
    "print(LOCATIONS[8818])"
   ]
  },
  {
   "cell_type": "code",
   "execution_count": 52,
   "metadata": {},
   "outputs": [],
   "source": [
    "x = []\n",
    "y_og = []\n",
    "y_avg = []\n",
    "import json\n",
    "for i in range(0, 101, 1):\n",
    "    x.append(i/100)\n",
    "    y_og.append(calculate_percentile_objective(assignments_og, i/100))\n",
    "    y_avg.append(calculate_percentile_objective(assignments_avg, i/100))"
   ]
  },
  {
   "cell_type": "code",
   "execution_count": 87,
   "metadata": {},
   "outputs": [
    {
     "data": {
      "image/png": "[encoded data removed]",
      "text/plain": [
       "<Figure size 432x288 with 1 Axes>"
      ]
     },
     "metadata": {
      "needs_background": "light"
     },
     "output_type": "display_data"
    }
   ],
   "source": [
    "plt.plot(x, y_og, label = \"Closest Location\")\n",
    "plt.plot(x, y_avg, label = \"Median Location\")\n",
    "plt.xlabel(\"Percentage of Clients Covered\")\n",
    "plt.ylabel(\"Objective Value\")\n",
    "plt.ylim(0.6, 2)\n",
    "plt.legend()\n",
    "plt.show()\n",
    "#plt.savefig('Center_experiment', dpi = 500)"
   ]
  },
  {
   "cell_type": "code",
   "execution_count": 78,
   "metadata": {},
   "outputs": [
    {
     "data": {
      "text/plain": [
       "(0.4, 0.5)"
      ]
     },
     "execution_count": 78,
     "metadata": {},
     "output_type": "execute_result"
    },
    {
     "data": {
      "image/png": "[encoded data removed]",
      "text/plain": [
       "<Figure size 432x288 with 1 Axes>"
      ]
     },
     "metadata": {
      "needs_background": "light"
     },
     "output_type": "display_data"
    }
   ],
   "source": []
  },
  {
   "cell_type": "code",
   "execution_count": 49,
   "metadata": {},
   "outputs": [],
   "source": [
    "def center_of_centers2(k: int):\n",
    "    \"\"\"\n",
    "    PARAMETERS\n",
    "    ----------\n",
    "    k : int\n",
    "        number of facilities to be opened\n",
    "    \n",
    "    RETURNS\n",
    "    ----------\n",
    "    facilities : List[int]\n",
    "        contains facility indices that are open\n",
    "    assignments : List[Tuple[int, int]]\n",
    "        visited location and facility assignment indexed by each client\n",
    "    \"\"\"\n",
    "    clients = []\n",
    "    \n",
    "    for client_row in CLIENT_LOCATIONS.values():\n",
    "        \n",
    "        client = client_row[\"lid\"]\n",
    "        \n",
    "        latitude = []\n",
    "        longitude = []\n",
    "        for center in client:\n",
    "            lat, long = LOCATIONS[center]['latitude'], LOCATIONS[center]['longitude']\n",
    "            latitude.append(lat)\n",
    "            longitude.append(long)\n",
    "        \n",
    "        clients.append((sum(latitude)/len(latitude), sum(longitude)/len(longitude)))\n",
    "    \n",
    "    original_loc_length = len(LOCATIONS.keys())\n",
    "    \n",
    "    for i in range(len(clients)):\n",
    "        LOCATIONS[original_loc_length+i] = {'lid': -1, 'longitude': clients[i][1], 'latitude': clients[i][0], 'activity':-1, 'pid':[i]}\n",
    "    \n",
    "    print(LOCATIONS[original_loc_length])\n",
    "    locations = [i for i in range(original_loc_length) if LOCATIONS[i]['lid'] < HOME_SHIFT]\n",
    "    facilities = _k_supplier(list(range(original_loc_length+ len(clients))), locations, k)\n",
    "    \n",
    "    for i in range(len(clients)):\n",
    "        LOCATIONS.pop(original_loc_length+i)\n",
    "    \n",
    "    return facilities, assign_facilities(facilities)"
   ]
  },
  {
   "cell_type": "code",
   "execution_count": 30,
   "metadata": {},
   "outputs": [
    {
     "name": "stdout",
     "output_type": "stream",
     "text": [
      "19203\n"
     ]
    }
   ],
   "source": [
    "from config import LOCATIONS, CLIENT_LOCATIONS\n",
    "\n",
    "print(len(LOCATIONS.keys()))"
   ]
  },
  {
   "cell_type": "code",
   "execution_count": 48,
   "metadata": {},
   "outputs": [
    {
     "name": "stdout",
     "output_type": "stream",
     "text": [
      "{'lid': -1, 'longitude': -78.47718537499998, 'latitude': 38.08108027500002, 'activity': -1, 'pid': [0]}\n"
     ]
    },
    {
     "ename": "KeyError",
     "evalue": "19204",
     "output_type": "error",
     "traceback": [
      "\u001b[0;31m---------------------------------------------------------------------------\u001b[0m",
      "\u001b[0;31mKeyError\u001b[0m                                  Traceback (most recent call last)",
      "\u001b[0;32m<ipython-input-48-e4cdfe5bdd88>\u001b[0m in \u001b[0;36m<module>\u001b[0;34m\u001b[0m\n\u001b[1;32m      1\u001b[0m \u001b[0;32mfrom\u001b[0m \u001b[0mheuristics\u001b[0m \u001b[0;32mimport\u001b[0m \u001b[0m_k_supplier\u001b[0m\u001b[0;34m\u001b[0m\u001b[0;34m\u001b[0m\u001b[0m\n\u001b[1;32m      2\u001b[0m \u001b[0;34m\u001b[0m\u001b[0m\n\u001b[0;32m----> 3\u001b[0;31m \u001b[0mcenter_of_centers2\u001b[0m\u001b[0;34m(\u001b[0m\u001b[0;36m5\u001b[0m\u001b[0;34m)\u001b[0m\u001b[0;34m\u001b[0m\u001b[0;34m\u001b[0m\u001b[0m\n\u001b[0m",
      "\u001b[0;32m<ipython-input-47-a10546f688c3>\u001b[0m in \u001b[0;36mcenter_of_centers2\u001b[0;34m(k)\u001b[0m\n\u001b[1;32m     35\u001b[0m     \u001b[0mprint\u001b[0m\u001b[0;34m(\u001b[0m\u001b[0mLOCATIONS\u001b[0m\u001b[0;34m[\u001b[0m\u001b[0moriginal_loc_length\u001b[0m\u001b[0;34m]\u001b[0m\u001b[0;34m)\u001b[0m\u001b[0;34m\u001b[0m\u001b[0;34m\u001b[0m\u001b[0m\n\u001b[1;32m     36\u001b[0m     \u001b[0mlocations\u001b[0m \u001b[0;34m=\u001b[0m \u001b[0;34m[\u001b[0m\u001b[0mi\u001b[0m \u001b[0;32mfor\u001b[0m \u001b[0mi\u001b[0m \u001b[0;32min\u001b[0m \u001b[0mrange\u001b[0m\u001b[0;34m(\u001b[0m\u001b[0moriginal_loc_length\u001b[0m\u001b[0;34m)\u001b[0m \u001b[0;32mif\u001b[0m \u001b[0mLOCATIONS\u001b[0m\u001b[0;34m[\u001b[0m\u001b[0mi\u001b[0m\u001b[0;34m]\u001b[0m\u001b[0;34m[\u001b[0m\u001b[0;34m'lid'\u001b[0m\u001b[0;34m]\u001b[0m \u001b[0;34m<\u001b[0m \u001b[0mHOME_SHIFT\u001b[0m\u001b[0;34m]\u001b[0m\u001b[0;34m\u001b[0m\u001b[0;34m\u001b[0m\u001b[0m\n\u001b[0;32m---> 37\u001b[0;31m     \u001b[0mfacilities\u001b[0m \u001b[0;34m=\u001b[0m \u001b[0m_k_supplier\u001b[0m\u001b[0;34m(\u001b[0m\u001b[0mlist\u001b[0m\u001b[0;34m(\u001b[0m\u001b[0mrange\u001b[0m\u001b[0;34m(\u001b[0m\u001b[0moriginal_loc_length\u001b[0m\u001b[0;34m+\u001b[0m \u001b[0mlen\u001b[0m\u001b[0;34m(\u001b[0m\u001b[0mclients\u001b[0m\u001b[0;34m)\u001b[0m\u001b[0;34m)\u001b[0m\u001b[0;34m)\u001b[0m\u001b[0;34m,\u001b[0m \u001b[0mlocations\u001b[0m\u001b[0;34m,\u001b[0m \u001b[0mk\u001b[0m\u001b[0;34m)\u001b[0m\u001b[0;34m\u001b[0m\u001b[0;34m\u001b[0m\u001b[0m\n\u001b[0m\u001b[1;32m     38\u001b[0m \u001b[0;34m\u001b[0m\u001b[0m\n\u001b[1;32m     39\u001b[0m     \u001b[0;32mfor\u001b[0m \u001b[0mi\u001b[0m \u001b[0;32min\u001b[0m \u001b[0mrange\u001b[0m\u001b[0;34m(\u001b[0m\u001b[0mlen\u001b[0m\u001b[0;34m(\u001b[0m\u001b[0mclients\u001b[0m\u001b[0;34m)\u001b[0m\u001b[0;34m)\u001b[0m\u001b[0;34m:\u001b[0m\u001b[0;34m\u001b[0m\u001b[0;34m\u001b[0m\u001b[0m\n",
      "\u001b[0;32m/sfs/qumulo/qhome/al7gc/Mobile-Facility/heuristics.py\u001b[0m in \u001b[0;36m_k_supplier\u001b[0;34m(clients, locations, k)\u001b[0m\n\u001b[1;32m    475\u001b[0m         \u001b[0mmid\u001b[0m \u001b[0;34m=\u001b[0m \u001b[0ml\u001b[0m \u001b[0;34m+\u001b[0m \u001b[0;34m(\u001b[0m\u001b[0mr\u001b[0m \u001b[0;34m-\u001b[0m \u001b[0ml\u001b[0m\u001b[0;34m)\u001b[0m \u001b[0;34m/\u001b[0m \u001b[0;36m2\u001b[0m\u001b[0;34m\u001b[0m\u001b[0;34m\u001b[0m\u001b[0m\n\u001b[1;32m    476\u001b[0m \u001b[0;34m\u001b[0m\u001b[0m\n\u001b[0;32m--> 477\u001b[0;31m         \u001b[0;32mif\u001b[0m \u001b[0mlen\u001b[0m\u001b[0;34m(\u001b[0m\u001b[0m_check_radius\u001b[0m\u001b[0;34m(\u001b[0m\u001b[0mmid\u001b[0m\u001b[0;34m,\u001b[0m \u001b[0mclients\u001b[0m\u001b[0;34m)\u001b[0m\u001b[0;34m)\u001b[0m \u001b[0;34m<=\u001b[0m \u001b[0mk\u001b[0m\u001b[0;34m:\u001b[0m\u001b[0;34m\u001b[0m\u001b[0;34m\u001b[0m\u001b[0m\n\u001b[0m\u001b[1;32m    478\u001b[0m             facilities: List[int] = _locate_facilities(mid,\n\u001b[1;32m    479\u001b[0m                                     _check_radius(mid, clients), locations, k)\n",
      "\u001b[0;32m/sfs/qumulo/qhome/al7gc/Mobile-Facility/heuristics.py\u001b[0m in \u001b[0;36m_check_radius\u001b[0;34m(radius, clients)\u001b[0m\n\u001b[1;32m    516\u001b[0m         \u001b[0mremove\u001b[0m \u001b[0;34m=\u001b[0m \u001b[0mset\u001b[0m\u001b[0;34m(\u001b[0m\u001b[0;34m)\u001b[0m\u001b[0;34m\u001b[0m\u001b[0;34m\u001b[0m\u001b[0m\n\u001b[1;32m    517\u001b[0m         \u001b[0;32mfor\u001b[0m \u001b[0mi\u001b[0m \u001b[0;32min\u001b[0m \u001b[0mV\u001b[0m\u001b[0;34m:\u001b[0m\u001b[0;34m\u001b[0m\u001b[0;34m\u001b[0m\u001b[0m\n\u001b[0;32m--> 518\u001b[0;31m             \u001b[0;32mif\u001b[0m \u001b[0mcalculate_distance\u001b[0m\u001b[0;34m(\u001b[0m\u001b[0mv\u001b[0m\u001b[0;34m,\u001b[0m \u001b[0mi\u001b[0m\u001b[0;34m)\u001b[0m \u001b[0;34m<=\u001b[0m \u001b[0;36m2\u001b[0m\u001b[0;34m*\u001b[0m\u001b[0mradius\u001b[0m\u001b[0;34m:\u001b[0m\u001b[0;34m\u001b[0m\u001b[0;34m\u001b[0m\u001b[0m\n\u001b[0m\u001b[1;32m    519\u001b[0m                 \u001b[0mremove\u001b[0m\u001b[0;34m.\u001b[0m\u001b[0madd\u001b[0m\u001b[0;34m(\u001b[0m\u001b[0mi\u001b[0m\u001b[0;34m)\u001b[0m\u001b[0;34m\u001b[0m\u001b[0;34m\u001b[0m\u001b[0m\n\u001b[1;32m    520\u001b[0m         \u001b[0mV\u001b[0m\u001b[0;34m-=\u001b[0m\u001b[0mremove\u001b[0m\u001b[0;34m\u001b[0m\u001b[0;34m\u001b[0m\u001b[0m\n",
      "\u001b[0;32m/sfs/qumulo/qhome/al7gc/Mobile-Facility/utils.py\u001b[0m in \u001b[0;36mcalculate_distance\u001b[0;34m(loc1, loc2)\u001b[0m\n\u001b[1;32m     29\u001b[0m     \"\"\"\n\u001b[1;32m     30\u001b[0m     \u001b[0mcoord1_row\u001b[0m \u001b[0;34m=\u001b[0m \u001b[0mLOCATIONS\u001b[0m\u001b[0;34m[\u001b[0m\u001b[0mloc1\u001b[0m\u001b[0;34m]\u001b[0m\u001b[0;34m\u001b[0m\u001b[0;34m\u001b[0m\u001b[0m\n\u001b[0;32m---> 31\u001b[0;31m     \u001b[0mcoord2_row\u001b[0m \u001b[0;34m=\u001b[0m \u001b[0mLOCATIONS\u001b[0m\u001b[0;34m[\u001b[0m\u001b[0mloc2\u001b[0m\u001b[0;34m]\u001b[0m\u001b[0;34m\u001b[0m\u001b[0;34m\u001b[0m\u001b[0m\n\u001b[0m\u001b[1;32m     32\u001b[0m     \u001b[0mcoord1\u001b[0m \u001b[0;34m=\u001b[0m \u001b[0;34m(\u001b[0m\u001b[0mcoord1_row\u001b[0m\u001b[0;34m[\u001b[0m\u001b[0;34m'latitude'\u001b[0m\u001b[0;34m]\u001b[0m\u001b[0;34m,\u001b[0m \u001b[0mcoord1_row\u001b[0m\u001b[0;34m[\u001b[0m\u001b[0;34m'longitude'\u001b[0m\u001b[0;34m]\u001b[0m\u001b[0;34m)\u001b[0m\u001b[0;34m\u001b[0m\u001b[0;34m\u001b[0m\u001b[0m\n\u001b[1;32m     33\u001b[0m     \u001b[0mcoord2\u001b[0m \u001b[0;34m=\u001b[0m \u001b[0;34m(\u001b[0m\u001b[0mcoord2_row\u001b[0m\u001b[0;34m[\u001b[0m\u001b[0;34m'latitude'\u001b[0m\u001b[0;34m]\u001b[0m\u001b[0;34m,\u001b[0m \u001b[0mcoord2_row\u001b[0m\u001b[0;34m[\u001b[0m\u001b[0;34m'longitude'\u001b[0m\u001b[0;34m]\u001b[0m\u001b[0;34m)\u001b[0m\u001b[0;34m\u001b[0m\u001b[0;34m\u001b[0m\u001b[0m\n",
      "\u001b[0;31mKeyError\u001b[0m: 19204"
     ]
    }
   ],
   "source": [
    "from heuristics import _k_supplier\n",
    "\n",
    "center_of_centers2(5)"
   ]
  },
  {
   "cell_type": "code",
   "execution_count": 108,
   "metadata": {},
   "outputs": [],
   "source": [
    "def cover_most(s: int):\n",
    "    covered = set()\n",
    "    selected = []\n",
    "    for i in range(s):\n",
    "        most_coverage = max([(len(set(LOCATIONS[l]['pid']) - covered), l) for l in LOCATIONS.keys()])\n",
    "        selected.append(most_coverage[1])\n",
    "        covered = covered.union(LOCATIONS[most_coverage[1]]['pid'])\n",
    "    print(len(covered)/len(CLIENT_LOCATIONS))\n",
    "    return selected"
   ]
  },
  {
   "cell_type": "code",
   "execution_count": 109,
   "metadata": {},
   "outputs": [
    {
     "name": "stdout",
     "output_type": "stream",
     "text": [
      "0.8479008324285198\n",
      "[0, 1, 3, 6, 4, 5, 2, 24, 7, 8, 30, 9, 53, 23, 12, 19, 55, 13, 60, 11]\n"
     ]
    }
   ],
   "source": [
    "selected = cover_most(20)\n",
    "print(selected)"
   ]
  },
  {
   "cell_type": "code",
   "execution_count": 110,
   "metadata": {},
   "outputs": [
    {
     "name": "stdout",
     "output_type": "stream",
     "text": [
      "0.820273856918808\n"
     ]
    }
   ],
   "source": [
    "selected = list(range(20))\n",
    "covered = set()\n",
    "for i in selected:\n",
    "    covered = covered.union(LOCATIONS[i]['pid'])\n",
    "print(len(covered)/len(CLIENT_LOCATIONS))"
   ]
  },
  {
   "cell_type": "code",
   "execution_count": 65,
   "metadata": {},
   "outputs": [],
   "source": [
    "LOCATIONS, CLIENT_LOCATIONS = LOCATIONS2, CLIENT_LOCATIONS2"
   ]
  },
  {
   "cell_type": "code",
   "execution_count": 112,
   "metadata": {},
   "outputs": [],
   "source": [
    "import ray\n",
    "def fpt3_parallel2(k: int, s: int):\n",
    "    \"\"\"\n",
    "    Assumes the number of locations visited by clients is bounded by a constant\n",
    "    Run k-supplier on all combination sets of locations that will be covered by facilities. Select the guess and its open facilities with the smallest objective value.\n",
    "    \n",
    "    PARAMETERS\n",
    "    ----------\n",
    "    k : int\n",
    "        number of facilities to be opened\n",
    "    \n",
    "    RETURNS\n",
    "    ----------\n",
    "    facilities : List[int]\n",
    "        contains facility indices that are open\n",
    "    assignments : List[Tuple[int, int]]\n",
    "        visited location and facility assignment indexed by each client\n",
    "    \"\"\"\n",
    "    potential_facility_locations = cover_most(s)\n",
    "    \n",
    "    #Remove homes from the client_location lists\n",
    "    #TODO: Perhaps create mapping for the indices of people before exclusion and after?\n",
    "    client_locations_excluded = []\n",
    "    for person in CLIENT_LOCATIONS.values():\n",
    "        new_list = [p for p in person['lid'][1:] if p in potential_facility_locations]\n",
    "        if len(new_list)>0:\n",
    "            client_locations_excluded.append(new_list)\n",
    "    \n",
    "    locations = [i for i in range(len(LOCATIONS)) if LOCATIONS[i]['lid'] < HOME_SHIFT]\n",
    "    \n",
    "    G, loc_map, c_loc_map = precompute_distances(client_locations_excluded, locations)\n",
    "    \n",
    "    ray.init(ignore_reinit_error=True)\n",
    "    \n",
    "    @ray.remote\n",
    "    def process(guess):\n",
    "        facilities = _k_supplier(list(guess), locations, k)\n",
    "        print(len(facilities))\n",
    "        obj_value = assign_client_facilities2(G, loc_map, c_loc_map, client_locations_excluded, facilities)\n",
    "        \n",
    "        return obj_value, facilities\n",
    "    \n",
    "    futures = []\n",
    "    for guess in powerset(list(potential_facility_locations)):\n",
    "        print(guess)\n",
    "        futures.append(process.remote(guess))\n",
    "    results = ray.get(futures)\n",
    "    #futures = [process.remote(guess) for guess in powerset(list(potential_facility_locations))]\n",
    "    #results = ray.get(futures)\n",
    "\n",
    "    min_obj_guess: Tuple[int, List[int]] = min(results)\n",
    "    return min_obj_guess, assign_facilities(min_obj_guess[1])"
   ]
  },
  {
   "cell_type": "code",
   "execution_count": 7,
   "metadata": {},
   "outputs": [
    {
     "name": "stdout",
     "output_type": "stream",
     "text": [
      "0.7370008444927012\n"
     ]
    },
    {
     "name": "stderr",
     "output_type": "stream",
     "text": [
      "2021-08-10 10:23:43,672\tINFO worker.py:810 -- Calling ray.init() again after it has already been called.\n"
     ]
    }
   ],
   "source": [
    "import ray\n",
    "facilities, assignments = fpt3_parallel2(5, 10)"
   ]
  },
  {
   "cell_type": "code",
   "execution_count": 8,
   "metadata": {},
   "outputs": [
    {
     "name": "stdout",
     "output_type": "stream",
     "text": [
      "2.3956977875908194\n"
     ]
    }
   ],
   "source": [
    "print(calculate_objective(assignments))"
   ]
  },
  {
   "cell_type": "code",
   "execution_count": 115,
   "metadata": {},
   "outputs": [],
   "source": [
    "distances = []\n",
    "for l in range(len(LOCATIONS)):\n",
    "    for k in range(l, len(LOCATIONS)):\n",
    "        distances.append(calculate_distance(l, k))"
   ]
  },
  {
   "cell_type": "code",
   "execution_count": 121,
   "metadata": {},
   "outputs": [],
   "source": [
    "sorted_dist = distances.sort()"
   ]
  },
  {
   "cell_type": "code",
   "execution_count": 128,
   "metadata": {},
   "outputs": [
    {
     "name": "stdout",
     "output_type": "stream",
     "text": [
      "26379\n"
     ]
    }
   ],
   "source": [
    "for i in range(len(distances)):\n",
    "    if distances[i] != 0:\n",
    "        print(i)\n",
    "        break"
   ]
  },
  {
   "cell_type": "code",
   "execution_count": 136,
   "metadata": {},
   "outputs": [],
   "source": [
    "nonzero = 26379\n",
    "distances2= distances[nonzero:nonzero+50000]"
   ]
  },
  {
   "cell_type": "code",
   "execution_count": 137,
   "metadata": {},
   "outputs": [
    {
     "data": {
      "text/plain": [
       "(array([ 12., 651., 208., 380., 188., 133., 337., 159., 227., 200., 244.,\n",
       "        292., 167., 108., 163., 244., 210., 139., 146., 282., 171., 186.,\n",
       "        292., 266., 314., 403., 429., 533., 417., 474., 398., 532., 452.,\n",
       "        406., 376., 429., 393., 372., 349., 384., 346., 355., 397., 320.,\n",
       "        341., 343., 369., 312., 380., 422., 470., 451., 445., 503., 564.,\n",
       "        424., 717., 474., 360., 430., 458., 450., 508., 528., 538., 513.,\n",
       "        512., 512., 609., 587., 714., 675., 689., 638., 819., 757., 798.,\n",
       "        758., 744., 793., 918., 875., 785., 795., 800., 856., 826., 807.,\n",
       "        797., 817., 834., 770., 882., 872., 888., 854., 904., 808., 923.,\n",
       "        900.]),\n",
       " array([8.88816792e-12, 5.64987920e-04, 1.12997583e-03, 1.69496374e-03,\n",
       "        2.25995165e-03, 2.82493957e-03, 3.38992748e-03, 3.95491539e-03,\n",
       "        4.51990330e-03, 5.08489121e-03, 5.64987912e-03, 6.21486703e-03,\n",
       "        6.77985495e-03, 7.34484286e-03, 7.90983077e-03, 8.47481868e-03,\n",
       "        9.03980659e-03, 9.60479450e-03, 1.01697824e-02, 1.07347703e-02,\n",
       "        1.12997582e-02, 1.18647461e-02, 1.24297341e-02, 1.29947220e-02,\n",
       "        1.35597099e-02, 1.41246978e-02, 1.46896857e-02, 1.52546736e-02,\n",
       "        1.58196615e-02, 1.63846494e-02, 1.69496374e-02, 1.75146253e-02,\n",
       "        1.80796132e-02, 1.86446011e-02, 1.92095890e-02, 1.97745769e-02,\n",
       "        2.03395648e-02, 2.09045527e-02, 2.14695406e-02, 2.20345286e-02,\n",
       "        2.25995165e-02, 2.31645044e-02, 2.37294923e-02, 2.42944802e-02,\n",
       "        2.48594681e-02, 2.54244560e-02, 2.59894439e-02, 2.65544318e-02,\n",
       "        2.71194198e-02, 2.76844077e-02, 2.82493956e-02, 2.88143835e-02,\n",
       "        2.93793714e-02, 2.99443593e-02, 3.05093472e-02, 3.10743351e-02,\n",
       "        3.16393230e-02, 3.22043110e-02, 3.27692989e-02, 3.33342868e-02,\n",
       "        3.38992747e-02, 3.44642626e-02, 3.50292505e-02, 3.55942384e-02,\n",
       "        3.61592263e-02, 3.67242142e-02, 3.72892022e-02, 3.78541901e-02,\n",
       "        3.84191780e-02, 3.89841659e-02, 3.95491538e-02, 4.01141417e-02,\n",
       "        4.06791296e-02, 4.12441175e-02, 4.18091055e-02, 4.23740934e-02,\n",
       "        4.29390813e-02, 4.35040692e-02, 4.40690571e-02, 4.46340450e-02,\n",
       "        4.51990329e-02, 4.57640208e-02, 4.63290087e-02, 4.68939967e-02,\n",
       "        4.74589846e-02, 4.80239725e-02, 4.85889604e-02, 4.91539483e-02,\n",
       "        4.97189362e-02, 5.02839241e-02, 5.08489120e-02, 5.14138999e-02,\n",
       "        5.19788879e-02, 5.25438758e-02, 5.31088637e-02, 5.36738516e-02,\n",
       "        5.42388395e-02, 5.48038274e-02, 5.53688153e-02, 5.59338032e-02,\n",
       "        5.64987911e-02]),\n",
       " <BarContainer object of 100 artists>)"
      ]
     },
     "execution_count": 137,
     "metadata": {},
     "output_type": "execute_result"
    },
    {
     "data": {
      "image/png": "[encoded data removed]",
      "text/plain": [
       "<Figure size 432x288 with 1 Axes>"
      ]
     },
     "metadata": {
      "needs_background": "light"
     },
     "output_type": "display_data"
    }
   ],
   "source": [
    "plt.hist(distances2, bins = 100)"
   ]
  },
  {
   "cell_type": "code",
   "execution_count": 133,
   "metadata": {},
   "outputs": [
    {
     "data": {
      "text/plain": [
       "(array([7.9741900e+07, 7.4260330e+06, 2.8836930e+06, 2.4260810e+06,\n",
       "        1.9409470e+06, 1.7160490e+06, 3.3083420e+06, 3.7238040e+06,\n",
       "        4.3000410e+06, 3.1740980e+06, 2.8458280e+06, 1.4721600e+06,\n",
       "        9.9741700e+05, 1.8649110e+06, 4.6465790e+06, 6.0374940e+06,\n",
       "        8.5726560e+06, 9.4499010e+06, 2.2324910e+06, 1.0828460e+06,\n",
       "        1.2354090e+06, 3.4130440e+06, 7.6727720e+06, 1.0140638e+07,\n",
       "        4.8619580e+06, 2.3394910e+06, 1.0852120e+06, 8.2045400e+05,\n",
       "        1.1927150e+06, 4.8275900e+05, 1.3922700e+05, 7.9993000e+04,\n",
       "        1.0053600e+05, 1.1499800e+05, 9.1071000e+04, 1.1768700e+05,\n",
       "        1.2852100e+05, 1.3140500e+05, 1.1682900e+05, 5.6721000e+04,\n",
       "        3.9581000e+04, 3.1928000e+04, 2.4551000e+04, 1.4421000e+04,\n",
       "        2.2020000e+04, 6.3640000e+03, 4.1600000e+03, 1.9180000e+03,\n",
       "        1.9760000e+03, 1.4880000e+03, 1.1210000e+03, 1.3570000e+03,\n",
       "        1.7890000e+03, 7.8500000e+02, 6.1810000e+03, 9.3840000e+03,\n",
       "        1.2580000e+03, 4.8430000e+03, 9.4150000e+03, 2.7500000e+02,\n",
       "        1.3600000e+02, 2.8700000e+02, 8.4000000e+01, 2.8400000e+02,\n",
       "        1.0210000e+03, 1.4550000e+03, 1.2960000e+03, 7.9500000e+02,\n",
       "        7.7700000e+02, 1.0160000e+03, 2.0300000e+02, 2.4000000e+01,\n",
       "        3.4000000e+01, 6.7000000e+01, 1.0300000e+02, 3.2100000e+02,\n",
       "        8.1300000e+02, 3.3300000e+02, 5.1000000e+02, 1.0120000e+03,\n",
       "        2.7100000e+02, 2.0600000e+02, 2.3800000e+02, 3.0000000e+00,\n",
       "        4.0000000e+00, 4.0000000e+00, 0.0000000e+00, 1.0000000e+00,\n",
       "        1.0000000e+00, 0.0000000e+00, 0.0000000e+00, 0.0000000e+00,\n",
       "        0.0000000e+00, 0.0000000e+00, 0.0000000e+00, 0.0000000e+00,\n",
       "        0.0000000e+00, 1.0000000e+00, 0.0000000e+00, 1.0000000e+00]),\n",
       " array([8.88816792e-12, 6.16105637e+00, 1.23221127e+01, 1.84831691e+01,\n",
       "        2.46442255e+01, 3.08052819e+01, 3.69663382e+01, 4.31273946e+01,\n",
       "        4.92884510e+01, 5.54495073e+01, 6.16105637e+01, 6.77716201e+01,\n",
       "        7.39326765e+01, 8.00937328e+01, 8.62547892e+01, 9.24158456e+01,\n",
       "        9.85769019e+01, 1.04737958e+02, 1.10899015e+02, 1.17060071e+02,\n",
       "        1.23221127e+02, 1.29382184e+02, 1.35543240e+02, 1.41704297e+02,\n",
       "        1.47865353e+02, 1.54026409e+02, 1.60187466e+02, 1.66348522e+02,\n",
       "        1.72509578e+02, 1.78670635e+02, 1.84831691e+02, 1.90992748e+02,\n",
       "        1.97153804e+02, 2.03314860e+02, 2.09475917e+02, 2.15636973e+02,\n",
       "        2.21798029e+02, 2.27959086e+02, 2.34120142e+02, 2.40281198e+02,\n",
       "        2.46442255e+02, 2.52603311e+02, 2.58764368e+02, 2.64925424e+02,\n",
       "        2.71086480e+02, 2.77247537e+02, 2.83408593e+02, 2.89569649e+02,\n",
       "        2.95730706e+02, 3.01891762e+02, 3.08052819e+02, 3.14213875e+02,\n",
       "        3.20374931e+02, 3.26535988e+02, 3.32697044e+02, 3.38858100e+02,\n",
       "        3.45019157e+02, 3.51180213e+02, 3.57341270e+02, 3.63502326e+02,\n",
       "        3.69663382e+02, 3.75824439e+02, 3.81985495e+02, 3.88146551e+02,\n",
       "        3.94307608e+02, 4.00468664e+02, 4.06629721e+02, 4.12790777e+02,\n",
       "        4.18951833e+02, 4.25112890e+02, 4.31273946e+02, 4.37435002e+02,\n",
       "        4.43596059e+02, 4.49757115e+02, 4.55918171e+02, 4.62079228e+02,\n",
       "        4.68240284e+02, 4.74401341e+02, 4.80562397e+02, 4.86723453e+02,\n",
       "        4.92884510e+02, 4.99045566e+02, 5.05206622e+02, 5.11367679e+02,\n",
       "        5.17528735e+02, 5.23689792e+02, 5.29850848e+02, 5.36011904e+02,\n",
       "        5.42172961e+02, 5.48334017e+02, 5.54495073e+02, 5.60656130e+02,\n",
       "        5.66817186e+02, 5.72978243e+02, 5.79139299e+02, 5.85300355e+02,\n",
       "        5.91461412e+02, 5.97622468e+02, 6.03783524e+02, 6.09944581e+02,\n",
       "        6.16105637e+02]),\n",
       " <BarContainer object of 100 artists>)"
      ]
     },
     "execution_count": 133,
     "metadata": {},
     "output_type": "execute_result"
    },
    {
     "data": {
      "image/png": "[encoded data removed]",
      "text/plain": [
       "<Figure size 432x288 with 1 Axes>"
      ]
     },
     "metadata": {
      "needs_background": "light"
     },
     "output_type": "display_data"
    }
   ],
   "source": [
    "plt.hist(distances[26379:], bins = 100)"
   ]
  },
  {
   "cell_type": "code",
   "execution_count": null,
   "metadata": {},
   "outputs": [],
   "source": [
    "cut_off = 10**-2\n",
    "removed = {}         #kept and ones that will be combined into the other\n",
    "rearranged = {}      #which one to be combined into\n",
    "\n",
    "for i in range(len(LOCATIONS)-1):\n",
    "    if i not in rearranged.keys():\n",
    "        removed[i] = set()\n",
    "        for j in range(i+1, len(LOCATIONS)):\n",
    "            if j not in rearranged.keys():\n",
    "                if calculate_distance(i, j) < cut_off:\n",
    "                    removed[i].add(j)\n",
    "                    rearranged[j] = i\n",
    "\n",
    "print(len([i for i in removed.keys() if len(removed[i])!=0]))\n",
    "\n",
    "import json\n",
    "\n",
    "with open('parsing_removal.json', 'w') as f:\n",
    "    removed2 = {i: list(v) for i,v in removed.items()}\n",
    "    data = {\"removed\": removed2, \"rearranged\": rearranged}\n",
    "    json.dump(data, f)"
   ]
  },
  {
   "cell_type": "code",
   "execution_count": null,
   "metadata": {},
   "outputs": [],
   "source": [
    "LOCATIONS_no_duplicates = {}\n",
    "count = 0\n",
    "for i in LOCATIONS.keys():\n",
    "    if i not in rearranged.keys():\n",
    "        new_pid = set(LOCATINS[i]['pid'])\n",
    "        for other in removed[i]:\n",
    "            new_pid = new_pid.union(LOCATIONS[other]['pid'])\n",
    "        LOCATIONS_no_duplicates[count] = {'lid': LOCATIONS[i]['lid'],\n",
    "                                         'longitude': LOCATIONS[i]['longitude'],\n",
    "                                         'latitude': LOCATIONS[i]['latitude'],\n",
    "                                         'activity': len(new_pid),\n",
    "                                         'pid': list(new_pid)}\n",
    "        count += 1"
   ]
  },
  {
   "cell_type": "code",
   "execution_count": null,
   "metadata": {},
   "outputs": [],
   "source": [
    "CLIENT_LOCATIONS_no_duplicates = {}\n",
    "for p in CLIENT_LOCATIONS.keys():\n",
    "    new_lid = []\n",
    "    for loc in CLIENT_LOCATIONS[p]['lid']:\n",
    "        if loc not in rearranged:\n",
    "            new_lid.append(loc)\n",
    "        else:\n",
    "            new_lid.append(rearranged[loc])\n",
    "    CLIENT_LOCATIONS_no_duplicates[p] = {'pid': CLIENT_LOCATIONS[p]['pid'],\n",
    "                                                'lid': new_lid}"
   ]
  },
  {
   "cell_type": "code",
   "execution_count": 4,
   "metadata": {},
   "outputs": [
    {
     "data": {
      "image/png": "[encoded data removed]",
      "text/plain": [
       "<Figure size 432x288 with 1 Axes>"
      ]
     },
     "metadata": {
      "needs_background": "light"
     },
     "output_type": "display_data"
    }
   ],
   "source": [
    "import json\n",
    "filenames = ['fpt_exp_52.json', 'fpt_exp_102.json', 'fpt_exp_152.json', 'fpt_exp_202.json', 'fpt_exp_252.json']\n",
    "#filenames = filenames[:2]\n",
    "for name in filenames:\n",
    "    file = open(name, 'r')\n",
    "    data = json.load(file)\n",
    "    assignments = data[\"assignments\"]\n",
    "    x = []\n",
    "    y = []\n",
    "    for i in range(0, 101, 1):\n",
    "        x.append(i/100)\n",
    "        y.append(calculate_percentile_objective(assignments, i/100))\n",
    "    plt.plot(x, y, label = name[name.rindex('_')+1:name.rindex('2')])\n",
    "    plt.xlabel(\"Percentage of Clients Covered\")\n",
    "    plt.ylabel(\"Objective Value\")\n",
    "    plt.legend()\n",
    "plt.savefig('FPT_experiment_s_complete', dpi = 500)"
   ]
  },
  {
   "cell_type": "code",
   "execution_count": 174,
   "metadata": {},
   "outputs": [
    {
     "data": {
      "image/png": "[encoded data removed]",
      "text/plain": [
       "<Figure size 432x288 with 4 Axes>"
      ]
     },
     "metadata": {
      "needs_background": "light"
     },
     "output_type": "display_data"
    }
   ],
   "source": [
    "filenames = ['fpt_exp_52.json', 'fpt_exp_102.json', 'fpt_exp_152.json', 'fpt_exp_202.json']\n",
    "#filenames = filenames[:2]\n",
    "fig, axs = plt.subplots(2, 2, sharex=True, sharey=True)\n",
    "axes = [axs[0,0], axs[0, 1], axs[1,0], axs[1,1]]\n",
    "colors = ['tab:blue', 'tab:orange', 'tab:red', 'tab:green']\n",
    "count = 0\n",
    "for name in filenames:\n",
    "    file = open(name, 'r')\n",
    "    data = json.load(file)\n",
    "    assignments = data[\"assignments\"]\n",
    "    x = []\n",
    "    y = []\n",
    "    for i in range(900, 1001, 1):\n",
    "        x.append(i/1000)\n",
    "        y.append(calculate_percentile_objective(assignments, i/1000))\n",
    "    axes[count].plot(x, y, colors[count])\n",
    "    axes[count].set_title(\"s = \" + name[name.rindex('_')+1:name.rindex('2')])\n",
    "    count+=1\n",
    "\n",
    "for ax in axs.flat:\n",
    "    ax.set(xlabel='Percentage of Clients Covered', ylabel='Objective Value')\n",
    "for ax in axs.flat:\n",
    "    ax.label_outer()\n",
    "\n",
    "plt.savefig('FPT_experiments_jump', dpi = 500)"
   ]
  },
  {
   "cell_type": "code",
   "execution_count": 173,
   "metadata": {},
   "outputs": [
    {
     "data": {
      "image/png": "[encoded data removed]",
      "text/plain": [
       "<Figure size 432x288 with 4 Axes>"
      ]
     },
     "execution_count": 173,
     "metadata": {},
     "output_type": "execute_result"
    }
   ],
   "source": [
    "axes[0].set_xlim(0.9, 1)\n",
    "fig"
   ]
  },
  {
   "cell_type": "code",
   "execution_count": 7,
   "metadata": {},
   "outputs": [
    {
     "name": "stdout",
     "output_type": "stream",
     "text": [
      "{'lid': 133554, 'longitude': -78.49711, 'latitude': 38.0312700000001, 'activity': 2987}\n",
      "{'lid': 108330, 'longitude': -78.48365, 'latitude': 38.02381, 'activity': 2834}\n",
      "{'lid': 18451, 'longitude': -78.48595, 'latitude': 38.06474, 'activity': 2578}\n",
      "{'lid': 77571, 'longitude': -78.503428, 'latitude': 38.035665, 'activity': 2440}\n"
     ]
    }
   ],
   "source": [
    "for i in range(21, 25):\n",
    "    print(LOCATIONS[i])"
   ]
  },
  {
   "cell_type": "code",
   "execution_count": 8,
   "metadata": {},
   "outputs": [
    {
     "name": "stdout",
     "output_type": "stream",
     "text": [
      "1.4415428683188627\n",
      "3.8478601650215354\n",
      "0.7382580938993152\n",
      "4.555669251150472\n",
      "2.176826177446299\n",
      "3.5769356764627287\n"
     ]
    }
   ],
   "source": [
    "for i in range(21, 25):\n",
    "    for j in range(i, 25):\n",
    "        if i!= j:\n",
    "            print(calculate_distance(i, j))"
   ]
  },
  {
   "cell_type": "code",
   "execution_count": 16,
   "metadata": {},
   "outputs": [
    {
     "name": "stdout",
     "output_type": "stream",
     "text": [
      "28780\n"
     ]
    }
   ],
   "source": [
    "client_locations = []\n",
    "for c in CLIENT_LOCATIONS.values():\n",
    "    new_c = []\n",
    "    for loc in c['lid']:\n",
    "        if loc < 25:\n",
    "            new_c.append(loc)\n",
    "    if len(new_c)!= 0:\n",
    "        client_locations.append(new_c)\n",
    "\n",
    "print(len(client_locations))"
   ]
  },
  {
   "cell_type": "code",
   "execution_count": 20,
   "metadata": {},
   "outputs": [
    {
     "name": "stdout",
     "output_type": "stream",
     "text": [
      "27437\n"
     ]
    }
   ],
   "source": [
    "client_locations2 = []\n",
    "for c in CLIENT_LOCATIONS.values():\n",
    "    new_c = []\n",
    "    for loc in c['lid']:\n",
    "        if loc < 21:\n",
    "            new_c.append(loc)\n",
    "    if len(new_c)!= 0:\n",
    "        client_locations2.append(new_c)\n",
    "\n",
    "print(len(client_locations2))"
   ]
  },
  {
   "cell_type": "code",
   "execution_count": 22,
   "metadata": {},
   "outputs": [
    {
     "data": {
      "text/plain": [
       "12615"
      ]
     },
     "execution_count": 22,
     "metadata": {},
     "output_type": "execute_result"
    }
   ],
   "source": [
    "len(set([frozenset(i) for i in client_locations]))"
   ]
  },
  {
   "cell_type": "code",
   "execution_count": 23,
   "metadata": {},
   "outputs": [
    {
     "data": {
      "text/plain": [
       "9815"
      ]
     },
     "execution_count": 23,
     "metadata": {},
     "output_type": "execute_result"
    }
   ],
   "source": [
    "len(set([frozenset(i) for i in client_locations2]))"
   ]
  },
  {
   "cell_type": "code",
   "execution_count": 26,
   "metadata": {},
   "outputs": [
    {
     "name": "stdout",
     "output_type": "stream",
     "text": [
      "(0.8172844264054779, (77, 4, 14))\n"
     ]
    }
   ],
   "source": [
    "G, loc_map, c_loc_map = precompute_distances(client_locations, [0, 3, 5, 9, 14])\n",
    "def assign_client_facilities2(G: List[List[int]], loc_map: Dict[int, int], c_loc_map: Dict[int, int], client_locations: List[List[int]], facilities: List[int]):\n",
    "    if len(facilities) == 0: return []\n",
    "    obj_val: int = 0\n",
    "    problematic_client = tuple()\n",
    "    \n",
    "    for ind in range(len(client_locations)):\n",
    "        possible_assignments = [(G[loc_map[fac]][c_loc_map[loc]], ind, loc, fac) for loc in client_locations[ind] for fac in facilities]\n",
    "        \n",
    "        min_loc = min(possible_assignments)\n",
    "        if min_loc[0] > obj_val:\n",
    "            obj_val = min_loc[0]\n",
    "            problematic_client = (min_loc[1], min_loc[2], min_loc[3])\n",
    "   \n",
    "    return obj_val, problematic_client\n",
    "\n",
    "print(assign_client_facilities2(G, loc_map, c_loc_map, client_locations2, [0, 3, 5, 9, 14]))"
   ]
  },
  {
   "cell_type": "code",
   "execution_count": 5,
   "metadata": {},
   "outputs": [
    {
     "name": "stdout",
     "output_type": "stream",
     "text": [
      "Collecting joblib\n",
      "  Downloading joblib-1.0.1-py3-none-any.whl (303 kB)\n",
      "\u001b[K     |████████████████████████████████| 303 kB 22.2 MB/s eta 0:00:01\n",
      "\u001b[?25hInstalling collected packages: joblib\n",
      "Successfully installed joblib-1.0.1\n",
      "Note: you may need to restart the kernel to use updated packages.\n"
     ]
    }
   ],
   "source": [
    "%pip install joblib"
   ]
  },
  {
   "cell_type": "code",
   "execution_count": 4,
   "metadata": {},
   "outputs": [
    {
     "name": "stdin",
     "output_type": "stream",
     "text": [
      "Once deleted, variables cannot be recovered. Proceed (y/[n])?  y\n"
     ]
    }
   ],
   "source": [
    "%reset"
   ]
  },
  {
   "cell_type": "code",
   "execution_count": 5,
   "metadata": {},
   "outputs": [
    {
     "data": {
      "text/plain": [
       "[]"
      ]
     },
     "execution_count": 5,
     "metadata": {},
     "output_type": "execute_result"
    },
    {
     "data": {
      "image/png": "[encoded data removed]",
      "text/plain": [
       "<Figure size 432x288 with 1 Axes>"
      ]
     },
     "metadata": {
      "needs_background": "light"
     },
     "output_type": "display_data"
    }
   ],
   "source": [
    "df_activity = pd.read_csv(\"usa_va_charlottesville_city_activity_locations.csv\").rename({\"alid\": \"lid\"}, axis = 'columns')\n",
    "df_residence = pd.read_csv(\"usa_va_charlottesville_city_residence_locations.csv\")\n",
    "\n",
    "#Shift the residence lid\n",
    "df_residence['lid'] = df_residence['rlid'] + HOME_SHIFT\n",
    "locations = pd.concat([df_activity[['lid', 'longitude', 'latitude']], df_residence[['lid', 'longitude', 'latitude']]]).reset_index(drop = True)\n",
    "\n",
    "#Read in the client visited locations data (adults only for now)\n",
    "client_locations = pd.read_csv(\"usa_va_charlottesville_city_adult_activity_location_assignment_week.csv\")\n",
    "\n",
    "#Get the coordinates of all the residential locations\n",
    "home_coords = set(df_residence[['latitude', 'longitude']].apply(tuple, axis=1).tolist())\n",
    "\n",
    "#Shift lids for residential areas\n",
    "client_locations['coord'] = client_locations[['latitude', 'longitude']].apply(lambda x: (x.latitude, x.longitude), axis = 1)\n",
    "client_locations.loc[client_locations.coord.isin(home_coords), 'lid'] += HOME_SHIFT\n",
    "\n",
    "#Popularity of locations, which locations are visited by which individuals\n",
    "assignments = client_locations.copy()\n",
    "assignments = assignments.groupby(['lid'])['hid'].apply(set).reset_index(name = 'hid')\n",
    "assignments = assignments.set_index('lid')\n",
    "assignments['activity'] = assignments['hid'].apply(lambda x: len(x))\n",
    "\n",
    "locations['activity'] = locations['lid'].apply(lambda x: assignments.at[x, 'activity'] if x in assignments.index else 0)\n",
    "locations = locations.sort_values(by = 'activity', ascending = False).reset_index(drop = True)\n",
    "\n",
    "client_locations = client_locations.groupby(['hid'])['lid'].apply(set).reset_index(name = 'lid')\n",
    "\n",
    "#Replace lid with the index of the lid in locations\n",
    "def filter(x):\n",
    "    return_list = []\n",
    "    for i in x:\n",
    "        #Insert home locations at the front of the list\n",
    "        if (i>HOME_SHIFT):\n",
    "            return_list.insert(0, locations.loc[locations.lid==i].index[0])\n",
    "        else:\n",
    "            return_list.append(locations.loc[locations.lid==i].index[0])\n",
    "    return return_list\n",
    "\n",
    "client_locations['lid'] = client_locations['lid'].apply(lambda x: filter(x))\n",
    "\n",
    "client_locations['act'] = client_locations['lid'].apply(lambda x: len(x))\n",
    "plt.hist(client_locations.act.tolist(), bins = 50)\n",
    "plt.plot()"
   ]
  },
  {
   "cell_type": "code",
   "execution_count": 6,
   "metadata": {},
   "outputs": [
    {
     "data": {
      "text/plain": [
       "[<matplotlib.lines.Line2D at 0x7fe9dbc6b640>]"
      ]
     },
     "execution_count": 6,
     "metadata": {},
     "output_type": "execute_result"
    },
    {
     "data": {
      "image/png": "[encoded data removed]",
      "text/plain": [
       "<Figure size 432x288 with 1 Axes>"
      ]
     },
     "metadata": {
      "needs_background": "light"
     },
     "output_type": "display_data"
    }
   ],
   "source": [
    "plot_x = []\n",
    "plot_y = []\n",
    "\n",
    "total_clients = len(client_locations)\n",
    "\n",
    "for i in range(0, 102, 2):\n",
    "    number_selected = i\n",
    "    covered = set()\n",
    "\n",
    "    #print(locations[:number_selected].lid)\n",
    "    for ind in range(i):\n",
    "        loc = locations.at[ind, 'lid']\n",
    "        if loc in assignments.index:\n",
    "            covered = covered.union(assignments.at[loc, 'hid'])\n",
    "    \n",
    "    plot_x.append(i)\n",
    "    plot_y.append(len(covered)/total_clients)\n",
    "\n",
    "plt.plot(plot_x, plot_y)"
   ]
  },
  {
   "cell_type": "code",
   "execution_count": 11,
   "metadata": {},
   "outputs": [
    {
     "name": "stdout",
     "output_type": "stream",
     "text": [
      "100 0.9923813670004353\n"
     ]
    }
   ],
   "source": [
    "print(plot_x[50], plot_y[50])"
   ]
  },
  {
   "cell_type": "code",
   "execution_count": 6,
   "metadata": {},
   "outputs": [
    {
     "name": "stdout",
     "output_type": "stream",
     "text": [
      "10 23821\n",
      "Number of variables = 525001\n",
      "Number of constraints = 1073802\n"
     ]
    },
    {
     "ename": "KeyboardInterrupt",
     "evalue": "",
     "output_type": "error",
     "traceback": [
      "\u001b[0;31m---------------------------------------------------------------------------\u001b[0m",
      "\u001b[0;31mKeyboardInterrupt\u001b[0m                         Traceback (most recent call last)",
      "\u001b[0;32m<ipython-input-6-28f96d7e2c68>\u001b[0m in \u001b[0;36m<module>\u001b[0;34m\u001b[0m\n\u001b[0;32m----> 1\u001b[0;31m \u001b[0mX_ind\u001b[0m\u001b[0;34m,\u001b[0m \u001b[0mY_ind\u001b[0m \u001b[0;34m=\u001b[0m \u001b[0mindependent_LP\u001b[0m\u001b[0;34m(\u001b[0m\u001b[0;36m5\u001b[0m\u001b[0;34m)\u001b[0m\u001b[0;34m\u001b[0m\u001b[0;34m\u001b[0m\u001b[0m\n\u001b[0m\u001b[1;32m      2\u001b[0m \u001b[0mprint\u001b[0m\u001b[0;34m(\u001b[0m\u001b[0mX_ind\u001b[0m\u001b[0;34m)\u001b[0m\u001b[0;34m\u001b[0m\u001b[0;34m\u001b[0m\u001b[0m\n\u001b[1;32m      3\u001b[0m \u001b[0mprint\u001b[0m\u001b[0;34m(\u001b[0m\u001b[0;34m\"Recalculated Objective Value: \\t\"\u001b[0m \u001b[0;34m+\u001b[0m \u001b[0mstr\u001b[0m\u001b[0;34m(\u001b[0m\u001b[0mcalculate_objective\u001b[0m\u001b[0;34m(\u001b[0m\u001b[0mY_ind\u001b[0m\u001b[0;34m)\u001b[0m\u001b[0;34m)\u001b[0m\u001b[0;34m)\u001b[0m\u001b[0;34m\u001b[0m\u001b[0;34m\u001b[0m\u001b[0m\n",
      "\u001b[0;32m/sfs/qumulo/qhome/al7gc/Mobile-Facility/heuristics.py\u001b[0m in \u001b[0;36mindependent_LP\u001b[0;34m(k)\u001b[0m\n\u001b[1;32m     36\u001b[0m     \u001b[0mmy_lp\u001b[0m \u001b[0;34m=\u001b[0m \u001b[0mLP\u001b[0m\u001b[0;34m(\u001b[0m\u001b[0mlist\u001b[0m\u001b[0;34m(\u001b[0m\u001b[0mpotential_facility_locations\u001b[0m\u001b[0;34m)\u001b[0m\u001b[0;34m,\u001b[0m \u001b[0mclient_locations\u001b[0m\u001b[0;34m,\u001b[0m \u001b[0mk\u001b[0m\u001b[0;34m)\u001b[0m\u001b[0;34m\u001b[0m\u001b[0;34m\u001b[0m\u001b[0m\n\u001b[1;32m     37\u001b[0m     \u001b[0mmy_lp\u001b[0m\u001b[0;34m.\u001b[0m\u001b[0msolve_lp\u001b[0m\u001b[0;34m(\u001b[0m\u001b[0;34m)\u001b[0m\u001b[0;34m\u001b[0m\u001b[0;34m\u001b[0m\u001b[0m\n\u001b[0;32m---> 38\u001b[0;31m     \u001b[0mX\u001b[0m\u001b[0;34m,\u001b[0m \u001b[0mY\u001b[0m \u001b[0;34m=\u001b[0m \u001b[0mmy_lp\u001b[0m\u001b[0;34m.\u001b[0m\u001b[0mget_variable_solution\u001b[0m\u001b[0;34m(\u001b[0m\u001b[0;34m)\u001b[0m\u001b[0;34m\u001b[0m\u001b[0;34m\u001b[0m\u001b[0m\n\u001b[0m\u001b[1;32m     39\u001b[0m \u001b[0;34m\u001b[0m\u001b[0m\n\u001b[1;32m     40\u001b[0m     \u001b[0mX_index_map\u001b[0m \u001b[0;34m=\u001b[0m \u001b[0;34m{\u001b[0m\u001b[0;34m}\u001b[0m\u001b[0;34m\u001b[0m\u001b[0;34m\u001b[0m\u001b[0m\n",
      "\u001b[0;32m/sfs/qumulo/qhome/al7gc/Mobile-Facility/problem.py\u001b[0m in \u001b[0;36msolve_lp\u001b[0;34m(self)\u001b[0m\n\u001b[1;32m    107\u001b[0m         \u001b[0mprint\u001b[0m\u001b[0;34m(\u001b[0m\u001b[0;34m'Number of constraints ='\u001b[0m\u001b[0;34m,\u001b[0m \u001b[0mself\u001b[0m\u001b[0;34m.\u001b[0m\u001b[0msolver\u001b[0m\u001b[0;34m.\u001b[0m\u001b[0mNumConstraints\u001b[0m\u001b[0;34m(\u001b[0m\u001b[0;34m)\u001b[0m\u001b[0;34m)\u001b[0m\u001b[0;34m\u001b[0m\u001b[0;34m\u001b[0m\u001b[0m\n\u001b[1;32m    108\u001b[0m \u001b[0;34m\u001b[0m\u001b[0m\n\u001b[0;32m--> 109\u001b[0;31m     \u001b[0;32mdef\u001b[0m \u001b[0minit_objective\u001b[0m\u001b[0;34m(\u001b[0m\u001b[0mself\u001b[0m\u001b[0;34m)\u001b[0m\u001b[0;34m:\u001b[0m\u001b[0;34m\u001b[0m\u001b[0;34m\u001b[0m\u001b[0m\n\u001b[0m\u001b[1;32m    110\u001b[0m         \"\"\"\n\u001b[1;32m    111\u001b[0m         \u001b[0mk\u001b[0m\u001b[0;34m-\u001b[0m\u001b[0mcenter\u001b[0m \u001b[0mobjective\u001b[0m \u001b[0mto\u001b[0m \u001b[0mminimize\u001b[0m \u001b[0mthe\u001b[0m \u001b[0mmaximum\u001b[0m \u001b[0mdistance\u001b[0m \u001b[0many\u001b[0m \u001b[0mclient\u001b[0m \u001b[0mtravels\u001b[0m\u001b[0;34m\u001b[0m\u001b[0;34m\u001b[0m\u001b[0m\n",
      "\u001b[0;32m~/.conda/envs/facility/lib/python3.9/site-packages/ortools/linear_solver/pywraplp.py\u001b[0m in \u001b[0;36mSolve\u001b[0;34m(self, *args)\u001b[0m\n\u001b[1;32m    292\u001b[0m         \u001b[0mSolves\u001b[0m \u001b[0mthe\u001b[0m \u001b[0mproblem\u001b[0m \u001b[0musing\u001b[0m \u001b[0mthe\u001b[0m \u001b[0mspecified\u001b[0m \u001b[0mparameter\u001b[0m \u001b[0mvalues\u001b[0m\u001b[0;34m.\u001b[0m\u001b[0;34m\u001b[0m\u001b[0;34m\u001b[0m\u001b[0m\n\u001b[1;32m    293\u001b[0m         \"\"\"\n\u001b[0;32m--> 294\u001b[0;31m         \u001b[0;32mreturn\u001b[0m \u001b[0m_pywraplp\u001b[0m\u001b[0;34m.\u001b[0m\u001b[0mSolver_Solve\u001b[0m\u001b[0;34m(\u001b[0m\u001b[0mself\u001b[0m\u001b[0;34m,\u001b[0m \u001b[0;34m*\u001b[0m\u001b[0margs\u001b[0m\u001b[0;34m)\u001b[0m\u001b[0;34m\u001b[0m\u001b[0;34m\u001b[0m\u001b[0m\n\u001b[0m\u001b[1;32m    295\u001b[0m \u001b[0;34m\u001b[0m\u001b[0m\n\u001b[1;32m    296\u001b[0m     \u001b[0;32mdef\u001b[0m \u001b[0mComputeConstraintActivities\u001b[0m\u001b[0;34m(\u001b[0m\u001b[0mself\u001b[0m\u001b[0;34m)\u001b[0m \u001b[0;34m->\u001b[0m \u001b[0;34m\"std::vector< double >\"\u001b[0m\u001b[0;34m:\u001b[0m\u001b[0;34m\u001b[0m\u001b[0;34m\u001b[0m\u001b[0m\n",
      "\u001b[0;31mKeyboardInterrupt\u001b[0m: "
     ]
    }
   ],
   "source": [
    "X_ind, Y_ind = independent_LP(5)\n",
    "print(X_ind)\n",
    "print(\"Recalculated Objective Value: \\t\" + str(calculate_objective(Y_ind)))"
   ]
  },
  {
   "cell_type": "code",
   "execution_count": 7,
   "metadata": {},
   "outputs": [
    {
     "name": "stdout",
     "output_type": "stream",
     "text": [
      "   lid  longitude  latitude\n",
      "0   15  -78.43559  38.13181\n",
      "1   16  -77.96971  38.48384\n",
      "2   71  -77.48025  37.57647\n",
      "3   88  -78.47990  38.07682\n",
      "4   89  -78.46760  38.04057\n"
     ]
    }
   ],
   "source": [
    "df_activity = pd.read_csv(\"usa_va_charlottesville_city_activity_locations.csv\").rename({\"alid\": \"lid\"}, axis = 'columns')\n",
    "df_residence = pd.read_csv(\"usa_va_charlottesville_city_residence_locations.csv\")\n",
    "\n",
    "#Shift the residence lid\n",
    "df_residence['lid'] = df_residence['rlid'] + HOME_SHIFT\n",
    "locations = pd.concat([df_activity[['lid', 'longitude', 'latitude']], df_residence[['lid', 'longitude', 'latitude']]]).reset_index(drop = True)\n",
    "\n",
    "print(locations.head())"
   ]
  },
  {
   "cell_type": "code",
   "execution_count": 9,
   "metadata": {},
   "outputs": [
    {
     "name": "stdout",
     "output_type": "stream",
     "text": [
      "      lid  longitude  latitude  activity\n",
      "0   82889  -78.47261  38.05930      5609\n",
      "1   91203  -78.50246  38.03071      5547\n",
      "2  130369  -78.50059  38.03104      5485\n",
      "3   94144  -78.48789  38.06238      5485\n",
      "4  127361  -78.49865  38.03986      5470\n",
      "       pid                                                lid\n",
      "0  5586585  [9278, 405, 217, 246, 479, 23, 1777, 383, 345,...\n",
      "1  5586586  [9278, 60, 6062, 2143, 237, 554, 225, 190, 70,...\n",
      "2  5586591        [9395, 3, 333, 334, 14, 173, 179, 258, 431]\n",
      "3  5586592  [9395, 1, 7, 3394, 153, 46, 513, 5, 572, 468, ...\n",
      "4  5586593  [3692, 24, 725, 73, 629, 858, 237, 78, 347, 10...\n"
     ]
    }
   ],
   "source": [
    "def create_data_input():\n",
    "    #Read in both the activity and residence locations\n",
    "    df_activity = pd.read_csv(\"usa_va_charlottesville_city_activity_locations.csv\").rename({\"alid\": \"lid\"}, axis = 'columns')\n",
    "    df_residence = pd.read_csv(\"usa_va_charlottesville_city_residence_locations.csv\")\n",
    "\n",
    "    #Shift the residence lid\n",
    "    df_residence['lid'] = df_residence['rlid'] + HOME_SHIFT\n",
    "    locations = pd.concat([df_activity[['lid', 'longitude', 'latitude']], df_residence[['lid', 'longitude', 'latitude']]]).reset_index(drop = True)\n",
    "\n",
    "    #Read in the client visited locations data (adults only for now)\n",
    "    client_locations = pd.read_csv(\"usa_va_charlottesville_city_adult_activity_location_assignment_week.csv\")\n",
    "\n",
    "    #Get the coordinates of all the residential locations\n",
    "    home_coords = set(df_residence[['latitude', 'longitude']].apply(tuple, axis=1).tolist())\n",
    "\n",
    "    #Shift lids for residential areas\n",
    "    client_locations['coord'] = client_locations[['latitude', 'longitude']].apply(lambda x: (x.latitude, x.longitude), axis = 1)\n",
    "    client_locations.loc[client_locations.coord.isin(home_coords), 'lid'] += HOME_SHIFT\n",
    "    \n",
    "    #Find popularity of locations, which locations are visited by which individuals\n",
    "    assignments = client_locations.copy()\n",
    "    assignments = assignments.groupby(['lid'])['pid'].apply(set).reset_index(name = 'pid')\n",
    "    assignments = assignments.set_index('lid')\n",
    "    assignments['activity'] = assignments['pid'].apply(lambda x: len(x))\n",
    "\n",
    "    locations['activity'] = locations['lid'].apply(lambda x: assignments.at[x, 'activity'] if x in assignments.index else 0)\n",
    "    locations = locations.sort_values(by = 'activity', ascending = False).reset_index(drop = True)\n",
    "\n",
    "    client_locations = client_locations.groupby(['pid'])['lid'].apply(set).reset_index(name = 'lid')\n",
    "\n",
    "    #Replace lid with the index of the lid in locations\n",
    "    def filter(x):\n",
    "        return_list = []\n",
    "        for i in x:\n",
    "        #Insert home locations at the front of the list\n",
    "            if (i>HOME_SHIFT):\n",
    "                return_list.insert(0, locations.loc[locations.lid==i].index[0])\n",
    "            else:\n",
    "                return_list.append(locations.loc[locations.lid==i].index[0])\n",
    "        return return_list\n",
    "\n",
    "    client_locations['lid'] = client_locations['lid'].apply(lambda x: filter(x))\n",
    "    \n",
    "    print(locations.head())\n",
    "    print(client_locations.head())\n",
    "    return locations.to_dict('index'), client_locations.to_dict('index')\n",
    "\n",
    "LOCATIONS, CLIENT_LOCATIONS = create_data_input()"
   ]
  },
  {
   "cell_type": "code",
   "execution_count": 6,
   "metadata": {},
   "outputs": [
    {
     "name": "stdout",
     "output_type": "stream",
     "text": [
      "The autoreload extension is already loaded. To reload it, use:\n",
      "  %reload_ext autoreload\n"
     ]
    }
   ],
   "source": [
    "%load_ext autoreload\n",
    "%autoreload 2\n",
    "\n",
    "from utils import *\n",
    "from heuristics import _k_supplier\n",
    "import geopy\n",
    "import math\n",
    "import time\n",
    "from joblib import Parallel, delayed\n",
    "\n",
    "def fpt2_parallel(k: int, s: int):\n",
    "    \"\"\"\n",
    "    Assumes the number of locations visited by clients is bounded by a constant\n",
    "    Run k-supplier on all combination sets of locations that will be covered by facilities. Select the guess and its open facilities with the smallest objective value.\n",
    "    \n",
    "    PARAMETERS\n",
    "    ----------\n",
    "    k : int\n",
    "        number of facilities to be opened\n",
    "    \n",
    "    RETURNS\n",
    "    ----------\n",
    "    facilities : List[int]\n",
    "        contains facility indices that are open\n",
    "    assignments : List[Tuple[int, int]]\n",
    "        visited location and facility assignment indexed by each client\n",
    "    \"\"\"\n",
    "    potential_facility_locations = list(range(s))\n",
    "    \n",
    "    #Remove homes from the client_location lists\n",
    "    #TODO: Perhaps create mapping for the indices of people before exclusion and after?\n",
    "    client_locations_excluded = []\n",
    "    for person in CLIENT_LOCATIONS.values():\n",
    "        new_list = [p for p in person['lid'][1:] if p in potential_facility_locations]\n",
    "        if len(new_list)>0:\n",
    "            client_locations_excluded.append(new_list)\n",
    "    \n",
    "    locations = [i for i in range(len(LOCATIONS)) if LOCATIONS[i]['lid'] < HOME_SHIFT]\n",
    "    \n",
    "    G, loc_map, c_loc_map = precompute_distances(client_locations_excluded, locations)\n",
    "    \n",
    "    def process(guess):\n",
    "        facilities = _k_supplier(list(guess), locations, k)\n",
    "        obj_value = assign_client_facilities2(G, loc_map, c_loc_map, client_locations_excluded, facilities)\n",
    "        \n",
    "        return obj_value, facilities\n",
    "\n",
    "    results = Parallel(n_jobs=40)(delayed(process)(guess) for guess in powerset(list(potential_facility_locations)))\n",
    "    \n",
    "    min_obj_guess: Tuple[int, List[int]] = min(results)\n",
    "    return min_obj_guess, assign_facilities(min_obj_guess[1])"
   ]
  },
  {
   "cell_type": "code",
   "execution_count": 7,
   "metadata": {},
   "outputs": [
    {
     "data": {
      "text/plain": [
       "((0.8172844264054779, [0, 3, 5, 9, 14]),\n",
       " [(3, 3),\n",
       "  (5, 5),\n",
       "  (3, 3),\n",
       "  (5, 5),\n",
       "  (24, 14),\n",
       "  (80, 9),\n",
       "  (21, 14),\n",
       "  (0, 0),\n",
       "  (76, 9),\n",
       "  (18, 14),\n",
       "  (99, 14),\n",
       "  (28, 14),\n",
       "  (12, 14),\n",
       "  (5, 5),\n",
       "  (96, 14),\n",
       "  (3, 3),\n",
       "  (13, 14),\n",
       "  (0, 0),\n",
       "  (18, 14),\n",
       "  (5, 5),\n",
       "  (16, 14),\n",
       "  (1996, 3),\n",
       "  (5, 5),\n",
       "  (14, 14),\n",
       "  (3, 3),\n",
       "  (156, 9),\n",
       "  (19, 14),\n",
       "  (13, 14),\n",
       "  (0, 0),\n",
       "  (0, 0),\n",
       "  (0, 0),\n",
       "  (797, 9),\n",
       "  (19, 14),\n",
       "  (5, 5),\n",
       "  (5, 5),\n",
       "  (0, 0),\n",
       "  (3, 3),\n",
       "  (0, 0),\n",
       "  (3, 3),\n",
       "  (5, 5),\n",
       "  (569, 14),\n",
       "  (3, 3),\n",
       "  (3, 3),\n",
       "  (3, 3),\n",
       "  (3, 3),\n",
       "  (19, 14),\n",
       "  (10, 9),\n",
       "  (0, 0),\n",
       "  (20, 14),\n",
       "  (19, 14),\n",
       "  (24, 14),\n",
       "  (19, 14),\n",
       "  (0, 0),\n",
       "  (5, 5),\n",
       "  (0, 0),\n",
       "  (5, 5),\n",
       "  (139, 5),\n",
       "  (8, 3),\n",
       "  (6, 3),\n",
       "  (701, 3),\n",
       "  (630, 3),\n",
       "  (101, 14),\n",
       "  (75, 3),\n",
       "  (9, 9),\n",
       "  (12, 14),\n",
       "  (5, 5),\n",
       "  (5, 5),\n",
       "  (76, 9),\n",
       "  (3, 3),\n",
       "  (94, 14),\n",
       "  (15, 14),\n",
       "  (157, 9),\n",
       "  (20, 14),\n",
       "  (0, 0),\n",
       "  (0, 0),\n",
       "  (13, 14),\n",
       "  (100, 9),\n",
       "  (14, 14),\n",
       "  (20, 14),\n",
       "  (0, 0),\n",
       "  (9, 9),\n",
       "  (10, 9),\n",
       "  (20, 14),\n",
       "  (0, 0),\n",
       "  (80, 9),\n",
       "  (5, 5),\n",
       "  (3, 3),\n",
       "  (44, 9),\n",
       "  (14, 14),\n",
       "  (9, 9),\n",
       "  (92, 14),\n",
       "  (228, 3),\n",
       "  (44, 9),\n",
       "  (30, 3),\n",
       "  (992, 14),\n",
       "  (18, 14),\n",
       "  (0, 0),\n",
       "  (192, 9),\n",
       "  (0, 0),\n",
       "  (5, 5),\n",
       "  (5, 5),\n",
       "  (5, 5),\n",
       "  (0, 0),\n",
       "  (18, 14),\n",
       "  (477, 9),\n",
       "  (18, 14),\n",
       "  (44, 9),\n",
       "  (94, 14),\n",
       "  (301, 9),\n",
       "  (3, 3),\n",
       "  (3, 3),\n",
       "  (0, 0),\n",
       "  (9, 9),\n",
       "  (491, 14),\n",
       "  (16, 14),\n",
       "  (70, 14),\n",
       "  (3, 3),\n",
       "  (0, 0),\n",
       "  (2, 14),\n",
       "  (1, 14),\n",
       "  (33, 14),\n",
       "  (620, 14),\n",
       "  (94, 14),\n",
       "  (42, 14),\n",
       "  (0, 0),\n",
       "  (0, 0),\n",
       "  (18, 14),\n",
       "  (0, 0),\n",
       "  (9, 9),\n",
       "  (993, 3),\n",
       "  (3, 3),\n",
       "  (0, 0),\n",
       "  (20, 14),\n",
       "  (3, 3),\n",
       "  (3, 3),\n",
       "  (0, 0),\n",
       "  (127, 9),\n",
       "  (3, 3),\n",
       "  (1357, 5),\n",
       "  (14, 14),\n",
       "  (44, 9),\n",
       "  (167, 9),\n",
       "  (3, 3),\n",
       "  (3, 3),\n",
       "  (5, 5),\n",
       "  (28, 14),\n",
       "  (13, 14),\n",
       "  (9, 9),\n",
       "  (3, 3),\n",
       "  (30, 3),\n",
       "  (0, 0),\n",
       "  (17, 14),\n",
       "  (127, 9),\n",
       "  (3, 3),\n",
       "  (42, 14),\n",
       "  (3, 3),\n",
       "  (3, 3),\n",
       "  (5, 5),\n",
       "  (3, 3),\n",
       "  (12, 14),\n",
       "  (24, 14),\n",
       "  (91, 9),\n",
       "  (1052, 3),\n",
       "  (0, 0),\n",
       "  (3, 3),\n",
       "  (2, 14),\n",
       "  (3, 3),\n",
       "  (3, 3),\n",
       "  (1070, 14),\n",
       "  (3, 3),\n",
       "  (3, 3),\n",
       "  (5, 5),\n",
       "  (10, 9),\n",
       "  (18, 14),\n",
       "  (20, 14),\n",
       "  (6, 3),\n",
       "  (3, 3),\n",
       "  (24, 14),\n",
       "  (3, 3),\n",
       "  (12, 14),\n",
       "  (305, 9),\n",
       "  (14, 14),\n",
       "  (19, 14),\n",
       "  (2, 14),\n",
       "  (13, 14),\n",
       "  (162, 3),\n",
       "  (3, 3),\n",
       "  (5, 5),\n",
       "  (18, 14),\n",
       "  (17, 14),\n",
       "  (20, 14),\n",
       "  (43, 9),\n",
       "  (18, 14),\n",
       "  (19, 14),\n",
       "  (5, 5),\n",
       "  (10, 9),\n",
       "  (20, 14),\n",
       "  (933, 3),\n",
       "  (80, 9),\n",
       "  (0, 0),\n",
       "  (15, 14),\n",
       "  (20, 14),\n",
       "  (17, 14),\n",
       "  (3, 3),\n",
       "  (1013, 3),\n",
       "  (5, 5),\n",
       "  (799, 9),\n",
       "  (19, 14),\n",
       "  (3, 3),\n",
       "  (9, 9),\n",
       "  (9, 9),\n",
       "  (20, 14),\n",
       "  (10, 9),\n",
       "  (5, 5),\n",
       "  (14, 14),\n",
       "  (3, 3),\n",
       "  (9, 9),\n",
       "  (0, 0),\n",
       "  (0, 0),\n",
       "  (10, 9),\n",
       "  (569, 14),\n",
       "  (14, 14),\n",
       "  (20, 14),\n",
       "  (14, 14),\n",
       "  (14, 14),\n",
       "  (12, 14),\n",
       "  (0, 0),\n",
       "  (23, 3),\n",
       "  (3, 3),\n",
       "  (3, 3),\n",
       "  (691, 14),\n",
       "  (641, 0),\n",
       "  (790, 3),\n",
       "  (0, 0),\n",
       "  (0, 0),\n",
       "  (0, 0),\n",
       "  (5, 5),\n",
       "  (10, 9),\n",
       "  (3, 3),\n",
       "  (15, 14),\n",
       "  (9, 9),\n",
       "  (14, 14),\n",
       "  (24, 14),\n",
       "  (0, 0),\n",
       "  (13, 14),\n",
       "  (1280, 5),\n",
       "  (3, 3),\n",
       "  (14, 14),\n",
       "  (1, 14),\n",
       "  (13, 14),\n",
       "  (94, 14),\n",
       "  (297, 9),\n",
       "  (3, 3),\n",
       "  (365, 9),\n",
       "  (0, 0),\n",
       "  (43, 9),\n",
       "  (10, 9),\n",
       "  (5, 5),\n",
       "  (19, 14),\n",
       "  (10, 9),\n",
       "  (5, 5),\n",
       "  (9, 9),\n",
       "  (677, 3),\n",
       "  (185, 9),\n",
       "  (14, 14),\n",
       "  (297, 9),\n",
       "  (5, 5),\n",
       "  (6, 3),\n",
       "  (184, 9),\n",
       "  (0, 0),\n",
       "  (3, 3),\n",
       "  (5, 5),\n",
       "  (277, 9),\n",
       "  (0, 0),\n",
       "  (0, 0),\n",
       "  (5, 5),\n",
       "  (382, 9),\n",
       "  (33, 14),\n",
       "  (39, 9),\n",
       "  (0, 0),\n",
       "  (5, 5),\n",
       "  (5, 5),\n",
       "  (20, 14),\n",
       "  (5, 5),\n",
       "  (3, 3),\n",
       "  (465, 3),\n",
       "  (420, 3),\n",
       "  (17, 14),\n",
       "  (5, 5),\n",
       "  (21, 14),\n",
       "  (1, 14),\n",
       "  (0, 0),\n",
       "  (3, 3),\n",
       "  (1296, 9),\n",
       "  (0, 0),\n",
       "  (20, 14),\n",
       "  (3, 3),\n",
       "  (34, 14),\n",
       "  (10, 9),\n",
       "  (6, 3),\n",
       "  (173, 9),\n",
       "  (14, 14),\n",
       "  (101, 14),\n",
       "  (677, 3),\n",
       "  (5, 5),\n",
       "  (454, 3),\n",
       "  (101, 14),\n",
       "  (14, 14),\n",
       "  (0, 0),\n",
       "  (163, 14),\n",
       "  (17, 14),\n",
       "  (710, 5),\n",
       "  (0, 0),\n",
       "  (10, 9),\n",
       "  (119, 9),\n",
       "  (0, 0),\n",
       "  (42, 14),\n",
       "  (0, 0),\n",
       "  (17, 14),\n",
       "  (0, 0),\n",
       "  (10, 9),\n",
       "  (2, 14),\n",
       "  (3, 3),\n",
       "  (3, 3),\n",
       "  (24, 14),\n",
       "  (397, 14),\n",
       "  (15, 14),\n",
       "  (9, 9),\n",
       "  (0, 0),\n",
       "  (895, 3),\n",
       "  (5, 5),\n",
       "  (321, 9),\n",
       "  (280, 3),\n",
       "  (669, 3),\n",
       "  (2, 14),\n",
       "  (39, 9),\n",
       "  (94, 14),\n",
       "  (294, 9),\n",
       "  (0, 0),\n",
       "  (76, 9),\n",
       "  (22, 9),\n",
       "  (3, 3),\n",
       "  (5, 5),\n",
       "  (0, 0),\n",
       "  (3, 3),\n",
       "  (5, 5),\n",
       "  (24, 14),\n",
       "  (3, 3),\n",
       "  (5, 5),\n",
       "  (3, 3),\n",
       "  (91, 9),\n",
       "  (17, 14),\n",
       "  (5, 5),\n",
       "  (19, 14),\n",
       "  (5, 5),\n",
       "  (13, 14),\n",
       "  (3, 3),\n",
       "  (18, 14),\n",
       "  (18, 14),\n",
       "  (91, 9),\n",
       "  (11, 9),\n",
       "  (14, 14),\n",
       "  (0, 0),\n",
       "  (3, 3),\n",
       "  (13, 14),\n",
       "  (19, 14),\n",
       "  (3, 3),\n",
       "  (0, 0),\n",
       "  (0, 0),\n",
       "  (184, 9),\n",
       "  (6, 3),\n",
       "  (12, 14),\n",
       "  (17, 14),\n",
       "  (0, 0),\n",
       "  (3, 3),\n",
       "  (3, 3),\n",
       "  (1, 14),\n",
       "  (17, 14),\n",
       "  (10, 9),\n",
       "  (3, 3),\n",
       "  (3, 3),\n",
       "  (20, 14),\n",
       "  (9, 9),\n",
       "  (20, 14),\n",
       "  (3, 3),\n",
       "  (19, 14),\n",
       "  (737, 9),\n",
       "  (16, 14),\n",
       "  (933, 3),\n",
       "  (221, 3),\n",
       "  (5, 5),\n",
       "  (3, 3),\n",
       "  (20, 14),\n",
       "  (0, 0),\n",
       "  (3, 3),\n",
       "  (1105, 14),\n",
       "  (16, 14),\n",
       "  (0, 0),\n",
       "  (3, 3),\n",
       "  (9, 9),\n",
       "  (28, 14),\n",
       "  (2, 14),\n",
       "  (3, 3),\n",
       "  (0, 0),\n",
       "  (0, 0),\n",
       "  (37, 9),\n",
       "  (715, 3),\n",
       "  (92, 14),\n",
       "  (0, 0),\n",
       "  (44, 9),\n",
       "  (30, 3),\n",
       "  (2, 14),\n",
       "  (39, 9),\n",
       "  (44, 9),\n",
       "  (0, 0),\n",
       "  (96, 14),\n",
       "  (92, 14),\n",
       "  (15, 14),\n",
       "  (5, 5),\n",
       "  (10, 9),\n",
       "  (5, 5),\n",
       "  (96, 14),\n",
       "  (0, 0),\n",
       "  (0, 0),\n",
       "  (17, 14),\n",
       "  (13, 14),\n",
       "  (561, 14),\n",
       "  (99, 14),\n",
       "  (213, 9),\n",
       "  (0, 0),\n",
       "  (0, 0),\n",
       "  (1, 14),\n",
       "  (0, 0),\n",
       "  (14, 14),\n",
       "  (2198, 14),\n",
       "  (14, 14),\n",
       "  (14, 14),\n",
       "  (0, 0),\n",
       "  (0, 0),\n",
       "  (146, 9),\n",
       "  (5, 5),\n",
       "  (641, 0),\n",
       "  (99, 14),\n",
       "  (3, 3),\n",
       "  (3, 3),\n",
       "  (0, 0),\n",
       "  (43, 9),\n",
       "  (10, 9),\n",
       "  (34, 14),\n",
       "  (0, 0),\n",
       "  (5, 5),\n",
       "  (3, 3),\n",
       "  (5, 5),\n",
       "  (0, 0),\n",
       "  (18, 14),\n",
       "  (17, 14),\n",
       "  (70, 14),\n",
       "  (492, 9),\n",
       "  (42, 14),\n",
       "  (10, 9),\n",
       "  (24, 14),\n",
       "  (0, 0),\n",
       "  (15, 14),\n",
       "  (30, 3),\n",
       "  (0, 0),\n",
       "  (0, 0),\n",
       "  (5, 5),\n",
       "  (92, 14),\n",
       "  (15, 14),\n",
       "  (91, 9),\n",
       "  (5, 5),\n",
       "  (18, 14),\n",
       "  (0, 0),\n",
       "  (3, 3),\n",
       "  (392, 3),\n",
       "  (20, 14),\n",
       "  (24, 14),\n",
       "  (18, 14),\n",
       "  (101, 14),\n",
       "  (19, 14),\n",
       "  (8, 3),\n",
       "  (9, 9),\n",
       "  (295, 9),\n",
       "  (7, 0),\n",
       "  (0, 0),\n",
       "  (3, 3),\n",
       "  (42, 14),\n",
       "  (3, 3),\n",
       "  (10, 9),\n",
       "  (5, 5),\n",
       "  (0, 0),\n",
       "  (0, 0),\n",
       "  (19, 14),\n",
       "  (15, 14),\n",
       "  (2, 14),\n",
       "  (2, 14),\n",
       "  (23, 3),\n",
       "  (3, 3),\n",
       "  (1, 14),\n",
       "  (0, 0),\n",
       "  (0, 0),\n",
       "  (3, 3),\n",
       "  (14, 14),\n",
       "  (2, 14),\n",
       "  (3, 3),\n",
       "  (12, 14),\n",
       "  (17, 14),\n",
       "  (3, 3),\n",
       "  (10, 9),\n",
       "  (0, 0),\n",
       "  (15, 14),\n",
       "  (232, 9),\n",
       "  (3, 3),\n",
       "  (3, 3),\n",
       "  (179, 9),\n",
       "  (18, 14),\n",
       "  (20, 14),\n",
       "  (0, 0),\n",
       "  (76, 9),\n",
       "  (20, 14),\n",
       "  (91, 9),\n",
       "  (157, 9),\n",
       "  (0, 0),\n",
       "  (0, 0),\n",
       "  (0, 0),\n",
       "  (2, 14),\n",
       "  (3, 3),\n",
       "  (23, 3),\n",
       "  (1069, 3),\n",
       "  (202, 3),\n",
       "  (0, 0),\n",
       "  (0, 0),\n",
       "  (5, 5),\n",
       "  (2, 14),\n",
       "  (311, 9),\n",
       "  (3, 3),\n",
       "  (0, 0),\n",
       "  (17, 14),\n",
       "  (10, 9),\n",
       "  (30, 3),\n",
       "  (33, 14),\n",
       "  (5, 5),\n",
       "  (5, 5),\n",
       "  (13, 14),\n",
       "  (3, 3),\n",
       "  (16, 14),\n",
       "  (465, 3),\n",
       "  (18, 14),\n",
       "  (5, 5),\n",
       "  (101, 14),\n",
       "  (99, 14),\n",
       "  (96, 14),\n",
       "  (5, 5),\n",
       "  (5, 5),\n",
       "  (3, 3),\n",
       "  (5, 5),\n",
       "  (5, 5),\n",
       "  (0, 0),\n",
       "  (9, 9),\n",
       "  (3, 3),\n",
       "  (5, 5),\n",
       "  (3, 3),\n",
       "  (18, 14),\n",
       "  (70, 14),\n",
       "  (9, 9),\n",
       "  (0, 0),\n",
       "  (3, 3),\n",
       "  (19, 14),\n",
       "  (2, 14),\n",
       "  (0, 0),\n",
       "  (0, 0),\n",
       "  (0, 0),\n",
       "  (0, 0),\n",
       "  (44, 9),\n",
       "  (24, 14),\n",
       "  (365, 9),\n",
       "  (17, 14),\n",
       "  (3, 3),\n",
       "  (4003, 14),\n",
       "  (5, 5),\n",
       "  (28, 14),\n",
       "  (14, 14),\n",
       "  (179, 9),\n",
       "  (303, 5),\n",
       "  (44, 9),\n",
       "  (0, 0),\n",
       "  (0, 0),\n",
       "  (3, 3),\n",
       "  (0, 0),\n",
       "  (19, 14),\n",
       "  (92, 14),\n",
       "  (3, 3),\n",
       "  (10, 9),\n",
       "  (19, 14),\n",
       "  (0, 0),\n",
       "  (5, 5),\n",
       "  (7, 0),\n",
       "  (13, 14),\n",
       "  (0, 0),\n",
       "  (3, 3),\n",
       "  (0, 0),\n",
       "  (3, 3),\n",
       "  (598, 0),\n",
       "  (676, 3),\n",
       "  (9, 9),\n",
       "  (2, 14),\n",
       "  (18, 14),\n",
       "  (5, 5),\n",
       "  (20, 14),\n",
       "  (0, 0),\n",
       "  (0, 0),\n",
       "  (0, 0),\n",
       "  (43, 9),\n",
       "  (9, 9),\n",
       "  (14, 14),\n",
       "  (1055, 14),\n",
       "  (0, 0),\n",
       "  (80, 9),\n",
       "  (23, 3),\n",
       "  (0, 0),\n",
       "  (73, 3),\n",
       "  (927, 5),\n",
       "  (18, 14),\n",
       "  (14, 14),\n",
       "  (3, 3),\n",
       "  (0, 0),\n",
       "  (5, 5),\n",
       "  (5, 5),\n",
       "  (96, 14),\n",
       "  (2, 14),\n",
       "  (10, 9),\n",
       "  (16, 14),\n",
       "  (3, 3),\n",
       "  (0, 0),\n",
       "  (3, 3),\n",
       "  (1935, 14),\n",
       "  (96, 14),\n",
       "  (0, 0),\n",
       "  (9, 9),\n",
       "  (475, 9),\n",
       "  (13, 14),\n",
       "  (145, 9),\n",
       "  (10, 9),\n",
       "  (21, 14),\n",
       "  (9, 9),\n",
       "  (15, 14),\n",
       "  (523, 9),\n",
       "  (5, 5),\n",
       "  (20, 14),\n",
       "  (0, 0),\n",
       "  (0, 0),\n",
       "  (3, 3),\n",
       "  (0, 0),\n",
       "  (10, 9),\n",
       "  (1069, 3),\n",
       "  (23, 3),\n",
       "  (24, 14),\n",
       "  (5, 5),\n",
       "  (0, 0),\n",
       "  (18, 14),\n",
       "  (96, 14),\n",
       "  (101, 14),\n",
       "  (5, 5),\n",
       "  (10, 9),\n",
       "  (14, 14),\n",
       "  (18, 14),\n",
       "  (99, 14),\n",
       "  (9, 9),\n",
       "  (0, 0),\n",
       "  (0, 0),\n",
       "  (10, 9),\n",
       "  (9, 9),\n",
       "  (9, 9),\n",
       "  (21, 14),\n",
       "  (2, 14),\n",
       "  (9, 9),\n",
       "  (3, 3),\n",
       "  (202, 3),\n",
       "  (4, 14),\n",
       "  (701, 3),\n",
       "  (305, 9),\n",
       "  (0, 0),\n",
       "  (10, 9),\n",
       "  (17, 14),\n",
       "  (5, 5),\n",
       "  (3, 3),\n",
       "  (19, 14),\n",
       "  (5, 5),\n",
       "  (21, 14),\n",
       "  (56, 9),\n",
       "  (0, 0),\n",
       "  (3, 3),\n",
       "  (29, 9),\n",
       "  (2, 14),\n",
       "  (5, 5),\n",
       "  (80, 9),\n",
       "  (18, 14),\n",
       "  (96, 14),\n",
       "  (14, 14),\n",
       "  (20, 14),\n",
       "  (18, 14),\n",
       "  (30, 3),\n",
       "  (14, 14),\n",
       "  (967, 3),\n",
       "  (478, 14),\n",
       "  (14, 14),\n",
       "  (17, 14),\n",
       "  (5, 5),\n",
       "  (14, 14),\n",
       "  (16, 14),\n",
       "  (0, 0),\n",
       "  (0, 0),\n",
       "  (5, 5),\n",
       "  (9, 9),\n",
       "  (30, 3),\n",
       "  (10, 9),\n",
       "  (2164, 9),\n",
       "  (39, 9),\n",
       "  (99, 14),\n",
       "  (28, 14),\n",
       "  (9, 9),\n",
       "  (5, 5),\n",
       "  (391, 9),\n",
       "  (3, 3),\n",
       "  (312, 9),\n",
       "  (16, 14),\n",
       "  (3, 3),\n",
       "  (92, 14),\n",
       "  (22, 9),\n",
       "  (2, 14),\n",
       "  (0, 0),\n",
       "  (675, 3),\n",
       "  (3, 3),\n",
       "  (0, 0),\n",
       "  (0, 0),\n",
       "  (0, 0),\n",
       "  (271, 3),\n",
       "  (0, 0),\n",
       "  (0, 0),\n",
       "  (5, 5),\n",
       "  (14, 14),\n",
       "  (283, 9),\n",
       "  (5, 5),\n",
       "  (1208, 14),\n",
       "  (14, 14),\n",
       "  (5, 5),\n",
       "  (7, 0),\n",
       "  (357, 9),\n",
       "  (17, 14),\n",
       "  (3, 3),\n",
       "  (9, 9),\n",
       "  (3, 3),\n",
       "  (0, 0),\n",
       "  (18, 14),\n",
       "  (13, 14),\n",
       "  (9, 9),\n",
       "  (9859, 9),\n",
       "  (2, 14),\n",
       "  (0, 0),\n",
       "  (72, 3),\n",
       "  (187, 9),\n",
       "  (132, 9),\n",
       "  (3, 3),\n",
       "  (20, 14),\n",
       "  (3, 3),\n",
       "  (72, 3),\n",
       "  (9, 9),\n",
       "  (19, 14),\n",
       "  (569, 14),\n",
       "  (39, 9),\n",
       "  (20, 14),\n",
       "  (18, 14),\n",
       "  (2, 14),\n",
       "  (293, 9),\n",
       "  (0, 0),\n",
       "  (3, 3),\n",
       "  (3, 3),\n",
       "  (8, 3),\n",
       "  (133, 9),\n",
       "  (20, 14),\n",
       "  (19, 14),\n",
       "  (0, 0),\n",
       "  (0, 0),\n",
       "  (187, 9),\n",
       "  (18, 14),\n",
       "  (3, 3),\n",
       "  (19, 14),\n",
       "  (9, 9),\n",
       "  (3, 3),\n",
       "  (0, 0),\n",
       "  (3, 3),\n",
       "  (14, 14),\n",
       "  (9, 9),\n",
       "  (1, 14),\n",
       "  (12, 14),\n",
       "  (36, 9),\n",
       "  (562, 5),\n",
       "  (18, 14),\n",
       "  (701, 3),\n",
       "  (5, 5),\n",
       "  (0, 0),\n",
       "  (3, 3),\n",
       "  (92, 14),\n",
       "  (0, 0),\n",
       "  (0, 0),\n",
       "  (94, 14),\n",
       "  (799, 9),\n",
       "  (523, 9),\n",
       "  (101, 14),\n",
       "  (474, 14),\n",
       "  (3, 3),\n",
       "  (14, 14),\n",
       "  (5, 5),\n",
       "  (605, 9),\n",
       "  (14, 14),\n",
       "  (0, 0),\n",
       "  (0, 0),\n",
       "  (12, 14),\n",
       "  (3, 3),\n",
       "  (3, 3),\n",
       "  (0, 0),\n",
       "  (20, 14),\n",
       "  (2, 14),\n",
       "  (20, 14),\n",
       "  (19, 14),\n",
       "  (9, 9),\n",
       "  (96, 14),\n",
       "  (0, 0),\n",
       "  (43, 9),\n",
       "  (30, 3),\n",
       "  (5, 5),\n",
       "  (44, 9),\n",
       "  (0, 0),\n",
       "  (14, 14),\n",
       "  (14, 14),\n",
       "  (0, 0),\n",
       "  (895, 3),\n",
       "  (14, 14),\n",
       "  (10716, 14),\n",
       "  (94, 14),\n",
       "  (14, 14),\n",
       "  (23, 3),\n",
       "  (3, 3),\n",
       "  (9, 9),\n",
       "  (456, 14),\n",
       "  (167, 9),\n",
       "  (427, 14),\n",
       "  (1013, 3),\n",
       "  (10, 9),\n",
       "  (3, 3),\n",
       "  (309, 9),\n",
       "  (20, 14),\n",
       "  (96, 14),\n",
       "  (0, 0),\n",
       "  (3, 3),\n",
       "  (12, 14),\n",
       "  (5, 5),\n",
       "  (0, 0),\n",
       "  (0, 0),\n",
       "  (0, 0),\n",
       "  (2, 14),\n",
       "  (3, 3),\n",
       "  (79, 5),\n",
       "  (947, 3),\n",
       "  (2, 14),\n",
       "  (20, 14),\n",
       "  (682, 9),\n",
       "  (3, 3),\n",
       "  (10, 9),\n",
       "  (0, 0),\n",
       "  (43, 9),\n",
       "  (0, 0),\n",
       "  (378, 9),\n",
       "  (18, 14),\n",
       "  (3, 3),\n",
       "  (17, 14),\n",
       "  (0, 0),\n",
       "  (14, 14),\n",
       "  (30, 3),\n",
       "  (20, 14),\n",
       "  (0, 0),\n",
       "  (3, 3),\n",
       "  (3, 3),\n",
       "  (0, 0),\n",
       "  (3, 3),\n",
       "  (13, 14),\n",
       "  (3, 3),\n",
       "  (0, 0),\n",
       "  (3, 3),\n",
       "  (0, 0),\n",
       "  (6, 3),\n",
       "  (100, 9),\n",
       "  (14, 14),\n",
       "  (0, 0),\n",
       "  (91, 9),\n",
       "  (101, 14),\n",
       "  (3, 3),\n",
       "  (19, 14),\n",
       "  (17, 14),\n",
       "  (6, 3),\n",
       "  (3, 3),\n",
       "  (19, 14),\n",
       "  (10, 9),\n",
       "  (1057, 3),\n",
       "  (3, 3),\n",
       "  (5, 5),\n",
       "  (730, 9),\n",
       "  (72, 3),\n",
       "  (0, 0),\n",
       "  (3, 3),\n",
       "  (0, 0),\n",
       "  (5, 5),\n",
       "  (18, 14),\n",
       "  (1065, 14),\n",
       "  (427, 14),\n",
       "  (19, 14),\n",
       "  (910, 3),\n",
       "  (8, 3),\n",
       "  (75, 3),\n",
       "  (3, 3),\n",
       "  (15, 14),\n",
       "  (24, 14),\n",
       "  (12, 14),\n",
       "  (9, 9),\n",
       "  (3, 3),\n",
       "  (0, 0),\n",
       "  (0, 0),\n",
       "  (3, 3),\n",
       "  (0, 0),\n",
       "  (5, 5),\n",
       "  (92, 14),\n",
       "  (5, 5),\n",
       "  (7, 0),\n",
       "  (5, 5),\n",
       "  (13, 14),\n",
       "  (3, 3),\n",
       "  (28, 14),\n",
       "  (44, 9),\n",
       "  (9, 9),\n",
       "  (392, 3),\n",
       "  (3, 3),\n",
       "  (3, 3),\n",
       "  (5, 5),\n",
       "  (14, 14),\n",
       "  (3, 3),\n",
       "  (101, 14),\n",
       "  (5, 5),\n",
       "  (92, 14),\n",
       "  (0, 0),\n",
       "  (19, 14),\n",
       "  (620, 14),\n",
       "  (8, 3),\n",
       "  (5, 5),\n",
       "  (803, 3),\n",
       "  (0, 0),\n",
       "  (2, 14),\n",
       "  (497, 9),\n",
       "  (2, 14),\n",
       "  (19, 14),\n",
       "  (0, 0),\n",
       "  (20, 14),\n",
       "  (0, 0),\n",
       "  (3, 3),\n",
       "  (3, 3),\n",
       "  (14, 14),\n",
       "  (282, 9),\n",
       "  (3, 3),\n",
       "  (5, 5),\n",
       "  (30, 3),\n",
       "  (32, 9),\n",
       "  (14, 14),\n",
       "  (43, 9),\n",
       "  (2, 14),\n",
       "  (0, 0),\n",
       "  (99, 14),\n",
       "  (0, 0),\n",
       "  (18, 14),\n",
       "  (12, 14),\n",
       "  (1518, 3),\n",
       "  (18, 14),\n",
       "  (17, 14),\n",
       "  (0, 0),\n",
       "  (14, 14),\n",
       "  (326, 9),\n",
       "  (96, 14),\n",
       "  (10, 9),\n",
       "  (76, 9),\n",
       "  (4, 14),\n",
       "  (0, 0),\n",
       "  (3, 3),\n",
       "  (12, 14),\n",
       "  (42, 14),\n",
       "  (0, 0),\n",
       "  (3, 3),\n",
       "  (5, 5),\n",
       "  (80, 9),\n",
       "  (38, 9),\n",
       "  (3, 3),\n",
       "  (3, 3),\n",
       "  (3, 3),\n",
       "  ...])"
      ]
     },
     "execution_count": 7,
     "metadata": {},
     "output_type": "execute_result"
    }
   ],
   "source": [
    "fpt2_parallel(5, 20)"
   ]
  },
  {
   "cell_type": "code",
   "execution_count": 14,
   "metadata": {},
   "outputs": [
    {
     "name": "stdout",
     "output_type": "stream",
     "text": [
      "0.8172844264054779\n",
      "2.59960624010461\n"
     ]
    }
   ],
   "source": [
    "obj_facilities, assignments = _oh[7]\n",
    "print(obj_facilities[0])\n",
    "print(calculate_objective(assignments))"
   ]
  },
  {
   "cell_type": "code",
   "execution_count": 61,
   "metadata": {},
   "outputs": [
    {
     "name": "stdout",
     "output_type": "stream",
     "text": [
      "17.581087350845337\n"
     ]
    }
   ],
   "source": [
    "import time\n",
    "start = time.time()\n",
    "assign_2 = assign_facilities(obj_facilities[1])\n",
    "end = time.time()\n",
    "print(end-start)"
   ]
  },
  {
   "cell_type": "code",
   "execution_count": 69,
   "metadata": {},
   "outputs": [],
   "source": [
    "def calculate_percentile_objective(assignments: List[Tuple[int, int]], percentile: float) -> float:\n",
    "    \"\"\"\n",
    "    Calculates the maximum distance for any individual based on the assignments\n",
    "    \"\"\"\n",
    "    if len(assignments) == 0: return 0\n",
    "    \n",
    "    obj_val = sorted([calculate_distance(loc, fac) for loc, fac in assignments])\n",
    "    ind = math.floor(len(obj_val)*percentile) -1\n",
    "    \n",
    "    if ind < 0: return 0\n",
    "    #print(obj_val[-20:-1])\n",
    "    return obj_val[ind]"
   ]
  },
  {
   "cell_type": "code",
   "execution_count": 93,
   "metadata": {},
   "outputs": [],
   "source": [
    "x = []\n",
    "y_fpt = []\n",
    "y_home = []\n",
    "for i in range(0, 101, 1):\n",
    "    x.append(i/100)\n",
    "    y_home.append(calculate_percentile_objective(assign_home, i/100))\n",
    "    y_fpt.append(calculate_percentile_objective(assignments, i/100))"
   ]
  },
  {
   "cell_type": "code",
   "execution_count": 95,
   "metadata": {},
   "outputs": [
    {
     "data": {
      "text/plain": [
       "<matplotlib.legend.Legend at 0x7fca5e1afe20>"
      ]
     },
     "execution_count": 95,
     "metadata": {},
     "output_type": "execute_result"
    },
    {
     "data": {
      "image/png": "[encoded data removed]",
      "text/plain": [
       "<Figure size 432x288 with 1 Axes>"
      ]
     },
     "metadata": {
      "needs_background": "light"
     },
     "output_type": "display_data"
    }
   ],
   "source": [
    "import matplotlib.pyplot as plt\n",
    "plt.plot(y_fpt, x, label = 'fpt')\n",
    "plt.plot(y_home, x, label = 'home')\n",
    "plt.ylabel(\"Percent of Clients Covered\")\n",
    "plt.xlabel(\"Objective Value\")\n",
    "plt.legend()"
   ]
  },
  {
   "cell_type": "code",
   "execution_count": 85,
   "metadata": {},
   "outputs": [],
   "source": [
    "x = []\n",
    "y_fpt = []\n",
    "y_home = []\n",
    "for i in range(9980, 10001, 1):\n",
    "    x.append(i/10000)\n",
    "    y_home.append(calculate_percentile_objective(assign_home, i/10000))\n",
    "    y_fpt.append(calculate_percentile_objective(assignments, i/10000))"
   ]
  },
  {
   "cell_type": "code",
   "execution_count": 92,
   "metadata": {},
   "outputs": [
    {
     "data": {
      "text/plain": [
       "<matplotlib.legend.Legend at 0x7fca5d065d60>"
      ]
     },
     "execution_count": 92,
     "metadata": {},
     "output_type": "execute_result"
    },
    {
     "data": {
      "image/png": "[encoded data removed]",
      "text/plain": [
       "<Figure size 432x288 with 1 Axes>"
      ]
     },
     "metadata": {
      "needs_background": "light"
     },
     "output_type": "display_data"
    }
   ],
   "source": [
    "import matplotlib.pyplot as plt\n",
    "plt.plot(y_fpt, x, label = 'fpt')\n",
    "plt.plot(y_home, x, label = 'home')\n",
    "plt.xticks(rotation=45)\n",
    "#plt.xlim(0.995, 1)\n",
    "plt.xlabel(\"Percent of Clients Covered\")\n",
    "plt.ylabel(\"Objective Value\")\n",
    "plt.legend()"
   ]
  },
  {
   "cell_type": "code",
   "execution_count": 39,
   "metadata": {},
   "outputs": [
    {
     "name": "stdout",
     "output_type": "stream",
     "text": [
      "[64, 193, 2, 0, 46]\n",
      "Recalculated Objective Value: \t1.993687977423548\n"
     ]
    }
   ],
   "source": [
    "fac_home, assign_home = center_of_homes(5)\n",
    "print(fac_home)\n",
    "print(\"Recalculated Objective Value: \\t\" + str(calculate_objective(assign_home)))"
   ]
  },
  {
   "cell_type": "code",
   "execution_count": 90,
   "metadata": {},
   "outputs": [],
   "source": [
    "facilities, assignments = most_populous(5)"
   ]
  },
  {
   "cell_type": "code",
   "execution_count": 96,
   "metadata": {},
   "outputs": [
    {
     "name": "stdout",
     "output_type": "stream",
     "text": [
      "2.59960624010461 1.993687977423548 3.2832638117022177\n"
     ]
    }
   ],
   "source": [
    "obj_facilities, assign_fpt = _oh[7]\n",
    "fac_fpt = obj_facilities[1]\n",
    "fac_pop, assign_pop = facilities, assignments\n",
    "\n",
    "print(calculate_objective(assign_fpt), calculate_objective(assign_home), calculate_objective(assign_pop))"
   ]
  },
  {
   "cell_type": "code",
   "execution_count": 102,
   "metadata": {},
   "outputs": [],
   "source": [
    "def analyze_facility_coverage():\n",
    "    x = []\n",
    "    y_fpt = []\n",
    "    y_home = []\n",
    "    y_pop = []\n",
    "    for i in range(0, 101, 1):\n",
    "        x.append(i/100)\n",
    "        y_fpt.append(calculate_percentile_objective(assign_fpt, i/100))\n",
    "        y_home.append(calculate_percentile_objective(assign_home, i/100))\n",
    "        y_pop.append(calculate_percentile_objective(assign_pop, i/100))\n",
    "    return x, y_fpt, y_home, y_pop"
   ]
  },
  {
   "cell_type": "code",
   "execution_count": 103,
   "metadata": {},
   "outputs": [
    {
     "data": {
      "image/png": "[encoded data removed]",
      "text/plain": [
       "<Figure size 432x288 with 1 Axes>"
      ]
     },
     "metadata": {
      "needs_background": "light"
     },
     "output_type": "display_data"
    }
   ],
   "source": [
    "import matplotlib.pyplot as plt\n",
    "def plot_percentile_coverage(x, y_fpt, y_home, y_pop):\n",
    "    plt.plot(x, y_fpt, label = 'fpt')\n",
    "    plt.plot(x, y_home, label = 'home')\n",
    "    plt.plot(x, y_pop, label = 'popular')\n",
    "    plt.xticks(rotation=45)\n",
    "    plt.xlabel(\"Percent of Clients Covered\")\n",
    "    plt.ylabel(\"Objective Value\")\n",
    "    plt.legend()\n",
    "\n",
    "x, y_fpt, y_home, y_pop = analyze_facility_coverage()\n",
    "plot_percentile_coverage(x, y_fpt, y_home, y_pop)"
   ]
  },
  {
   "cell_type": "code",
   "execution_count": 131,
   "metadata": {},
   "outputs": [],
   "source": [
    "def fpt2_parallel2(k: int, s: int, track = False):\n",
    "    \"\"\"\n",
    "    Assumes the number of locations visited by clients is bounded by a constant\n",
    "    Run k-supplier on all combination sets of locations that will be covered by facilities. Select the guess and its open facilities with the smallest objective value.\n",
    "    \n",
    "    PARAMETERS\n",
    "    ----------\n",
    "    k : int\n",
    "        number of facilities to be opened\n",
    "    \n",
    "    RETURNS\n",
    "    ----------\n",
    "    facilities : List[int]\n",
    "        contains facility indices that are open\n",
    "    assignments : List[Tuple[int, int]]\n",
    "        visited location and facility assignment indexed by each client\n",
    "    \"\"\"\n",
    "    potential_facility_locations = list(range(s))\n",
    "    \n",
    "    #Remove homes from the client_location lists\n",
    "    #TODO: Perhaps create mapping for the indices of people before exclusion and after?\n",
    "    client_locations_excluded = []\n",
    "    for person in CLIENT_LOCATIONS.values():\n",
    "        new_list = [p for p in person['lid'][1:] if p in potential_facility_locations]\n",
    "        if len(new_list)>0:\n",
    "            client_locations_excluded.append(new_list)\n",
    "    \n",
    "    locations = [i for i in range(len(LOCATIONS)) if LOCATIONS[i]['lid'] < HOME_SHIFT]\n",
    "    \n",
    "    G, loc_map, c_loc_map = precompute_distances(client_locations_excluded, locations)\n",
    "    \n",
    "    def process(guess):\n",
    "        facilities = _k_supplier(list(guess), locations, k)\n",
    "        obj_value = assign_client_facilities2(G, loc_map, c_loc_map, client_locations_excluded, facilities)\n",
    "        \n",
    "        return obj_value, facilities\n",
    "    \n",
    "    results = Parallel(n_jobs=40, verbose = track, batch_siz)(delayed(process)(guess) for guess in powerset(list(potential_facility_locations)))\n",
    "    \n",
    "    min_obj_guess: Tuple[int, List[int]] = min(results)\n",
    "    return min_obj_guess, assign_facilities(min_obj_guess[1])"
   ]
  },
  {
   "cell_type": "code",
   "execution_count": 11,
   "metadata": {},
   "outputs": [],
   "source": [
    "from concurrent import futures\n",
    "def fpt2_parallel3(k: int, s: int, track = False):\n",
    "    \"\"\"\n",
    "    Assumes the number of locations visited by clients is bounded by a constant\n",
    "    Run k-supplier on all combination sets of locations that will be covered by facilities. Select the guess and its open facilities with the smallest objective value.\n",
    "    \n",
    "    PARAMETERS\n",
    "    ----------\n",
    "    k : int\n",
    "        number of facilities to be opened\n",
    "    \n",
    "    RETURNS\n",
    "    ----------\n",
    "    facilities : List[int]\n",
    "        contains facility indices that are open\n",
    "    assignments : List[Tuple[int, int]]\n",
    "        visited location and facility assignment indexed by each client\n",
    "    \"\"\"\n",
    "    start_1 = time.time()\n",
    "    potential_facility_locations = list(range(s))\n",
    "    \n",
    "    #Remove homes from the client_location lists\n",
    "    #TODO: Perhaps create mapping for the indices of people before exclusion and after?\n",
    "    client_locations_excluded = []\n",
    "    for person in CLIENT_LOCATIONS.values():\n",
    "        new_list = [p for p in person['lid'][1:] if p in potential_facility_locations]\n",
    "        if len(new_list)>0:\n",
    "            client_locations_excluded.append(new_list)\n",
    "    \n",
    "    locations = [i for i in range(len(LOCATIONS)) if LOCATIONS[i]['lid'] < HOME_SHIFT]\n",
    "    \n",
    "    G, loc_map, c_loc_map = precompute_distances(client_locations_excluded, locations)\n",
    "    print(time.time() - start_1)\n",
    "    \n",
    "    def process(guess):\n",
    "        start = time.time()\n",
    "        facilities = _k_supplier(list(guess), locations, k)\n",
    "        obj_value = assign_client_facilities2(G, loc_map, c_loc_map, client_locations_excluded, facilities)\n",
    "        end = time.time()\n",
    "        print(end-start)\n",
    "        return obj_value, facilities\n",
    "    \n",
    "    #results = Parallel(n_jobs=40, verbose = track)(delayed(process)(guess) for guess in powerset(list(potential_facility_locations)))\n",
    "    \n",
    "    results = []\n",
    "    start_2 = time.time()\n",
    "    with futures.ProcessPoolExecutor(max_workers = 40) as pool:\n",
    "        print(time.time() - start_2)\n",
    "        for item in pool.map(process, list(powerset(list(potential_facility_locations)))):\n",
    "            results.append(item)\n",
    "    \n",
    "    min_obj_guess: Tuple[int, List[int]] = min(results)\n",
    "    return min_obj_guess, assign_facilities(min_obj_guess[1])"
   ]
  },
  {
   "cell_type": "code",
   "execution_count": 12,
   "metadata": {},
   "outputs": [
    {
     "name": "stdout",
     "output_type": "stream",
     "text": [
      "0.4354891777038574\n",
      "0.0013782978057861328\n"
     ]
    },
    {
     "ename": "AttributeError",
     "evalue": "Can't pickle local object 'fpt2_parallel3.<locals>.process'",
     "output_type": "error",
     "traceback": [
      "\u001b[0;31m---------------------------------------------------------------------------\u001b[0m",
      "\u001b[0;31m_RemoteTraceback\u001b[0m                          Traceback (most recent call last)",
      "\u001b[0;31m_RemoteTraceback\u001b[0m: \n\"\"\"\nTraceback (most recent call last):\n  File \"/home/al7gc/.conda/envs/facility/lib/python3.9/multiprocessing/queues.py\", line 245, in _feed\n    obj = _ForkingPickler.dumps(obj)\n  File \"/home/al7gc/.conda/envs/facility/lib/python3.9/multiprocessing/reduction.py\", line 51, in dumps\n    cls(buf, protocol).dump(obj)\nAttributeError: Can't pickle local object 'fpt2_parallel3.<locals>.process'\n\"\"\"",
      "\nThe above exception was the direct cause of the following exception:\n",
      "\u001b[0;31mAttributeError\u001b[0m                            Traceback (most recent call last)",
      "\u001b[0;32m<ipython-input-12-05a8bf4837f8>\u001b[0m in \u001b[0;36m<module>\u001b[0;34m\u001b[0m\n\u001b[1;32m      1\u001b[0m \u001b[0;32mimport\u001b[0m \u001b[0mtime\u001b[0m\u001b[0;34m\u001b[0m\u001b[0;34m\u001b[0m\u001b[0m\n\u001b[0;32m----> 2\u001b[0;31m \u001b[0mfac\u001b[0m\u001b[0;34m,\u001b[0m \u001b[0massign\u001b[0m \u001b[0;34m=\u001b[0m \u001b[0mfpt2_parallel3\u001b[0m\u001b[0;34m(\u001b[0m\u001b[0;36m1\u001b[0m\u001b[0;34m,\u001b[0m \u001b[0;36m5\u001b[0m\u001b[0;34m,\u001b[0m \u001b[0;32mTrue\u001b[0m\u001b[0;34m)\u001b[0m\u001b[0;34m\u001b[0m\u001b[0;34m\u001b[0m\u001b[0m\n\u001b[0m",
      "\u001b[0;32m<ipython-input-11-30bc501b6e81>\u001b[0m in \u001b[0;36mfpt2_parallel3\u001b[0;34m(k, s, track)\u001b[0m\n\u001b[1;32m     46\u001b[0m     \u001b[0;32mwith\u001b[0m \u001b[0mfutures\u001b[0m\u001b[0;34m.\u001b[0m\u001b[0mProcessPoolExecutor\u001b[0m\u001b[0;34m(\u001b[0m\u001b[0mmax_workers\u001b[0m \u001b[0;34m=\u001b[0m \u001b[0;36m40\u001b[0m\u001b[0;34m)\u001b[0m \u001b[0;32mas\u001b[0m \u001b[0mpool\u001b[0m\u001b[0;34m:\u001b[0m\u001b[0;34m\u001b[0m\u001b[0;34m\u001b[0m\u001b[0m\n\u001b[1;32m     47\u001b[0m         \u001b[0mprint\u001b[0m\u001b[0;34m(\u001b[0m\u001b[0mtime\u001b[0m\u001b[0;34m.\u001b[0m\u001b[0mtime\u001b[0m\u001b[0;34m(\u001b[0m\u001b[0;34m)\u001b[0m \u001b[0;34m-\u001b[0m \u001b[0mstart_2\u001b[0m\u001b[0;34m)\u001b[0m\u001b[0;34m\u001b[0m\u001b[0;34m\u001b[0m\u001b[0m\n\u001b[0;32m---> 48\u001b[0;31m         \u001b[0;32mfor\u001b[0m \u001b[0mitem\u001b[0m \u001b[0;32min\u001b[0m \u001b[0mpool\u001b[0m\u001b[0;34m.\u001b[0m\u001b[0mmap\u001b[0m\u001b[0;34m(\u001b[0m\u001b[0mprocess\u001b[0m\u001b[0;34m,\u001b[0m \u001b[0mlist\u001b[0m\u001b[0;34m(\u001b[0m\u001b[0mpowerset\u001b[0m\u001b[0;34m(\u001b[0m\u001b[0mlist\u001b[0m\u001b[0;34m(\u001b[0m\u001b[0mpotential_facility_locations\u001b[0m\u001b[0;34m)\u001b[0m\u001b[0;34m)\u001b[0m\u001b[0;34m)\u001b[0m\u001b[0;34m)\u001b[0m\u001b[0;34m:\u001b[0m\u001b[0;34m\u001b[0m\u001b[0;34m\u001b[0m\u001b[0m\n\u001b[0m\u001b[1;32m     49\u001b[0m             \u001b[0mresults\u001b[0m\u001b[0;34m.\u001b[0m\u001b[0mappend\u001b[0m\u001b[0;34m(\u001b[0m\u001b[0mitem\u001b[0m\u001b[0;34m)\u001b[0m\u001b[0;34m\u001b[0m\u001b[0;34m\u001b[0m\u001b[0m\n\u001b[1;32m     50\u001b[0m \u001b[0;34m\u001b[0m\u001b[0m\n",
      "\u001b[0;32m~/.conda/envs/facility/lib/python3.9/concurrent/futures/process.py\u001b[0m in \u001b[0;36m_chain_from_iterable_of_lists\u001b[0;34m(iterable)\u001b[0m\n\u001b[1;32m    557\u001b[0m     \u001b[0mcareful\u001b[0m \u001b[0;32mnot\u001b[0m \u001b[0mto\u001b[0m \u001b[0mkeep\u001b[0m \u001b[0mreferences\u001b[0m \u001b[0mto\u001b[0m \u001b[0myielded\u001b[0m \u001b[0mobjects\u001b[0m\u001b[0;34m.\u001b[0m\u001b[0;34m\u001b[0m\u001b[0;34m\u001b[0m\u001b[0m\n\u001b[1;32m    558\u001b[0m     \"\"\"\n\u001b[0;32m--> 559\u001b[0;31m     \u001b[0;32mfor\u001b[0m \u001b[0melement\u001b[0m \u001b[0;32min\u001b[0m \u001b[0miterable\u001b[0m\u001b[0;34m:\u001b[0m\u001b[0;34m\u001b[0m\u001b[0;34m\u001b[0m\u001b[0m\n\u001b[0m\u001b[1;32m    560\u001b[0m         \u001b[0melement\u001b[0m\u001b[0;34m.\u001b[0m\u001b[0mreverse\u001b[0m\u001b[0;34m(\u001b[0m\u001b[0;34m)\u001b[0m\u001b[0;34m\u001b[0m\u001b[0;34m\u001b[0m\u001b[0m\n\u001b[1;32m    561\u001b[0m         \u001b[0;32mwhile\u001b[0m \u001b[0melement\u001b[0m\u001b[0;34m:\u001b[0m\u001b[0;34m\u001b[0m\u001b[0;34m\u001b[0m\u001b[0m\n",
      "\u001b[0;32m~/.conda/envs/facility/lib/python3.9/concurrent/futures/_base.py\u001b[0m in \u001b[0;36mresult_iterator\u001b[0;34m()\u001b[0m\n\u001b[1;32m    606\u001b[0m                     \u001b[0;31m# Careful not to keep a reference to the popped future\u001b[0m\u001b[0;34m\u001b[0m\u001b[0;34m\u001b[0m\u001b[0;34m\u001b[0m\u001b[0m\n\u001b[1;32m    607\u001b[0m                     \u001b[0;32mif\u001b[0m \u001b[0mtimeout\u001b[0m \u001b[0;32mis\u001b[0m \u001b[0;32mNone\u001b[0m\u001b[0;34m:\u001b[0m\u001b[0;34m\u001b[0m\u001b[0;34m\u001b[0m\u001b[0m\n\u001b[0;32m--> 608\u001b[0;31m                         \u001b[0;32myield\u001b[0m \u001b[0mfs\u001b[0m\u001b[0;34m.\u001b[0m\u001b[0mpop\u001b[0m\u001b[0;34m(\u001b[0m\u001b[0;34m)\u001b[0m\u001b[0;34m.\u001b[0m\u001b[0mresult\u001b[0m\u001b[0;34m(\u001b[0m\u001b[0;34m)\u001b[0m\u001b[0;34m\u001b[0m\u001b[0;34m\u001b[0m\u001b[0m\n\u001b[0m\u001b[1;32m    609\u001b[0m                     \u001b[0;32melse\u001b[0m\u001b[0;34m:\u001b[0m\u001b[0;34m\u001b[0m\u001b[0;34m\u001b[0m\u001b[0m\n\u001b[1;32m    610\u001b[0m                         \u001b[0;32myield\u001b[0m \u001b[0mfs\u001b[0m\u001b[0;34m.\u001b[0m\u001b[0mpop\u001b[0m\u001b[0;34m(\u001b[0m\u001b[0;34m)\u001b[0m\u001b[0;34m.\u001b[0m\u001b[0mresult\u001b[0m\u001b[0;34m(\u001b[0m\u001b[0mend_time\u001b[0m \u001b[0;34m-\u001b[0m \u001b[0mtime\u001b[0m\u001b[0;34m.\u001b[0m\u001b[0mmonotonic\u001b[0m\u001b[0;34m(\u001b[0m\u001b[0;34m)\u001b[0m\u001b[0;34m)\u001b[0m\u001b[0;34m\u001b[0m\u001b[0;34m\u001b[0m\u001b[0m\n",
      "\u001b[0;32m~/.conda/envs/facility/lib/python3.9/concurrent/futures/_base.py\u001b[0m in \u001b[0;36mresult\u001b[0;34m(self, timeout)\u001b[0m\n\u001b[1;32m    436\u001b[0m                     \u001b[0;32mraise\u001b[0m \u001b[0mCancelledError\u001b[0m\u001b[0;34m(\u001b[0m\u001b[0;34m)\u001b[0m\u001b[0;34m\u001b[0m\u001b[0;34m\u001b[0m\u001b[0m\n\u001b[1;32m    437\u001b[0m                 \u001b[0;32melif\u001b[0m \u001b[0mself\u001b[0m\u001b[0;34m.\u001b[0m\u001b[0m_state\u001b[0m \u001b[0;34m==\u001b[0m \u001b[0mFINISHED\u001b[0m\u001b[0;34m:\u001b[0m\u001b[0;34m\u001b[0m\u001b[0;34m\u001b[0m\u001b[0m\n\u001b[0;32m--> 438\u001b[0;31m                     \u001b[0;32mreturn\u001b[0m \u001b[0mself\u001b[0m\u001b[0;34m.\u001b[0m\u001b[0m__get_result\u001b[0m\u001b[0;34m(\u001b[0m\u001b[0;34m)\u001b[0m\u001b[0;34m\u001b[0m\u001b[0;34m\u001b[0m\u001b[0m\n\u001b[0m\u001b[1;32m    439\u001b[0m \u001b[0;34m\u001b[0m\u001b[0m\n\u001b[1;32m    440\u001b[0m                 \u001b[0mself\u001b[0m\u001b[0;34m.\u001b[0m\u001b[0m_condition\u001b[0m\u001b[0;34m.\u001b[0m\u001b[0mwait\u001b[0m\u001b[0;34m(\u001b[0m\u001b[0mtimeout\u001b[0m\u001b[0;34m)\u001b[0m\u001b[0;34m\u001b[0m\u001b[0;34m\u001b[0m\u001b[0m\n",
      "\u001b[0;32m~/.conda/envs/facility/lib/python3.9/concurrent/futures/_base.py\u001b[0m in \u001b[0;36m__get_result\u001b[0;34m(self)\u001b[0m\n\u001b[1;32m    388\u001b[0m         \u001b[0;32mif\u001b[0m \u001b[0mself\u001b[0m\u001b[0;34m.\u001b[0m\u001b[0m_exception\u001b[0m\u001b[0;34m:\u001b[0m\u001b[0;34m\u001b[0m\u001b[0;34m\u001b[0m\u001b[0m\n\u001b[1;32m    389\u001b[0m             \u001b[0;32mtry\u001b[0m\u001b[0;34m:\u001b[0m\u001b[0;34m\u001b[0m\u001b[0;34m\u001b[0m\u001b[0m\n\u001b[0;32m--> 390\u001b[0;31m                 \u001b[0;32mraise\u001b[0m \u001b[0mself\u001b[0m\u001b[0;34m.\u001b[0m\u001b[0m_exception\u001b[0m\u001b[0;34m\u001b[0m\u001b[0;34m\u001b[0m\u001b[0m\n\u001b[0m\u001b[1;32m    391\u001b[0m             \u001b[0;32mfinally\u001b[0m\u001b[0;34m:\u001b[0m\u001b[0;34m\u001b[0m\u001b[0;34m\u001b[0m\u001b[0m\n\u001b[1;32m    392\u001b[0m                 \u001b[0;31m# Break a reference cycle with the exception in self._exception\u001b[0m\u001b[0;34m\u001b[0m\u001b[0;34m\u001b[0m\u001b[0;34m\u001b[0m\u001b[0m\n",
      "\u001b[0;32m~/.conda/envs/facility/lib/python3.9/multiprocessing/queues.py\u001b[0m in \u001b[0;36m_feed\u001b[0;34m(buffer, notempty, send_bytes, writelock, close, ignore_epipe, onerror, queue_sem)\u001b[0m\n\u001b[1;32m    243\u001b[0m \u001b[0;34m\u001b[0m\u001b[0m\n\u001b[1;32m    244\u001b[0m                         \u001b[0;31m# serialize the data before acquiring the lock\u001b[0m\u001b[0;34m\u001b[0m\u001b[0;34m\u001b[0m\u001b[0;34m\u001b[0m\u001b[0m\n\u001b[0;32m--> 245\u001b[0;31m                         \u001b[0mobj\u001b[0m \u001b[0;34m=\u001b[0m \u001b[0m_ForkingPickler\u001b[0m\u001b[0;34m.\u001b[0m\u001b[0mdumps\u001b[0m\u001b[0;34m(\u001b[0m\u001b[0mobj\u001b[0m\u001b[0;34m)\u001b[0m\u001b[0;34m\u001b[0m\u001b[0;34m\u001b[0m\u001b[0m\n\u001b[0m\u001b[1;32m    246\u001b[0m                         \u001b[0;32mif\u001b[0m \u001b[0mwacquire\u001b[0m \u001b[0;32mis\u001b[0m \u001b[0;32mNone\u001b[0m\u001b[0;34m:\u001b[0m\u001b[0;34m\u001b[0m\u001b[0;34m\u001b[0m\u001b[0m\n\u001b[1;32m    247\u001b[0m                             \u001b[0msend_bytes\u001b[0m\u001b[0;34m(\u001b[0m\u001b[0mobj\u001b[0m\u001b[0;34m)\u001b[0m\u001b[0;34m\u001b[0m\u001b[0;34m\u001b[0m\u001b[0m\n",
      "\u001b[0;32m~/.conda/envs/facility/lib/python3.9/multiprocessing/reduction.py\u001b[0m in \u001b[0;36mdumps\u001b[0;34m(cls, obj, protocol)\u001b[0m\n\u001b[1;32m     49\u001b[0m     \u001b[0;32mdef\u001b[0m \u001b[0mdumps\u001b[0m\u001b[0;34m(\u001b[0m\u001b[0mcls\u001b[0m\u001b[0;34m,\u001b[0m \u001b[0mobj\u001b[0m\u001b[0;34m,\u001b[0m \u001b[0mprotocol\u001b[0m\u001b[0;34m=\u001b[0m\u001b[0;32mNone\u001b[0m\u001b[0;34m)\u001b[0m\u001b[0;34m:\u001b[0m\u001b[0;34m\u001b[0m\u001b[0;34m\u001b[0m\u001b[0m\n\u001b[1;32m     50\u001b[0m         \u001b[0mbuf\u001b[0m \u001b[0;34m=\u001b[0m \u001b[0mio\u001b[0m\u001b[0;34m.\u001b[0m\u001b[0mBytesIO\u001b[0m\u001b[0;34m(\u001b[0m\u001b[0;34m)\u001b[0m\u001b[0;34m\u001b[0m\u001b[0;34m\u001b[0m\u001b[0m\n\u001b[0;32m---> 51\u001b[0;31m         \u001b[0mcls\u001b[0m\u001b[0;34m(\u001b[0m\u001b[0mbuf\u001b[0m\u001b[0;34m,\u001b[0m \u001b[0mprotocol\u001b[0m\u001b[0;34m)\u001b[0m\u001b[0;34m.\u001b[0m\u001b[0mdump\u001b[0m\u001b[0;34m(\u001b[0m\u001b[0mobj\u001b[0m\u001b[0;34m)\u001b[0m\u001b[0;34m\u001b[0m\u001b[0;34m\u001b[0m\u001b[0m\n\u001b[0m\u001b[1;32m     52\u001b[0m         \u001b[0;32mreturn\u001b[0m \u001b[0mbuf\u001b[0m\u001b[0;34m.\u001b[0m\u001b[0mgetbuffer\u001b[0m\u001b[0;34m(\u001b[0m\u001b[0;34m)\u001b[0m\u001b[0;34m\u001b[0m\u001b[0;34m\u001b[0m\u001b[0m\n\u001b[1;32m     53\u001b[0m \u001b[0;34m\u001b[0m\u001b[0m\n",
      "\u001b[0;31mAttributeError\u001b[0m: Can't pickle local object 'fpt2_parallel3.<locals>.process'"
     ]
    }
   ],
   "source": [
    "import time\n",
    "fac, assign = fpt2_parallel3(1, 5, True)"
   ]
  },
  {
   "cell_type": "code",
   "execution_count": 181,
   "metadata": {},
   "outputs": [
    {
     "name": "stdout",
     "output_type": "stream",
     "text": [
      "10 1000\n",
      "Number of variables = 17773\n",
      "distances calculated 0.0010762214660644531\n",
      "0.3199150562286377\n",
      "Number of constraints = 36525\n",
      "Objective value = 0.9953493548487805\n",
      "[2, 5, 7, 8, 9]\n",
      "2.5123412483315892\n"
     ]
    }
   ],
   "source": [
    "X, Y = integer_LP(5, 10, 1000)\n",
    "print(X)\n",
    "print(calculate_objective(Y))"
   ]
  },
  {
   "cell_type": "code",
   "execution_count": 190,
   "metadata": {},
   "outputs": [
    {
     "name": "stdout",
     "output_type": "stream",
     "text": [
      "NO\n",
      "NONO\n",
      "NONO\n",
      "\n",
      "\n",
      "[1, 2, 3, 4, 5]\n"
     ]
    }
   ],
   "source": [
    "from concurrent import futures\n",
    "\n",
    "total_error = 0\n",
    "\n",
    "def some_function_call(x):\n",
    "    print(\"NO\")\n",
    "    return x+1\n",
    "\n",
    "total_error = []\n",
    "with futures.ProcessPoolExecutor() as pool:\n",
    "    for error in pool.map(some_function_call, list(range(5))):\n",
    "        total_error.append(error)\n",
    "\n",
    "print(total_error)"
   ]
  },
  {
   "cell_type": "code",
   "execution_count": 16,
   "metadata": {},
   "outputs": [],
   "source": [
    "import ray\n",
    "from heuristics import _k_supplier\n",
    "def fpt2_parallel4(k: int, s: int):\n",
    "    \"\"\"\n",
    "    Assumes the number of locations visited by clients is bounded by a constant\n",
    "    Run k-supplier on all combination sets of locations that will be covered by facilities. Select the guess and its open facilities with the smallest objective value.\n",
    "    \n",
    "    PARAMETERS\n",
    "    ----------\n",
    "    k : int\n",
    "        number of facilities to be opened\n",
    "    \n",
    "    RETURNS\n",
    "    ----------\n",
    "    facilities : List[int]\n",
    "        contains facility indices that are open\n",
    "    assignments : List[Tuple[int, int]]\n",
    "        visited location and facility assignment indexed by each client\n",
    "    \"\"\"\n",
    "    #start_1 = time.time()\n",
    "    potential_facility_locations = list(range(s))\n",
    "    \n",
    "    #Remove homes from the client_location lists\n",
    "    #TODO: Perhaps create mapping for the indices of people before exclusion and after?\n",
    "    client_locations_excluded = []\n",
    "    for person in CLIENT_LOCATIONS.values():\n",
    "        new_list = [p for p in person['lid'][1:] if p in potential_facility_locations]\n",
    "        if len(new_list)>0:\n",
    "            client_locations_excluded.append(new_list)\n",
    "    \n",
    "    locations = [i for i in range(len(LOCATIONS)) if LOCATIONS[i]['lid'] < HOME_SHIFT]\n",
    "    \n",
    "    G, loc_map, c_loc_map = precompute_distances(client_locations_excluded, locations)\n",
    "    #print(time.time() - start_1)\n",
    "    \n",
    "    \n",
    "    ray.init(ignore_reinit_error=True)\n",
    "    \n",
    "    @ray.remote\n",
    "    def process(guess):\n",
    "        #start = time.time()\n",
    "        facilities = _k_supplier(list(guess), locations, k)\n",
    "        obj_value = assign_client_facilities2(G, loc_map, c_loc_map, client_locations_excluded, facilities)\n",
    "        #end = time.time()\n",
    "        #print(end-start)\n",
    "        return obj_value, facilities\n",
    "    \n",
    "    #results = Parallel(n_jobs=40, verbose = track)(delayed(process)(guess) for guess in powerset(list(potential_facility_locations)))\n",
    "    futures = [process.remote(guess) for guess in powerset(list(potential_facility_locations))]\n",
    "    results = ray.get(futures)\n",
    "    \n",
    "    #start_2 = time.time()\n",
    "    \n",
    "    min_obj_guess: Tuple[int, List[int]] = min(results)\n",
    "    return min_obj_guess, assign_facilities(min_obj_guess[1])"
   ]
  },
  {
   "cell_type": "code",
   "execution_count": 17,
   "metadata": {},
   "outputs": [
    {
     "name": "stderr",
     "output_type": "stream",
     "text": [
      "2021-08-06 11:20:28,281\tINFO worker.py:810 -- Calling ray.init() again after it has already been called.\n"
     ]
    },
    {
     "name": "stdout",
     "output_type": "stream",
     "text": [
      "29.327157258987427\n"
     ]
    }
   ],
   "source": [
    "import time\n",
    "start = time.time()\n",
    "fac, assign = fpt2_parallel4(5, 12)\n",
    "print(time.time()-start)"
   ]
  },
  {
   "cell_type": "code",
   "execution_count": 19,
   "metadata": {},
   "outputs": [
    {
     "name": "stderr",
     "output_type": "stream",
     "text": [
      "[Parallel(n_jobs=40)]: Using backend LokyBackend with 40 concurrent workers.\n",
      "[Parallel(n_jobs=40)]: Done 120 tasks      | elapsed:    3.1s\n",
      "[Parallel(n_jobs=40)]: Done 370 tasks      | elapsed:    5.7s\n",
      "[Parallel(n_jobs=40)]: Done 720 tasks      | elapsed:    9.4s\n",
      "[Parallel(n_jobs=40)]: Done 1170 tasks      | elapsed:   14.0s\n",
      "[Parallel(n_jobs=40)]: Done 1720 tasks      | elapsed:   19.5s\n",
      "[Parallel(n_jobs=40)]: Done 2370 tasks      | elapsed:   26.0s\n",
      "[Parallel(n_jobs=40)]: Done 3120 tasks      | elapsed:   33.5s\n",
      "[Parallel(n_jobs=40)]: Done 3970 tasks      | elapsed:   41.9s\n",
      "[Parallel(n_jobs=40)]: Done 4096 out of 4096 | elapsed:   43.2s finished\n"
     ]
    },
    {
     "name": "stdout",
     "output_type": "stream",
     "text": [
      "65.10575842857361\n"
     ]
    }
   ],
   "source": [
    "import time\n",
    "from heuristics import fpt2_parallel\n",
    "start = time.time()\n",
    "fac, assign = fpt2_parallel(5, 12, True)\n",
    "print(time.time()-start)"
   ]
  },
  {
   "cell_type": "code",
   "execution_count": 20,
   "metadata": {},
   "outputs": [
    {
     "name": "stdout",
     "output_type": "stream",
     "text": [
      "(0.9953493548487804, [0, 2, 3, 5, 9])\n"
     ]
    }
   ],
   "source": [
    "print(fac)"
   ]
  },
  {
   "cell_type": "code",
   "execution_count": 18,
   "metadata": {},
   "outputs": [
    {
     "name": "stdout",
     "output_type": "stream",
     "text": [
      "(0.9953493548487804, [0, 2, 3, 5, 9])\n"
     ]
    }
   ],
   "source": [
    "print(fac)"
   ]
  },
  {
   "cell_type": "code",
   "execution_count": 6,
   "metadata": {},
   "outputs": [
    {
     "name": "stderr",
     "output_type": "stream",
     "text": [
      "2021-08-10 10:23:09,346\tINFO services.py:1245 -- View the Ray dashboard at \u001b[1m\u001b[32mhttp://127.0.0.1:8265\u001b[39m\u001b[22m\n"
     ]
    },
    {
     "name": "stdout",
     "output_type": "stream",
     "text": [
      "\u001b[2m\u001b[36m(pid=210195)\u001b[0m hi\n",
      "\u001b[2m\u001b[36m(pid=210192)\u001b[0m hi\n",
      "\u001b[2m\u001b[36m(pid=210188)\u001b[0m hi\n",
      "\u001b[2m\u001b[36m(pid=210186)\u001b[0m hi\n"
     ]
    }
   ],
   "source": [
    "import ray\n",
    "import time\n",
    "\n",
    "start = time.time()\n",
    "ray.init(ignore_reinit_error=True)\n",
    "end = time.time()\n",
    "\n",
    "@ray.remote\n",
    "def f(x):\n",
    "    print(\"hi\")\n",
    "    return x+1\n",
    "\n",
    "result_ids = []\n",
    "for i in range(4):\n",
    "    result_ids.append(f.remote(i))\n",
    "\n",
    "results = ray.get(result_ids)"
   ]
  }
 ],
 "metadata": {
  "kernelspec": {
   "display_name": "Python [conda env:.conda-facility]",
   "language": "python",
   "name": "conda-env-.conda-facility-py"
  },
  "language_info": {
   "codemirror_mode": {
    "name": "ipython",
    "version": 3
   },
   "file_extension": ".py",
   "mimetype": "text/x-python",
   "name": "python",
   "nbconvert_exporter": "python",
   "pygments_lexer": "ipython3",
   "version": "3.9.5"
  }
 },
 "nbformat": 4,
 "nbformat_minor": 4
}
