{
 "cells": [
  {
   "cell_type": "code",
   "execution_count": 1,
   "metadata": {},
   "outputs": [],
   "source": [
    "%load_ext autoreload\n",
    "%autoreload 2\n",
    "\n",
    "import random\n",
    "import pandas\n",
    "from typing import Dict, List, Tuple, Set\n",
    "from problem import *\n",
    "from round import *\n",
    "from heuristics import *\n",
    "from utils import *"
   ]
  },
  {
   "cell_type": "code",
   "execution_count": null,
   "metadata": {},
   "outputs": [],
   "source": [
    "%reset"
   ]
  },
  {
   "cell_type": "code",
   "execution_count": null,
   "metadata": {},
   "outputs": [],
   "source": [
    "#with open(\"va_adult_activity_location_assignment_week.csv\", \"r\") as adult_data:\n",
    "file = open(\"va_adult_activity_location_assignment_week.csv\", \"r\")\n",
    "print(file.readline())\n",
    "#lines = file.readlines()"
   ]
  },
  {
   "cell_type": "markdown",
   "metadata": {},
   "source": [
    "## DATA FOR CVILLE ##"
   ]
  },
  {
   "cell_type": "code",
   "execution_count": null,
   "metadata": {},
   "outputs": [],
   "source": [
    "#usa_va_charlottesville_city_adult_activity_location_assignment_week.csv\n",
    "adult_df = pandas.read_csv(\"usa_va_charlottesville_city_adult_activity_location_assignment_week.csv\")\n",
    "adult_df"
   ]
  },
  {
   "cell_type": "code",
   "execution_count": null,
   "metadata": {},
   "outputs": [],
   "source": [
    "HOME_SHIFT=1000000000\n",
    "adult_df.loc[adult_df.activity_type == 1, \"lid\"] += HOME_SHIFT\n",
    "adult_df"
   ]
  },
  {
   "cell_type": "code",
   "execution_count": null,
   "metadata": {},
   "outputs": [],
   "source": [
    "df = adult_df.groupby(['lid'])['lid'].count().reset_index(name = 'Count').sort_values(['Count'], ascending=False)\n",
    "df"
   ]
  },
  {
   "cell_type": "code",
   "execution_count": null,
   "metadata": {},
   "outputs": [],
   "source": [
    "print(adult_df[adult_df[\"pid\"]==5627703])"
   ]
  },
  {
   "cell_type": "markdown",
   "metadata": {},
   "source": [
    "## Distance Function ##"
   ]
  },
  {
   "cell_type": "code",
   "execution_count": null,
   "metadata": {},
   "outputs": [],
   "source": [
    "import geopy.distance\n",
    "\n",
    "coords_1 = (50, 20)\n",
    "coords_2 = (51, 20)\n",
    "\n",
    "print(geopy.distance.distance(coords_1, coords_2).km)"
   ]
  },
  {
   "cell_type": "code",
   "execution_count": null,
   "metadata": {},
   "outputs": [],
   "source": [
    "#usa_va_charlottesville_city_adult_activity_location_assignment_week.csv\n",
    "df = pandas.read_csv(\"usa_va_charlottesville_city_adult_activity_location_assignment_week.csv\")\n",
    "HOME_SHIFT=1000000000\n",
    "df.loc[df.activity_type == 1, \"lid\"] += HOME_SHIFT\n",
    "\n",
    "key = {}\n",
    "\n",
    "\"\"\"\n",
    "Read in activity locations file\n",
    "\"\"\"\n",
    "location_file_act = open(\"usa_va_charlottesville_city_activity_locations.csv\", \"r\")\n",
    "lines_act = location_file_act.readlines()\n",
    "print(lines_act[0])\n",
    "lines_act = location_file_act.readlines()[1:]\n",
    "\n",
    "\"\"\"\n",
    "Read in residence locations file\n",
    "\"\"\"\n",
    "location_file_res = open(\"usa_va_charlottesville_city_residence_locations.csv\", \"r\")\n",
    "lines_res = location_file_res.readlines()[1:]\n",
    "for line in lines_res:\n",
    "    line[0] += HOME_SHIFT\n",
    "\n",
    "lines = lines_act + lines_res\n",
    "\n",
    "count = 0\n",
    "G = []\n",
    "for line in lines:\n",
    "    \n",
    "    key[count] = (line[0], line[1], line[2])\n",
    "    count += 1\n",
    "    \n",
    "    G.append([])\n",
    "    for i in range(count):\n",
    "        coords_1 = (line[2], line[1])\n",
    "        coords_2 = (key[i][2], key[i][1])          #Make into namedtuple\n",
    "        G[-1].append(geopy.distance.distance(coords_1, coords_2).km)\n",
    "\n",
    "'''G = []\n",
    "for index, row in df.iterrows():\n",
    "    #print(row)\n",
    "    G.append([])\n",
    "    for prev_ind, prev_row in df[:index].iterrows():\n",
    "        #print(prev)\n",
    "        coords_1 = (row['latitude'], row['longitude'])\n",
    "        coords_2 = (prev_row['latitude'], prev_row['longitude'])\n",
    "        G[-1].append(geopy.distance.distance(coords_1, coords_2).km)\n",
    "    G[-1].append(0)'''\n",
    "\n",
    "for row in G:\n",
    "    print(row)"
   ]
  },
  {
   "cell_type": "code",
   "execution_count": null,
   "metadata": {},
   "outputs": [],
   "source": [
    "df_activity = pandas.read_csv(\"usa_va_charlottesville_city_activity_locations.csv\").rename({\"alid\": \"lid\"}, axis = 'columns')\n",
    "print(len(df_activity))\n",
    "df_residence = pandas.read_csv(\"usa_va_charlottesville_city_residence_locations.csv\")\n",
    "HOME_SHIFT=1000000000\n",
    "df_residence['rlid'] = df_residence['rlid'].apply(lambda x: x+HOME_SHIFT)\n",
    "df_residence = df_residence.rename({\"rlid\": \"lid\"}, axis = 'columns')\n",
    "\n",
    "df_locations = pandas.concat([df_activity[['lid', 'longitude', 'latitude']], df_residence[['lid', 'longitude', 'latitude']]])\n",
    "df_locations"
   ]
  },
  {
   "cell_type": "code",
   "execution_count": null,
   "metadata": {},
   "outputs": [],
   "source": [
    "import json\n",
    "\n",
    "G = []\n",
    "location_indexing = {}\n",
    "for index, row in df_locations.iterrows:\n",
    "    location_indexing[row['lid']] = index\n",
    "    G.append([])\n",
    "    for prev_index, prev_row in df_locations[:index].iterrows():\n",
    "        coords_1 = (row['latitude'], row['longitude'])\n",
    "        coords_2 = (prev_row['latitude'], prev_row['longitude'])          #Make into namedtuple\n",
    "        G[-1].append(geopy.distance.distance(coords_1, coords_2).km)\n",
    "    G[-1].append(0)\n",
    "\n",
    "with open('cville_location_G.json', 'w') as f:\n",
    "    json.dump(G, f)"
   ]
  },
  {
   "cell_type": "code",
   "execution_count": null,
   "metadata": {},
   "outputs": [],
   "source": [
    "df = pandas.read_csv(\"usa_va_charlottesville_city_adult_activity_location_assignment_week.csv\")\n",
    "HOME_SHIFT=1000000000\n",
    "df.loc[df.activity_type == 1, \"lid\"] += HOME_SHIFT\n",
    "\n",
    "client_indexing = {}\n",
    "client_locations = []\n",
    "for index, row in df.iterrows():\n",
    "    if row['pid'] in client_indexing:\n",
    "        if row['activity_type'] == 1:\n",
    "            client_locations[index].insert(0, location_indexing[row['lid']])\n",
    "        else:\n",
    "            client_locations[index].append(location_indexing[row['lid']])\n",
    "    else:\n",
    "        client_indexing[row['pid']] = index\n",
    "        client_locations.append([location_indexing[row['lid']]])\n",
    "\n",
    "with open('cville_client_locations.json', 'w') as f:\n",
    "    json.dump(client_locations, f)\n",
    "\n",
    "with open('cville_indexing.json', 'w') as f:\n",
    "    json.dump(location_indexing, f)\n",
    "    json.dump(client_indexing, f)"
   ]
  },
  {
   "cell_type": "code",
   "execution_count": null,
   "metadata": {},
   "outputs": [],
   "source": [
    "!pip install haversine"
   ]
  },
  {
   "cell_type": "code",
   "execution_count": null,
   "metadata": {},
   "outputs": [],
   "source": [
    "import haversine as hs\n",
    "loc1=(28.426846,77.088834)\n",
    "loc2=(28.394231,77.050308)\n",
    "\n",
    "coords_1 = (52.2296756, 21.0122287)\n",
    "coords_2 = (52.406374, 16.9251681)\n",
    "\n",
    "hs.haversine(coords_1, coords_2)"
   ]
  },
  {
   "cell_type": "code",
   "execution_count": null,
   "metadata": {},
   "outputs": [],
   "source": [
    "#HOW MUCH A SET OF LOCATIONS CAN COVER\n",
    "\n",
    "#locations = pandas.read_csv(\"usa_va_charlottesville_city_activity_locations.csv\").rename({\"alid\": \"lid\"}, axis = 'columns')\n",
    "#locations['activity'] = locations['work'] + locations['shopping'] + locations['school'] + locations['other'] + locations['college'] + locations['religion']\n",
    "#locations = locations.sort_values(by=\"activity\", ascending=False)\n",
    "#locations = locations.reset_index(drop=True)\n",
    "#print(locations)\n",
    "\n",
    "\n",
    "assignments = pandas.read_csv(\"usa_va_charlottesville_city_adult_activity_location_assignment_week.csv\")\n",
    "HOME_SHIFT=1000000000\n",
    "assignments.loc[assignments.activity_type == 1, \"lid\"] += HOME_SHIFT\n",
    "\n",
    "total_clients = len(assignments.groupby(['pid']))\n",
    "\n",
    "assignments = assignments.groupby(['lid'])['pid'].apply(set).reset_index(name = 'pid')\n",
    "\n",
    "#assignments = assignments.set_index('lid')\n",
    "#total_homes = len(assignments.groupby(['hid']))\n",
    "#assignments = assignments.groupby(['lid'])['hid'].apply(set).reset_index(name = 'hid')\n",
    "\n",
    "locations = assignments.copy()\n",
    "locations['activity'] = locations['pid'].apply(lambda x: len(x))\n",
    "locations = locations.sort_values(by = 'activity', ascending = False)\n",
    "\n",
    "assignments = assignments.set_index('lid')\n",
    "\n",
    "print(locations.head())"
   ]
  },
  {
   "cell_type": "code",
   "execution_count": null,
   "metadata": {},
   "outputs": [],
   "source": [
    "#number_selected = 120\n",
    "\n",
    "plot_x = []\n",
    "plot_y = []\n",
    "\n",
    "for i in range(10, 32, 2):\n",
    "    number_selected = i\n",
    "    covered = set()\n",
    "\n",
    "    #print(locations[:number_selected].lid)\n",
    "    for loc in locations[:number_selected].lid:\n",
    "        if loc in assignments.index:\n",
    "            covered = covered.union(assignments.loc[loc].at['pid'])\n",
    "    \n",
    "    print(i, len(covered)/total_clients)\n",
    "    \n",
    "    #plot_x.append(i)\n",
    "    #plot_y.append(len(covered)/total_homes)\n",
    "\n",
    "#plt.plot(plot_x, plot_y)"
   ]
  },
  {
   "cell_type": "code",
   "execution_count": null,
   "metadata": {},
   "outputs": [],
   "source": [
    "import matplotlib.pyplot as plt\n",
    "\n",
    "assignments = pandas.read_csv(\"usa_va_charlottesville_city_adult_activity_location_assignment_week.csv\")\n",
    "HOME_SHIFT=1000000000\n",
    "assignments.loc[assignments.activity_type == 1, \"lid\"] += HOME_SHIFT\n",
    "\n",
    "#total_homes = len(assignments.groupby(['pid']))\n",
    "\n",
    "assignments = assignments.groupby(['hid'])['lid'].apply(set)\n",
    "#print(assignments)\n",
    "#.reset_index(name = 'pid')\n",
    "#assignments = assignments.set_index('pid')\n",
    "\n",
    "plt.hist([len(l) for hid, l in assignments.items()], bins = 50)\n",
    "plt.plot()"
   ]
  },
  {
   "cell_type": "code",
   "execution_count": null,
   "metadata": {},
   "outputs": [],
   "source": [
    "locations = pandas.read_csv(\"usa_va_charlottesville_city_activity_locations.csv\").rename({\"alid\": \"lid\"}, axis = 'columns')\n",
    "locations['activity'] = locations['work'] + locations['shopping'] + locations['school'] + locations['other'] + locations['college'] + locations['religion']\n",
    "locations = locations.sort_values(by=\"activity\", ascending=False)\n",
    "locations = locations.reset_index(drop=True)\n",
    "print(len(locations))"
   ]
  },
  {
   "cell_type": "markdown",
   "metadata": {},
   "source": [
    "## Formating Data ##"
   ]
  },
  {
   "cell_type": "code",
   "execution_count": null,
   "metadata": {},
   "outputs": [],
   "source": [
    "df_activity = pandas.read_csv(\"usa_va_charlottesville_city_activity_locations.csv\").rename({\"alid\": \"lid\"}, axis = 'columns')\n",
    "df_residence = pandas.read_csv(\"usa_va_charlottesville_city_residence_locations.csv\")\n",
    "\n",
    "HOME_SHIFT=1000000000\n",
    "df_residence['rlid'] = df_residence['rlid'].apply(lambda x: x+HOME_SHIFT)\n",
    "df_residence = df_residence.rename({\"rlid\": \"lid\"}, axis = 'columns')\n",
    "\n",
    "df_locations = pandas.concat([df_activity[['lid', 'longitude', 'latitude']], df_residence[['lid', 'longitude', 'latitude']]]).reset_index(drop = True)\n",
    "df_locations\n",
    "#print(df_locations[df_locations['lid'] == 1229162])\n",
    "\n",
    "location_dict = df_locations[['lid']]\n",
    "location_dict.reset_index(inplace=True)\n",
    "location_dict = location_dict.set_index('lid')"
   ]
  },
  {
   "cell_type": "code",
   "execution_count": null,
   "metadata": {},
   "outputs": [],
   "source": [
    "import geopy.distance\n",
    "\n",
    "def calculate_distance(loc1, loc2):\n",
    "    print(df_locations.head())\n",
    "    \n",
    "    coord1 = (df_locations.loc[loc1, 'latitude'], df_locations.loc[loc1, 'longitude'])\n",
    "    coord2 = (df_locations.loc[loc2, 'latitude'], df_locations.loc[loc2, 'longitude'])\n",
    "    return geopy.distance.distance(coord1, coord2).km\n",
    "\n",
    "calculate_distance(0, 1)"
   ]
  },
  {
   "cell_type": "code",
   "execution_count": null,
   "metadata": {},
   "outputs": [],
   "source": [
    "#CLIENT_LOCATIONS\n",
    "\n",
    "assignments = pandas.read_csv(\"usa_va_charlottesville_city_adult_activity_location_assignment_week.csv\")\n",
    "HOME_SHIFT=1000000000\n",
    "\n",
    "#print(df_residence[df_residence['lid']==1018209+HOME_SHIFT])\n",
    "home_locs = set(pandas.read_csv(\"usa_va_charlottesville_city_residence_locations.csv\").rlid)\n",
    "\n",
    "assignments['home'] = assignments['lid'].apply(lambda x: True if x in home_locs else False)\n",
    "assignments.loc[assignments.home, \"lid\"] += HOME_SHIFT\n",
    "#print(assignments.head())\n",
    "#assignments.loc[assignments.activity_type == 1, \"lid\"] += HOME_SHIFT\n",
    "#print(assignments[assignments['lid']==1229162])\n",
    "\n",
    "assignments = assignments.groupby(['pid'])['lid'].apply(set).reset_index(name = 'lid')\n",
    "\n",
    "def filter(x):\n",
    "    return_list = []\n",
    "    for i in x:\n",
    "        if (i>HOME_SHIFT):\n",
    "            return_list.insert(0, location_dict.loc[i, 'index'])\n",
    "        else:\n",
    "            return_list.append(location_dict.loc[i, 'index'])\n",
    "    return return_list\n",
    "    \n",
    "assignments['lid'] = assignments['lid'].apply(lambda x: filter(x))\n",
    "\n",
    "for loc in assignments.loc[0, 'lid']:\n",
    "    print(locations.loc[loc, 'lid'])"
   ]
  },
  {
   "cell_type": "code",
   "execution_count": null,
   "metadata": {},
   "outputs": [],
   "source": [
    "import pandas as pd\n",
    "\n",
    "HOME_SHIFT=1000000000\n",
    "\n",
    "def create_location_data():\n",
    "    df_activity = pd.read_csv(\"usa_va_charlottesville_city_activity_locations.csv\").rename({\"alid\": \"lid\"}, axis = 'columns')\n",
    "    df_residence = pd.read_csv(\"usa_va_charlottesville_city_residence_locations.csv\")\n",
    "    \n",
    "    df_residence['rlid'] = df_residence['rlid'].apply(lambda x: x+HOME_SHIFT)\n",
    "    df_residence = df_residence.rename({\"rlid\": \"lid\"}, axis = 'columns')\n",
    "    locations = pd.concat([df_activity[['lid', 'longitude', 'latitude']], df_residence[['lid', 'longitude', 'latitude']]]).reset_index(drop = True)\n",
    "    \n",
    "    client_locations = pd.read_csv(\"usa_va_charlottesville_city_adult_activity_location_assignment_week.csv\")\n",
    "    home_coords = client_locations.loc[client_locations.activity_type==1,['latitude', 'longitude']]\n",
    "    home_coords = set(home_coords[['latitude', 'longitude']].apply(tuple, axis=1).tolist())\n",
    "    client_locations['home'] = client_locations.apply(lambda x: True if (x.loc['latitude'], x.loc['longitude']) in home_coords else False, axis = 1)\n",
    "    client_locations.loc[client_locations.home == True, 'lid'] += HOME_SHIFT\n",
    "    \n",
    "    location_dict = locations[['lid']]\n",
    "    location_dict.reset_index(inplace=True)\n",
    "    location_dict = location_dict.set_index('lid')\n",
    "    \n",
    "    #Popularity of locations, which locations are visited by which individuals\n",
    "    # TODO: Merge with locations data?\n",
    "    assignments = client_locations.copy()\n",
    "    assignments = assignments.groupby(['lid'])['pid'].apply(set).reset_index(name = 'pid')\n",
    "    assignments['lid'] = assignments['lid'].apply(lambda x: location_dict.loc[x, 'index'])\n",
    "    assignments['activity'] = assignments['pid'].apply(lambda x: len(x))\n",
    "    #locations.merge(assignments, on = 'lid')\n",
    "    assignments = assignments.sort_values(by = 'activity', ascending = False)\n",
    "    \n",
    "    client_locations = client_locations.groupby(['pid'])['lid'].apply(set).reset_index(name = 'lid')\n",
    "    \n",
    "    #Replace lid with the index of the lid in locations\n",
    "    def filter(x):\n",
    "        return_list = []\n",
    "        for i in x:\n",
    "            #Insert home locations at the front of the list\n",
    "            if (i>HOME_SHIFT):\n",
    "                return_list.insert(0, location_dict.loc[i, 'index'])\n",
    "            else:\n",
    "                return_list.append(location_dict.loc[i, 'index'])\n",
    "        return return_list\n",
    "\n",
    "    client_locations['lid'] = client_locations['lid'].apply(lambda x: filter(x))\n",
    "\n",
    "    return locations, assignments, client_locations\n",
    "\n",
    "LOCATIONS, LOCATION_ASSIGNMENTS, CLIENT_LOCATIONS = create_location_data()"
   ]
  },
  {
   "cell_type": "code",
   "execution_count": null,
   "metadata": {},
   "outputs": [],
   "source": [
    "!pip install ortools\n",
    "from ortools.linear_solver import pywraplp\n",
    "from ortools.linear_solver.pywraplp import Variable, Constraint, Objective\n",
    "\n",
    "from problem import *\n",
    "\n",
    "class LP:\n",
    "    def __init__(self, k: int, solver_id = \"GLOP\"):\n",
    "        \n",
    "        #Set up client locations and possible facility locations\n",
    "        potential_facility_locations = set(LOCATION_ASSIGNMENTS.iloc[range(10)].lid)\n",
    "        \n",
    "        client_locations = []\n",
    "        for person in CLIENT_LOCATIONS.lid:\n",
    "            new_list = list(set(person).intersection(potential_facility_locations))\n",
    "            if len(new_list)>0:\n",
    "                client_locations.append(new_list)\n",
    "        \n",
    "        self.client_locations = client_locations\n",
    "        self.facility_locations = list(potential_facility_locations)\n",
    "        \n",
    "        self.k = k\n",
    "        \n",
    "        self.solver = pywraplp.Solver.CreateSolver(solver_id)\n",
    "        \n",
    "        self.init_variables()\n",
    "        #self.init_constraints()\n",
    "        #self.init_objective()\n",
    "    \n",
    "    def init_variables(self):\n",
    "        \"\"\"\n",
    "        X is the indicator variable for whether a facility is open\n",
    "        Y is the indicator variable to assign an individual from one of the travelled locations to the nearest facility\n",
    "        \"\"\"\n",
    "        #Set indicator variables for indicating whether a facility is open\n",
    "        self.X: Dict[int, Variable] = {}\n",
    "        for node in range(len(self.facility_locations)):\n",
    "            self.X[node] = self.solver.NumVar(0, 1, f\"x_{node}\")\n",
    "        \n",
    "        #Set indicator variables for indicating an individual's assignment to a location and facility\n",
    "        self.Y: Dict[Tuple[int, int, int], Variable] = {}\n",
    "        for ind in range(len(self.client_locations)):\n",
    "            for loc in self.client_locations[ind]:\n",
    "                #Will not assign a client from a visited location to facility that is another visited location\n",
    "                for node in set(self.facility_locations) - (set(self.client_locations[ind])-{loc}):\n",
    "                    self.Y[address(ind, loc, node)] = self.solver.NumVar(0, 1, f\"y_{ind, loc, node}\")\n",
    "        \n",
    "        self.w = self.solver.NumVar(0, self.solver.infinity(), 'w')\n",
    "        \n",
    "        print('Number of variables =', self.solver.NumVariables())\n",
    "\n",
    "my_lp = LP(100)"
   ]
  },
  {
   "cell_type": "code",
   "execution_count": null,
   "metadata": {},
   "outputs": [],
   "source": [
    "potential_facility_locations = set(LOCATION_ASSIGNMENTS.iloc[range(s)].lid)\n",
    "\n",
    "#Remove homes from the client_location lists\n",
    "#TODO: Perhaps create mapping for the indices of people before exclusion and after?\n",
    "client_locations_excluded = []\n",
    "for person in CLIENT_LOCATIONS.lid:\n",
    "    new_list = list(set(person[1:]).intersection(potential_facility_locations))\n",
    "    if len(new_list)>0:\n",
    "        client_locations_excluded.append(new_list)\n"
   ]
  },
  {
   "cell_type": "code",
   "execution_count": null,
   "metadata": {},
   "outputs": [],
   "source": [
    "LOCATIONS, LOCATION_ASSIGNMENTS, CLIENT_LOCATIONS = create_location_data()"
   ]
  },
  {
   "cell_type": "code",
   "execution_count": null,
   "metadata": {},
   "outputs": [],
   "source": [
    "loc_dict = {'lid':[5, 10, 15], 'latitude':[0, 1, -1], 'longitude':[0, -1, 1]}\n",
    "loc_assign_dict = {'lid':[0, 1, 2], 'activity':[2, 5, 10]}\n",
    "client_loc_dict = {'pid':[0, 1, 2], 'lid':[[0, 1], [0, 2], [0, 1, 2]]}\n",
    "LOCATIONS, LOCATION_ASSIGNMENTS, CLIENT_LOCATIONS = pd.DataFrame.from_dict(loc_dict), pd.DataFrame.from_dict(loc_assign_dict), pd.DataFrame.from_dict(client_loc_dict)\n",
    "\n",
    "print(LOCATIONS.head())\n",
    "print(LOCATION_ASSIGNMENTS.head())\n",
    "print(CLIENT_LOCATIONS.head())"
   ]
  },
  {
   "cell_type": "code",
   "execution_count": null,
   "metadata": {},
   "outputs": [
    {
     "name": "stdout",
     "output_type": "stream",
     "text": [
      "       pid                                                lid\n",
      "0  5586585  [12796, 2934, 4586, 1313, 3456, 915, 3246, 294...\n",
      "1  5586586  [12796, 8293, 4404, 1681, 8025, 527, 5924, 332...\n",
      "2  5586591  [12892, 5162, 5143, 2738, 4481, 7223, 5697, 51...\n",
      "3  5586592  [12892, 4887, 8984, 8264, 4233, 8072, 2825, 62...\n",
      "4  5586593  [12893, 3557, 8648, 7199, 3152, 6727, 8025, 86...\n",
      "------------IND ROUNDING------------------\n",
      "30\n",
      "29354\n",
      "Number of variables = 3222811\n"
     ]
    }
   ],
   "source": [
    "from utils import *\n",
    "\n",
    "def test_function(k:int):\n",
    "    print(CLIENT_LOCATIONS.head())\n",
    "    \n",
    "    '''print(\"------------IND ROUNDING------------------\")\n",
    "    X_ind, Y_ind = independent_LP(k)\n",
    "    format_location_output(X_ind, Y_ind)\n",
    "    print(\"Recalculated Objective Value: \\t\" + str(calculate_objective(Y_ind)))'''\n",
    "    \n",
    "    '''print(\"------------INTEGER LP--------------------\")\n",
    "    X_int, Y_int = integer_LP(k)\n",
    "    format_location_output(X_int, Y_int)\n",
    "    print(\"Recalculated Objective Value: \\t\" + str(calculate_objective(Y_int)))\n",
    "    \n",
    "    print(\"------------DEP ROUNDING-----------------\")\n",
    "    X_dep, Y_dep = dependent_LP(k)\n",
    "    format_location_output(X_dep, Y_dep)\n",
    "    print(\"Recalculated Objective Value: \\t\" + str(calculate_objective(Y_dep)))\n",
    "    '''\n",
    "    '''print(\"----------------FPT----------------------\")\n",
    "    X_fpt, Y_fpt = fpt(k, 5)\n",
    "    format_location_output(X_fpt, Y_fpt)\n",
    "    print(\"Recalculated Objective Value: \\t\" + str(calculate_objective(Y_fpt)))'''\n",
    "    \n",
    "    print(\"----------Center of Homes----------------\")\n",
    "    X_home, Y_home = center_of_homes(k)\n",
    "    format_location_output(X_home, Y_home)\n",
    "    print(\"Recalculated Objective Value: \\t\" + str(calculate_objective(Y_home)))\n",
    "    \n",
    "    '''print(\"----------Center of Centers--------------\")\n",
    "    X_center, Y_center = center_of_centers(k)\n",
    "    format_location_output(X_center, Y_center)\n",
    "    print(\"Recalculated Objective Value: \\t\" + str(calculate_objective(Y_center)))'''\n",
    "\n",
    "test_function(20)"
   ]
  },
  {
   "cell_type": "code",
   "execution_count": 20,
   "metadata": {},
   "outputs": [],
   "source": [
    "HOME_SHIFT=1000000000\n",
    "\n",
    "def create_location_data():\n",
    "    \"\"\"\n",
    "    RETURNS\n",
    "    --------\n",
    "    locations: pd.DataFrame\n",
    "        Contains lid (location id), latitude, longitude\n",
    "        Index is used as a key for the lid\n",
    "    assignments: pd.DataFrame\n",
    "        Contains lid_index (the index mapping to each lid from locations), a set of pid (personal ids) visiting those locations, \n",
    "        and activity (the size of the set) as a measure of popularity\n",
    "    client_locations: pd.DataFrame\n",
    "        Contains pid, set of lid_index visited by each pid with the home location as the first element\n",
    "    \"\"\"\n",
    "    \n",
    "    #Read in both the activity and residence locations\n",
    "    df_activity = pd.read_csv(\"usa_va_charlottesville_city_activity_locations.csv\").rename({\"alid\": \"lid\"}, axis = 'columns')\n",
    "    df_residence = pd.read_csv(\"usa_va_charlottesville_city_residence_locations.csv\")\n",
    "    \n",
    "    #Shift the residence lid\n",
    "    df_residence['rlid'] = df_residence['rlid'].apply(lambda x: x+HOME_SHIFT)\n",
    "    df_residence = df_residence.rename({\"rlid\": \"lid\"}, axis = 'columns')\n",
    "    locations = pd.concat([df_activity[['lid', 'longitude', 'latitude']], df_residence[['lid', 'longitude', 'latitude']]]).reset_index(drop = True)\n",
    "    \n",
    "    #Create a reverse mapping, mapping the lid to the index\n",
    "    location_dict = locations[['lid']]\n",
    "    location_dict.reset_index(inplace=True)\n",
    "    location_dict = location_dict.set_index('lid')\n",
    "    \n",
    "    #Read in the client visited locations data (adults only for now)\n",
    "    client_locations = pd.read_csv(\"usa_va_charlottesville_city_adult_activity_location_assignment_week.csv\")\n",
    "    \n",
    "    #Get the coordinates of all the residential locations\n",
    "    #home_coords = client_locations.loc[client_locations.activity_type==1, ['latitude', 'longitude']]\n",
    "    #home_coords = set(home_coords[['latitude', 'longitude']].apply(tuple, axis=1).tolist())\n",
    "    home_coords = set(df_residence[['latitude', 'longitude']].apply(tuple, axis=1).tolist())\n",
    "    \n",
    "    #Shift lids for residential areas\n",
    "    client_locations['home'] = client_locations.apply(lambda x: True if (x.loc['latitude'], x.loc['longitude']) in home_coords else False, axis = 1)\n",
    "    client_locations.loc[client_locations.home == True, 'lid'] += HOME_SHIFT\n",
    "    \n",
    "    #Popularity of locations, which locations are visited by which individuals\n",
    "    assignments = client_locations.copy()\n",
    "    assignments = assignments.groupby(['lid'])['pid'].apply(set).reset_index(name = 'pid')\n",
    "    assignments['lid'] = assignments['lid'].apply(lambda x: location_dict.loc[x, 'index'])\n",
    "    assignments['activity'] = assignments['pid'].apply(lambda x: len(x))\n",
    "    assignments = assignments.sort_values(by = 'activity', ascending = False).reset_index(drop = True)\n",
    "    \n",
    "    client_locations = client_locations.groupby(['pid'])['lid'].apply(set).reset_index(name = 'lid')\n",
    "\n",
    "    #Replace lid with the index of the lid in locations\n",
    "    def filter(x):\n",
    "        return_list = []\n",
    "        for i in x:\n",
    "            #Insert home locations at the front of the list\n",
    "            if (i>HOME_SHIFT):\n",
    "                return_list.insert(0, location_dict.loc[i, 'index'])\n",
    "            else:\n",
    "                return_list.append(location_dict.loc[i, 'index'])\n",
    "        return return_list\n",
    "\n",
    "    client_locations['lid'] = client_locations['lid'].apply(lambda x: filter(x))\n",
    "\n",
    "    return locations, assignments, client_locations\n",
    "\n",
    "LOCATIONS, LOCATION_ASSIGNMENTS, CLIENT_LOCATIONS = create_location_data()"
   ]
  },
  {
   "cell_type": "code",
   "execution_count": 21,
   "metadata": {},
   "outputs": [
    {
     "name": "stdout",
     "output_type": "stream",
     "text": [
      "    lid                                                pid  activity\n",
      "0  3996  {5603328, 5603334, 5603337, 5603343, 5603347, ...      5609\n",
      "1  4887  {5603332, 5603335, 5603352, 5603361, 5603366, ...      5547\n",
      "2  8559  {5603330, 5603334, 5603362, 5603373, 5603381, ...      5485\n",
      "3  5162  {5603348, 5603365, 5603383, 5603385, 5603389, ...      5485\n",
      "4  8266  {5603345, 5603346, 5603347, 5603372, 5603373, ...      5470\n",
      "3996\n"
     ]
    },
    {
     "ename": "NameError",
     "evalue": "name 'LOCATIONS_ASSIGNMENTS' is not defined",
     "output_type": "error",
     "traceback": [
      "\u001b[0;31m---------------------------------------------------------------------------\u001b[0m",
      "\u001b[0;31mNameError\u001b[0m                                 Traceback (most recent call last)",
      "\u001b[0;32m<ipython-input-21-ac91dc16a354>\u001b[0m in \u001b[0;36m<module>\u001b[0;34m\u001b[0m\n\u001b[1;32m      4\u001b[0m \u001b[0mboo\u001b[0m \u001b[0;34m=\u001b[0m \u001b[0;32mTrue\u001b[0m\u001b[0;34m\u001b[0m\u001b[0;34m\u001b[0m\u001b[0m\n\u001b[1;32m      5\u001b[0m \u001b[0mprint\u001b[0m\u001b[0;34m(\u001b[0m\u001b[0mlid\u001b[0m\u001b[0;34m)\u001b[0m\u001b[0;34m\u001b[0m\u001b[0;34m\u001b[0m\u001b[0m\n\u001b[0;32m----> 6\u001b[0;31m \u001b[0mprint\u001b[0m\u001b[0;34m(\u001b[0m\u001b[0mLOCATIONS_ASSIGNMENTS\u001b[0m\u001b[0;34m.\u001b[0m\u001b[0mlid\u001b[0m\u001b[0;34m.\u001b[0m\u001b[0mto_list\u001b[0m\u001b[0;34m(\u001b[0m\u001b[0;34m)\u001b[0m\u001b[0;34m)\u001b[0m\u001b[0;34m\u001b[0m\u001b[0;34m\u001b[0m\u001b[0m\n\u001b[0m\u001b[1;32m      7\u001b[0m \u001b[0;32mfor\u001b[0m \u001b[0mp\u001b[0m \u001b[0;32min\u001b[0m \u001b[0mLOCATION_ASSIGNMENTS\u001b[0m\u001b[0;34m.\u001b[0m\u001b[0mloc\u001b[0m\u001b[0;34m[\u001b[0m\u001b[0;36m0\u001b[0m\u001b[0;34m,\u001b[0m \u001b[0;34m'pid'\u001b[0m\u001b[0;34m]\u001b[0m\u001b[0;34m:\u001b[0m\u001b[0;34m\u001b[0m\u001b[0;34m\u001b[0m\u001b[0m\n\u001b[1;32m      8\u001b[0m     \u001b[0mprint\u001b[0m\u001b[0;34m(\u001b[0m\u001b[0mp\u001b[0m\u001b[0;34m)\u001b[0m\u001b[0;34m\u001b[0m\u001b[0;34m\u001b[0m\u001b[0m\n",
      "\u001b[0;31mNameError\u001b[0m: name 'LOCATIONS_ASSIGNMENTS' is not defined"
     ]
    }
   ],
   "source": [
    "print(LOCATION_ASSIGNMENTS.head())\n",
    "\n",
    "lid = LOCATION_ASSIGNMENTS.loc[0, 'lid']\n",
    "boo = True\n",
    "print(lid)\n",
    "#print(LOCATIONS_ASSIGNMENTS.lid.to_list())\n",
    "for p in LOCATION_ASSIGNMENTS.loc[0, 'pid']:\n",
    "    print(p)\n",
    "    print(CLIENT_LOCATIONS.loc[CLIENT_LOCATIONS.pid==p, 'lid'])\n",
    "    if not lid in CLIENT_LOCATIONS.loc[CLIENT_LOCATIONS.pid==p].lid:\n",
    "        print(\"FALSE\")"
   ]
  },
  {
   "cell_type": "code",
   "execution_count": 50,
   "metadata": {},
   "outputs": [
    {
     "name": "stdout",
     "output_type": "stream",
     "text": [
      "33156\n"
     ]
    }
   ],
   "source": [
    "print(len(set(CLIENT_LOCATIONS.pid.tolist())))"
   ]
  },
  {
   "cell_type": "code",
   "execution_count": null,
   "metadata": {},
   "outputs": [],
   "source": [
    "potential_facility_locations = LOCATION_ASSIGNMENTS.iloc[range(20)].lid.tolist()\n",
    "#print(potential_facility_locations)\n",
    "homes = [locs[0] for locs in CLIENT_LOCATIONS.lid]\n",
    "\n",
    "locations = [i for i in potential_facility_locations if i not in homes]\n",
    "print(locations)\n",
    "#if LOCATIONS.loc[h, 'lid']:\n",
    "#  print(\"FALSE\")\n",
    "\n",
    "clients = homes\n",
    "\n",
    "#for c in clients:\n",
    "    #print(min([calculate_distance(c, f) for f in locations]))\n",
    "#max_min_dist = max([min([calculate_distance(c, f) for f in locations]) for c in clients])\n",
    "#print(max_min_dist)"
   ]
  },
  {
   "cell_type": "code",
   "execution_count": null,
   "metadata": {},
   "outputs": [],
   "source": [
    "for client in CLIENT_LOCATIONS.lid:\n",
    "    print(client)"
   ]
  }
 ],
 "metadata": {
  "kernelspec": {
   "display_name": "Python [conda env:.conda-facility]",
   "language": "python",
   "name": "conda-env-.conda-facility-py"
  },
  "language_info": {
   "codemirror_mode": {
    "name": "ipython",
    "version": 3
   },
   "file_extension": ".py",
   "mimetype": "text/x-python",
   "name": "python",
   "nbconvert_exporter": "python",
   "pygments_lexer": "ipython3",
   "version": "3.9.5"
  }
 },
 "nbformat": 4,
 "nbformat_minor": 5
}
