{
 "cells": [
  {
   "cell_type": "code",
   "execution_count": 4,
   "metadata": {},
   "outputs": [
    {
     "name": "stdout",
     "output_type": "stream",
     "text": [
      "The autoreload extension is already loaded. To reload it, use:\n",
      "  %reload_ext autoreload\n"
     ]
    }
   ],
   "source": [
    "%load_ext autoreload\n",
    "%autoreload 2\n",
    "\n",
    "import random\n",
    "import pandas\n",
    "from typing import Dict, List, Tuple, Set\n",
    "from problem import *\n",
    "from round import *\n",
    "from heuristics import *\n",
    "from utils import *\n",
    "import matplotlib.pyplot as plt"
   ]
  },
  {
   "cell_type": "code",
   "execution_count": 5,
   "metadata": {},
   "outputs": [
    {
     "data": {
      "text/plain": [
       "[]"
      ]
     },
     "execution_count": 5,
     "metadata": {},
     "output_type": "execute_result"
    },
    {
     "data": {
      "image/png": "[encoded data removed]",
      "text/plain": [
       "<Figure size 432x288 with 1 Axes>"
      ]
     },
     "metadata": {
      "needs_background": "light"
     },
     "output_type": "display_data"
    }
   ],
   "source": [
    "df_activity = pd.read_csv(\"usa_va_charlottesville_city_activity_locations.csv\").rename({\"alid\": \"lid\"}, axis = 'columns')\n",
    "df_residence = pd.read_csv(\"usa_va_charlottesville_city_residence_locations.csv\")\n",
    "\n",
    "#Shift the residence lid\n",
    "df_residence['lid'] = df_residence['rlid'] + HOME_SHIFT\n",
    "locations = pd.concat([df_activity[['lid', 'longitude', 'latitude']], df_residence[['lid', 'longitude', 'latitude']]]).reset_index(drop = True)\n",
    "\n",
    "#Read in the client visited locations data (adults only for now)\n",
    "client_locations = pd.read_csv(\"usa_va_charlottesville_city_adult_activity_location_assignment_week.csv\")\n",
    "\n",
    "#Get the coordinates of all the residential locations\n",
    "home_coords = set(df_residence[['latitude', 'longitude']].apply(tuple, axis=1).tolist())\n",
    "\n",
    "#Shift lids for residential areas\n",
    "client_locations['coord'] = client_locations[['latitude', 'longitude']].apply(lambda x: (x.latitude, x.longitude), axis = 1)\n",
    "client_locations.loc[client_locations.coord.isin(home_coords), 'lid'] += HOME_SHIFT\n",
    "\n",
    "#Popularity of locations, which locations are visited by which individuals\n",
    "assignments = client_locations.copy()\n",
    "assignments = assignments.groupby(['lid'])['hid'].apply(set).reset_index(name = 'hid')\n",
    "assignments = assignments.set_index('lid')\n",
    "assignments['activity'] = assignments['hid'].apply(lambda x: len(x))\n",
    "\n",
    "locations['activity'] = locations['lid'].apply(lambda x: assignments.at[x, 'activity'] if x in assignments.index else 0)\n",
    "locations = locations.sort_values(by = 'activity', ascending = False).reset_index(drop = True)\n",
    "\n",
    "client_locations = client_locations.groupby(['hid'])['lid'].apply(set).reset_index(name = 'lid')\n",
    "\n",
    "#Replace lid with the index of the lid in locations\n",
    "def filter(x):\n",
    "    return_list = []\n",
    "    for i in x:\n",
    "        #Insert home locations at the front of the list\n",
    "        if (i>HOME_SHIFT):\n",
    "            return_list.insert(0, locations.loc[locations.lid==i].index[0])\n",
    "        else:\n",
    "            return_list.append(locations.loc[locations.lid==i].index[0])\n",
    "    return return_list\n",
    "\n",
    "client_locations['lid'] = client_locations['lid'].apply(lambda x: filter(x))\n",
    "\n",
    "client_locations['act'] = client_locations['lid'].apply(lambda x: len(x))\n",
    "plt.hist(client_locations.act.tolist(), bins = 50)\n",
    "plt.plot()"
   ]
  },
  {
   "cell_type": "code",
   "execution_count": 6,
   "metadata": {},
   "outputs": [
    {
     "data": {
      "text/plain": [
       "[<matplotlib.lines.Line2D at 0x7fe9dbc6b640>]"
      ]
     },
     "execution_count": 6,
     "metadata": {},
     "output_type": "execute_result"
    },
    {
     "data": {
      "image/png": "[encoded data removed]",
      "text/plain": [
       "<Figure size 432x288 with 1 Axes>"
      ]
     },
     "metadata": {
      "needs_background": "light"
     },
     "output_type": "display_data"
    }
   ],
   "source": [
    "plot_x = []\n",
    "plot_y = []\n",
    "\n",
    "total_clients = len(client_locations)\n",
    "\n",
    "for i in range(0, 102, 2):\n",
    "    number_selected = i\n",
    "    covered = set()\n",
    "\n",
    "    #print(locations[:number_selected].lid)\n",
    "    for ind in range(i):\n",
    "        loc = locations.at[ind, 'lid']\n",
    "        if loc in assignments.index:\n",
    "            covered = covered.union(assignments.at[loc, 'hid'])\n",
    "    \n",
    "    plot_x.append(i)\n",
    "    plot_y.append(len(covered)/total_clients)\n",
    "\n",
    "plt.plot(plot_x, plot_y)"
   ]
  },
  {
   "cell_type": "code",
   "execution_count": 11,
   "metadata": {},
   "outputs": [
    {
     "name": "stdout",
     "output_type": "stream",
     "text": [
      "100 0.9923813670004353\n"
     ]
    }
   ],
   "source": [
    "print(plot_x[50], plot_y[50])"
   ]
  },
  {
   "cell_type": "code",
   "execution_count": null,
   "metadata": {},
   "outputs": [],
   "source": [
    "import time\n",
    "\n",
    "# TODO: change k-supplier back to list (precomputed) + put locate_facilities at bottom + try with 20\n",
    "# TODO: maybe parallel (but make someone else do that)\n",
    "def fpt(k: int, s: int):\n",
    "    \"\"\"\n",
    "    Assumes the number of locations visited by clients is bounded by a constant\n",
    "    Run k-supplier on all combination sets of locations that will be covered by facilities. Select the guess and its open facilities with the smallest objective value.\n",
    "    \n",
    "    PARAMETERS\n",
    "    ----------\n",
    "    k : int\n",
    "        number of facilities to be opened\n",
    "    \n",
    "    RETURNS\n",
    "    ----------\n",
    "    facilities : List[int]\n",
    "        contains facility indices that are open\n",
    "    assignments : List[Tuple[int, int]]\n",
    "        visited location and facility assignment indexed by each client\n",
    "    \"\"\"\n",
    "    potential_facility_locations = list(range(s))\n",
    "    \n",
    "    #Remove homes from the client_location lists\n",
    "    #TODO: Perhaps create mapping for the indices of people before exclusion and after?\n",
    "    client_locations_excluded = []\n",
    "    for person in CLIENT_LOCATIONS.values():\n",
    "        new_list = [p for p in person['lid'][1:] if p in potential_facility_locations]\n",
    "        if len(new_list)>0:\n",
    "            client_locations_excluded.append(new_list)\n",
    "    \n",
    "    locations = [i for i in range(len(LOCATIONS)) if LOCATIONS[i]['lid'] < HOME_SHIFT]\n",
    "    \n",
    "    #Select the guess and resulting facilities that yield the smallest objective value with k-supplier\n",
    "    min_obj_guess: Tuple[int, List[int], Dict[Tuple[int, int, int]:int]] = (math.inf, [], {})\n",
    "    \n",
    "    counter = 0\n",
    "    # TODO : allow all the locations to be facility ones\n",
    "    for guess in powerset(list(potential_facility_locations)):\n",
    "        start = time.time()\n",
    "        if len(guess)==0: continue\n",
    "        \n",
    "        facilities = _k_supplier2(list(set(guess)), locations, k)\n",
    "        assignments, obj_value = assign_client_facilities(client_locations_excluded, facilities)\n",
    "        \n",
    "        \n",
    "        if obj_value < min_obj_guess[0]:\n",
    "            min_obj_guess = (obj_value, facilities, assignments)\n",
    "        \n",
    "        end = time.time()\n",
    "        counter+=1\n",
    "        \n",
    "        print(counter, obj_value, end-start)\n",
    "    return min_obj_guess[1], assign_facilities(min_obj_guess[1])"
   ]
  },
  {
   "cell_type": "code",
   "execution_count": null,
   "metadata": {},
   "outputs": [],
   "source": [
    "def _k_supplier2(clients: List[int], locations: List[int], k: int):\n",
    "    \"\"\"\n",
    "    Solves k-supplier (where client locations and facility locations may not overlap) with Hochbaum-Shmoys\n",
    "    3-approximation algorithm\n",
    "    \n",
    "    PARAMETERS\n",
    "    ----------\n",
    "    distance\n",
    "        diagonally-filled adjacency matrix for distances between locations\n",
    "    clients\n",
    "        each client is associated with a singular location\n",
    "    locations\n",
    "        points of interest at which facilities can be opened\n",
    "    k\n",
    "        number of facilities to be opened\n",
    "    \n",
    "    RETURNS\n",
    "    ----------\n",
    "    facilities : List[int]\n",
    "        the facility locations that are open\n",
    "    \"\"\"\n",
    "    possible_radius = []\n",
    "    \n",
    "    l = 0\n",
    "    r = len(possible_radius)\n",
    "    to_ret = -1\n",
    "    \n",
    "    while l<=r:\n",
    "    \n",
    "        mid = l + (r - l) / 2\n",
    "\n",
    "        if len(_check_radius(possible_radius[mid], clients)) <= k:\n",
    "            to_ret = mid\n",
    "            r = mid - 1\n",
    "        else:\n",
    "            l = mid + 1\n",
    "    \n",
    "    return _locate_facilities(possible_radius[to_ret],_check_radius(possible_radius[to_ret], clients), locations, k)\n",
    "\n",
    "def _check_radius(radius: int, clients: List[int]):\n",
    "    \"\"\"Determine the maximal independent set of pairiwse independent client balls with given radius\n",
    "    \n",
    "    PARAMETERS\n",
    "    ----------\n",
    "    radius\n",
    "        from the binary search\n",
    "    distances\n",
    "        diagonally-filled adjacency matrix for distances between locations\n",
    "    clients\n",
    "        each client is associated with a singular location\n",
    "    \n",
    "    RETURNS\n",
    "    ----------\n",
    "    pairwise_disjoint\n",
    "        maximal independent pairwise disjoint set of clients, where disjoint is defined as greater than a distance\n",
    "        of 2*radius apart\n",
    "    \"\"\"\n",
    "    \n",
    "    pairwise_disjoint = set()\n",
    "    \n",
    "    V = set(clients)\n",
    "    while len(V)!=0:\n",
    "        v = V.pop()\n",
    "        pairwise_disjoint.add(v)\n",
    "        \n",
    "        remove = set()\n",
    "        for i in V:\n",
    "            if calculate_distance(v, i) <= 2*radius:\n",
    "                remove.add(i)\n",
    "        V-=remove\n",
    "    \n",
    "    return pairwise_disjoint\n",
    "\n",
    "def _locate_facilities(radius: int, pairwise_disjoint: Set[int], locations: List[int], k: int):\n",
    "    \"\"\"Select a facility to open within the given radius for each pairwise_disjoint client\n",
    "    \n",
    "    PARAMETERS\n",
    "    ----------\n",
    "    radius\n",
    "        from the binary search\n",
    "    distances\n",
    "        diagonally-filled adjacency matrix for distances between locations\n",
    "    pairwise_disjoint\n",
    "        clients that are not within a distance of 2*radius from one another\n",
    "    locations\n",
    "        points of interest where facilities can be opened\n",
    "    k\n",
    "        number of facilities to be opened\n",
    "    \n",
    "    RETURNS\n",
    "    ----------\n",
    "    facilities: List[int]\n",
    "        the locations at which facilities are opened\n",
    "    \"\"\"\n",
    "    \n",
    "    facilities = set()\n",
    "    for c in pairwise_disjoint:\n",
    "        for l in locations:\n",
    "            if calculate_distance(c, l) <= radius:\n",
    "                facilities.add(l)\n",
    "                break\n",
    "    \n",
    "    if len(facilities) < len(pairwise_disjoint):\n",
    "        return None\n",
    "    \n",
    "    #Check if k larger than the number of possible facility locations\n",
    "    k = min(k, len(locations))\n",
    "    \n",
    "    #Randomly add facilities for leftover budget\n",
    "    if k>len(facilities):\n",
    "        unopened_facilities = set(locations)-facilities\n",
    "        for i in range(k-len(facilities)):\n",
    "            facilities.add(unopened_facilities.pop())\n",
    "    \n",
    "    return list(facilities)"
   ]
  }
 ],
 "metadata": {
  "kernelspec": {
   "display_name": "Python [conda env:.conda-facility]",
   "language": "python",
   "name": "conda-env-.conda-facility-py"
  },
  "language_info": {
   "codemirror_mode": {
    "name": "ipython",
    "version": 3
   },
   "file_extension": ".py",
   "mimetype": "text/x-python",
   "name": "python",
   "nbconvert_exporter": "python",
   "pygments_lexer": "ipython3",
   "version": "3.9.5"
  }
 },
 "nbformat": 4,
 "nbformat_minor": 4
}
