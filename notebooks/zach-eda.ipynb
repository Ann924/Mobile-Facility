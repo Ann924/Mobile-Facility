{
 "cells": [
  {
   "cell_type": "code",
   "execution_count": 58,
   "id": "abbfd597",
   "metadata": {},
   "outputs": [
    {
     "name": "stdout",
     "output_type": "stream",
     "text": [
      "The autoreload extension is already loaded. To reload it, use:\n",
      "  %reload_ext autoreload\n"
     ]
    }
   ],
   "source": [
    "%load_ext autoreload\n",
    "%autoreload 2\n",
    "\n",
    "import random\n",
    "import pandas as pd\n",
    "from typing import Dict, List, Tuple, Set\n",
    "from src.problem import *\n",
    "from src.round import *\n",
    "from src.heuristics import *\n",
    "from src.utils import *\n",
    "import folium\n",
    "import numpy as np\n",
    "from folium.plugins import FastMarkerCluster, MarkerCluster"
   ]
  },
  {
   "cell_type": "code",
   "execution_count": 6,
   "id": "8c52dab0",
   "metadata": {
    "scrolled": true
   },
   "outputs": [
    {
     "name": "stdout",
     "output_type": "stream",
     "text": [
      "Once deleted, variables cannot be recovered. Proceed (y/[n])? \n",
      "Nothing done.\n"
     ]
    }
   ],
   "source": [
    "%reset"
   ]
  },
  {
   "cell_type": "code",
   "execution_count": 10,
   "id": "08a71135",
   "metadata": {},
   "outputs": [],
   "source": [
    "RAW_DATA_DIR = PROJECT_ROOT / 'data' / 'raw'"
   ]
  },
  {
   "cell_type": "code",
   "execution_count": 14,
   "id": "9e7eae3f",
   "metadata": {},
   "outputs": [],
   "source": [
    "#usa_va_charlottesville_city_adult_activity_location_assignment_week.csv\n",
    "adult_df = pd.read_csv(RAW_DATA_DIR / \"usa_va_charlottesville_city_adult_activity_location_assignment_week.csv\")\n",
    "activity_df = pd.read_csv(RAW_DATA_DIR / \"usa_va_charlottesville_city_activity_locations.csv\")\n",
    "res_df = pd.read_csv(RAW_DATA_DIR / \"usa_va_charlottesville_city_residence_locations.csv\")"
   ]
  },
  {
   "cell_type": "code",
   "execution_count": 54,
   "id": "cb7afecf",
   "metadata": {},
   "outputs": [
    {
     "name": "stdout",
     "output_type": "stream",
     "text": [
      "STATS: \n",
      "Median Location: 38.0343860620992, -78.4777895378472\n",
      "Number of Locations: 19203\n"
     ]
    }
   ],
   "source": [
    "locations_head = [LOCATIONS[i] for i in range(100)]\n",
    "locations_head\n",
    "\n",
    "MEDIAN_LONG = np.median(list(v['longitude'] for k, v in LOCATIONS.items()))\n",
    "MEDIAN_LAT = np.median(list(v['latitude'] for k, v in LOCATIONS.items()))\n",
    "\n",
    "print('STATS: ')\n",
    "print(f'Median Location: {MEDIAN_LAT}, {MEDIAN_LONG}')\n",
    "print(f'Number of Locations: {len(LOCATIONS)}')"
   ]
  },
  {
   "cell_type": "code",
   "execution_count": null,
   "id": "fe35147e",
   "metadata": {},
   "outputs": [],
   "source": [
    "dc_coord = [38.9072, -77.0369]\n",
    "geo_map = folium.Map(location=[MEDIAN_LAT, MEDIAN_LONG], zoom_start=12)\n",
    "m_cluster = MarkerCluster().add_to(geo_map)\n",
    "\n",
    "for loc in list(LOCATIONS.values()):\n",
    "    folium.Marker(\n",
    "        [loc['latitude'], loc['longitude']], popup=f\"<div><b>lid</b>: {loc['lid']} <b>Activity</b>: {loc['activity']}<br/></div>\", tooltip=loc['lid']\n",
    "    ).add_to(m_cluster)\n",
    "geo_map"
   ]
  },
  {
   "cell_type": "code",
   "execution_count": null,
   "id": "046ce8ed",
   "metadata": {},
   "outputs": [],
   "source": []
  }
 ],
 "metadata": {
  "kernelspec": {
   "display_name": "Python 3",
   "language": "python",
   "name": "python3"
  },
  "language_info": {
   "codemirror_mode": {
    "name": "ipython",
    "version": 3
   },
   "file_extension": ".py",
   "mimetype": "text/x-python",
   "name": "python",
   "nbconvert_exporter": "python",
   "pygments_lexer": "ipython3",
   "version": "3.9.6"
  }
 },
 "nbformat": 4,
 "nbformat_minor": 5
}
