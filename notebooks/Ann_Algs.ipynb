{
 "cells": [
  {
   "cell_type": "code",
   "execution_count": 1,
   "metadata": {},
   "outputs": [],
   "source": [
    "%load_ext autoreload\n",
    "%autoreload 2\n",
    "\n",
    "import random\n",
    "import ray\n",
    "import pandas\n",
    "from typing import Dict, List, Tuple, Set\n",
    "from mobile import PROJECT_ROOT\n",
    "from mobile.utils import *\n",
    "from mobile.heuristics import *\n",
    "import matplotlib.pyplot as plt"
   ]
  },
  {
   "cell_type": "code",
   "execution_count": 10,
   "metadata": {},
   "outputs": [
    {
     "name": "stdin",
     "output_type": "stream",
     "text": [
      "Once deleted, variables cannot be recovered. Proceed (y/[n])?  y\n"
     ]
    }
   ],
   "source": [
    "%reset"
   ]
  },
  {
   "cell_type": "code",
   "execution_count": 45,
   "metadata": {},
   "outputs": [
    {
     "data": {
      "image/png": "[encoded data removed]",
      "text/plain": [
       "<Figure size 432x288 with 1 Axes>"
      ]
     },
     "metadata": {
      "needs_background": "light"
     },
     "output_type": "display_data"
    }
   ],
   "source": [
    "import json\n",
    "import numpy as np\n",
    "with open(PROJECT_ROOT/ 'output'/ 'runs'/ 'charlottesville_city' / 'kernel_check.json', 'r') as f:\n",
    "    data = json.load(f)\n",
    "\n",
    "counts = {}\n",
    "for key in data.keys():\n",
    "    for fac in data[key]['facilities']:\n",
    "        if fac in counts.keys():\n",
    "            counts[fac] += 1\n",
    "        else:\n",
    "            counts[fac] = 1\n",
    "\n",
    "x = []\n",
    "y = []\n",
    "for c in counts.keys():\n",
    "    x.append(c)\n",
    "    y.append(counts[c])\n",
    "\n",
    "plt.bar(x, y)\n",
    "plt.xlabel(\"Facility Location ID\")\n",
    "plt.ylabel(\"Frequency of Facility Chosen\")\n",
    "plt.title(\"Frequency of Chosen Facilities\")\n",
    "plt.savefig(PROJECT_ROOT/\"output\"/\"plots\"/\"charlottesville_city\"/\"kernel_fpt.png\", dpi = 300)"
   ]
  },
  {
   "cell_type": "code",
   "execution_count": 46,
   "metadata": {},
   "outputs": [
    {
     "name": "stdout",
     "output_type": "stream",
     "text": [
      "5 [0, 35, 8, 10, 15]\n",
      "6 [0, 2, 35, 8, 10, 15]\n",
      "7 [2, 35, 5, 8, 10, 15, 24]\n",
      "8 [2, 3, 35, 5, 8, 10, 15, 24]\n",
      "9 [2, 3, 35, 5, 7, 8, 10, 15, 24]\n",
      "10 [0, 2, 3, 35, 7, 8, 9, 10, 15, 24]\n"
     ]
    }
   ],
   "source": [
    "for d in data.keys():\n",
    "    print(d, data[d]['facilities'])"
   ]
  },
  {
   "cell_type": "code",
   "execution_count": 53,
   "metadata": {},
   "outputs": [
    {
     "data": {
      "image/png": "[encoded data removed]",
      "text/plain": [
       "<Figure size 432x288 with 1 Axes>"
      ]
     },
     "metadata": {
      "needs_background": "light"
     },
     "output_type": "display_data"
    }
   ],
   "source": [
    "columns = [d for d in data.keys()]\n",
    "points = []\n",
    "for d in data.keys():\n",
    "    points.append(data[d]['facilities'])\n",
    "\n",
    "for xe, ye in zip(points, columns):\n",
    "    plt.scatter([xe], [ye]*len(xe))\n",
    "\n",
    "plt.xlabel(\"Facility Location Identifier\")\n",
    "plt.ylabel(\"k\")\n",
    "plt.title(\"Frequency of Facilities Selected\")\n",
    "plt.savefig(PROJECT_ROOT/\"output\"/\"plots\"/\"charlottesville_city\"/\"kernel_fpt_scatter.png\", dpi = 300)"
   ]
  },
  {
   "cell_type": "code",
   "execution_count": 49,
   "metadata": {},
   "outputs": [
    {
     "data": {
      "image/png": "[encoded data removed]",
      "text/plain": [
       "<Figure size 432x288 with 1 Axes>"
      ]
     },
     "metadata": {
      "needs_background": "light"
     },
     "output_type": "display_data"
    }
   ],
   "source": [
    "fac_to_trial = {}\n",
    "for d in data.keys():\n",
    "    for fac in data[d]['facilities']:\n",
    "        if fac in fac_to_trial.keys():\n",
    "            fac_to_trial[fac].append(d)\n",
    "        else:\n",
    "            fac_to_trial[fac] = [d]\n",
    "\n",
    "x = []\n",
    "y = []\n",
    "for key in fac_to_trial.keys():\n",
    "    x.append(key)\n",
    "    y.append(fac_to_trial[key])\n",
    "\n",
    "for xe, ye in zip(x, y):\n",
    "    plt.scatter([xe] * len(ye), ye)\n"
   ]
  },
  {
   "cell_type": "code",
   "execution_count": 79,
   "metadata": {},
   "outputs": [],
   "source": [
    "with open(PROJECT_ROOT/ 'output'/ 'runs'/ 'charlottesville_city' / 'kernel_check.json', 'r') as f:\n",
    "    data = json.load(f)\n",
    "\n",
    "counts = {}\n",
    "for key in data.keys():\n",
    "    for fac in data[key]['facilities']:\n",
    "        if fac in counts.keys():\n",
    "            counts[fac] += 1\n",
    "        else:\n",
    "            counts[fac] = 1\n",
    "\n",
    "threshold = 5\n",
    "selected = []\n",
    "for key, val in counts.items():\n",
    "    if val >= threshold:\n",
    "        selected.append(key)\n",
    "\n",
    "assignments = assign_facilities(selected)\n",
    "x = []\n",
    "y = []\n",
    "for i in range(50, 101):\n",
    "    x.append(i)\n",
    "    y.append(calculate_objective(assignments,i))"
   ]
  },
  {
   "cell_type": "code",
   "execution_count": 85,
   "metadata": {},
   "outputs": [],
   "source": [
    "with open(PROJECT_ROOT/ 'output'/ 'runs'/ 'charlottesville_city' / 'kernel_check.json', 'r') as f:\n",
    "    data = json.load(f)\n",
    "\n",
    "counts = {}\n",
    "for key in data.keys():\n",
    "    for fac in data[key]['facilities']:\n",
    "        if fac in counts.keys():\n",
    "            counts[fac] += 1\n",
    "        else:\n",
    "            counts[fac] = 1\n",
    "\n",
    "threshold = 6\n",
    "selected = []\n",
    "for key, val in counts.items():\n",
    "    if val >= threshold:\n",
    "        selected.append(key)\n",
    "\n",
    "assignments = assign_facilities(selected)\n",
    "x = []\n",
    "y = []\n",
    "for i in range(50, 101):\n",
    "    x.append(i)\n",
    "    y.append(calculate_objective(assignments,i))"
   ]
  },
  {
   "cell_type": "code",
   "execution_count": 86,
   "metadata": {},
   "outputs": [
    {
     "data": {
      "text/plain": [
       "1.9432517134650433"
      ]
     },
     "execution_count": 86,
     "metadata": {},
     "output_type": "execute_result"
    }
   ],
   "source": [
    "calculate_objective(assignments, 99)"
   ]
  },
  {
   "cell_type": "code",
   "execution_count": 87,
   "metadata": {},
   "outputs": [
    {
     "data": {
      "image/png": "[encoded data removed]",
      "text/plain": [
       "<Figure size 432x288 with 1 Axes>"
      ]
     },
     "metadata": {
      "needs_background": "light"
     },
     "output_type": "display_data"
    }
   ],
   "source": [
    "plt.plot(x, y)\n",
    "plt.xlabel(\"Percentile of Coverage\")\n",
    "plt.ylabel(\"Objective Value\")\n",
    "plt.title(\"Coverage of Clients with Selected Facilities\")\n",
    "plt.savefig(PROJECT_ROOT/\"output\"/\"plots\"/\"charlottesville_city\"/\"kernel_fpt_fac_coverage_2.png\", dpi = 300)"
   ]
  },
  {
   "cell_type": "code",
   "execution_count": 26,
   "metadata": {},
   "outputs": [],
   "source": [
    "from mobile.config import LOCATIONS, CLIENT_LOCATIONS"
   ]
  },
  {
   "cell_type": "code",
   "execution_count": 31,
   "metadata": {},
   "outputs": [],
   "source": [
    "always_chosen = [35, 8, 10, 15]\n",
    "assignments = assign_facilities(always_chosen)"
   ]
  },
  {
   "cell_type": "code",
   "execution_count": 33,
   "metadata": {},
   "outputs": [
    {
     "name": "stdout",
     "output_type": "stream",
     "text": [
      "2.9420700260613035\n"
     ]
    }
   ],
   "source": [
    "print(calculate_objective(assignments, 99.9))"
   ]
  },
  {
   "cell_type": "code",
   "execution_count": 72,
   "metadata": {},
   "outputs": [
    {
     "data": {
      "image/png": "[encoded data removed]",
      "text/plain": [
       "<Figure size 432x288 with 1 Axes>"
      ]
     },
     "metadata": {
      "needs_background": "light"
     },
     "output_type": "display_data"
    }
   ],
   "source": [
    "import json\n",
    "import numpy as np\n",
    "with open(PROJECT_ROOT/ 'output'/ 'runs'/ 'charlottesville_city' / 'kernel_check_20.json', 'r') as f:\n",
    "    data = json.load(f)\n",
    "\n",
    "columns = [d for d in data.keys()]\n",
    "points = []\n",
    "for d in data.keys():\n",
    "    points.append(data[d]['facilities'])\n",
    "\n",
    "for xe, ye in zip(points, columns):\n",
    "    plt.scatter([xe], [ye]*len(xe))\n",
    "\n",
    "plt.xlabel(\"Facility Location Identifier\")\n",
    "plt.ylabel(\"k\")\n",
    "plt.title(\"Frequency of Facilities Selected\")\n",
    "plt.xticks(list(range(0, 50, 5)))\n",
    "#plt.show()\n",
    "plt.savefig(PROJECT_ROOT/\"output\"/\"plots\"/\"charlottesville_city\"/\"kernel_fpt_scatter_20.png\", dpi = 300)"
   ]
  },
  {
   "cell_type": "code",
   "execution_count": 76,
   "metadata": {},
   "outputs": [
    {
     "data": {
      "image/png": "[encoded data removed]",
      "text/plain": [
       "<Figure size 432x288 with 1 Axes>"
      ]
     },
     "metadata": {
      "needs_background": "light"
     },
     "output_type": "display_data"
    }
   ],
   "source": [
    "import json\n",
    "import numpy as np\n",
    "with open(PROJECT_ROOT/ 'output'/ 'runs'/ 'charlottesville_city' / 'kernel_check_20.json', 'r') as f:\n",
    "    data = json.load(f)\n",
    "\n",
    "counts = {}\n",
    "for key in data.keys():\n",
    "    for fac in data[key]['facilities']:\n",
    "        if fac in counts.keys():\n",
    "            counts[fac] += 1\n",
    "        else:\n",
    "            counts[fac] = 1\n",
    "\n",
    "x = []\n",
    "y = []\n",
    "for c in counts.keys():\n",
    "    x.append(c)\n",
    "    y.append(counts[c])\n",
    "\n",
    "plt.bar(x, y)\n",
    "plt.xlabel(\"Facility Location ID\")\n",
    "plt.xticks(list(range(0, 50, 5)))\n",
    "plt.ylabel(\"Frequency of Facility Chosen\")\n",
    "plt.title(\"Frequency of Facilities Selected\")\n",
    "\n",
    "plt.savefig(PROJECT_ROOT/\"output\"/\"plots\"/\"charlottesville_city\"/\"kernel_fpt_20.png\", dpi = 300)"
   ]
  },
  {
   "cell_type": "code",
   "execution_count": 99,
   "metadata": {},
   "outputs": [
    {
     "name": "stdout",
     "output_type": "stream",
     "text": [
      "{0: 3, 2: 5, 35: 6, 5: 1, 15: 6, 8: 5, 11: 3, 12: 4, 1: 1, 13: 4, 10: 2, 44: 2, 24: 2, 3: 1}\n"
     ]
    }
   ],
   "source": [
    "with open(PROJECT_ROOT/ 'output'/ 'runs'/ 'charlottesville_city' / 'kernel_check_20.json', 'r') as f:\n",
    "    data = json.load(f)\n",
    "\n",
    "counts = {}\n",
    "for key in data.keys():\n",
    "    for fac in data[key]['facilities']:\n",
    "        if fac in counts.keys():\n",
    "            counts[fac] += 1\n",
    "        else:\n",
    "            counts[fac] = 1\n",
    "\n",
    "print(counts)\n",
    "\n",
    "selected = []\n",
    "for d in counts.keys():\n",
    "    if len(selected) < 5:\n",
    "        selected.append(d)\n",
    "    else:\n",
    "        min_s = min([(counts[selected[i]], selected[i], i) for i in range(len(selected))])\n",
    "        min_s = min_s[2]\n",
    "        if counts[d] > min([counts[k] for k in selected]):\n",
    "            selected[min_s] = d\n",
    "\n",
    "assignments = assign_facilities(selected)\n",
    "x = []\n",
    "y = []\n",
    "for i in range(50, 101):\n",
    "    x.append(i)\n",
    "    y.append(calculate_objective(assignments,i))"
   ]
  },
  {
   "cell_type": "code",
   "execution_count": 100,
   "metadata": {},
   "outputs": [
    {
     "data": {
      "text/plain": [
       "Text(0, 0.5, 'Objective Value')"
      ]
     },
     "execution_count": 100,
     "metadata": {},
     "output_type": "execute_result"
    },
    {
     "data": {
      "image/png": "[encoded data removed]",
      "text/plain": [
       "<Figure size 432x288 with 1 Axes>"
      ]
     },
     "metadata": {
      "needs_background": "light"
     },
     "output_type": "display_data"
    }
   ],
   "source": [
    "plt.plot(x, y)\n",
    "plt.xlabel(\"Percentile of Clients Covered\")\n",
    "plt.ylabel(\"Objective Value\")"
   ]
  },
  {
   "cell_type": "code",
   "execution_count": 102,
   "metadata": {},
   "outputs": [
    {
     "name": "stdout",
     "output_type": "stream",
     "text": [
      "1.4071747017833944\n"
     ]
    }
   ],
   "source": [
    "print(calculate_objective(assignments, 99))"
   ]
  },
  {
   "cell_type": "code",
   "execution_count": 12,
   "metadata": {},
   "outputs": [
    {
     "data": {
      "text/plain": [
       "<matplotlib.collections.PathCollection at 0x7f90f78f6d60>"
      ]
     },
     "execution_count": 12,
     "metadata": {},
     "output_type": "execute_result"
    },
    {
     "data": {
      "image/png": "[encoded data removed]",
      "text/plain": [
       "<Figure size 432x288 with 1 Axes>"
      ]
     },
     "metadata": {
      "needs_background": "light"
     },
     "output_type": "display_data"
    }
   ],
   "source": [
    "import json\n",
    "with open(PROJECT_ROOT/ 'output'/ 'runs'/ 'charlottesville_city' / 'frequent_cover.json', 'r') as f:\n",
    "    data = json.load(f)\n",
    "\n",
    "x = []\n",
    "y = []\n",
    "for key in data.keys():\n",
    "    x.append(float(key))\n",
    "    y.append(data[key]['obj_value'])\n",
    "plt.scatter(x, y)"
   ]
  },
  {
   "cell_type": "code",
   "execution_count": 106,
   "metadata": {},
   "outputs": [
    {
     "data": {
      "image/png": "[encoded data removed]",
      "text/plain": [
       "<Figure size 432x288 with 1 Axes>"
      ]
     },
     "metadata": {
      "needs_background": "light"
     },
     "output_type": "display_data"
    }
   ],
   "source": [
    "#data_list = [(0.5, 2.782585289670091, [195, 425, 12878, 12879, 11153]), (0.6, 2.845709915343544, [7043, 5108, 16121, 12958, 639]), (0.7, 2.8510628784289063, [96, 368, 6961, 1048, 191]), (0.8, 2.8961874068132, [709, 6993, 627, 852, 16091]), (0.9, 2.7700324444990714, [230, 28, 143, 6993, 15964]), (1.0, 2.687221297793657, [473, 589, 12879, 729, 383]), (1.1, 2.7704323076614146, [384, 584, 589, 12879, 603])]\n",
    "#data_list = [(0.5, 2.782585289670091, [195, 425, 12878, 12879, 11153]), (0.6, 2.845709915343544, [7043, 5108, 16121, 12958, 639]), (0.7, 2.8510628784289063, [96, 368, 6961, 1048, 191]), (0.8, 2.8961874068132, [709, 6993, 627, 852, 16091]), (0.9, 2.7700324444990714, [230, 28, 143, 6993, 15964]), (1.0, 2.687221297793657, [473, 589, 12879, 729, 383]), (1.1, 2.7704323076614146, [384, 584, 589, 12879, 603]), (1.2, 2.3306756455266773, [1477, 645, 16138, 430, 793]), (1.3, 2.3306756455266773, [516, 1477, 1544, 6888, 793]), (1.4, 2.2972151843893918, [15840, 846, 720, 13073, 540]), (1.5, 1.8683440379467824, [15840, 16000, 232, 16017, 573]), (1.6, 2.342310065554093, [4960, 672, 930, 453, 6957]), (1.7, 2.01200593873464, [834, 1477, 358, 16017, 1532])]\n",
    "import json\n",
    "with open(PROJECT_ROOT/ 'output'/ 'runs'/ 'charlottesville_city' / 'frequent_cover_narrow.json', 'r') as f:\n",
    "    data = json.load(f)\n",
    "\n",
    "with open(PROJECT_ROOT/ 'output'/ 'runs'/ 'charlottesville_city' / 'frequent_cover.json', 'r') as f:\n",
    "    data_2 = json.load(f)[\"2.0\"]    \n",
    "\n",
    "data[\"2.0\"] = data_2\n",
    "x = []\n",
    "y = []\n",
    "for d in data.keys():\n",
    "    x.append(d)\n",
    "    y.append(data[d][\"obj_value\"])\n",
    "\n",
    "plt.scatter(x, y)\n",
    "plt.xlabel(\"Radius\")\n",
    "plt.ylabel(\"Objective Value\")\n",
    "plt.title(\"Frequency Cover Heuristic\")\n",
    "plt.savefig(PROJECT_ROOT/\"output\"/\"plots\"/'charlottesville_city'/'frequency_cover_heuristic.png', dpi = 300)"
   ]
  },
  {
   "cell_type": "code",
   "execution_count": 109,
   "metadata": {},
   "outputs": [
    {
     "name": "stdout",
     "output_type": "stream",
     "text": [
      "1.8683440379467824\n"
     ]
    }
   ],
   "source": [
    "print(data[\"1.5\"][\"obj_value\"])"
   ]
  },
  {
   "cell_type": "code",
   "execution_count": null,
   "metadata": {},
   "outputs": [],
   "source": [
    "covered = set()\n",
    "for l in LOCATIONS:\n",
    "    for fac in facilities:\n",
    "        if calculate_distance(fac, l) <= radius:\n",
    "            "
   ]
  },
  {
   "cell_type": "code",
   "execution_count": 41,
   "metadata": {},
   "outputs": [
    {
     "data": {
      "image/png": "[encoded data removed]",
      "text/plain": [
       "<Figure size 432x288 with 1 Axes>"
      ]
     },
     "metadata": {
      "needs_background": "light"
     },
     "output_type": "display_data"
    }
   ],
   "source": [
    "import json\n",
    "with open(PROJECT_ROOT/ 'output'/ 'runs'/ 'charlottesville_city' / 'frequent_cover.json', 'r') as f:\n",
    "    data = json.load(f)\n",
    "\n",
    "x = []\n",
    "y = []\n",
    "for key in data.keys():\n",
    "    x.append(float(key))\n",
    "    y.append(data[key]['obj_value'])\n",
    "\n",
    "plt.scatter(x, y)\n",
    "plt.xlabel(\"Radius\")\n",
    "plt.ylabel(\"Objective Value\")\n",
    "plt.title(\"Frequency Cover Heuristic\")\n",
    "plt.savefig(PROJECT_ROOT/\"output\"/\"plots\"/'charlottesville_city'/'frequency_cover_heuristic_large.png', dpi = 300)"
   ]
  },
  {
   "cell_type": "code",
   "execution_count": 13,
   "metadata": {},
   "outputs": [
    {
     "data": {
      "text/plain": [
       "<matplotlib.collections.PathCollection at 0x7f90fb739e50>"
      ]
     },
     "execution_count": 13,
     "metadata": {},
     "output_type": "execute_result"
    },
    {
     "data": {
      "image/png": "[encoded data removed]",
      "text/plain": [
       "<Figure size 432x288 with 1 Axes>"
      ]
     },
     "metadata": {
      "needs_background": "light"
     },
     "output_type": "display_data"
    }
   ],
   "source": [
    "import json\n",
    "with open(PROJECT_ROOT/ 'output'/ 'runs'/ 'charlottesville_city' / 'frequent_cover_small.json', 'r') as f:\n",
    "    data = json.load(f)\n",
    "\n",
    "x = []\n",
    "y = []\n",
    "for key in data.keys():\n",
    "    x.append(float(key))\n",
    "    y.append(data[key]['obj_value'])\n",
    "plt.scatter(x, y)"
   ]
  },
  {
   "cell_type": "code",
   "execution_count": 114,
   "metadata": {},
   "outputs": [
    {
     "name": "stdout",
     "output_type": "stream",
     "text": [
      "0.5 0.9794004101821692\n",
      "0.6 0.9867897213174086\n",
      "0.7 0.991042345276873\n",
      "0.8 0.994028230184582\n",
      "0.9 0.9956267342260827\n",
      "1.0 0.9969236337314513\n",
      "1.1 0.9975871637109422\n",
      "1.2 0.9984919773193389\n",
      "1.3 0.9994269513813487\n",
      "1.4 0.9994269513813487\n",
      "1.5 0.9996682350102546\n",
      "1.6 0.9997888768247074\n",
      "1.7 0.9999396790927736\n",
      "1.8 0.9999698395463867\n",
      "1.9 0.9999698395463867\n"
     ]
    }
   ],
   "source": [
    "from mobile.config import LOCATIONS, CLIENT_LOCATIONS\n",
    "\n",
    "with open(PROJECT_ROOT/ 'output'/ 'runs'/ 'charlottesville_city' / 'frequent_cover_narrow.json', 'r') as f:\n",
    "    data = json.load(f)\n",
    "\n",
    "x = []\n",
    "y = []\n",
    "for d in data.keys():\n",
    "    chosen = data[d][\"facilities\"]\n",
    "    \n",
    "    covered = set()\n",
    "\n",
    "    for loc in range(len(LOCATIONS)):\n",
    "        for c in chosen:\n",
    "            if calculate_distance(loc, c)<= float(d):\n",
    "                covered = covered.union(LOCATIONS[loc][\"pid\"])\n",
    "    \n",
    "    x.append(d)\n",
    "    y.append(len(covered)/len(CLIENT_LOCATIONS))\n",
    "    print(d, len(covered)/len(CLIENT_LOCATIONS))"
   ]
  },
  {
   "cell_type": "code",
   "execution_count": 115,
   "metadata": {},
   "outputs": [
    {
     "data": {
      "text/plain": [
       "[<matplotlib.lines.Line2D at 0x7fbc3c8c9be0>]"
      ]
     },
     "execution_count": 115,
     "metadata": {},
     "output_type": "execute_result"
    },
    {
     "data": {
      "image/png": "[encoded data removed]",
      "text/plain": [
       "<Figure size 432x288 with 1 Axes>"
      ]
     },
     "metadata": {
      "needs_background": "light"
     },
     "output_type": "display_data"
    }
   ],
   "source": [
    "plt.plot(x, y)"
   ]
  },
  {
   "cell_type": "code",
   "execution_count": 116,
   "metadata": {},
   "outputs": [
    {
     "name": "stdout",
     "output_type": "stream",
     "text": [
      "0.0 0.6483291108698275\n",
      "0.5 0.9794004101821692\n",
      "1.0 0.9969236337314513\n",
      "1.5 0.9996682350102546\n",
      "2.0 1.0\n",
      "2.5 1.0\n",
      "3.0 1.0\n",
      "3.5 1.0\n",
      "4.0 1.0\n",
      "4.5 1.0\n",
      "5.0 1.0\n"
     ]
    }
   ],
   "source": [
    "from mobile.config import LOCATIONS, CLIENT_LOCATIONS\n",
    "\n",
    "with open(PROJECT_ROOT/ 'output'/ 'runs'/ 'charlottesville_city' / 'frequent_cover.json', 'r') as f:\n",
    "    data = json.load(f)\n",
    "\n",
    "x_2 = []\n",
    "y_2 = []\n",
    "for d in data.keys():\n",
    "    chosen = data[d][\"facilities\"]\n",
    "    \n",
    "    covered = set()\n",
    "\n",
    "    for loc in range(len(LOCATIONS)):\n",
    "        for c in chosen:\n",
    "            if calculate_distance(loc, c)<= float(d):\n",
    "                covered = covered.union(LOCATIONS[loc][\"pid\"])\n",
    "    \n",
    "    x_2.append(d)\n",
    "    y_2.append(len(covered)/len(CLIENT_LOCATIONS))\n",
    "    print(d, len(covered)/len(CLIENT_LOCATIONS))"
   ]
  },
  {
   "cell_type": "code",
   "execution_count": 117,
   "metadata": {},
   "outputs": [
    {
     "data": {
      "text/plain": [
       "[<matplotlib.lines.Line2D at 0x7fbc44d84a90>]"
      ]
     },
     "execution_count": 117,
     "metadata": {},
     "output_type": "execute_result"
    },
    {
     "data": {
      "image/png": "[encoded data removed]",
      "text/plain": [
       "<Figure size 432x288 with 1 Axes>"
      ]
     },
     "metadata": {
      "needs_background": "light"
     },
     "output_type": "display_data"
    }
   ],
   "source": [
    "plt.plot(x_2, y_2)"
   ]
  },
  {
   "cell_type": "markdown",
   "metadata": {},
   "source": [
    "### Frequent Cover Locations ###"
   ]
  },
  {
   "cell_type": "code",
   "execution_count": 4,
   "metadata": {},
   "outputs": [
    {
     "name": "stdout",
     "output_type": "stream",
     "text": [
      "0.9996682350102546\n"
     ]
    }
   ],
   "source": [
    "from mobile.config import LOCATIONS, CLIENT_LOCATIONS\n",
    "\n",
    "chosen = [15840, 16000, 232, 16017, 573]\n",
    "\n",
    "count = 0\n",
    "covered = set()\n",
    "\n",
    "for loc in range(len(LOCATIONS)):\n",
    "    for c in chosen:\n",
    "        if calculate_distance(loc, c)< 1.5:\n",
    "            covered = covered.union(LOCATIONS[loc][\"pid\"])\n",
    "\n",
    "print(len(covered)/len(CLIENT_LOCATIONS))"
   ]
  },
  {
   "cell_type": "code",
   "execution_count": 5,
   "metadata": {},
   "outputs": [
    {
     "name": "stdout",
     "output_type": "stream",
     "text": [
      "1.8683440379467824\n"
     ]
    }
   ],
   "source": [
    "assignments = assign_facilities(chosen)\n",
    "print(calculate_objective(assignments))"
   ]
  },
  {
   "cell_type": "code",
   "execution_count": 3,
   "metadata": {},
   "outputs": [],
   "source": [
    "import tqdm\n",
    "import time\n",
    "def radius_nbrs(radius: int):\n",
    "    start = time.time()\n",
    "    \n",
    "    neighbors = {}\n",
    "    \n",
    "    LOCATIONS_act = [l for l in range(len(LOCATIONS)) if not LOCATIONS[l]['home']]\n",
    "    \n",
    "    for l in tqdm.tqdm(LOCATIONS_act):\n",
    "        dist_nbrs = set()\n",
    "        \n",
    "        for j in range(len(LOCATIONS)):\n",
    "            dist = calculate_distance(l, j)\n",
    "            if dist < radius:\n",
    "                dist_nbrs = dist_nbrs.union(LOCATIONS[j][\"pid\"])\n",
    "            \n",
    "        neighbors[l] = dist_nbrs\n",
    "    \n",
    "    end = time.time()\n",
    "    print(end-start)\n",
    "    \n",
    "    return neighbors\n"
   ]
  },
  {
   "cell_type": "code",
   "execution_count": 4,
   "metadata": {},
   "outputs": [],
   "source": [
    "def cover_most_radius(r: int, k: int):\n",
    "    \"\"\"\n",
    "    Helper method for FPT: returns the set of activity locations of size s that cover the most clients\n",
    "    Used with aggregate activity locations\n",
    "    \n",
    "    aggregation : int\n",
    "    the version of aggregation selected\n",
    "    0 --> none\n",
    "    1 --> set cover: aggregation with repeats in coverage\n",
    "    \"\"\"\n",
    "    \n",
    "    neighbors = radius_nbrs(r)\n",
    "    \n",
    "    covered = set()\n",
    "    selected = []\n",
    "    for i in range(k):\n",
    "        most_coverage = max([(len(neighbors[l] - covered), l, neighbors[l]) for l in neighbors.keys()])\n",
    "        selected.append(most_coverage[1])\n",
    "        covered = covered.union(LOCATIONS[most_coverage[1]]['pid'])\n",
    "    print(f\"COVERAGE OF CLIENTS BY {s} LOCATIONS: \", len(covered)/len(CLIENT_LOCATIONS.keys()))\n",
    "    return selected\n"
   ]
  },
  {
   "cell_type": "code",
   "execution_count": 5,
   "metadata": {},
   "outputs": [
    {
     "name": "stderr",
     "output_type": "stream",
     "text": [
      "100%|██████████| 6176/6176 [14:42<00:00,  7.00it/s]\n"
     ]
    },
    {
     "name": "stdout",
     "output_type": "stream",
     "text": [
      "882.7717835903168\n"
     ]
    },
    {
     "ename": "NameError",
     "evalue": "name 's' is not defined",
     "output_type": "error",
     "traceback": [
      "\u001b[0;31m---------------------------------------------------------------------------\u001b[0m",
      "\u001b[0;31mNameError\u001b[0m                                 Traceback (most recent call last)",
      "\u001b[0;32m<ipython-input-5-65be0db685e2>\u001b[0m in \u001b[0;36m<module>\u001b[0;34m\u001b[0m\n\u001b[0;32m----> 1\u001b[0;31m \u001b[0mfac\u001b[0m \u001b[0;34m=\u001b[0m \u001b[0mcover_most_radius\u001b[0m\u001b[0;34m(\u001b[0m\u001b[0;36m0\u001b[0m\u001b[0;34m,\u001b[0m \u001b[0;36m5\u001b[0m\u001b[0;34m)\u001b[0m\u001b[0;34m\u001b[0m\u001b[0;34m\u001b[0m\u001b[0m\n\u001b[0m",
      "\u001b[0;32m<ipython-input-4-3e841d653c49>\u001b[0m in \u001b[0;36mcover_most_radius\u001b[0;34m(r, k)\u001b[0m\n\u001b[1;32m     14\u001b[0m     \u001b[0mcovered\u001b[0m \u001b[0;34m=\u001b[0m \u001b[0mset\u001b[0m\u001b[0;34m(\u001b[0m\u001b[0;34m)\u001b[0m\u001b[0;34m\u001b[0m\u001b[0;34m\u001b[0m\u001b[0m\n\u001b[1;32m     15\u001b[0m     \u001b[0mselected\u001b[0m \u001b[0;34m=\u001b[0m \u001b[0;34m[\u001b[0m\u001b[0;34m]\u001b[0m\u001b[0;34m\u001b[0m\u001b[0;34m\u001b[0m\u001b[0m\n\u001b[0;32m---> 16\u001b[0;31m     \u001b[0;32mfor\u001b[0m \u001b[0mi\u001b[0m \u001b[0;32min\u001b[0m \u001b[0mrange\u001b[0m\u001b[0;34m(\u001b[0m\u001b[0ms\u001b[0m\u001b[0;34m)\u001b[0m\u001b[0;34m:\u001b[0m\u001b[0;34m\u001b[0m\u001b[0;34m\u001b[0m\u001b[0m\n\u001b[0m\u001b[1;32m     17\u001b[0m         \u001b[0mmost_coverage\u001b[0m \u001b[0;34m=\u001b[0m \u001b[0mmax\u001b[0m\u001b[0;34m(\u001b[0m\u001b[0;34m[\u001b[0m\u001b[0;34m(\u001b[0m\u001b[0mlen\u001b[0m\u001b[0;34m(\u001b[0m\u001b[0mneighbors\u001b[0m\u001b[0;34m[\u001b[0m\u001b[0ml\u001b[0m\u001b[0;34m]\u001b[0m \u001b[0;34m-\u001b[0m \u001b[0mcovered\u001b[0m\u001b[0;34m)\u001b[0m\u001b[0;34m,\u001b[0m \u001b[0ml\u001b[0m\u001b[0;34m,\u001b[0m \u001b[0mneighbors\u001b[0m\u001b[0;34m[\u001b[0m\u001b[0ml\u001b[0m\u001b[0;34m]\u001b[0m\u001b[0;34m)\u001b[0m \u001b[0;32mfor\u001b[0m \u001b[0ml\u001b[0m \u001b[0;32min\u001b[0m \u001b[0mneighbors\u001b[0m\u001b[0;34m.\u001b[0m\u001b[0mkeys\u001b[0m\u001b[0;34m(\u001b[0m\u001b[0;34m)\u001b[0m\u001b[0;34m]\u001b[0m\u001b[0;34m)\u001b[0m\u001b[0;34m\u001b[0m\u001b[0;34m\u001b[0m\u001b[0m\n\u001b[1;32m     18\u001b[0m         \u001b[0mselected\u001b[0m\u001b[0;34m.\u001b[0m\u001b[0mappend\u001b[0m\u001b[0;34m(\u001b[0m\u001b[0mmost_coverage\u001b[0m\u001b[0;34m[\u001b[0m\u001b[0;36m1\u001b[0m\u001b[0;34m]\u001b[0m\u001b[0;34m)\u001b[0m\u001b[0;34m\u001b[0m\u001b[0;34m\u001b[0m\u001b[0m\n",
      "\u001b[0;31mNameError\u001b[0m: name 's' is not defined"
     ]
    }
   ],
   "source": [
    "fac = cover_most_radius(0, 5)"
   ]
  },
  {
   "cell_type": "code",
   "execution_count": 5,
   "metadata": {},
   "outputs": [],
   "source": [
    "from mobile.config import LOCATIONS, CLIENT_LOCATIONS"
   ]
  },
  {
   "cell_type": "code",
   "execution_count": 7,
   "metadata": {},
   "outputs": [
    {
     "ename": "IndexError",
     "evalue": "list index out of range",
     "output_type": "error",
     "traceback": [
      "\u001b[0;31m---------------------------------------------------------------------------\u001b[0m",
      "\u001b[0;31mIndexError\u001b[0m                                Traceback (most recent call last)",
      "\u001b[0;32m<ipython-input-7-964f42520a0a>\u001b[0m in \u001b[0;36m<module>\u001b[0;34m\u001b[0m\n\u001b[1;32m      2\u001b[0m \u001b[0;34m\u001b[0m\u001b[0m\n\u001b[1;32m      3\u001b[0m \u001b[0;32mfor\u001b[0m \u001b[0mc\u001b[0m \u001b[0;32min\u001b[0m \u001b[0mcheck\u001b[0m\u001b[0;34m:\u001b[0m\u001b[0;34m\u001b[0m\u001b[0;34m\u001b[0m\u001b[0m\n\u001b[0;32m----> 4\u001b[0;31m     \u001b[0mprint\u001b[0m\u001b[0;34m(\u001b[0m\u001b[0mc\u001b[0m\u001b[0;34m,\u001b[0m \u001b[0mLOCATIONS\u001b[0m\u001b[0;34m[\u001b[0m\u001b[0mc\u001b[0m\u001b[0;34m]\u001b[0m\u001b[0;34m[\u001b[0m\u001b[0;34m'latitude'\u001b[0m\u001b[0;34m]\u001b[0m\u001b[0;34m)\u001b[0m\u001b[0;34m\u001b[0m\u001b[0;34m\u001b[0m\u001b[0m\n\u001b[0m\u001b[1;32m      5\u001b[0m \u001b[0;34m\u001b[0m\u001b[0m\n\u001b[1;32m      6\u001b[0m \u001b[0mprint\u001b[0m\u001b[0;34m(\u001b[0m\u001b[0mlen\u001b[0m\u001b[0;34m(\u001b[0m\u001b[0mLOCATIONS\u001b[0m\u001b[0;34m)\u001b[0m\u001b[0;34m)\u001b[0m\u001b[0;34m\u001b[0m\u001b[0;34m\u001b[0m\u001b[0m\n",
      "\u001b[0;31mIndexError\u001b[0m: list index out of range"
     ]
    }
   ],
   "source": [
    "check = [17177, 4, 139, 95, 714, 76, 44, 504, 976, 313, 6, 270, 8, 1, 212, 142, 393, 160, 1149, 204, 15, 219, 80, 525]\n",
    "\n",
    "for c in check:\n",
    "    print(c, LOCATIONS[c]['latitude'])\n",
    "\n",
    "print(len(LOCATIONS))"
   ]
  },
  {
   "cell_type": "code",
   "execution_count": null,
   "metadata": {},
   "outputs": [],
   "source": [
    "set_cover_aggregation(LOCATIONS, CLIENT_LOCATIONS, county_name: str = 'charlottesville_city', radius: float = 0.01):"
   ]
  },
  {
   "cell_type": "code",
   "execution_count": 5,
   "metadata": {},
   "outputs": [
    {
     "name": "stderr",
     "output_type": "stream",
     "text": [
      "2021-09-04 21:33:16,674\tINFO worker.py:810 -- Calling ray.init() again after it has already been called.\n"
     ]
    },
    {
     "name": "stdout",
     "output_type": "stream",
     "text": [
      "2.258667230606079\n"
     ]
    }
   ],
   "source": [
    "import ray\n",
    "\n",
    "ray.init(ignore_reinit_error=True)\n",
    "\n",
    "@ray.remote\n",
    "def process(j):\n",
    "    return calculate_distance(1, j)\n",
    "\n",
    "start = time.time()\n",
    "sorted_distance_neighbors = [process.remote(j) for j in range(len(LOCATIONS))]\n",
    "results = ray.get(sorted_distance_neighbors)\n",
    "end = time.time()\n",
    "print(end-start)"
   ]
  },
  {
   "cell_type": "code",
   "execution_count": 8,
   "metadata": {},
   "outputs": [
    {
     "name": "stdout",
     "output_type": "stream",
     "text": [
      "0.17068767547607422\n"
     ]
    }
   ],
   "source": [
    "start = time.time()\n",
    "sorted_distance_neighbors = [calculate_distance(1, j) for j in range(len(LOCATIONS))]\n",
    "end = time.time()\n",
    "print(end-start)"
   ]
  },
  {
   "cell_type": "code",
   "execution_count": 1,
   "metadata": {},
   "outputs": [
    {
     "name": "stdout",
     "output_type": "stream",
     "text": [
      "39\n"
     ]
    }
   ],
   "source": [
    "print(len([0, 515, 4, 517, 5, 7, 8, 12822, 22, 406, 158, 32, 7714, 420, 804, 431, 52, 55, 440, 571, 70, 206, 591, 1358, 81, 3411, 2517, 1367, 3423, 485, 103, 367, 16756, 500, 374, 759, 7802, 507, 16767]))"
   ]
  },
  {
   "cell_type": "code",
   "execution_count": 4,
   "metadata": {},
   "outputs": [
    {
     "data": {
      "text/plain": [
       "<matplotlib.collections.PathCollection at 0x7f016d993940>"
      ]
     },
     "execution_count": 4,
     "metadata": {},
     "output_type": "execute_result"
    },
    {
     "data": {
      "image/png": "[encoded data removed]",
      "text/plain": [
       "<Figure size 432x288 with 1 Axes>"
      ]
     },
     "metadata": {
      "needs_background": "light"
     },
     "output_type": "display_data"
    }
   ],
   "source": [
    "plt.scatter([i/10 for i in range(5,26,5)], [39,14,8,5,3])"
   ]
  },
  {
   "cell_type": "markdown",
   "metadata": {},
   "source": [
    "### FPT (with added combinatorial) ###"
   ]
  },
  {
   "cell_type": "markdown",
   "metadata": {},
   "source": [
    "* Find lowerbound for k\n",
    "* Iterate through k for nCk guesses until a hitting set is obtained\n",
    "* Iterate through all combinations for that given k to hitting set with smallest objective value"
   ]
  },
  {
   "cell_type": "code",
   "execution_count": 10,
   "metadata": {},
   "outputs": [],
   "source": [
    "def is_hitting_set(guess, client_locations):\n",
    "    \n",
    "    covered_clients = set()\n",
    "    \n",
    "    for g in guess:\n",
    "        covered_clients = covered_clients.union(LOCATIONS[g]['pid'])\n",
    "    \n",
    "    return len(covered_clients) == len(client_locations)"
   ]
  },
  {
   "cell_type": "code",
   "execution_count": 3,
   "metadata": {},
   "outputs": [],
   "source": [
    "from itertools import combinations"
   ]
  },
  {
   "cell_type": "code",
   "execution_count": 5,
   "metadata": {},
   "outputs": [],
   "source": [
    "from mobile.config import LOCATIONS, CLIENT_LOCATIONS"
   ]
  },
  {
   "cell_type": "code",
   "execution_count": 1,
   "metadata": {},
   "outputs": [],
   "source": [
    "def generate_guesses(visited_locations, client_locations):\n",
    "    \n",
    "    #Find lowerbound for k\n",
    "    #Find large set of non-intersecting S_j\n",
    "    \n",
    "    clients = set(client_locations.keys())\n",
    "    intersection = set({})\n",
    "    visited_covered = set({})\n",
    "    while len(clients)!=0:\n",
    "        node = clients.pop()\n",
    "        if len(visited_covered.intersection((client_locations[node]))) == 0:\n",
    "            intersection.add(node)\n",
    "            visited_covered = visited_covered.union(client_locations[node])\n",
    "    \n",
    "    k = len(intersection)\n",
    "    print(k)\n",
    "    \n",
    "    #Find smallest k to get a hitting set\n",
    "    hitting_set_found = False\n",
    "    \n",
    "    while not hitting_set_found and k <= len(visited_locations):\n",
    "        \n",
    "        guess_combinations = list(combinations(visited_locations, k))\n",
    "                \n",
    "        for guess in guess_combinations:\n",
    "            hitting_set_found = is_hitting_set(guess, client_locations)\n",
    "            \n",
    "            if hitting_set_found:\n",
    "                print(k, len(guess_combinations))\n",
    "                return guess_combinations\n",
    "        \n",
    "        k+=1\n",
    "    \n",
    "    return [-1]"
   ]
  },
  {
   "cell_type": "code",
   "execution_count": 25,
   "metadata": {},
   "outputs": [],
   "source": [
    "def fpt_combinatorial(k: int, s: int):\n",
    "    \"\"\"\n",
    "    Picks the s activity locations that cover the most clients (through a set cover approximation)\n",
    "    Assumes the number of locations visited by clients is bounded by a constant\n",
    "    Run k-supplier on all combination sets of locations that will be covered by facilities. Select the guess and its open facilities with the smallest objective value.\n",
    "    \n",
    "    PARAMETERS\n",
    "    ----------\n",
    "    k : int\n",
    "        number of facilities to be opened\n",
    "    s : int\n",
    "        number of activity locations examined\n",
    "    aggregation : int\n",
    "        the version of aggregation selected\n",
    "        0 --> none\n",
    "        1 --> set cover: aggregation without repeats in coverage\n",
    "        2 --> set cover: aggregation with repeats in coverage\n",
    "        \n",
    "    RETURNS\n",
    "    ----------\n",
    "    facilities : List[int]\n",
    "        contains facility indices that are open\n",
    "    assignments : List[Tuple[int, int]]\n",
    "        visited location and facility assignment indexed by each client\n",
    "    \"\"\"\n",
    "    \n",
    "    potential_facility_locations = cover_most(s)\n",
    "    \n",
    "    #Remove homes from the client_location lists\n",
    "    #TODO: Perhaps create mapping for the indices of people before exclusion and after?\n",
    "    client_locations_dict = {}\n",
    "    client_locations_excluded = []\n",
    "    for key, person in CLIENT_LOCATIONS.items():\n",
    "        new_list = [p for p in person[1:] if p in potential_facility_locations]\n",
    "        if len(new_list)>0:\n",
    "            client_locations_excluded.append(new_list)\n",
    "            client_locations_dict[key] = new_list\n",
    "    \n",
    "    locations = [LOCATIONS[i]['lid_ind'] for i in range(len(LOCATIONS)) if not LOCATIONS[i]['home']]\n",
    "    \n",
    "    G, loc_map, c_loc_map = precompute_distances(client_locations_excluded, locations)\n",
    "    \n",
    "    ray.init(ignore_reinit_error=True)\n",
    "    \n",
    "    @ray.remote\n",
    "    def process(guess):\n",
    "        facilities = k_supplier(list(guess), locations, k)\n",
    "        obj_value = assign_client_facilities(G, loc_map, c_loc_map, client_locations_excluded, facilities)\n",
    "        return obj_value, facilities\n",
    "    \n",
    "    futures = [process.remote(guess) for guess in generate_guesses(list(potential_facility_locations), client_locations_dict)]\n",
    "    results = ray.get(futures)\n",
    "\n",
    "    min_obj_guess: Tuple[int, List[int]] = min(results)\n",
    "    return min_obj_guess, assign_facilities(min_obj_guess[1])"
   ]
  },
  {
   "cell_type": "code",
   "execution_count": 27,
   "metadata": {},
   "outputs": [
    {
     "name": "stdout",
     "output_type": "stream",
     "text": [
      "COVERAGE OF CLIENTS BY 20 LOCATIONS:  0.8479008324285198\n"
     ]
    },
    {
     "name": "stderr",
     "output_type": "stream",
     "text": [
      "2021-08-29 10:52:42,257\tINFO worker.py:810 -- Calling ray.init() again after it has already been called.\n"
     ]
    },
    {
     "name": "stdout",
     "output_type": "stream",
     "text": [
      "13\n",
      "1\n"
     ]
    }
   ],
   "source": [
    "fac, assgn = fpt_combinatorial(5, 20)"
   ]
  },
  {
   "cell_type": "code",
   "execution_count": 22,
   "metadata": {},
   "outputs": [
    {
     "name": "stdout",
     "output_type": "stream",
     "text": [
      "(1.4578742022763782, [0, 1, 5, 9, 46])\n"
     ]
    }
   ],
   "source": [
    "print(fac)"
   ]
  },
  {
   "cell_type": "code",
   "execution_count": 23,
   "metadata": {},
   "outputs": [
    {
     "name": "stdout",
     "output_type": "stream",
     "text": [
      "2.3956977875908194\n"
     ]
    }
   ],
   "source": [
    "print(calculate_objective(assgn))"
   ]
  },
  {
   "cell_type": "markdown",
   "metadata": {},
   "source": [
    "### Set Cover ###"
   ]
  },
  {
   "cell_type": "code",
   "execution_count": 2,
   "metadata": {},
   "outputs": [],
   "source": [
    "import time\n",
    "import tqdm.notebook as tqdm\n",
    "\n",
    "def generate_sorted_neighbors_list(radius: float):\n",
    "\n",
    "    start = time.time()\n",
    "\n",
    "    neighbors = {}\n",
    "\n",
    "    LOCATIONS_act = [l for l in range(len(LOCATIONS)) if not LOCATIONS[l]['home']]\n",
    "\n",
    "    for l in tqdm.tqdm(LOCATIONS_act):\n",
    "        \n",
    "        neighbors[l] = set({})\n",
    "\n",
    "        for j in range(len(LOCATIONS)):\n",
    "            dist = calculate_distance(l, j)\n",
    "            if dist <= radius:\n",
    "                neighbors[l].add(j)\n",
    "\n",
    "    end = time.time()\n",
    "\n",
    "    print(end-start)\n",
    "    \n",
    "    print(neighbors[0])\n",
    "    \n",
    "    return neighbors"
   ]
  },
  {
   "cell_type": "code",
   "execution_count": 10,
   "metadata": {},
   "outputs": [],
   "source": [
    "import json\n",
    "neighbors = {5:[(1, [2,3,4]), (2, [2, 3, 6])]}\n",
    "\n",
    "with open(PROJECT_ROOT/ 'data'/ 'processed'/ 'charlottesville_city' / f'sorted_neighbors_list.json', 'w') as f:\n",
    "    data = {\"neighbors\": {key: (value[0], list(value[1])) for key,value in neighbors.items()}}\n",
    "    json.dump(data, f)"
   ]
  },
  {
   "cell_type": "code",
   "execution_count": 3,
   "metadata": {},
   "outputs": [],
   "source": [
    "def set_cover(radius: float):\n",
    "    \n",
    "    neighbors = generate_sorted_neighbors_list(radius)\n",
    "    \n",
    "    covered = set()\n",
    "    chosen = set()\n",
    "    \n",
    "    while len(covered) != len(CLIENT_LOCATIONS):\n",
    "        \n",
    "        max_coverage = (0, -1, set())\n",
    "        \n",
    "        for loc in radius_dict.keys():\n",
    "            \n",
    "            if loc not in chosen:\n",
    "            \n",
    "                radius_dict[loc] = radius_dict[loc] - covered\n",
    "\n",
    "                individuals_covered = radius_dict[loc]\n",
    "\n",
    "                if len(individuals_covered) > max_coverage[0]:\n",
    "                    max_coverage = (len(individuals_covered), loc, individuals_covered)\n",
    "        \n",
    "        if max_coverage[0] == 0:\n",
    "            break\n",
    "        \n",
    "        covered = covered.union(max_coverage[2])\n",
    "        chosen.add(max_coverage[1])\n",
    "        print(len(covered))\n",
    "    \n",
    "    return chosen"
   ]
  },
  {
   "cell_type": "code",
   "execution_count": 4,
   "metadata": {},
   "outputs": [],
   "source": [
    "from mobile.config import LOCATIONS, CLIENT_LOCATIONS"
   ]
  },
  {
   "cell_type": "code",
   "execution_count": null,
   "metadata": {},
   "outputs": [],
   "source": [
    "k = set_cover(3)"
   ]
  },
  {
   "cell_type": "code",
   "execution_count": 9,
   "metadata": {},
   "outputs": [],
   "source": [
    "def set_cover_experiment():\n",
    "    \n",
    "    neighbors = generate_sorted_neighbors_list_2()\n",
    "\n",
    "    for radius in range(5, 50, 5):\n",
    "        \n",
    "        fac = set_cover_2(radius/10, neighbors)\n",
    "        \n",
    "        print(radius/10, len(fac))"
   ]
  },
  {
   "cell_type": "code",
   "execution_count": 7,
   "metadata": {},
   "outputs": [],
   "source": [
    "import time\n",
    "import tqdm.notebook as tqdm\n",
    "\n",
    "def generate_sorted_neighbors_list_2():\n",
    "\n",
    "    start = time.time()\n",
    "\n",
    "    neighbors = {}\n",
    "\n",
    "    LOCATIONS_act = [l for l in range(len(LOCATIONS)) if not LOCATIONS[l]['home']]\n",
    "\n",
    "    for l in tqdm.tqdm(LOCATIONS_act[:1]):\n",
    "        sorted_distance_neighbors = []\n",
    "\n",
    "        for j in range(len(LOCATIONS)):\n",
    "            dist = calculate_distance(l, j)\n",
    "            sorted_distance_neighbors.append((dist, j))\n",
    "\n",
    "        sorted_distance_neighbors = sorted(sorted_distance_neighbors, reverse = False)\n",
    "        \n",
    "        neighbors[l] = []\n",
    "        for ind, loc in enumerate(sorted_distance_neighbors):\n",
    "            dist = loc[0]\n",
    "            ngbr = loc[1]\n",
    "            if ind == 0:\n",
    "                neighbors[l].append((dist, set(LOCATIONS[ngbr]['pid'])))\n",
    "            else:\n",
    "                last_set = neighbors[l][-1][1]\n",
    "                new_client_union = last_set.union(set(LOCATIONS[ngbr]['pid']))\n",
    "                neighbors[l].append((dist, new_client_union))\n",
    "            \n",
    "            print(neighbors[l][-1])\n",
    "        \n",
    "    end = time.time()\n",
    "\n",
    "    print(end-start)\n",
    "    \n",
    "    return neighbors"
   ]
  },
  {
   "cell_type": "code",
   "execution_count": 21,
   "metadata": {},
   "outputs": [],
   "source": [
    "def set_cover_2(radius: float, neighbors):\n",
    "    \n",
    "    radius_dict = {}\n",
    "    \n",
    "    for l, neighbor in tqdm.tqdm(neighbors.items()):\n",
    "\n",
    "        left = 0\n",
    "        right = len(neighbor)\n",
    "        index_cutoff = 0\n",
    "        while left <= right:\n",
    "            mid = left+(right-left)//2\n",
    "            if neighbor[mid][0] <= radius:\n",
    "                left = mid\n",
    "                index_cutoff = mid\n",
    "            else:\n",
    "                right = mid\n",
    "        \n",
    "        radius_dict[l] = neighbor[index_cutoff][1]\n",
    "    \n",
    "    print(len(radius_dict))\n",
    "    \n",
    "    covered = set()\n",
    "    chosen = set()\n",
    "    \n",
    "    while len(covered) != len(CLIENT_LOCATIONS):\n",
    "        \n",
    "        max_coverage = (0, -1, set())\n",
    "        \n",
    "        for loc in radius_dict.keys():\n",
    "            \n",
    "            if loc not in chosen:\n",
    "            \n",
    "                radius_dict[loc] = radius_dict[loc] - covered\n",
    "\n",
    "                individuals_covered = radius_dict[loc]\n",
    "\n",
    "                if len(individuals_covered) > max_coverage[0]:\n",
    "                    max_coverage = (len(individuals_covered), loc, individuals_covered)\n",
    "        \n",
    "        if max_coverage[0] == 0:\n",
    "            break\n",
    "        \n",
    "        covered = covered.union(max_coverage[2])\n",
    "        chosen.add(max_coverage[1])\n",
    "    \n",
    "    return chosen"
   ]
  },
  {
   "cell_type": "code",
   "execution_count": 24,
   "metadata": {},
   "outputs": [],
   "source": [
    "neighbors = {5: [(1, {1,2,3}), (500, {2})], 10: [(100, {2, 4, 7})]}"
   ]
  },
  {
   "cell_type": "code",
   "execution_count": 28,
   "metadata": {},
   "outputs": [
    {
     "data": {
      "application/vnd.jupyter.widget-view+json": {
       "model_id": "cc0ae32785494665986e860888a792d3",
       "version_major": 2,
       "version_minor": 0
      },
      "text/plain": [
       "  0%|          | 0/2 [00:00<?, ?it/s]"
      ]
     },
     "metadata": {},
     "output_type": "display_data"
    },
    {
     "name": "stdout",
     "output_type": "stream",
     "text": [
      "0 1\n",
      "0 100\n"
     ]
    }
   ],
   "source": [
    "radius_dict = {}\n",
    "radius = 0.1\n",
    "\n",
    "for l, neighbor in tqdm.tqdm(neighbors.items()):\n",
    "\n",
    "    left = 0\n",
    "    right = len(neighbor)-1\n",
    "    index_cutoff = 0\n",
    "    \n",
    "    while left <= right:\n",
    "        \n",
    "        mid = left+(right-left)//2\n",
    "\n",
    "        if neighbor[mid][0] <= 50:\n",
    "            left = mid + 1\n",
    "            index_cutoff = mid\n",
    "        else:\n",
    "            right = mid - 1\n",
    "    \n",
    "    print(index_cutoff, neighbor[index_cutoff][0])\n",
    "    radius_dict[l] = neighbor[index_cutoff][1]"
   ]
  },
  {
   "cell_type": "code",
   "execution_count": null,
   "metadata": {},
   "outputs": [],
   "source": [
    "fac = set_cover_2(radius/10, neighbors)"
   ]
  },
  {
   "cell_type": "code",
   "execution_count": null,
   "metadata": {},
   "outputs": [],
   "source": []
  },
  {
   "cell_type": "code",
   "execution_count": null,
   "metadata": {},
   "outputs": [],
   "source": [
    "def set_cover_2(neighbors, radius: float, prev_radius: float, prev_radius_dict):\n",
    "    \n",
    "    radius_dict = {\"pid\": set(), \"index\": -1}\n",
    "    \n",
    "    for l, neighbor in tqdm.notebook.tqdm(neighbors.items()):\n",
    "        \n",
    "        radius_dict[l] = set()\n",
    "        \n",
    "        if prev_radius < radius:\n",
    "            \n",
    "            for ind in range(prev_radius_dict[l]['index']):\n",
    "                n = neighbor[ind]\n",
    "                if n[0] <= radius:                \n",
    "                    ngbr = n[1]\n",
    "                    radius_dict[l]['pid'] = radius_dict[l].union(LOCATIONS[ngbr]['pid'])\n",
    "                    radius_dict[l]['index'] = ind\n",
    "                else:\n",
    "                    break\n",
    "            \n",
    "        else:\n",
    "            \n",
    "            radius_dict[l]['pid'] = prev_radius_dict[l]['pid']\n",
    "            radius_dict[l]['index'] = prev_radius_dict[l]['index']\n",
    "            \n",
    "            for ind in range(prev_radius_dict[l]['index'], len(neighbor)):\n",
    "                \n",
    "                n = neighbor[ind]\n",
    "                if n[0] <= radius:                \n",
    "                    ngbr = n[1]\n",
    "                    radius_dict[l]['pid'] = radius_dict[l].union(LOCATIONS[ngbr]['pid'])\n",
    "                    radius_dict[l]['index'] = ind\n",
    "                else:\n",
    "                    break\n",
    "    \n",
    "    #print(len(radius_dict))\n",
    "    \n",
    "    covered = set()\n",
    "    chosen = set()\n",
    "    \n",
    "    while len(covered) != len(CLIENT_LOCATIONS):\n",
    "        \n",
    "        max_coverage = (0, -1, set())\n",
    "        \n",
    "        for pair in radius_dict.keys():\n",
    "            \n",
    "            loc = pair['pid']\n",
    "            \n",
    "            if loc not in chosen:\n",
    "            \n",
    "                radius_dict[loc]['pid'] = radius_dict[loc]['pid'] - covered\n",
    "\n",
    "                individuals_covered = radius_dict[loc]['pid']\n",
    "\n",
    "                if len(individuals_covered) > max_coverage[0]:\n",
    "                    max_coverage = (len(individuals_covered), loc, individuals_covered)\n",
    "        \n",
    "        if max_coverage[0] == 0:\n",
    "            break\n",
    "        \n",
    "        covered = covered.union(max_coverage[2])\n",
    "        chosen.add(max_coverage[1])\n",
    "        \n",
    "        #print(len(covered))\n",
    "    \n",
    "    return chosen, radius_dict"
   ]
  },
  {
   "cell_type": "markdown",
   "metadata": {},
   "source": [
    "### Set Cover Alg ###"
   ]
  },
  {
   "cell_type": "code",
   "execution_count": 16,
   "metadata": {},
   "outputs": [],
   "source": [
    "def cover_approx(neighbors, k: int):\n",
    "    \n",
    "    l = 1.5\n",
    "    h = 2.5\n",
    "    \n",
    "    facilities = []\n",
    "    objective = 10005\n",
    "    \n",
    "    #alpha = 0\n",
    "    \n",
    "    #for i in range(1, len(CLIENT_LOCATIONS)+1):\n",
    "    #    alpha += 1/i\n",
    "    \n",
    "    #print(alpha)\n",
    "    \n",
    "    alpha = 1\n",
    "    \n",
    "    #caclulate neighbors\n",
    "    \n",
    "    while h-l > 1e-6:\n",
    "        r = (l+h)/2\n",
    "        \n",
    "        print(r)\n",
    "        \n",
    "        sol = set_cover(neighbors, radius = r)\n",
    "        \n",
    "        if len(sol) <= alpha * k:\n",
    "            h = (l+h)/2\n",
    "            facilities = sol\n",
    "            objective = r\n",
    "        else:\n",
    "            l = (l+h)/2\n",
    "            \n",
    "        print(r, len(sol))\n",
    "        \n",
    "    return facilities, objective"
   ]
  },
  {
   "cell_type": "code",
   "execution_count": 23,
   "metadata": {},
   "outputs": [
    {
     "name": "stdout",
     "output_type": "stream",
     "text": [
      "9165\n"
     ]
    }
   ],
   "source": [
    "from mobile import PROJECT_ROOT\n",
    "import json\n",
    "import tqdm\n",
    "\n",
    "with open(PROJECT_ROOT/ 'output'/ 'runs'/ 'charlottesville_city' / f'neighbors.json', 'r') as f:\n",
    "    data = json.load(f)\n",
    "    neighbors = data['neighbors']\n",
    "    print(len(neighbors))"
   ]
  },
  {
   "cell_type": "code",
   "execution_count": 31,
   "metadata": {},
   "outputs": [
    {
     "name": "stderr",
     "output_type": "stream",
     "text": [
      "<ipython-input-25-95f420ee73da>:6: TqdmDeprecationWarning: This function will be removed in tqdm==5.0.0\n",
      "Please use `tqdm.notebook.tqdm` instead of `tqdm.tqdm_notebook`\n",
      "  for l, neighbor in tqdm.tqdm_notebook(neighbors.items()):\n"
     ]
    },
    {
     "data": {
      "application/vnd.jupyter.widget-view+json": {
       "model_id": "27d6c3c5356c48cbb432d0da11e5b681",
       "version_major": 2,
       "version_minor": 0
      },
      "text/plain": [
       "  0%|          | 0/9165 [00:00<?, ?it/s]"
      ]
     },
     "metadata": {},
     "output_type": "display_data"
    },
    {
     "data": {
      "application/vnd.jupyter.widget-view+json": {
       "model_id": "f048cf859c12431ea6620ce25cddf7f1",
       "version_major": 2,
       "version_minor": 0
      },
      "text/plain": [
       "  0%|          | 0/9165 [00:00<?, ?it/s]"
      ]
     },
     "metadata": {},
     "output_type": "display_data"
    },
    {
     "data": {
      "application/vnd.jupyter.widget-view+json": {
       "model_id": "f41e88a9b4d74a8e9618b7c59ec932eb",
       "version_major": 2,
       "version_minor": 0
      },
      "text/plain": [
       "  0%|          | 0/9165 [00:00<?, ?it/s]"
      ]
     },
     "metadata": {},
     "output_type": "display_data"
    },
    {
     "data": {
      "application/vnd.jupyter.widget-view+json": {
       "model_id": "29bd43d599ba41328767fcf7cc09b12e",
       "version_major": 2,
       "version_minor": 0
      },
      "text/plain": [
       "  0%|          | 0/9165 [00:00<?, ?it/s]"
      ]
     },
     "metadata": {},
     "output_type": "display_data"
    },
    {
     "data": {
      "application/vnd.jupyter.widget-view+json": {
       "model_id": "c590d08f9a7b427aaa1045007e02584d",
       "version_major": 2,
       "version_minor": 0
      },
      "text/plain": [
       "  0%|          | 0/9165 [00:00<?, ?it/s]"
      ]
     },
     "metadata": {},
     "output_type": "display_data"
    },
    {
     "data": {
      "application/vnd.jupyter.widget-view+json": {
       "model_id": "1420a56f3f00407fbb6ed3d909eb4fe3",
       "version_major": 2,
       "version_minor": 0
      },
      "text/plain": [
       "  0%|          | 0/9165 [00:00<?, ?it/s]"
      ]
     },
     "metadata": {},
     "output_type": "display_data"
    },
    {
     "data": {
      "application/vnd.jupyter.widget-view+json": {
       "model_id": "f87db99b2e614b0a8144d78b4301b39b",
       "version_major": 2,
       "version_minor": 0
      },
      "text/plain": [
       "  0%|          | 0/9165 [00:00<?, ?it/s]"
      ]
     },
     "metadata": {},
     "output_type": "display_data"
    },
    {
     "data": {
      "application/vnd.jupyter.widget-view+json": {
       "model_id": "06fdc1d6c4f94ebb9a6d0b40f94b2c68",
       "version_major": 2,
       "version_minor": 0
      },
      "text/plain": [
       "  0%|          | 0/9165 [00:00<?, ?it/s]"
      ]
     },
     "metadata": {},
     "output_type": "display_data"
    },
    {
     "data": {
      "application/vnd.jupyter.widget-view+json": {
       "model_id": "5639c3347ad5437dba46cde94777fa0a",
       "version_major": 2,
       "version_minor": 0
      },
      "text/plain": [
       "  0%|          | 0/9165 [00:00<?, ?it/s]"
      ]
     },
     "metadata": {},
     "output_type": "display_data"
    },
    {
     "data": {
      "application/vnd.jupyter.widget-view+json": {
       "model_id": "654953734ffa49a6b953620b87e3928d",
       "version_major": 2,
       "version_minor": 0
      },
      "text/plain": [
       "  0%|          | 0/9165 [00:00<?, ?it/s]"
      ]
     },
     "metadata": {},
     "output_type": "display_data"
    },
    {
     "data": {
      "application/vnd.jupyter.widget-view+json": {
       "model_id": "5a968469c37f4da3803d085c890390de",
       "version_major": 2,
       "version_minor": 0
      },
      "text/plain": [
       "  0%|          | 0/9165 [00:00<?, ?it/s]"
      ]
     },
     "metadata": {},
     "output_type": "display_data"
    },
    {
     "data": {
      "application/vnd.jupyter.widget-view+json": {
       "model_id": "276be72361d94e128ed5a080d251a97b",
       "version_major": 2,
       "version_minor": 0
      },
      "text/plain": [
       "  0%|          | 0/9165 [00:00<?, ?it/s]"
      ]
     },
     "metadata": {},
     "output_type": "display_data"
    },
    {
     "data": {
      "application/vnd.jupyter.widget-view+json": {
       "model_id": "bf550d91f0c6425c880f391fbafba1ab",
       "version_major": 2,
       "version_minor": 0
      },
      "text/plain": [
       "  0%|          | 0/9165 [00:00<?, ?it/s]"
      ]
     },
     "metadata": {},
     "output_type": "display_data"
    },
    {
     "data": {
      "application/vnd.jupyter.widget-view+json": {
       "model_id": "f778fe47d79540ba8c93647865afb8dc",
       "version_major": 2,
       "version_minor": 0
      },
      "text/plain": [
       "  0%|          | 0/9165 [00:00<?, ?it/s]"
      ]
     },
     "metadata": {},
     "output_type": "display_data"
    },
    {
     "data": {
      "application/vnd.jupyter.widget-view+json": {
       "model_id": "5cecea6d69cb475884b6d937c8616d03",
       "version_major": 2,
       "version_minor": 0
      },
      "text/plain": [
       "  0%|          | 0/9165 [00:00<?, ?it/s]"
      ]
     },
     "metadata": {},
     "output_type": "display_data"
    },
    {
     "data": {
      "application/vnd.jupyter.widget-view+json": {
       "model_id": "1d92bba3325a42ca9b4c68c1e6000b98",
       "version_major": 2,
       "version_minor": 0
      },
      "text/plain": [
       "  0%|          | 0/9165 [00:00<?, ?it/s]"
      ]
     },
     "metadata": {},
     "output_type": "display_data"
    },
    {
     "data": {
      "application/vnd.jupyter.widget-view+json": {
       "model_id": "9d4ee12f9bde4314be86db2179ae5119",
       "version_major": 2,
       "version_minor": 0
      },
      "text/plain": [
       "  0%|          | 0/9165 [00:00<?, ?it/s]"
      ]
     },
     "metadata": {},
     "output_type": "display_data"
    },
    {
     "data": {
      "application/vnd.jupyter.widget-view+json": {
       "model_id": "b4e6dcb29d474ef8a7d3d88ffa5ec5f7",
       "version_major": 2,
       "version_minor": 0
      },
      "text/plain": [
       "  0%|          | 0/9165 [00:00<?, ?it/s]"
      ]
     },
     "metadata": {},
     "output_type": "display_data"
    },
    {
     "data": {
      "application/vnd.jupyter.widget-view+json": {
       "model_id": "555c65c07a2a418db21400496ef6d1c8",
       "version_major": 2,
       "version_minor": 0
      },
      "text/plain": [
       "  0%|          | 0/9165 [00:00<?, ?it/s]"
      ]
     },
     "metadata": {},
     "output_type": "display_data"
    },
    {
     "data": {
      "application/vnd.jupyter.widget-view+json": {
       "model_id": "a206911e0fce45c2aba9840a5ea65338",
       "version_major": 2,
       "version_minor": 0
      },
      "text/plain": [
       "  0%|          | 0/9165 [00:00<?, ?it/s]"
      ]
     },
     "metadata": {},
     "output_type": "display_data"
    },
    {
     "data": {
      "application/vnd.jupyter.widget-view+json": {
       "model_id": "32f71910f67243e38cd845962099c5bf",
       "version_major": 2,
       "version_minor": 0
      },
      "text/plain": [
       "  0%|          | 0/9165 [00:00<?, ?it/s]"
      ]
     },
     "metadata": {},
     "output_type": "display_data"
    },
    {
     "data": {
      "application/vnd.jupyter.widget-view+json": {
       "model_id": "d96ada697b3e4db7aaeb6ecf7992969b",
       "version_major": 2,
       "version_minor": 0
      },
      "text/plain": [
       "  0%|          | 0/9165 [00:00<?, ?it/s]"
      ]
     },
     "metadata": {},
     "output_type": "display_data"
    },
    {
     "data": {
      "application/vnd.jupyter.widget-view+json": {
       "model_id": "96fbbd285a764ddaaeda60910ff55ff5",
       "version_major": 2,
       "version_minor": 0
      },
      "text/plain": [
       "  0%|          | 0/9165 [00:00<?, ?it/s]"
      ]
     },
     "metadata": {},
     "output_type": "display_data"
    },
    {
     "data": {
      "application/vnd.jupyter.widget-view+json": {
       "model_id": "c85095c266c2488da8ba629725e0641b",
       "version_major": 2,
       "version_minor": 0
      },
      "text/plain": [
       "  0%|          | 0/9165 [00:00<?, ?it/s]"
      ]
     },
     "metadata": {},
     "output_type": "display_data"
    },
    {
     "data": {
      "application/vnd.jupyter.widget-view+json": {
       "model_id": "4728a64ab3234f17a55652732d33e935",
       "version_major": 2,
       "version_minor": 0
      },
      "text/plain": [
       "  0%|          | 0/9165 [00:00<?, ?it/s]"
      ]
     },
     "metadata": {},
     "output_type": "display_data"
    },
    {
     "data": {
      "application/vnd.jupyter.widget-view+json": {
       "model_id": "a048b8ea9b284e0eac3460b228a720e8",
       "version_major": 2,
       "version_minor": 0
      },
      "text/plain": [
       "  0%|          | 0/9165 [00:00<?, ?it/s]"
      ]
     },
     "metadata": {},
     "output_type": "display_data"
    },
    {
     "data": {
      "application/vnd.jupyter.widget-view+json": {
       "model_id": "2b055da115c040e0ac1a3c8d2885a301",
       "version_major": 2,
       "version_minor": 0
      },
      "text/plain": [
       "  0%|          | 0/9165 [00:00<?, ?it/s]"
      ]
     },
     "metadata": {},
     "output_type": "display_data"
    },
    {
     "data": {
      "application/vnd.jupyter.widget-view+json": {
       "model_id": "5500c022272d4889a1a05e0e88965cd9",
       "version_major": 2,
       "version_minor": 0
      },
      "text/plain": [
       "  0%|          | 0/9165 [00:00<?, ?it/s]"
      ]
     },
     "metadata": {},
     "output_type": "display_data"
    },
    {
     "data": {
      "application/vnd.jupyter.widget-view+json": {
       "model_id": "4890bb03214d4cdfbe3a1dd3f8dead45",
       "version_major": 2,
       "version_minor": 0
      },
      "text/plain": [
       "  0%|          | 0/9165 [00:00<?, ?it/s]"
      ]
     },
     "metadata": {},
     "output_type": "display_data"
    },
    {
     "data": {
      "application/vnd.jupyter.widget-view+json": {
       "model_id": "6bf538cd8f6d45f0bc9be4080114cc81",
       "version_major": 2,
       "version_minor": 0
      },
      "text/plain": [
       "  0%|          | 0/9165 [00:00<?, ?it/s]"
      ]
     },
     "metadata": {},
     "output_type": "display_data"
    },
    {
     "data": {
      "application/vnd.jupyter.widget-view+json": {
       "model_id": "1aa894442b574606956da20e73e455ae",
       "version_major": 2,
       "version_minor": 0
      },
      "text/plain": [
       "  0%|          | 0/9165 [00:00<?, ?it/s]"
      ]
     },
     "metadata": {},
     "output_type": "display_data"
    },
    {
     "data": {
      "application/vnd.jupyter.widget-view+json": {
       "model_id": "59fce76200bd425abc8262e05474bbb2",
       "version_major": 2,
       "version_minor": 0
      },
      "text/plain": [
       "  0%|          | 0/9165 [00:00<?, ?it/s]"
      ]
     },
     "metadata": {},
     "output_type": "display_data"
    },
    {
     "data": {
      "application/vnd.jupyter.widget-view+json": {
       "model_id": "221dccd85f9e43ffb55e7fdc16087e90",
       "version_major": 2,
       "version_minor": 0
      },
      "text/plain": [
       "  0%|          | 0/9165 [00:00<?, ?it/s]"
      ]
     },
     "metadata": {},
     "output_type": "display_data"
    },
    {
     "data": {
      "application/vnd.jupyter.widget-view+json": {
       "model_id": "a4df4663f0cc41939f4086e5b5938b14",
       "version_major": 2,
       "version_minor": 0
      },
      "text/plain": [
       "  0%|          | 0/9165 [00:00<?, ?it/s]"
      ]
     },
     "metadata": {},
     "output_type": "display_data"
    },
    {
     "data": {
      "application/vnd.jupyter.widget-view+json": {
       "model_id": "f304f969cdb64fdd935ba816c7bc6213",
       "version_major": 2,
       "version_minor": 0
      },
      "text/plain": [
       "  0%|          | 0/9165 [00:00<?, ?it/s]"
      ]
     },
     "metadata": {},
     "output_type": "display_data"
    },
    {
     "data": {
      "application/vnd.jupyter.widget-view+json": {
       "model_id": "622fb1ba30aa4d6195e14c36db5f04e2",
       "version_major": 2,
       "version_minor": 0
      },
      "text/plain": [
       "  0%|          | 0/9165 [00:00<?, ?it/s]"
      ]
     },
     "metadata": {},
     "output_type": "display_data"
    },
    {
     "data": {
      "application/vnd.jupyter.widget-view+json": {
       "model_id": "a016c4da41bf4083928e1029273f8264",
       "version_major": 2,
       "version_minor": 0
      },
      "text/plain": [
       "  0%|          | 0/9165 [00:00<?, ?it/s]"
      ]
     },
     "metadata": {},
     "output_type": "display_data"
    },
    {
     "data": {
      "application/vnd.jupyter.widget-view+json": {
       "model_id": "1036aa2dbb6f4562890081fbf60786e5",
       "version_major": 2,
       "version_minor": 0
      },
      "text/plain": [
       "  0%|          | 0/9165 [00:00<?, ?it/s]"
      ]
     },
     "metadata": {},
     "output_type": "display_data"
    },
    {
     "data": {
      "application/vnd.jupyter.widget-view+json": {
       "model_id": "c042cabbbac743438a6087fd13a93dd6",
       "version_major": 2,
       "version_minor": 0
      },
      "text/plain": [
       "  0%|          | 0/9165 [00:00<?, ?it/s]"
      ]
     },
     "metadata": {},
     "output_type": "display_data"
    },
    {
     "data": {
      "application/vnd.jupyter.widget-view+json": {
       "model_id": "ccbe84b80da04b3d939225e6333efbcb",
       "version_major": 2,
       "version_minor": 0
      },
      "text/plain": [
       "  0%|          | 0/9165 [00:00<?, ?it/s]"
      ]
     },
     "metadata": {},
     "output_type": "display_data"
    },
    {
     "data": {
      "application/vnd.jupyter.widget-view+json": {
       "model_id": "5f26b7fd5b1841ff9ce7fa58cdc8a94a",
       "version_major": 2,
       "version_minor": 0
      },
      "text/plain": [
       "  0%|          | 0/9165 [00:00<?, ?it/s]"
      ]
     },
     "metadata": {},
     "output_type": "display_data"
    },
    {
     "data": {
      "application/vnd.jupyter.widget-view+json": {
       "model_id": "2200652ad0854c3d89e88c61ff05afb6",
       "version_major": 2,
       "version_minor": 0
      },
      "text/plain": [
       "  0%|          | 0/9165 [00:00<?, ?it/s]"
      ]
     },
     "metadata": {},
     "output_type": "display_data"
    },
    {
     "data": {
      "application/vnd.jupyter.widget-view+json": {
       "model_id": "d0197e2220104ac4a958dba88e17a78d",
       "version_major": 2,
       "version_minor": 0
      },
      "text/plain": [
       "  0%|          | 0/9165 [00:00<?, ?it/s]"
      ]
     },
     "metadata": {},
     "output_type": "display_data"
    },
    {
     "data": {
      "application/vnd.jupyter.widget-view+json": {
       "model_id": "0b0e9cbf6c234a4db34e2aab4c372ed2",
       "version_major": 2,
       "version_minor": 0
      },
      "text/plain": [
       "  0%|          | 0/9165 [00:00<?, ?it/s]"
      ]
     },
     "metadata": {},
     "output_type": "display_data"
    },
    {
     "data": {
      "application/vnd.jupyter.widget-view+json": {
       "model_id": "2ea97ca43ace47a68632825aa204fefd",
       "version_major": 2,
       "version_minor": 0
      },
      "text/plain": [
       "  0%|          | 0/9165 [00:00<?, ?it/s]"
      ]
     },
     "metadata": {},
     "output_type": "display_data"
    },
    {
     "data": {
      "application/vnd.jupyter.widget-view+json": {
       "model_id": "2c45644a825744879e1ed8097e34bbe0",
       "version_major": 2,
       "version_minor": 0
      },
      "text/plain": [
       "  0%|          | 0/9165 [00:00<?, ?it/s]"
      ]
     },
     "metadata": {},
     "output_type": "display_data"
    },
    {
     "data": {
      "application/vnd.jupyter.widget-view+json": {
       "model_id": "2e93afe7e5cd4908a40e78823a11811a",
       "version_major": 2,
       "version_minor": 0
      },
      "text/plain": [
       "  0%|          | 0/9165 [00:00<?, ?it/s]"
      ]
     },
     "metadata": {},
     "output_type": "display_data"
    },
    {
     "data": {
      "application/vnd.jupyter.widget-view+json": {
       "model_id": "1fc89699b2424fbb8c98c6b61ebc9d30",
       "version_major": 2,
       "version_minor": 0
      },
      "text/plain": [
       "  0%|          | 0/9165 [00:00<?, ?it/s]"
      ]
     },
     "metadata": {},
     "output_type": "display_data"
    },
    {
     "data": {
      "application/vnd.jupyter.widget-view+json": {
       "model_id": "a96f66041ef54e70b4383ba1c710617d",
       "version_major": 2,
       "version_minor": 0
      },
      "text/plain": [
       "  0%|          | 0/9165 [00:00<?, ?it/s]"
      ]
     },
     "metadata": {},
     "output_type": "display_data"
    },
    {
     "data": {
      "application/vnd.jupyter.widget-view+json": {
       "model_id": "23cca7d471f54fe89ccc68ddc032c517",
       "version_major": 2,
       "version_minor": 0
      },
      "text/plain": [
       "  0%|          | 0/9165 [00:00<?, ?it/s]"
      ]
     },
     "metadata": {},
     "output_type": "display_data"
    },
    {
     "name": "stdout",
     "output_type": "stream",
     "text": [
      "157.54\n"
     ]
    },
    {
     "name": "stderr",
     "output_type": "stream",
     "text": [
      "<ipython-input-31-509bebdd4f8e>:2: DeprecationWarning: scipy.sum is deprecated and will be removed in SciPy 2.0.0, use numpy.sum instead\n",
      "  print(sum(total)/len(total))\n"
     ]
    }
   ],
   "source": [
    "total = [len(set_cover_softmax(neighbors, 0.1, 20)) for i in range(50)]\n",
    "print(sum(total)/len(total))\n",
    "#for i in range(10):\n",
    "#    covered = set_cover(neighbors, 0.1)"
   ]
  },
  {
   "cell_type": "code",
   "execution_count": 32,
   "metadata": {},
   "outputs": [
    {
     "name": "stdout",
     "output_type": "stream",
     "text": [
      "153\n"
     ]
    }
   ],
   "source": [
    "print(min(total))"
   ]
  },
  {
   "cell_type": "code",
   "execution_count": 21,
   "metadata": {},
   "outputs": [
    {
     "name": "stdout",
     "output_type": "stream",
     "text": [
      "[159, 164, 156, 160, 156, 154, 162, 158, 166, 165]\n"
     ]
    }
   ],
   "source": [
    "print(total)"
   ]
  },
  {
   "cell_type": "code",
   "execution_count": 30,
   "metadata": {},
   "outputs": [
    {
     "name": "stdout",
     "output_type": "stream",
     "text": [
      "155\n"
     ]
    }
   ],
   "source": [
    "print(min(total))"
   ]
  },
  {
   "cell_type": "code",
   "execution_count": 26,
   "metadata": {},
   "outputs": [
    {
     "name": "stderr",
     "output_type": "stream",
     "text": [
      "<ipython-input-25-95f420ee73da>:6: TqdmDeprecationWarning: This function will be removed in tqdm==5.0.0\n",
      "Please use `tqdm.notebook.tqdm` instead of `tqdm.tqdm_notebook`\n",
      "  for l, neighbor in tqdm.tqdm_notebook(neighbors.items()):\n"
     ]
    },
    {
     "data": {
      "application/vnd.jupyter.widget-view+json": {
       "model_id": "88696555fffc4f39b1d163686e5ea9cc",
       "version_major": 2,
       "version_minor": 0
      },
      "text/plain": [
       "  0%|          | 0/9165 [00:00<?, ?it/s]"
      ]
     },
     "metadata": {},
     "output_type": "display_data"
    },
    {
     "name": "stdout",
     "output_type": "stream",
     "text": [
      "156\n"
     ]
    }
   ],
   "source": [
    "import numpy as np\n",
    "from scipy import special\n",
    "print(len(set_cover_softmax(neighbors, 0.1, 1)))"
   ]
  },
  {
   "cell_type": "code",
   "execution_count": 13,
   "metadata": {},
   "outputs": [
    {
     "name": "stderr",
     "output_type": "stream",
     "text": [
      "<ipython-input-13-0c8be39f6e2e>:10: TqdmDeprecationWarning: This function will be removed in tqdm==5.0.0\n",
      "Please use `tqdm.notebook.tqdm` instead of `tqdm.tqdm_notebook`\n",
      "  for l in tqdm.tqdm_notebook(LOCATIONS_act):\n"
     ]
    },
    {
     "data": {
      "application/vnd.jupyter.widget-view+json": {
       "model_id": "f60fe5f5eecd4793a1666bcb5caf04fa",
       "version_major": 2,
       "version_minor": 0
      },
      "text/plain": [
       "  0%|          | 0/9165 [00:00<?, ?it/s]"
      ]
     },
     "metadata": {},
     "output_type": "display_data"
    },
    {
     "ename": "KeyboardInterrupt",
     "evalue": "",
     "output_type": "error",
     "traceback": [
      "\u001b[0;31m---------------------------------------------------------------------------\u001b[0m",
      "\u001b[0;31mKeyboardInterrupt\u001b[0m                         Traceback (most recent call last)",
      "\u001b[0;32m<ipython-input-13-0c8be39f6e2e>\u001b[0m in \u001b[0;36m<module>\u001b[0;34m\u001b[0m\n\u001b[1;32m     16\u001b[0m \u001b[0;34m\u001b[0m\u001b[0m\n\u001b[1;32m     17\u001b[0m     \u001b[0;31m#sorted_distance_neighbors = sorted(sorted_distance_neighbors, reverse = False)\u001b[0m\u001b[0;34m\u001b[0m\u001b[0;34m\u001b[0m\u001b[0;34m\u001b[0m\u001b[0m\n\u001b[0;32m---> 18\u001b[0;31m     \u001b[0mneighbors\u001b[0m\u001b[0;34m[\u001b[0m\u001b[0ml\u001b[0m\u001b[0;34m]\u001b[0m \u001b[0;34m=\u001b[0m \u001b[0msorted\u001b[0m\u001b[0;34m(\u001b[0m\u001b[0;34m[\u001b[0m\u001b[0;34m(\u001b[0m\u001b[0mcalculate_distance\u001b[0m\u001b[0;34m(\u001b[0m\u001b[0ml\u001b[0m\u001b[0;34m,\u001b[0m \u001b[0mj\u001b[0m\u001b[0;34m)\u001b[0m\u001b[0;34m,\u001b[0m\u001b[0mj\u001b[0m\u001b[0;34m)\u001b[0m \u001b[0;32mfor\u001b[0m \u001b[0mj\u001b[0m \u001b[0;32min\u001b[0m \u001b[0mrange\u001b[0m\u001b[0;34m(\u001b[0m\u001b[0mlen\u001b[0m\u001b[0;34m(\u001b[0m\u001b[0mLOCATIONS\u001b[0m\u001b[0;34m)\u001b[0m\u001b[0;34m)\u001b[0m\u001b[0;34m]\u001b[0m\u001b[0;34m,\u001b[0m \u001b[0mreverse\u001b[0m\u001b[0;34m=\u001b[0m \u001b[0;32mFalse\u001b[0m\u001b[0;34m)\u001b[0m\u001b[0;34m\u001b[0m\u001b[0;34m\u001b[0m\u001b[0m\n\u001b[0m\u001b[1;32m     19\u001b[0m \u001b[0;34m\u001b[0m\u001b[0m\n\u001b[1;32m     20\u001b[0m \u001b[0mend\u001b[0m \u001b[0;34m=\u001b[0m \u001b[0mtime\u001b[0m\u001b[0;34m.\u001b[0m\u001b[0mtime\u001b[0m\u001b[0;34m(\u001b[0m\u001b[0;34m)\u001b[0m\u001b[0;34m\u001b[0m\u001b[0;34m\u001b[0m\u001b[0m\n",
      "\u001b[0;32m<ipython-input-13-0c8be39f6e2e>\u001b[0m in \u001b[0;36m<listcomp>\u001b[0;34m(.0)\u001b[0m\n\u001b[1;32m     16\u001b[0m \u001b[0;34m\u001b[0m\u001b[0m\n\u001b[1;32m     17\u001b[0m     \u001b[0;31m#sorted_distance_neighbors = sorted(sorted_distance_neighbors, reverse = False)\u001b[0m\u001b[0;34m\u001b[0m\u001b[0;34m\u001b[0m\u001b[0;34m\u001b[0m\u001b[0m\n\u001b[0;32m---> 18\u001b[0;31m     \u001b[0mneighbors\u001b[0m\u001b[0;34m[\u001b[0m\u001b[0ml\u001b[0m\u001b[0;34m]\u001b[0m \u001b[0;34m=\u001b[0m \u001b[0msorted\u001b[0m\u001b[0;34m(\u001b[0m\u001b[0;34m[\u001b[0m\u001b[0;34m(\u001b[0m\u001b[0mcalculate_distance\u001b[0m\u001b[0;34m(\u001b[0m\u001b[0ml\u001b[0m\u001b[0;34m,\u001b[0m \u001b[0mj\u001b[0m\u001b[0;34m)\u001b[0m\u001b[0;34m,\u001b[0m\u001b[0mj\u001b[0m\u001b[0;34m)\u001b[0m \u001b[0;32mfor\u001b[0m \u001b[0mj\u001b[0m \u001b[0;32min\u001b[0m \u001b[0mrange\u001b[0m\u001b[0;34m(\u001b[0m\u001b[0mlen\u001b[0m\u001b[0;34m(\u001b[0m\u001b[0mLOCATIONS\u001b[0m\u001b[0;34m)\u001b[0m\u001b[0;34m)\u001b[0m\u001b[0;34m]\u001b[0m\u001b[0;34m,\u001b[0m \u001b[0mreverse\u001b[0m\u001b[0;34m=\u001b[0m \u001b[0;32mFalse\u001b[0m\u001b[0;34m)\u001b[0m\u001b[0;34m\u001b[0m\u001b[0;34m\u001b[0m\u001b[0m\n\u001b[0m\u001b[1;32m     19\u001b[0m \u001b[0;34m\u001b[0m\u001b[0m\n\u001b[1;32m     20\u001b[0m \u001b[0mend\u001b[0m \u001b[0;34m=\u001b[0m \u001b[0mtime\u001b[0m\u001b[0;34m.\u001b[0m\u001b[0mtime\u001b[0m\u001b[0;34m(\u001b[0m\u001b[0;34m)\u001b[0m\u001b[0;34m\u001b[0m\u001b[0;34m\u001b[0m\u001b[0m\n",
      "\u001b[0;32m/sfs/qumulo/qhome/al7gc/Mobile-Facility/mobile/utils.py\u001b[0m in \u001b[0;36mcalculate_distance\u001b[0;34m(loc1, loc2)\u001b[0m\n\u001b[1;32m     68\u001b[0m     \u001b[0mcoord1\u001b[0m \u001b[0;34m=\u001b[0m \u001b[0;34m(\u001b[0m\u001b[0mcoord1_row\u001b[0m\u001b[0;34m[\u001b[0m\u001b[0;34m'latitude'\u001b[0m\u001b[0;34m]\u001b[0m\u001b[0;34m,\u001b[0m \u001b[0mcoord1_row\u001b[0m\u001b[0;34m[\u001b[0m\u001b[0;34m'longitude'\u001b[0m\u001b[0;34m]\u001b[0m\u001b[0;34m)\u001b[0m\u001b[0;34m\u001b[0m\u001b[0;34m\u001b[0m\u001b[0m\n\u001b[1;32m     69\u001b[0m     \u001b[0mcoord2\u001b[0m \u001b[0;34m=\u001b[0m \u001b[0;34m(\u001b[0m\u001b[0mcoord2_row\u001b[0m\u001b[0;34m[\u001b[0m\u001b[0;34m'latitude'\u001b[0m\u001b[0;34m]\u001b[0m\u001b[0;34m,\u001b[0m \u001b[0mcoord2_row\u001b[0m\u001b[0;34m[\u001b[0m\u001b[0;34m'longitude'\u001b[0m\u001b[0;34m]\u001b[0m\u001b[0;34m)\u001b[0m\u001b[0;34m\u001b[0m\u001b[0;34m\u001b[0m\u001b[0m\n\u001b[0;32m---> 70\u001b[0;31m     \u001b[0;32mreturn\u001b[0m \u001b[0mgeopy\u001b[0m\u001b[0;34m.\u001b[0m\u001b[0mdistance\u001b[0m\u001b[0;34m.\u001b[0m\u001b[0mgreat_circle\u001b[0m\u001b[0;34m(\u001b[0m\u001b[0mcoord1\u001b[0m\u001b[0;34m,\u001b[0m \u001b[0mcoord2\u001b[0m\u001b[0;34m)\u001b[0m\u001b[0;34m.\u001b[0m\u001b[0mkm\u001b[0m\u001b[0;34m\u001b[0m\u001b[0;34m\u001b[0m\u001b[0m\n\u001b[0m\u001b[1;32m     71\u001b[0m \u001b[0;34m\u001b[0m\u001b[0m\n\u001b[1;32m     72\u001b[0m \u001b[0;32mdef\u001b[0m \u001b[0mprecompute_distances\u001b[0m\u001b[0;34m(\u001b[0m\u001b[0mclient_locations\u001b[0m\u001b[0;34m:\u001b[0m \u001b[0mList\u001b[0m\u001b[0;34m[\u001b[0m\u001b[0mList\u001b[0m\u001b[0;34m[\u001b[0m\u001b[0mint\u001b[0m\u001b[0;34m]\u001b[0m\u001b[0;34m]\u001b[0m\u001b[0;34m,\u001b[0m \u001b[0mlocations\u001b[0m\u001b[0;34m:\u001b[0m \u001b[0mList\u001b[0m\u001b[0;34m[\u001b[0m\u001b[0mint\u001b[0m\u001b[0;34m]\u001b[0m\u001b[0;34m)\u001b[0m\u001b[0;34m:\u001b[0m\u001b[0;34m\u001b[0m\u001b[0;34m\u001b[0m\u001b[0m\n",
      "\u001b[0;32m~/.conda/envs/facility/lib/python3.9/site-packages/geopy/distance.py\u001b[0m in \u001b[0;36m__init__\u001b[0;34m(self, *args, **kwargs)\u001b[0m\n\u001b[1;32m    441\u001b[0m     \u001b[0;32mdef\u001b[0m \u001b[0m__init__\u001b[0m\u001b[0;34m(\u001b[0m\u001b[0mself\u001b[0m\u001b[0;34m,\u001b[0m \u001b[0;34m*\u001b[0m\u001b[0margs\u001b[0m\u001b[0;34m,\u001b[0m \u001b[0;34m**\u001b[0m\u001b[0mkwargs\u001b[0m\u001b[0;34m)\u001b[0m\u001b[0;34m:\u001b[0m\u001b[0;34m\u001b[0m\u001b[0;34m\u001b[0m\u001b[0m\n\u001b[1;32m    442\u001b[0m         \u001b[0mself\u001b[0m\u001b[0;34m.\u001b[0m\u001b[0mRADIUS\u001b[0m \u001b[0;34m=\u001b[0m \u001b[0mkwargs\u001b[0m\u001b[0;34m.\u001b[0m\u001b[0mpop\u001b[0m\u001b[0;34m(\u001b[0m\u001b[0;34m'radius'\u001b[0m\u001b[0;34m,\u001b[0m \u001b[0mEARTH_RADIUS\u001b[0m\u001b[0;34m)\u001b[0m\u001b[0;34m\u001b[0m\u001b[0;34m\u001b[0m\u001b[0m\n\u001b[0;32m--> 443\u001b[0;31m         \u001b[0msuper\u001b[0m\u001b[0;34m(\u001b[0m\u001b[0;34m)\u001b[0m\u001b[0;34m.\u001b[0m\u001b[0m__init__\u001b[0m\u001b[0;34m(\u001b[0m\u001b[0;34m*\u001b[0m\u001b[0margs\u001b[0m\u001b[0;34m,\u001b[0m \u001b[0;34m**\u001b[0m\u001b[0mkwargs\u001b[0m\u001b[0;34m)\u001b[0m\u001b[0;34m\u001b[0m\u001b[0;34m\u001b[0m\u001b[0m\n\u001b[0m\u001b[1;32m    444\u001b[0m \u001b[0;34m\u001b[0m\u001b[0m\n\u001b[1;32m    445\u001b[0m     \u001b[0;32mdef\u001b[0m \u001b[0mmeasure\u001b[0m\u001b[0;34m(\u001b[0m\u001b[0mself\u001b[0m\u001b[0;34m,\u001b[0m \u001b[0ma\u001b[0m\u001b[0;34m,\u001b[0m \u001b[0mb\u001b[0m\u001b[0;34m)\u001b[0m\u001b[0;34m:\u001b[0m\u001b[0;34m\u001b[0m\u001b[0;34m\u001b[0m\u001b[0m\n",
      "\u001b[0;32m~/.conda/envs/facility/lib/python3.9/site-packages/geopy/distance.py\u001b[0m in \u001b[0;36m__init__\u001b[0;34m(self, *args, **kwargs)\u001b[0m\n\u001b[1;32m    274\u001b[0m         \u001b[0;32melif\u001b[0m \u001b[0mlen\u001b[0m\u001b[0;34m(\u001b[0m\u001b[0margs\u001b[0m\u001b[0;34m)\u001b[0m \u001b[0;34m>\u001b[0m \u001b[0;36m1\u001b[0m\u001b[0;34m:\u001b[0m\u001b[0;34m\u001b[0m\u001b[0;34m\u001b[0m\u001b[0m\n\u001b[1;32m    275\u001b[0m             \u001b[0;32mfor\u001b[0m \u001b[0ma\u001b[0m\u001b[0;34m,\u001b[0m \u001b[0mb\u001b[0m \u001b[0;32min\u001b[0m \u001b[0mutil\u001b[0m\u001b[0;34m.\u001b[0m\u001b[0mpairwise\u001b[0m\u001b[0;34m(\u001b[0m\u001b[0margs\u001b[0m\u001b[0;34m)\u001b[0m\u001b[0;34m:\u001b[0m\u001b[0;34m\u001b[0m\u001b[0;34m\u001b[0m\u001b[0m\n\u001b[0;32m--> 276\u001b[0;31m                 \u001b[0mkilometers\u001b[0m \u001b[0;34m+=\u001b[0m \u001b[0mself\u001b[0m\u001b[0;34m.\u001b[0m\u001b[0mmeasure\u001b[0m\u001b[0;34m(\u001b[0m\u001b[0ma\u001b[0m\u001b[0;34m,\u001b[0m \u001b[0mb\u001b[0m\u001b[0;34m)\u001b[0m\u001b[0;34m\u001b[0m\u001b[0;34m\u001b[0m\u001b[0m\n\u001b[0m\u001b[1;32m    277\u001b[0m \u001b[0;34m\u001b[0m\u001b[0m\n\u001b[1;32m    278\u001b[0m         \u001b[0mkilometers\u001b[0m \u001b[0;34m+=\u001b[0m \u001b[0munits\u001b[0m\u001b[0;34m.\u001b[0m\u001b[0mkilometers\u001b[0m\u001b[0;34m(\u001b[0m\u001b[0;34m**\u001b[0m\u001b[0mkwargs\u001b[0m\u001b[0;34m)\u001b[0m\u001b[0;34m\u001b[0m\u001b[0;34m\u001b[0m\u001b[0m\n",
      "\u001b[0;32m~/.conda/envs/facility/lib/python3.9/site-packages/geopy/distance.py\u001b[0m in \u001b[0;36mmeasure\u001b[0;34m(self, a, b)\u001b[0m\n\u001b[1;32m    444\u001b[0m \u001b[0;34m\u001b[0m\u001b[0m\n\u001b[1;32m    445\u001b[0m     \u001b[0;32mdef\u001b[0m \u001b[0mmeasure\u001b[0m\u001b[0;34m(\u001b[0m\u001b[0mself\u001b[0m\u001b[0;34m,\u001b[0m \u001b[0ma\u001b[0m\u001b[0;34m,\u001b[0m \u001b[0mb\u001b[0m\u001b[0;34m)\u001b[0m\u001b[0;34m:\u001b[0m\u001b[0;34m\u001b[0m\u001b[0;34m\u001b[0m\u001b[0m\n\u001b[0;32m--> 446\u001b[0;31m         \u001b[0ma\u001b[0m\u001b[0;34m,\u001b[0m \u001b[0mb\u001b[0m \u001b[0;34m=\u001b[0m \u001b[0mPoint\u001b[0m\u001b[0;34m(\u001b[0m\u001b[0ma\u001b[0m\u001b[0;34m)\u001b[0m\u001b[0;34m,\u001b[0m \u001b[0mPoint\u001b[0m\u001b[0;34m(\u001b[0m\u001b[0mb\u001b[0m\u001b[0;34m)\u001b[0m\u001b[0;34m\u001b[0m\u001b[0;34m\u001b[0m\u001b[0m\n\u001b[0m\u001b[1;32m    447\u001b[0m         \u001b[0m_ensure_same_altitude\u001b[0m\u001b[0;34m(\u001b[0m\u001b[0ma\u001b[0m\u001b[0;34m,\u001b[0m \u001b[0mb\u001b[0m\u001b[0;34m)\u001b[0m\u001b[0;34m\u001b[0m\u001b[0;34m\u001b[0m\u001b[0m\n\u001b[1;32m    448\u001b[0m \u001b[0;34m\u001b[0m\u001b[0m\n",
      "\u001b[0;32m~/.conda/envs/facility/lib/python3.9/site-packages/geopy/point.py\u001b[0m in \u001b[0;36m__new__\u001b[0;34m(cls, latitude, longitude, altitude)\u001b[0m\n\u001b[1;32m    173\u001b[0m                     )\n\u001b[1;32m    174\u001b[0m                 \u001b[0;32melse\u001b[0m\u001b[0;34m:\u001b[0m\u001b[0;34m\u001b[0m\u001b[0;34m\u001b[0m\u001b[0m\n\u001b[0;32m--> 175\u001b[0;31m                     \u001b[0;32mreturn\u001b[0m \u001b[0mcls\u001b[0m\u001b[0;34m.\u001b[0m\u001b[0mfrom_sequence\u001b[0m\u001b[0;34m(\u001b[0m\u001b[0mseq\u001b[0m\u001b[0;34m)\u001b[0m\u001b[0;34m\u001b[0m\u001b[0;34m\u001b[0m\u001b[0m\n\u001b[0m\u001b[1;32m    176\u001b[0m \u001b[0;34m\u001b[0m\u001b[0m\n\u001b[1;32m    177\u001b[0m         \u001b[0;32mif\u001b[0m \u001b[0msingle_arg\u001b[0m\u001b[0;34m:\u001b[0m\u001b[0;34m\u001b[0m\u001b[0;34m\u001b[0m\u001b[0m\n",
      "\u001b[0;32m~/.conda/envs/facility/lib/python3.9/site-packages/geopy/point.py\u001b[0m in \u001b[0;36mfrom_sequence\u001b[0;34m(cls, seq)\u001b[0m\n\u001b[1;32m    470\u001b[0m             raise ValueError('When creating a Point from sequence, it '\n\u001b[1;32m    471\u001b[0m                              'must not have more than 3 items.')\n\u001b[0;32m--> 472\u001b[0;31m         \u001b[0;32mreturn\u001b[0m \u001b[0mcls\u001b[0m\u001b[0;34m(\u001b[0m\u001b[0;34m*\u001b[0m\u001b[0margs\u001b[0m\u001b[0;34m)\u001b[0m\u001b[0;34m\u001b[0m\u001b[0;34m\u001b[0m\u001b[0m\n\u001b[0m\u001b[1;32m    473\u001b[0m \u001b[0;34m\u001b[0m\u001b[0m\n\u001b[1;32m    474\u001b[0m     \u001b[0;34m@\u001b[0m\u001b[0mclassmethod\u001b[0m\u001b[0;34m\u001b[0m\u001b[0;34m\u001b[0m\u001b[0m\n",
      "\u001b[0;32m~/.conda/envs/facility/lib/python3.9/site-packages/geopy/point.py\u001b[0m in \u001b[0;36m__new__\u001b[0;34m(cls, latitude, longitude, altitude)\u001b[0m\n\u001b[1;32m    186\u001b[0m \u001b[0;34m\u001b[0m\u001b[0m\n\u001b[1;32m    187\u001b[0m         \u001b[0mlatitude\u001b[0m\u001b[0;34m,\u001b[0m \u001b[0mlongitude\u001b[0m\u001b[0;34m,\u001b[0m \u001b[0maltitude\u001b[0m \u001b[0;34m=\u001b[0m\u001b[0;31m \u001b[0m\u001b[0;31m\\\u001b[0m\u001b[0;34m\u001b[0m\u001b[0;34m\u001b[0m\u001b[0m\n\u001b[0;32m--> 188\u001b[0;31m             \u001b[0m_normalize_coordinates\u001b[0m\u001b[0;34m(\u001b[0m\u001b[0mlatitude\u001b[0m\u001b[0;34m,\u001b[0m \u001b[0mlongitude\u001b[0m\u001b[0;34m,\u001b[0m \u001b[0maltitude\u001b[0m\u001b[0;34m)\u001b[0m\u001b[0;34m\u001b[0m\u001b[0;34m\u001b[0m\u001b[0m\n\u001b[0m\u001b[1;32m    189\u001b[0m \u001b[0;34m\u001b[0m\u001b[0m\n\u001b[1;32m    190\u001b[0m         \u001b[0mself\u001b[0m \u001b[0;34m=\u001b[0m \u001b[0msuper\u001b[0m\u001b[0;34m(\u001b[0m\u001b[0;34m)\u001b[0m\u001b[0;34m.\u001b[0m\u001b[0m__new__\u001b[0m\u001b[0;34m(\u001b[0m\u001b[0mcls\u001b[0m\u001b[0;34m)\u001b[0m\u001b[0;34m\u001b[0m\u001b[0;34m\u001b[0m\u001b[0m\n",
      "\u001b[0;31mKeyboardInterrupt\u001b[0m: "
     ]
    }
   ],
   "source": [
    "import time\n",
    "import tqdm\n",
    "\n",
    "start = time.time()\n",
    "\n",
    "neighbors = {}\n",
    "\n",
    "LOCATIONS_act = [l for l in range(len(LOCATIONS)) if not LOCATIONS[l]['home']]\n",
    "\n",
    "for l in tqdm.tqdm_notebook(LOCATIONS_act):\n",
    "    neighbors[l] = sorted([(calculate_distance(l, j),j) for j in range(len(LOCATIONS))], reverse= False)\n",
    "\n",
    "end = time.time()\n",
    "\n",
    "print(end-start)"
   ]
  },
  {
   "cell_type": "code",
   "execution_count": 14,
   "metadata": {},
   "outputs": [
    {
     "name": "stderr",
     "output_type": "stream",
     "text": [
      "<ipython-input-14-fd78dd18019a>:10: TqdmDeprecationWarning: This function will be removed in tqdm==5.0.0\n",
      "Please use `tqdm.notebook.tqdm` instead of `tqdm.tqdm_notebook`\n",
      "  for l in tqdm.tqdm_notebook(LOCATIONS_act):\n"
     ]
    },
    {
     "data": {
      "application/vnd.jupyter.widget-view+json": {
       "model_id": "64a4c858ed9b409389903354ef5f82e0",
       "version_major": 2,
       "version_minor": 0
      },
      "text/plain": [
       "  0%|          | 0/9165 [00:00<?, ?it/s]"
      ]
     },
     "metadata": {},
     "output_type": "display_data"
    },
    {
     "ename": "KeyboardInterrupt",
     "evalue": "",
     "output_type": "error",
     "traceback": [
      "\u001b[0;31m---------------------------------------------------------------------------\u001b[0m",
      "\u001b[0;31mKeyboardInterrupt\u001b[0m                         Traceback (most recent call last)",
      "\u001b[0;32m<ipython-input-14-fd78dd18019a>\u001b[0m in \u001b[0;36m<module>\u001b[0;34m\u001b[0m\n\u001b[1;32m     13\u001b[0m \u001b[0;34m\u001b[0m\u001b[0m\n\u001b[1;32m     14\u001b[0m     \u001b[0;32mfor\u001b[0m \u001b[0mj\u001b[0m \u001b[0;32min\u001b[0m \u001b[0mrange\u001b[0m\u001b[0;34m(\u001b[0m\u001b[0mlen\u001b[0m\u001b[0;34m(\u001b[0m\u001b[0mLOCATIONS\u001b[0m\u001b[0;34m)\u001b[0m\u001b[0;34m)\u001b[0m\u001b[0;34m:\u001b[0m\u001b[0;34m\u001b[0m\u001b[0;34m\u001b[0m\u001b[0m\n\u001b[0;32m---> 15\u001b[0;31m         \u001b[0mdist\u001b[0m \u001b[0;34m=\u001b[0m \u001b[0mcalculate_distance\u001b[0m\u001b[0;34m(\u001b[0m\u001b[0ml\u001b[0m\u001b[0;34m,\u001b[0m \u001b[0mj\u001b[0m\u001b[0;34m)\u001b[0m\u001b[0;34m\u001b[0m\u001b[0;34m\u001b[0m\u001b[0m\n\u001b[0m\u001b[1;32m     16\u001b[0m         \u001b[0msorted_distance_neighbors\u001b[0m\u001b[0;34m.\u001b[0m\u001b[0mappend\u001b[0m\u001b[0;34m(\u001b[0m\u001b[0;34m(\u001b[0m\u001b[0mdist\u001b[0m\u001b[0;34m,\u001b[0m \u001b[0mj\u001b[0m\u001b[0;34m)\u001b[0m\u001b[0;34m)\u001b[0m\u001b[0;34m\u001b[0m\u001b[0;34m\u001b[0m\u001b[0m\n\u001b[1;32m     17\u001b[0m \u001b[0;34m\u001b[0m\u001b[0m\n",
      "\u001b[0;32m/sfs/qumulo/qhome/al7gc/Mobile-Facility/mobile/utils.py\u001b[0m in \u001b[0;36mcalculate_distance\u001b[0;34m(loc1, loc2)\u001b[0m\n\u001b[1;32m     68\u001b[0m     \u001b[0mcoord1\u001b[0m \u001b[0;34m=\u001b[0m \u001b[0;34m(\u001b[0m\u001b[0mcoord1_row\u001b[0m\u001b[0;34m[\u001b[0m\u001b[0;34m'latitude'\u001b[0m\u001b[0;34m]\u001b[0m\u001b[0;34m,\u001b[0m \u001b[0mcoord1_row\u001b[0m\u001b[0;34m[\u001b[0m\u001b[0;34m'longitude'\u001b[0m\u001b[0;34m]\u001b[0m\u001b[0;34m)\u001b[0m\u001b[0;34m\u001b[0m\u001b[0;34m\u001b[0m\u001b[0m\n\u001b[1;32m     69\u001b[0m     \u001b[0mcoord2\u001b[0m \u001b[0;34m=\u001b[0m \u001b[0;34m(\u001b[0m\u001b[0mcoord2_row\u001b[0m\u001b[0;34m[\u001b[0m\u001b[0;34m'latitude'\u001b[0m\u001b[0;34m]\u001b[0m\u001b[0;34m,\u001b[0m \u001b[0mcoord2_row\u001b[0m\u001b[0;34m[\u001b[0m\u001b[0;34m'longitude'\u001b[0m\u001b[0;34m]\u001b[0m\u001b[0;34m)\u001b[0m\u001b[0;34m\u001b[0m\u001b[0;34m\u001b[0m\u001b[0m\n\u001b[0;32m---> 70\u001b[0;31m     \u001b[0;32mreturn\u001b[0m \u001b[0mgeopy\u001b[0m\u001b[0;34m.\u001b[0m\u001b[0mdistance\u001b[0m\u001b[0;34m.\u001b[0m\u001b[0mgreat_circle\u001b[0m\u001b[0;34m(\u001b[0m\u001b[0mcoord1\u001b[0m\u001b[0;34m,\u001b[0m \u001b[0mcoord2\u001b[0m\u001b[0;34m)\u001b[0m\u001b[0;34m.\u001b[0m\u001b[0mkm\u001b[0m\u001b[0;34m\u001b[0m\u001b[0;34m\u001b[0m\u001b[0m\n\u001b[0m\u001b[1;32m     71\u001b[0m \u001b[0;34m\u001b[0m\u001b[0m\n\u001b[1;32m     72\u001b[0m \u001b[0;32mdef\u001b[0m \u001b[0mprecompute_distances\u001b[0m\u001b[0;34m(\u001b[0m\u001b[0mclient_locations\u001b[0m\u001b[0;34m:\u001b[0m \u001b[0mList\u001b[0m\u001b[0;34m[\u001b[0m\u001b[0mList\u001b[0m\u001b[0;34m[\u001b[0m\u001b[0mint\u001b[0m\u001b[0;34m]\u001b[0m\u001b[0;34m]\u001b[0m\u001b[0;34m,\u001b[0m \u001b[0mlocations\u001b[0m\u001b[0;34m:\u001b[0m \u001b[0mList\u001b[0m\u001b[0;34m[\u001b[0m\u001b[0mint\u001b[0m\u001b[0;34m]\u001b[0m\u001b[0;34m)\u001b[0m\u001b[0;34m:\u001b[0m\u001b[0;34m\u001b[0m\u001b[0;34m\u001b[0m\u001b[0m\n",
      "\u001b[0;32m~/.conda/envs/facility/lib/python3.9/site-packages/geopy/distance.py\u001b[0m in \u001b[0;36m__init__\u001b[0;34m(self, *args, **kwargs)\u001b[0m\n\u001b[1;32m    439\u001b[0m     \"\"\"\n\u001b[1;32m    440\u001b[0m \u001b[0;34m\u001b[0m\u001b[0m\n\u001b[0;32m--> 441\u001b[0;31m     \u001b[0;32mdef\u001b[0m \u001b[0m__init__\u001b[0m\u001b[0;34m(\u001b[0m\u001b[0mself\u001b[0m\u001b[0;34m,\u001b[0m \u001b[0;34m*\u001b[0m\u001b[0margs\u001b[0m\u001b[0;34m,\u001b[0m \u001b[0;34m**\u001b[0m\u001b[0mkwargs\u001b[0m\u001b[0;34m)\u001b[0m\u001b[0;34m:\u001b[0m\u001b[0;34m\u001b[0m\u001b[0;34m\u001b[0m\u001b[0m\n\u001b[0m\u001b[1;32m    442\u001b[0m         \u001b[0mself\u001b[0m\u001b[0;34m.\u001b[0m\u001b[0mRADIUS\u001b[0m \u001b[0;34m=\u001b[0m \u001b[0mkwargs\u001b[0m\u001b[0;34m.\u001b[0m\u001b[0mpop\u001b[0m\u001b[0;34m(\u001b[0m\u001b[0;34m'radius'\u001b[0m\u001b[0;34m,\u001b[0m \u001b[0mEARTH_RADIUS\u001b[0m\u001b[0;34m)\u001b[0m\u001b[0;34m\u001b[0m\u001b[0;34m\u001b[0m\u001b[0m\n\u001b[1;32m    443\u001b[0m         \u001b[0msuper\u001b[0m\u001b[0;34m(\u001b[0m\u001b[0;34m)\u001b[0m\u001b[0;34m.\u001b[0m\u001b[0m__init__\u001b[0m\u001b[0;34m(\u001b[0m\u001b[0;34m*\u001b[0m\u001b[0margs\u001b[0m\u001b[0;34m,\u001b[0m \u001b[0;34m**\u001b[0m\u001b[0mkwargs\u001b[0m\u001b[0;34m)\u001b[0m\u001b[0;34m\u001b[0m\u001b[0;34m\u001b[0m\u001b[0m\n",
      "\u001b[0;31mKeyboardInterrupt\u001b[0m: "
     ]
    }
   ],
   "source": [
    "import time\n",
    "import tqdm\n",
    "\n",
    "start = time.time()\n",
    "\n",
    "neighbors = {}\n",
    "\n",
    "LOCATIONS_act = [l for l in range(len(LOCATIONS)) if not LOCATIONS[l]['home']]\n",
    "\n",
    "for l in tqdm.tqdm_notebook(LOCATIONS_act):\n",
    "    sorted_distance_neighbors = []\n",
    "    #sorted_distance_neighbors = sorted([(calculate_distance(l, j),j) for j in range(len(LOCATIONS))], reverse= False)\n",
    "    \n",
    "    for j in range(len(LOCATIONS)):\n",
    "        dist = calculate_distance(l, j)\n",
    "        sorted_distance_neighbors.append((dist, j))\n",
    "        \n",
    "    sorted_distance_neighbors = sorted(sorted_distance_neighbors, reverse = False)\n",
    "    neighbors[l] = sorted_distance_neighbors\n",
    "\n",
    "end = time.time()\n",
    "\n",
    "print(end-start)"
   ]
  },
  {
   "cell_type": "code",
   "execution_count": 32,
   "metadata": {},
   "outputs": [],
   "source": [
    "def set_cover(neighbors, radius: float, top: int):\n",
    "    \n",
    "    radius_dict = {}\n",
    "    \n",
    "    for l, neighbor in tqdm.tqdm_notebook(neighbors.items()):\n",
    "        \n",
    "        radius_dict[l] = set()\n",
    "        \n",
    "        for n in neighbor:\n",
    "            \n",
    "            if n[0] <= radius:                \n",
    "                ngbr = n[1]\n",
    "                radius_dict[l] = radius_dict[l].union(LOCATIONS[ngbr]['pid'])\n",
    "            else:\n",
    "                break\n",
    "    \n",
    "    #print(len(radius_dict))\n",
    "    \n",
    "    covered = set()\n",
    "    chosen = set()\n",
    "    \n",
    "    while len(covered) != len(CLIENT_LOCATIONS):\n",
    "        \n",
    "        max_coverage = []\n",
    "        \n",
    "        for loc in radius_dict.keys():\n",
    "            \n",
    "            if loc not in chosen:\n",
    "            \n",
    "                radius_dict[loc] = radius_dict[loc] - covered\n",
    "\n",
    "                individuals_covered = radius_dict[loc]\n",
    "                max_coverage.append((len(individuals_covered), loc, individuals_covered))\n",
    "        \n",
    "        max_coverage = sorted(max_coverage, reverse = True)\n",
    "        \n",
    "        if max_coverage[0][0] == 0:\n",
    "            break\n",
    "        \n",
    "        chosen_max = max_coverage[random.randint(0, top)]\n",
    "        \n",
    "        covered = covered.union(chosen_max[2])\n",
    "        chosen.add(chosen_max[1])\n",
    "        \n",
    "        #print(len(covered))\n",
    "    \n",
    "    return chosen"
   ]
  },
  {
   "cell_type": "code",
   "execution_count": 25,
   "metadata": {},
   "outputs": [],
   "source": [
    "#George Li\n",
    "def set_cover_softmax(neighbors, radius: float, top: int):\n",
    "    \n",
    "    radius_dict = {}\n",
    "    \n",
    "    for l, neighbor in tqdm.tqdm_notebook(neighbors.items()):\n",
    "        \n",
    "        radius_dict[l] = set()\n",
    "        \n",
    "        for n in neighbor:\n",
    "            \n",
    "            if n[0] <= radius:                \n",
    "                ngbr = n[1]\n",
    "                radius_dict[l] = radius_dict[l].union(LOCATIONS[ngbr]['pid'])\n",
    "            else:\n",
    "                break\n",
    "    \n",
    "    #print(len(radius_dict))\n",
    "    \n",
    "    covered = set()\n",
    "    chosen = set()\n",
    "    \n",
    "    while len(covered) != len(CLIENT_LOCATIONS):\n",
    "        \n",
    "        max_coverage = []\n",
    "        \n",
    "        for loc in radius_dict.keys():\n",
    "            \n",
    "            if loc not in chosen:\n",
    "            \n",
    "                radius_dict[loc] = radius_dict[loc] - covered\n",
    "\n",
    "                individuals_covered = radius_dict[loc]\n",
    "                max_coverage.append((len(individuals_covered), loc, individuals_covered))\n",
    "        \n",
    "        max_coverage = sorted(max_coverage, reverse = True)\n",
    "        \n",
    "        if max_coverage[0][0] == 0:\n",
    "            break\n",
    "        \n",
    "        a = [i for i in range(top)]\n",
    "        p = np.array([max_coverage[i][0] for i in range(top)])\n",
    "        p = 10*p/p.max()\n",
    "        p = scipy.special.softmax(p)  \n",
    "        choice = max_coverage[np.random.choice(a=a, p=p)]\n",
    "        \n",
    "        covered = covered.union(choice[2])\n",
    "        chosen.add(choice[1])\n",
    "        \n",
    "        #print(len(covered))\n",
    "    \n",
    "    return chosen"
   ]
  },
  {
   "cell_type": "code",
   "execution_count": null,
   "metadata": {},
   "outputs": [],
   "source": [
    "def set_cover_2(neighbors, radius: float, prev_radius: float, prev_radius_dict):\n",
    "    \n",
    "    radius_dict = {\"pid\": set(), \"index\": -1}\n",
    "    \n",
    "    for l, neighbor in tqdm.notebook.tqdm(neighbors.items()):\n",
    "        \n",
    "        radius_dict[l] = set()\n",
    "        \n",
    "        if prev_radius < radius:\n",
    "            \n",
    "            for ind in range(prev_radius_dict[l]['index']):\n",
    "                n = neighbor[ind]\n",
    "                if n[0] <= radius:                \n",
    "                    ngbr = n[1]\n",
    "                    radius_dict[l]['pid'] = radius_dict[l].union(LOCATIONS[ngbr]['pid'])\n",
    "                    radius_dict[l]['index'] = ind\n",
    "                else:\n",
    "                    break\n",
    "            \n",
    "        else:\n",
    "            \n",
    "            radius_dict[l]['pid'] = prev_radius_dict[l]['pid']\n",
    "            radius_dict[l]['index'] = prev_radius_dict[l]['index']\n",
    "            \n",
    "            for ind in range(prev_radius_dict[l]['index'], len(neighbor)):\n",
    "                \n",
    "                n = neighbor[ind]\n",
    "                if n[0] <= radius:                \n",
    "                    ngbr = n[1]\n",
    "                    radius_dict[l]['pid'] = radius_dict[l].union(LOCATIONS[ngbr]['pid'])\n",
    "                    radius_dict[l]['index'] = ind\n",
    "                else:\n",
    "                    break\n",
    "    \n",
    "    #print(len(radius_dict))\n",
    "    \n",
    "    covered = set()\n",
    "    chosen = set()\n",
    "    \n",
    "    while len(covered) != len(CLIENT_LOCATIONS):\n",
    "        \n",
    "        max_coverage = (0, -1, set())\n",
    "        \n",
    "        for pair in radius_dict.keys():\n",
    "            \n",
    "            loc = pair['pid']\n",
    "            \n",
    "            if loc not in chosen:\n",
    "            \n",
    "                radius_dict[loc]['pid'] = radius_dict[loc]['pid'] - covered\n",
    "\n",
    "                individuals_covered = radius_dict[loc]['pid']\n",
    "\n",
    "                if len(individuals_covered) > max_coverage[0]:\n",
    "                    max_coverage = (len(individuals_covered), loc, individuals_covered)\n",
    "        \n",
    "        if max_coverage[0] == 0:\n",
    "            break\n",
    "        \n",
    "        covered = covered.union(max_coverage[2])\n",
    "        chosen.add(max_coverage[1])\n",
    "        \n",
    "        #print(len(covered))\n",
    "    \n",
    "    return chosen, radius_dict"
   ]
  },
  {
   "cell_type": "code",
   "execution_count": null,
   "metadata": {},
   "outputs": [],
   "source": [
    "def cover_approx_2(neighbors, k: int):\n",
    "    \n",
    "    l = .2\n",
    "    h = .5\n",
    "    \n",
    "    facilities = []\n",
    "    objective = 10005\n",
    "    \n",
    "    alpha = 0\n",
    "    \n",
    "    for i in range(1, len(CLIENT_LOCATIONS)+1):\n",
    "        alpha += 1/i\n",
    "    \n",
    "    print(alpha)\n",
    "    \n",
    "    prev_rad_dict = {l:{\"pid\": set(), \"index\": -1} for l in LOCATIONS_act}\n",
    "    prev_radius = -1\n",
    "    \n",
    "    #caclulate neighbors\n",
    "    \n",
    "    while h-l > 1e-6:\n",
    "        r = (l+h)/2\n",
    "        \n",
    "        print(r)\n",
    "        \n",
    "        sol, prev_rad_dict = set_cover_2(neighbors, r, prev_radius, prev_rad_dict)\n",
    "        prev_radius = r\n",
    "        \n",
    "        if len(sol) <= alpha * k:\n",
    "            h = (l+h)/2\n",
    "            facilities = sol\n",
    "            objective = r\n",
    "        else:\n",
    "            l = (l+h)/2\n",
    "            \n",
    "        print(r, len(sol))\n",
    "        \n",
    "    return facilities, objective"
   ]
  },
  {
   "cell_type": "code",
   "execution_count": null,
   "metadata": {},
   "outputs": [],
   "source": [
    "facilities, objective = cover_approx_2(neighbors, 5)"
   ]
  },
  {
   "cell_type": "markdown",
   "metadata": {},
   "source": [
    "### Set Cover (initial attempt) ###"
   ]
  },
  {
   "cell_type": "code",
   "execution_count": null,
   "metadata": {},
   "outputs": [],
   "source": [
    "def set_cover_search():\n",
    "    \n",
    "    radius_options = []\n",
    "    #all possible client locations\n",
    "    for i in range(len(LOCATIONS)):\n",
    "        \n",
    "        #all possible facility locations\n",
    "        for j in range(i, len(LOCATIONS)):\n",
    "            if not LOCATIONS[j]['home']:\n",
    "                \n",
    "                radius_options.append(calculate_distance(i,j))\n",
    "    \n",
    "    print(\"filled\")\n",
    "    \n",
    "    radius_options = sorted(radius_options)\n",
    "    \n",
    "    print(radius_options[:10])"
   ]
  },
  {
   "cell_type": "code",
   "execution_count": null,
   "metadata": {},
   "outputs": [],
   "source": [
    "import numpy as np\n",
    "from sklearn.neighbors import BallTree\n",
    "from networkx.utils.union_find import UnionFind"
   ]
  },
  {
   "cell_type": "code",
   "execution_count": null,
   "metadata": {},
   "outputs": [],
   "source": [
    "def client_cover(r: float):\n",
    "    #Ball Tree coverage\n",
    "    print(r)\n",
    "    \n",
    "    THRESHOLD = r # distance in km\n",
    "    EARTH_RADIUS = geopy.distance.EARTH_RADIUS # kilometers\n",
    "    THRESHOLD_R = THRESHOLD / EARTH_RADIUS\n",
    "\n",
    "    loc_tuple = [(np.radians(LOCATIONS[i]['latitude']), np.radians(LOCATIONS[i]['longitude'])) for i in range(len(LOCATIONS)) if not LOCATIONS[i]['home']]\n",
    "    loc_index = [i for i in range(len(LOCATIONS)) if not LOCATIONS[i]['home']]\n",
    "\n",
    "    print(len(loc_index))\n",
    "    \n",
    "    tree = BallTree(loc_tuple, leaf_size=40, metric='haversine')\n",
    "    \n",
    "    groups = tree.query_radius(loc_tuple, r=THRESHOLD_R)\n",
    "    groups = [[loc_index[i] for i in g] for g in groups]\n",
    "    groups = list(groups) + [[i,i] for i in range(len(LOCATIONS)) if LOCATIONS[i]['home']]\n",
    "    \n",
    "    print(len(groups))\n",
    "    \n",
    "    start = time.time()\n",
    "    radius_dict = {}\n",
    "    \n",
    "    for i in range(len(LOCATIONS)):\n",
    "        radius_dict[i] = []\n",
    "        for g in groups:\n",
    "            if i in g:\n",
    "                radius_dict[i] += g\n",
    "        if i%1000 == 0:\n",
    "            print(i)\n",
    "    \n",
    "    print(time.time() - start)\n",
    "    \n",
    "    '''count = 0\n",
    "    for group in groups:\n",
    "        for loc in group:\n",
    "            if loc in radius_dict.keys():\n",
    "                radius_dict[loc] += group\n",
    "            else:\n",
    "                radius_dict[loc] = group\n",
    "        print(count, group)\n",
    "        count+=1'''\n",
    "    \n",
    "    print(len(radius_dict))\n",
    "    \n",
    "    start = time.time()\n",
    "    cover = set()\n",
    "    chosen = set()\n",
    "\n",
    "    while len(cover) < len(CLIENT_LOCATIONS):\n",
    "        max_choice = (0, set(), -1)\n",
    "\n",
    "        for key, val in radius_dict.items():\n",
    "            print(key)\n",
    "            \n",
    "            clients_covered = set()\n",
    "            for v in val:\n",
    "                clients_covered = clients_covered.union(LOCATIONS[v]['pid'])\n",
    "            \n",
    "            clients_covered = clients_covered-cover\n",
    "            \n",
    "            print(len(clients_covered))\n",
    "            \n",
    "            if len(clients_covered)>max_choice[0]:\n",
    "                max_choice = (len(clients_covered), clients_covered, key)\n",
    "        \n",
    "        cover = cover.union(max_choice[1])\n",
    "        chosen.add(max_choice[2])\n",
    "        print(len(chosen), len(chosen))\n",
    "    print(time.time() - start)\n",
    "    return chosen"
   ]
  },
  {
   "cell_type": "code",
   "execution_count": null,
   "metadata": {},
   "outputs": [],
   "source": [
    "def set_cover_search(k: int):\n",
    "    \n",
    "    alpha = math.log(len(CLIENT_LOCATIONS))+1\n",
    "    \n",
    "    l = 0\n",
    "    r = 10\n",
    "    to_ret = -1\n",
    "    EPSILON = 10**(-4)\n",
    "    \n",
    "    while r-l > EPSILON:\n",
    "    \n",
    "        mid = l + (r - l) / 2\n",
    "\n",
    "        print(mid)\n",
    "        \n",
    "        cover = client_cover(mid)\n",
    "        \n",
    "        if len(cover) <= alpha * k:\n",
    "            r = mid\n",
    "            to_ret = mid\n",
    "        else:\n",
    "            l = mid\n",
    "        \n",
    "        print(mid, len(cover))\n",
    "    \n",
    "    return to_ret, client_cover(to_ret)"
   ]
  },
  {
   "cell_type": "code",
   "execution_count": null,
   "metadata": {},
   "outputs": [],
   "source": [
    "import math\n",
    "import geopy\n",
    "import numpy as np\n",
    "from mobile.config import LOCATIONS, CLIENT_LOCATIONS"
   ]
  }
 ],
 "metadata": {
  "kernelspec": {
   "display_name": "Python [conda env:.conda-facility]",
   "language": "python",
   "name": "conda-env-.conda-facility-py"
  },
  "language_info": {
   "codemirror_mode": {
    "name": "ipython",
    "version": 3
   },
   "file_extension": ".py",
   "mimetype": "text/x-python",
   "name": "python",
   "nbconvert_exporter": "python",
   "pygments_lexer": "ipython3",
   "version": "3.9.5"
  }
 },
 "nbformat": 4,
 "nbformat_minor": 4
}
