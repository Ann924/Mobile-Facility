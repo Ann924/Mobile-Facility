{
 "cells": [
  {
   "cell_type": "code",
   "execution_count": 67,
   "metadata": {},
   "outputs": [],
   "source": [
    "from mobile.config import LOCATIONS, CLIENT_LOCATIONS, HOME_SHIFT\n",
    "from mobile.utils import *\n",
    "import time\n",
    "import geopy"
   ]
  },
  {
   "cell_type": "code",
   "execution_count": 44,
   "metadata": {},
   "outputs": [
    {
     "name": "stdout",
     "output_type": "stream",
     "text": [
      "Solution:\n",
      "Objective value = 2.0\n",
      "x1 = 0.0\n",
      "x2 = 1.0\n",
      "x3 = 1.0\n",
      "Solution:\n",
      "Objective value = 2.0\n",
      "x1 = 0.0\n",
      "x2 = 1.0\n",
      "x3 = 1.0\n"
     ]
    }
   ],
   "source": [
    "set_cover_lp(set([1,2,3]), [set([1,2]), set([1]), set([2,3])])\n",
    "set_cover_ip(set([1,2,3]), [set([1,2]), set([1]), set([2,3])])"
   ]
  },
  {
   "cell_type": "code",
   "execution_count": 97,
   "metadata": {},
   "outputs": [],
   "source": [
    "from ortools.linear_solver import pywraplp\n",
    "from ortools.linear_solver.pywraplp import Variable, Constraint, Objective\n",
    "from typing import List, Set\n",
    "\n",
    "def set_cover_lp(uni: Set[int], R: List[Set[int]]):\n",
    "    solver = pywraplp.Solver.CreateSolver('GLOP')\n",
    "    \n",
    "    #defining variables\n",
    "    X = []\n",
    "    for i, S_i in enumerate(R):\n",
    "        X.append(solver.NumVar(0, 1, 'x' + str(i)))\n",
    "        \n",
    "    #setting constraints\n",
    "    for j in uni:\n",
    "        cover: Constraint = solver.Constraint(1, solver.infinity())\n",
    "        \n",
    "        for i, S_i in enumerate(R):    \n",
    "            if j in S_i:\n",
    "                cover.SetCoefficient(X[i], 1)\n",
    "            else:\n",
    "                cover.SetCoefficient(X[i], 0)\n",
    "\n",
    "    #setting objective\n",
    "    num_sets: Objective = solver.Objective()\n",
    "        \n",
    "    for i, S_i in enumerate(R):\n",
    "        num_sets.SetCoefficient(X[i], 1)\n",
    "        \n",
    "    num_sets.SetMinimization()\n",
    "    \n",
    "    #solving LP\n",
    "    print('Solving LP')\n",
    "    status = solver.Solve()\n",
    "    \n",
    "    #printing output\n",
    "    if status == pywraplp.Solver.OPTIMAL:        \n",
    "        print('Objective value =', solver.Objective().Value())\n",
    "    else:\n",
    "        print('The problem does not have an optimal solution.')\n",
    "    \n",
    "    return [X[i].solution_value() for i in range(len(R))]\n",
    "        \n",
    "        \n",
    "def set_cover_ip(uni: Set[int], R: List[Set[int]]):\n",
    "    solver = pywraplp.Solver.CreateSolver('SCIP')\n",
    "    #solver.time_limit.seconds = 30\n",
    "    \n",
    "    #defining variables\n",
    "    X = []\n",
    "    for i, S_i in enumerate(R):\n",
    "        X.append(solver.IntVar(0, 1, 'x' + str(i)))\n",
    "        \n",
    "    #setting constraints\n",
    "    for j in tqdm.tqdm_notebook(uni):\n",
    "        cover: Constraint = solver.Constraint(1, solver.infinity())\n",
    "        \n",
    "        for i, S_i in enumerate(R):    \n",
    "            if j in S_i:\n",
    "                cover.SetCoefficient(X[i], 1)\n",
    "\n",
    "    #setting objective\n",
    "    num_sets: Objective = solver.Objective()\n",
    "        \n",
    "    for i, S_i in enumerate(R):\n",
    "        num_sets.SetCoefficient(X[i], 1)\n",
    "        \n",
    "    num_sets.SetMinimization()\n",
    "    \n",
    "    #solving IP\n",
    "    print(\"Solving IP\")\n",
    "    status = solver.Solve()\n",
    "    \n",
    "    #printing output\n",
    "    if status == pywraplp.Solver.OPTIMAL:\n",
    "        print('Objective value =', solver.Objective().Value())\n",
    "    else:\n",
    "        print('The problem does not have an optimal solution.')\n",
    "        \n",
    "    return [X[i].solution_value() for i in range(len(R))]"
   ]
  },
  {
   "cell_type": "code",
   "execution_count": 99,
   "metadata": {},
   "outputs": [
    {
     "data": {
      "text/plain": [
       "1"
      ]
     },
     "execution_count": 99,
     "metadata": {},
     "output_type": "execute_result"
    }
   ],
   "source": [
    "pywraplp.Solver.FEASIBLE"
   ]
  },
  {
   "cell_type": "code",
   "execution_count": null,
   "metadata": {},
   "outputs": [
    {
     "name": "stderr",
     "output_type": "stream",
     "text": [
      "<ipython-input-97-906fce1b60da>:54: TqdmDeprecationWarning: This function will be removed in tqdm==5.0.0\n",
      "Please use `tqdm.notebook.tqdm` instead of `tqdm.tqdm_notebook`\n",
      "  for j in tqdm.tqdm_notebook(uni):\n"
     ]
    },
    {
     "data": {
      "application/vnd.jupyter.widget-view+json": {
       "model_id": "1428bd9192f74e13b917612be219c7c4",
       "version_major": 2,
       "version_minor": 0
      },
      "text/plain": [
       "HBox(children=(HTML(value=''), FloatProgress(value=0.0, max=33156.0), HTML(value='')))"
      ]
     },
     "metadata": {},
     "output_type": "display_data"
    }
   ],
   "source": [
    "sol = set_cover_ip(ans[2], radius_list)\n",
    "print(sum(sol))"
   ]
  },
  {
   "cell_type": "code",
   "execution_count": 83,
   "metadata": {},
   "outputs": [
    {
     "name": "stdout",
     "output_type": "stream",
     "text": [
      "\n"
     ]
    }
   ],
   "source": [
    "from ortools.sat.python import cp_model\n",
    "model = cp_model.CpModel()\n",
    "#solver = pywraplp.Solver.CreateSolver('GUROBI_IP')\n",
    "print(model)"
   ]
  },
  {
   "cell_type": "code",
   "execution_count": 50,
   "metadata": {},
   "outputs": [],
   "source": [
    "def set_cover_softmax(neighbors, radius: float, top: int = 1, times: int = 1):\n",
    "\n",
    "    radius_dict = {}\n",
    "\n",
    "    for l, neighbor in tqdm.tqdm_notebook(neighbors.items()):\n",
    "\n",
    "        radius_dict[l] = set()\n",
    "\n",
    "        for n in neighbor:\n",
    "\n",
    "            if n[0] <= radius:                \n",
    "                ngbr = n[1]\n",
    "                radius_dict[l] = radius_dict[l].union(LOCATIONS[ngbr]['pid'])\n",
    "            else:\n",
    "                break\n",
    "    \n",
    "    total_length = len(CLIENT_LOCATIONS)\n",
    "    radius_dict_id = ray.put(radius_dict)\n",
    "    \n",
    "    \n",
    "    #@ray.remote\n",
    "    #def process(radius_dict):\n",
    "    print('starting process')\n",
    "    covered = set()\n",
    "    chosen = set()\n",
    "\n",
    "    while len(covered) != total_length:\n",
    "\n",
    "        max_coverage = []\n",
    "\n",
    "        for loc in radius_dict.keys():\n",
    "\n",
    "            if loc not in chosen:\n",
    "\n",
    "                individuals_covered = radius_dict[loc] - covered\n",
    "                max_coverage.append((len(individuals_covered), loc, individuals_covered))\n",
    "\n",
    "        max_coverage = sorted(max_coverage, reverse = True)\n",
    "\n",
    "        if max_coverage[0][0] == 0:\n",
    "            break\n",
    "\n",
    "        choice = max_coverage[scipy.stats.boltzmann.rvs(lambda_=0.8, N=top)]\n",
    "\n",
    "        covered = covered.union(choice[2])\n",
    "        chosen.add(choice[1])\n",
    "        print(len(covered))\n",
    "            \n",
    "    return (len(chosen), chosen, covered)\n",
    "    \n",
    "    #print(\"here\")\n",
    "    #results = [ray.get(process.remote(radius_dict_id)) for _ in range(times)]\n",
    "    #results = sorted(results)\n",
    "       \n",
    "    \n",
    "    #return results[0][1]"
   ]
  },
  {
   "cell_type": "code",
   "execution_count": 22,
   "metadata": {},
   "outputs": [],
   "source": [
    "#CLIENT_LOCATIONS.keys()"
   ]
  },
  {
   "cell_type": "code",
   "execution_count": 16,
   "metadata": {},
   "outputs": [],
   "source": [
    "import tqdm\n",
    "\n",
    "def generate_sorted_list():\n",
    "    \n",
    "    start = time.time()\n",
    "    \n",
    "    neighbors = {}\n",
    "    \n",
    "    LOCATIONS_act = [l for l in range(len(LOCATIONS)) if not LOCATIONS[l]['home']]\n",
    "    \n",
    "    for l in tqdm.tqdm_notebook(LOCATIONS_act):\n",
    "        sorted_distance_neighbors = []\n",
    "        \n",
    "        for j in range(len(LOCATIONS)):\n",
    "            dist = calculate_distance(l, j)\n",
    "            sorted_distance_neighbors.append((dist, j))\n",
    "            \n",
    "        sorted_distance_neighbors = sorted(sorted_distance_neighbors, reverse = False)\n",
    "        neighbors[l] = sorted_distance_neighbors\n",
    "    \n",
    "    end = time.time()\n",
    "    print(end-start)\n",
    "    \n",
    "    return neighbors"
   ]
  },
  {
   "cell_type": "code",
   "execution_count": null,
   "metadata": {},
   "outputs": [],
   "source": [
    "neighbors = generate_sorted_list()"
   ]
  },
  {
   "cell_type": "code",
   "execution_count": 64,
   "metadata": {},
   "outputs": [
    {
     "name": "stderr",
     "output_type": "stream",
     "text": [
      "<ipython-input-64-49b0529dda6f>:5: TqdmDeprecationWarning: This function will be removed in tqdm==5.0.0\n",
      "Please use `tqdm.notebook.tqdm` instead of `tqdm.tqdm_notebook`\n",
      "  for l, neighbor in tqdm.tqdm_notebook(neighbors.items()):\n"
     ]
    },
    {
     "data": {
      "application/vnd.jupyter.widget-view+json": {
       "model_id": "5d7fbe103d50422c99b19ac4f44ad0c9",
       "version_major": 2,
       "version_minor": 0
      },
      "text/plain": [
       "HBox(children=(HTML(value=''), FloatProgress(value=0.0, max=6176.0), HTML(value='')))"
      ]
     },
     "metadata": {},
     "output_type": "display_data"
    },
    {
     "name": "stdout",
     "output_type": "stream",
     "text": [
      "\n"
     ]
    }
   ],
   "source": [
    "radius = 0.5\n",
    "correspondence = []\n",
    "radius_list = []\n",
    "\n",
    "for l, neighbor in tqdm.tqdm_notebook(neighbors.items()):\n",
    "\n",
    "    correspondence.append(l)\n",
    "    covered_ell = set()\n",
    "\n",
    "    for n in neighbor:\n",
    "\n",
    "        if n[0] <= radius:                \n",
    "            ngbr = n[1]\n",
    "            covered_ell = covered_ell.union(LOCATIONS[ngbr]['pid'])\n",
    "        else:\n",
    "            radius_list.append(covered_ell)\n",
    "            break"
   ]
  },
  {
   "cell_type": "code",
   "execution_count": 78,
   "metadata": {},
   "outputs": [
    {
     "ename": "AttributeError",
     "evalue": "'Solver' object has no attribute 'parameters'",
     "output_type": "error",
     "traceback": [
      "\u001b[0;31m---------------------------------------------------------------------------\u001b[0m",
      "\u001b[0;31mAttributeError\u001b[0m                            Traceback (most recent call last)",
      "\u001b[0;32m<ipython-input-78-d1de25f2aebf>\u001b[0m in \u001b[0;36m<module>\u001b[0;34m\u001b[0m\n\u001b[0;32m----> 1\u001b[0;31m \u001b[0msol\u001b[0m \u001b[0;34m=\u001b[0m \u001b[0mset_cover_ip\u001b[0m\u001b[0;34m(\u001b[0m\u001b[0mans\u001b[0m\u001b[0;34m[\u001b[0m\u001b[0;36m2\u001b[0m\u001b[0;34m]\u001b[0m\u001b[0;34m,\u001b[0m \u001b[0mradius_list\u001b[0m\u001b[0;34m)\u001b[0m\u001b[0;34m\u001b[0m\u001b[0;34m\u001b[0m\u001b[0m\n\u001b[0m",
      "\u001b[0;32m<ipython-input-77-25fbfd9907d2>\u001b[0m in \u001b[0;36mset_cover_ip\u001b[0;34m(uni, R)\u001b[0m\n\u001b[1;32m     44\u001b[0m \u001b[0;32mdef\u001b[0m \u001b[0mset_cover_ip\u001b[0m\u001b[0;34m(\u001b[0m\u001b[0muni\u001b[0m\u001b[0;34m:\u001b[0m \u001b[0mSet\u001b[0m\u001b[0;34m[\u001b[0m\u001b[0mint\u001b[0m\u001b[0;34m]\u001b[0m\u001b[0;34m,\u001b[0m \u001b[0mR\u001b[0m\u001b[0;34m:\u001b[0m \u001b[0mList\u001b[0m\u001b[0;34m[\u001b[0m\u001b[0mSet\u001b[0m\u001b[0;34m[\u001b[0m\u001b[0mint\u001b[0m\u001b[0;34m]\u001b[0m\u001b[0;34m]\u001b[0m\u001b[0;34m)\u001b[0m\u001b[0;34m:\u001b[0m\u001b[0;34m\u001b[0m\u001b[0;34m\u001b[0m\u001b[0m\n\u001b[1;32m     45\u001b[0m     \u001b[0msolver\u001b[0m \u001b[0;34m=\u001b[0m \u001b[0mpywraplp\u001b[0m\u001b[0;34m.\u001b[0m\u001b[0mSolver\u001b[0m\u001b[0;34m.\u001b[0m\u001b[0mCreateSolver\u001b[0m\u001b[0;34m(\u001b[0m\u001b[0;34m'SCIP'\u001b[0m\u001b[0;34m)\u001b[0m\u001b[0;34m\u001b[0m\u001b[0;34m\u001b[0m\u001b[0m\n\u001b[0;32m---> 46\u001b[0;31m     \u001b[0msolver\u001b[0m\u001b[0;34m.\u001b[0m\u001b[0mparameters\u001b[0m\u001b[0;34m.\u001b[0m\u001b[0mmax_time_in_seconds\u001b[0m \u001b[0;34m=\u001b[0m \u001b[0;36m60\u001b[0m\u001b[0;34m\u001b[0m\u001b[0;34m\u001b[0m\u001b[0m\n\u001b[0m\u001b[1;32m     47\u001b[0m \u001b[0;34m\u001b[0m\u001b[0m\n\u001b[1;32m     48\u001b[0m     \u001b[0;31m#defining variables\u001b[0m\u001b[0;34m\u001b[0m\u001b[0;34m\u001b[0m\u001b[0;34m\u001b[0m\u001b[0m\n",
      "\u001b[0;31mAttributeError\u001b[0m: 'Solver' object has no attribute 'parameters'"
     ]
    }
   ],
   "source": [
    "sol = set_cover_ip(ans[2], radius_list)"
   ]
  },
  {
   "cell_type": "code",
   "execution_count": 68,
   "metadata": {},
   "outputs": [
    {
     "name": "stdout",
     "output_type": "stream",
     "text": [
      "Solving LP\n",
      "Objective value = 26.329291575907977\n"
     ]
    }
   ],
   "source": [
    "sol2 = set_cover_lp(ans[2], radius_list)"
   ]
  },
  {
   "cell_type": "code",
   "execution_count": 58,
   "metadata": {},
   "outputs": [
    {
     "name": "stdout",
     "output_type": "stream",
     "text": [
      "{5617257, 5603252}\n",
      "33156\n"
     ]
    }
   ],
   "source": [
    "set(CLIENT_LOCATIONS.keys())-set(ans[2])\n",
    "print(len(CLIENT_LOCATIONS))"
   ]
  },
  {
   "cell_type": "code",
   "execution_count": 63,
   "metadata": {},
   "outputs": [
    {
     "name": "stderr",
     "output_type": "stream",
     "text": [
      "<ipython-input-50-ce6a3c169046>:5: TqdmDeprecationWarning: This function will be removed in tqdm==5.0.0\n",
      "Please use `tqdm.notebook.tqdm` instead of `tqdm.tqdm_notebook`\n",
      "  for l, neighbor in tqdm.tqdm_notebook(neighbors.items()):\n"
     ]
    },
    {
     "data": {
      "application/vnd.jupyter.widget-view+json": {
       "model_id": "e9e27ebab7584b5f8c8df762d6069ac8",
       "version_major": 2,
       "version_minor": 0
      },
      "text/plain": [
       "HBox(children=(HTML(value=''), FloatProgress(value=0.0, max=6176.0), HTML(value='')))"
      ]
     },
     "metadata": {},
     "output_type": "display_data"
    },
    {
     "name": "stdout",
     "output_type": "stream",
     "text": [
      "\n",
      "starting process\n",
      "26372\n",
      "30918\n",
      "31664\n",
      "32114\n",
      "32417\n",
      "32605\n",
      "32742\n",
      "32818\n",
      "32872\n",
      "32917\n",
      "32957\n",
      "32982\n",
      "33006\n",
      "33026\n",
      "33043\n",
      "33058\n",
      "33072\n",
      "33083\n",
      "33093\n",
      "33101\n",
      "33109\n",
      "33115\n",
      "33120\n",
      "33125\n",
      "33129\n",
      "33133\n",
      "33136\n",
      "33139\n",
      "33142\n",
      "33145\n",
      "33147\n",
      "33149\n",
      "33150\n",
      "33151\n",
      "33152\n",
      "33153\n",
      "33154\n",
      "33155\n",
      "33156\n"
     ]
    }
   ],
   "source": [
    "import numpy as np\n",
    "import scipy\n",
    "import scipy.stats\n",
    "import scipy.special\n",
    "import ray\n",
    "\n",
    "ans = set_cover_softmax(neighbors, 0.5, 10, 40)"
   ]
  },
  {
   "cell_type": "code",
   "execution_count": 13,
   "metadata": {},
   "outputs": [
    {
     "data": {
      "text/plain": [
       "0.0"
      ]
     },
     "execution_count": 13,
     "metadata": {},
     "output_type": "execute_result"
    }
   ],
   "source": [
    "sum(sol)"
   ]
  },
  {
   "cell_type": "code",
   "execution_count": null,
   "metadata": {},
   "outputs": [
    {
     "name": "stderr",
     "output_type": "stream",
     "text": [
      "/home/dpm7pb/.local/lib/python3.8/site-packages/ray/_private/services.py:238: UserWarning: Not all Ray Dashboard dependencies were found. To use the dashboard please install Ray using `pip install ray[default]`. To disable this message, set RAY_DISABLE_IMPORT_WARNING env var to '1'.\n",
      "  warnings.warn(warning_message)\n"
     ]
    }
   ],
   "source": [
    "import numpy as np\n",
    "import scipy\n",
    "import scipy.stats\n",
    "import scipy.special\n",
    "import ray\n",
    "\n",
    "ans = set_cover_softmax(neighbors, 1.5, 10, 40, True)\n",
    "print(len(ans))\n",
    "ans = set_cover_softmax(neighbors, 1.5, 10, 40, False)\n",
    "print(len(ans))"
   ]
  },
  {
   "cell_type": "code",
   "execution_count": null,
   "metadata": {},
   "outputs": [],
   "source": [
    "if parallel:\n",
    "        a = time.time()\n",
    "        ray.init(ignore_reinit_error=True)\n",
    "        LOCATIONS_id = ray.put(LOCATIONS)\n",
    "\n",
    "        @ray.remote\n",
    "        def process1(neighbor, LOCATIONS):\n",
    "            arr = set()\n",
    "\n",
    "            for n in neighbor:\n",
    "\n",
    "                if n[0] <= radius:                \n",
    "                    ngbr = n[1]\n",
    "                    arr = arr.union(LOCATIONS[ngbr]['pid'])\n",
    "                else:\n",
    "                    break\n",
    "\n",
    "            return arr\n",
    "\n",
    "        radius_dict = {l:ray.get(process1.remote(neighbor, LOCATIONS_id)) for (l, neighbor) in neighbors.items()}\n",
    "        print(time.time()-a)\n"
   ]
  },
  {
   "cell_type": "code",
   "execution_count": null,
   "metadata": {},
   "outputs": [],
   "source": [
    "from mobile.config import PROJECT_ROOT\n",
    "with open(PROJECT_ROOT/ 'output'/ 'runs'/ 'charlottesville_city' / f'neighbors.json', 'r') as f:\n",
    "    data = json.load(f)\n",
    "    neighbors = data['neighbors']"
   ]
  },
  {
   "cell_type": "code",
   "execution_count": 37,
   "metadata": {},
   "outputs": [
    {
     "data": {
      "text/plain": [
       "<matplotlib.collections.PathCollection at 0x7f596b2d0a00>"
      ]
     },
     "execution_count": 37,
     "metadata": {},
     "output_type": "execute_result"
    },
    {
     "data": {
      "image/png": "[encoded data removed]",
      "text/plain": [
       "<Figure size 432x288 with 1 Axes>"
      ]
     },
     "metadata": {
      "needs_background": "light"
     },
     "output_type": "display_data"
    }
   ],
   "source": [
    "plt.scatter(x=locations['longitude'],y=locations['latitude'], s=0.1)"
   ]
  },
  {
   "cell_type": "code",
   "execution_count": 30,
   "metadata": {},
   "outputs": [
    {
     "data": {
      "text/html": [
       "<div>\n",
       "<style scoped>\n",
       "    .dataframe tbody tr th:only-of-type {\n",
       "        vertical-align: middle;\n",
       "    }\n",
       "\n",
       "    .dataframe tbody tr th {\n",
       "        vertical-align: top;\n",
       "    }\n",
       "\n",
       "    .dataframe thead th {\n",
       "        text-align: right;\n",
       "    }\n",
       "</style>\n",
       "<table border=\"1\" class=\"dataframe\">\n",
       "  <thead>\n",
       "    <tr style=\"text-align: right;\">\n",
       "      <th></th>\n",
       "      <th>rlid</th>\n",
       "      <th>longitude</th>\n",
       "      <th>latitude</th>\n",
       "      <th>altitude</th>\n",
       "      <th>admin1</th>\n",
       "      <th>admin2</th>\n",
       "      <th>admin3</th>\n",
       "      <th>admin4</th>\n",
       "      <th>area_sqm</th>\n",
       "      <th>associate_link_func_class</th>\n",
       "      <th>...</th>\n",
       "      <th>pub_03</th>\n",
       "      <th>pub_04</th>\n",
       "      <th>pub_05</th>\n",
       "      <th>pub_06</th>\n",
       "      <th>pub_07</th>\n",
       "      <th>pub_08</th>\n",
       "      <th>pub_09</th>\n",
       "      <th>pub_10</th>\n",
       "      <th>pub_11</th>\n",
       "      <th>pub_12</th>\n",
       "    </tr>\n",
       "  </thead>\n",
       "  <tbody>\n",
       "    <tr>\n",
       "      <th>0</th>\n",
       "      <td>17044</td>\n",
       "      <td>-78.475050</td>\n",
       "      <td>38.066151</td>\n",
       "      <td>-1</td>\n",
       "      <td>51</td>\n",
       "      <td>540</td>\n",
       "      <td>800</td>\n",
       "      <td>1</td>\n",
       "      <td>169</td>\n",
       "      <td>5</td>\n",
       "      <td>...</td>\n",
       "      <td>77881</td>\n",
       "      <td>77881</td>\n",
       "      <td>77883</td>\n",
       "      <td>77883</td>\n",
       "      <td>77688</td>\n",
       "      <td>77688</td>\n",
       "      <td>77880</td>\n",
       "      <td>77880</td>\n",
       "      <td>77880</td>\n",
       "      <td>77880</td>\n",
       "    </tr>\n",
       "    <tr>\n",
       "      <th>1</th>\n",
       "      <td>17046</td>\n",
       "      <td>-78.473818</td>\n",
       "      <td>38.069160</td>\n",
       "      <td>-1</td>\n",
       "      <td>51</td>\n",
       "      <td>540</td>\n",
       "      <td>800</td>\n",
       "      <td>1</td>\n",
       "      <td>171</td>\n",
       "      <td>5</td>\n",
       "      <td>...</td>\n",
       "      <td>77881</td>\n",
       "      <td>77881</td>\n",
       "      <td>77883</td>\n",
       "      <td>77883</td>\n",
       "      <td>77688</td>\n",
       "      <td>77688</td>\n",
       "      <td>77880</td>\n",
       "      <td>77880</td>\n",
       "      <td>77880</td>\n",
       "      <td>77880</td>\n",
       "    </tr>\n",
       "    <tr>\n",
       "      <th>2</th>\n",
       "      <td>17061</td>\n",
       "      <td>-78.497536</td>\n",
       "      <td>38.059734</td>\n",
       "      <td>-1</td>\n",
       "      <td>51</td>\n",
       "      <td>540</td>\n",
       "      <td>800</td>\n",
       "      <td>4</td>\n",
       "      <td>263</td>\n",
       "      <td>5</td>\n",
       "      <td>...</td>\n",
       "      <td>77885</td>\n",
       "      <td>77885</td>\n",
       "      <td>77883</td>\n",
       "      <td>77883</td>\n",
       "      <td>77672</td>\n",
       "      <td>77672</td>\n",
       "      <td>77880</td>\n",
       "      <td>77880</td>\n",
       "      <td>77880</td>\n",
       "      <td>77880</td>\n",
       "    </tr>\n",
       "    <tr>\n",
       "      <th>3</th>\n",
       "      <td>17063</td>\n",
       "      <td>-78.498064</td>\n",
       "      <td>38.060366</td>\n",
       "      <td>-1</td>\n",
       "      <td>51</td>\n",
       "      <td>540</td>\n",
       "      <td>800</td>\n",
       "      <td>4</td>\n",
       "      <td>156</td>\n",
       "      <td>5</td>\n",
       "      <td>...</td>\n",
       "      <td>77881</td>\n",
       "      <td>77881</td>\n",
       "      <td>77883</td>\n",
       "      <td>77883</td>\n",
       "      <td>77672</td>\n",
       "      <td>77672</td>\n",
       "      <td>77880</td>\n",
       "      <td>77880</td>\n",
       "      <td>77880</td>\n",
       "      <td>77880</td>\n",
       "    </tr>\n",
       "    <tr>\n",
       "      <th>4</th>\n",
       "      <td>17064</td>\n",
       "      <td>-78.486814</td>\n",
       "      <td>38.060308</td>\n",
       "      <td>-1</td>\n",
       "      <td>51</td>\n",
       "      <td>540</td>\n",
       "      <td>800</td>\n",
       "      <td>4</td>\n",
       "      <td>248</td>\n",
       "      <td>5</td>\n",
       "      <td>...</td>\n",
       "      <td>77881</td>\n",
       "      <td>77881</td>\n",
       "      <td>77883</td>\n",
       "      <td>77883</td>\n",
       "      <td>77688</td>\n",
       "      <td>77688</td>\n",
       "      <td>77880</td>\n",
       "      <td>77880</td>\n",
       "      <td>77880</td>\n",
       "      <td>77880</td>\n",
       "    </tr>\n",
       "  </tbody>\n",
       "</table>\n",
       "<p>5 rows × 24 columns</p>\n",
       "</div>"
      ],
      "text/plain": [
       "    rlid  longitude   latitude  altitude  admin1  admin2  admin3  admin4  \\\n",
       "0  17044 -78.475050  38.066151        -1      51     540     800       1   \n",
       "1  17046 -78.473818  38.069160        -1      51     540     800       1   \n",
       "2  17061 -78.497536  38.059734        -1      51     540     800       4   \n",
       "3  17063 -78.498064  38.060366        -1      51     540     800       4   \n",
       "4  17064 -78.486814  38.060308        -1      51     540     800       4   \n",
       "\n",
       "   area_sqm  associate_link_func_class  ...  pub_03  pub_04  pub_05  pub_06  \\\n",
       "0       169                          5  ...   77881   77881   77883   77883   \n",
       "1       171                          5  ...   77881   77881   77883   77883   \n",
       "2       263                          5  ...   77885   77885   77883   77883   \n",
       "3       156                          5  ...   77881   77881   77883   77883   \n",
       "4       248                          5  ...   77881   77881   77883   77883   \n",
       "\n",
       "   pub_07  pub_08  pub_09  pub_10  pub_11  pub_12  \n",
       "0   77688   77688   77880   77880   77880   77880  \n",
       "1   77688   77688   77880   77880   77880   77880  \n",
       "2   77672   77672   77880   77880   77880   77880  \n",
       "3   77672   77672   77880   77880   77880   77880  \n",
       "4   77688   77688   77880   77880   77880   77880  \n",
       "\n",
       "[5 rows x 24 columns]"
      ]
     },
     "execution_count": 30,
     "metadata": {},
     "output_type": "execute_result"
    }
   ],
   "source": [
    "residents.head()"
   ]
  },
  {
   "cell_type": "code",
   "execution_count": 77,
   "metadata": {},
   "outputs": [
    {
     "data": {
      "text/plain": [
       "Index(['rlid', 'longitude', 'latitude', 'altitude', 'admin1', 'admin2',\n",
       "       'admin3', 'admin4', 'area_sqm', 'associate_link_func_class', 'pub_pk',\n",
       "       'pub_kg', 'pub_01', 'pub_02', 'pub_03', 'pub_04', 'pub_05', 'pub_06',\n",
       "       'pub_07', 'pub_08', 'pub_09', 'pub_10', 'pub_11', 'pub_12'],\n",
       "      dtype='object')"
      ]
     },
     "execution_count": 77,
     "metadata": {},
     "output_type": "execute_result"
    }
   ],
   "source": [
    "residents.columns"
   ]
  },
  {
   "cell_type": "code",
   "execution_count": 31,
   "metadata": {},
   "outputs": [
    {
     "data": {
      "text/plain": [
       "(10038, 24)"
      ]
     },
     "execution_count": 31,
     "metadata": {},
     "output_type": "execute_result"
    }
   ],
   "source": [
    "residents.shape"
   ]
  },
  {
   "cell_type": "code",
   "execution_count": 28,
   "metadata": {},
   "outputs": [
    {
     "name": "stdout",
     "output_type": "stream",
     "text": [
      "The autoreload extension is already loaded. To reload it, use:\n",
      "  %reload_ext autoreload\n"
     ]
    }
   ],
   "source": [
    "%load_ext autoreload\n",
    "%autoreload 2\n",
    "\n",
    "%reload_ext autoreload"
   ]
  },
  {
   "cell_type": "code",
   "execution_count": 17,
   "metadata": {},
   "outputs": [],
   "source": [
    "%load_ext autoreload\n",
    "%autoreload 2\n",
    "\n",
    "from utils import *\n",
    "from heuristics import _k_supplier\n",
    "import geopy\n",
    "import math\n",
    "import time\n",
    "from joblib import Parallel, delayed\n",
    "\n",
    "\n",
    "def fpt2_parallel(k: int, s: int):\n",
    "    \"\"\"\n",
    "    Assumes the number of locations visited by clients is bounded by a constant\n",
    "    Run k-supplier on all combination sets of locations that will be covered by facilities. Select the guess and its open facilities with the smallest objective value.\n",
    "    \n",
    "    PARAMETERS\n",
    "    ----------\n",
    "    k : int\n",
    "        number of facilities to be opened\n",
    "    \n",
    "    RETURNS\n",
    "    ----------\n",
    "    facilities : List[int]\n",
    "        contains facility indices that are open\n",
    "    assignments : List[Tuple[int, int]]\n",
    "        visited location and facility assignment indexed by each client\n",
    "    \"\"\"\n",
    "    potential_facility_locations = list(range(s))\n",
    "    \n",
    "    #Remove homes from the client_location lists\n",
    "    #TODO: Perhaps create mapping for the indices of people before exclusion and after?\n",
    "    client_locations_excluded = []\n",
    "    for person in CLIENT_LOCATIONS.values():\n",
    "        new_list = [p for p in person['lid'][1:] if p in potential_facility_locations]\n",
    "        if len(new_list)>0:\n",
    "            client_locations_excluded.append(new_list)\n",
    "    \n",
    "    locations = [i for i in range(len(LOCATIONS)) if LOCATIONS[i]['lid'] < HOME_SHIFT]\n",
    "    \n",
    "    G, loc_map, c_loc_map = precompute_distances(client_locations_excluded, locations)\n",
    "    \n",
    "    def process(guess):\n",
    "        facilities = _k_supplier(list(guess), locations, k)\n",
    "        obj_value = assign_client_facilities2(G, loc_map, c_loc_map, client_locations_excluded, facilities)\n",
    "        \n",
    "        return obj_value, facilities\n",
    "\n",
    "    results = Parallel(n_jobs=16)(delayed(process)(guess) for guess in powerset(list(potential_facility_locations)))\n",
    "    \n",
    "    min_obj_guess: Tuple[int, List[int]] = min(results)\n",
    "    return min_obj_guess, assign_facilities(min_obj_guess[1])"
   ]
  },
  {
   "cell_type": "code",
   "execution_count": 19,
   "metadata": {},
   "outputs": [],
   "source": [
    "from heuristics import *"
   ]
  },
  {
   "cell_type": "code",
   "execution_count": 5,
   "metadata": {
    "collapsed": true,
    "jupyter": {
     "outputs_hidden": true
    }
   },
   "outputs": [
    {
     "name": "stdout",
     "output_type": "stream",
     "text": [
      "COVERAGE OF CLIENTS BY 15 LOCATIONS:  0.8028109542767523\n"
     ]
    },
    {
     "name": "stderr",
     "output_type": "stream",
     "text": [
      "2021-08-17 19:20:15,752\tINFO services.py:1245 -- View the Ray dashboard at \u001b[1m\u001b[32mhttp://127.0.0.1:8265\u001b[39m\u001b[22m\n"
     ]
    },
    {
     "ename": "KeyboardInterrupt",
     "evalue": "",
     "output_type": "error",
     "traceback": [
      "\u001b[0;31m---------------------------------------------------------------------------\u001b[0m",
      "\u001b[0;31mKeyboardInterrupt\u001b[0m                         Traceback (most recent call last)",
      "\u001b[0;32m<ipython-input-5-c5dd30f3d531>\u001b[0m in \u001b[0;36m<module>\u001b[0;34m\u001b[0m\n\u001b[0;32m----> 1\u001b[0;31m \u001b[0;34m(\u001b[0m\u001b[0mval\u001b[0m\u001b[0;34m,\u001b[0m \u001b[0masgn\u001b[0m\u001b[0;34m)\u001b[0m \u001b[0;34m=\u001b[0m \u001b[0mfpt3_parallel2\u001b[0m\u001b[0;34m(\u001b[0m\u001b[0;36m5\u001b[0m\u001b[0;34m,\u001b[0m \u001b[0;36m15\u001b[0m\u001b[0;34m,\u001b[0m \u001b[0;36m0\u001b[0m\u001b[0;34m)\u001b[0m\u001b[0;34m\u001b[0m\u001b[0;34m\u001b[0m\u001b[0m\n\u001b[0m",
      "\u001b[0;32m~/Mobile-Facility/heuristics.py\u001b[0m in \u001b[0;36mfpt3_parallel2\u001b[0;34m(k, s, aggregation)\u001b[0m\n\u001b[1;32m    393\u001b[0m \u001b[0;34m\u001b[0m\u001b[0m\n\u001b[1;32m    394\u001b[0m     \u001b[0mfutures\u001b[0m \u001b[0;34m=\u001b[0m \u001b[0;34m[\u001b[0m\u001b[0mprocess\u001b[0m\u001b[0;34m.\u001b[0m\u001b[0mremote\u001b[0m\u001b[0;34m(\u001b[0m\u001b[0mguess\u001b[0m\u001b[0;34m)\u001b[0m \u001b[0;32mfor\u001b[0m \u001b[0mguess\u001b[0m \u001b[0;32min\u001b[0m \u001b[0mpowerset\u001b[0m\u001b[0;34m(\u001b[0m\u001b[0mlist\u001b[0m\u001b[0;34m(\u001b[0m\u001b[0mpotential_facility_locations\u001b[0m\u001b[0;34m)\u001b[0m\u001b[0;34m)\u001b[0m\u001b[0;34m]\u001b[0m\u001b[0;34m\u001b[0m\u001b[0;34m\u001b[0m\u001b[0m\n\u001b[0;32m--> 395\u001b[0;31m     \u001b[0mresults\u001b[0m \u001b[0;34m=\u001b[0m \u001b[0mray\u001b[0m\u001b[0;34m.\u001b[0m\u001b[0mget\u001b[0m\u001b[0;34m(\u001b[0m\u001b[0mfutures\u001b[0m\u001b[0;34m)\u001b[0m\u001b[0;34m\u001b[0m\u001b[0;34m\u001b[0m\u001b[0m\n\u001b[0m\u001b[1;32m    396\u001b[0m \u001b[0;34m\u001b[0m\u001b[0m\n\u001b[1;32m    397\u001b[0m     \u001b[0mmin_obj_guess\u001b[0m\u001b[0;34m:\u001b[0m \u001b[0mTuple\u001b[0m\u001b[0;34m[\u001b[0m\u001b[0mint\u001b[0m\u001b[0;34m,\u001b[0m \u001b[0mList\u001b[0m\u001b[0;34m[\u001b[0m\u001b[0mint\u001b[0m\u001b[0;34m]\u001b[0m\u001b[0;34m]\u001b[0m \u001b[0;34m=\u001b[0m \u001b[0mmin\u001b[0m\u001b[0;34m(\u001b[0m\u001b[0mresults\u001b[0m\u001b[0;34m)\u001b[0m\u001b[0;34m\u001b[0m\u001b[0;34m\u001b[0m\u001b[0m\n",
      "\u001b[0;32m~/anaconda3/lib/python3.8/site-packages/ray/_private/client_mode_hook.py\u001b[0m in \u001b[0;36mwrapper\u001b[0;34m(*args, **kwargs)\u001b[0m\n\u001b[1;32m     80\u001b[0m         \u001b[0;32mif\u001b[0m \u001b[0mclient_mode_should_convert\u001b[0m\u001b[0;34m(\u001b[0m\u001b[0;34m)\u001b[0m\u001b[0;34m:\u001b[0m\u001b[0;34m\u001b[0m\u001b[0;34m\u001b[0m\u001b[0m\n\u001b[1;32m     81\u001b[0m             \u001b[0;32mreturn\u001b[0m \u001b[0mgetattr\u001b[0m\u001b[0;34m(\u001b[0m\u001b[0mray\u001b[0m\u001b[0;34m,\u001b[0m \u001b[0mfunc\u001b[0m\u001b[0;34m.\u001b[0m\u001b[0m__name__\u001b[0m\u001b[0;34m)\u001b[0m\u001b[0;34m(\u001b[0m\u001b[0;34m*\u001b[0m\u001b[0margs\u001b[0m\u001b[0;34m,\u001b[0m \u001b[0;34m**\u001b[0m\u001b[0mkwargs\u001b[0m\u001b[0;34m)\u001b[0m\u001b[0;34m\u001b[0m\u001b[0;34m\u001b[0m\u001b[0m\n\u001b[0;32m---> 82\u001b[0;31m         \u001b[0;32mreturn\u001b[0m \u001b[0mfunc\u001b[0m\u001b[0;34m(\u001b[0m\u001b[0;34m*\u001b[0m\u001b[0margs\u001b[0m\u001b[0;34m,\u001b[0m \u001b[0;34m**\u001b[0m\u001b[0mkwargs\u001b[0m\u001b[0;34m)\u001b[0m\u001b[0;34m\u001b[0m\u001b[0;34m\u001b[0m\u001b[0m\n\u001b[0m\u001b[1;32m     83\u001b[0m \u001b[0;34m\u001b[0m\u001b[0m\n\u001b[1;32m     84\u001b[0m     \u001b[0;32mreturn\u001b[0m \u001b[0mwrapper\u001b[0m\u001b[0;34m\u001b[0m\u001b[0;34m\u001b[0m\u001b[0m\n",
      "\u001b[0;32m~/anaconda3/lib/python3.8/site-packages/ray/worker.py\u001b[0m in \u001b[0;36mget\u001b[0;34m(object_refs, timeout)\u001b[0m\n\u001b[1;32m   1555\u001b[0m \u001b[0;34m\u001b[0m\u001b[0m\n\u001b[1;32m   1556\u001b[0m         \u001b[0;31m# TODO(ujvl): Consider how to allow user to retrieve the ready objects.\u001b[0m\u001b[0;34m\u001b[0m\u001b[0;34m\u001b[0m\u001b[0;34m\u001b[0m\u001b[0m\n\u001b[0;32m-> 1557\u001b[0;31m         values, debugger_breakpoint = worker.get_objects(\n\u001b[0m\u001b[1;32m   1558\u001b[0m             object_refs, timeout=timeout)\n\u001b[1;32m   1559\u001b[0m         \u001b[0;32mfor\u001b[0m \u001b[0mi\u001b[0m\u001b[0;34m,\u001b[0m \u001b[0mvalue\u001b[0m \u001b[0;32min\u001b[0m \u001b[0menumerate\u001b[0m\u001b[0;34m(\u001b[0m\u001b[0mvalues\u001b[0m\u001b[0;34m)\u001b[0m\u001b[0;34m:\u001b[0m\u001b[0;34m\u001b[0m\u001b[0;34m\u001b[0m\u001b[0m\n",
      "\u001b[0;32m~/anaconda3/lib/python3.8/site-packages/ray/worker.py\u001b[0m in \u001b[0;36mget_objects\u001b[0;34m(self, object_refs, timeout)\u001b[0m\n\u001b[1;32m    338\u001b[0m \u001b[0;34m\u001b[0m\u001b[0m\n\u001b[1;32m    339\u001b[0m         \u001b[0mtimeout_ms\u001b[0m \u001b[0;34m=\u001b[0m \u001b[0mint\u001b[0m\u001b[0;34m(\u001b[0m\u001b[0mtimeout\u001b[0m \u001b[0;34m*\u001b[0m \u001b[0;36m1000\u001b[0m\u001b[0;34m)\u001b[0m \u001b[0;32mif\u001b[0m \u001b[0mtimeout\u001b[0m \u001b[0;32melse\u001b[0m \u001b[0;34m-\u001b[0m\u001b[0;36m1\u001b[0m\u001b[0;34m\u001b[0m\u001b[0;34m\u001b[0m\u001b[0m\n\u001b[0;32m--> 340\u001b[0;31m         data_metadata_pairs = self.core_worker.get_objects(\n\u001b[0m\u001b[1;32m    341\u001b[0m             object_refs, self.current_task_id, timeout_ms)\n\u001b[1;32m    342\u001b[0m         \u001b[0mdebugger_breakpoint\u001b[0m \u001b[0;34m=\u001b[0m \u001b[0;34mb\"\"\u001b[0m\u001b[0;34m\u001b[0m\u001b[0;34m\u001b[0m\u001b[0m\n",
      "\u001b[0;32mpython/ray/_raylet.pyx\u001b[0m in \u001b[0;36mray._raylet.CoreWorker.get_objects\u001b[0;34m()\u001b[0m\n",
      "\u001b[0;32mpython/ray/_raylet.pyx\u001b[0m in \u001b[0;36mray._raylet.check_status\u001b[0;34m()\u001b[0m\n",
      "\u001b[0;31mKeyboardInterrupt\u001b[0m: "
     ]
    }
   ],
   "source": [
    "(val, asgn) = fpt3_parallel2(5, 15, 0)"
   ]
  },
  {
   "cell_type": "code",
   "execution_count": 6,
   "metadata": {},
   "outputs": [
    {
     "data": {
      "text/plain": [
       "2.3956977875908194"
      ]
     },
     "execution_count": 6,
     "metadata": {},
     "output_type": "execute_result"
    }
   ],
   "source": [
    "calculate_objective(asgn)"
   ]
  },
  {
   "cell_type": "code",
   "execution_count": 20,
   "metadata": {},
   "outputs": [],
   "source": [
    "def powerset(iterable):\n",
    "    \"powerset([1,2,3]) --> () (1,) (2,) (3,) (1,2) (1,3) (2,3) (1,2,3)\"\n",
    "    s = list(iterable)\n",
    "    return chain.from_iterable(combinations(s, r) for r in range((len(s)+1)//2,-1,-1))"
   ]
  },
  {
   "cell_type": "code",
   "execution_count": 29,
   "metadata": {},
   "outputs": [
    {
     "name": "stdout",
     "output_type": "stream",
     "text": [
      "[1, 2, 3, 4]\n"
     ]
    }
   ],
   "source": [
    "print([i for i in range(1,5)])"
   ]
  },
  {
   "cell_type": "code",
   "execution_count": 7,
   "metadata": {},
   "outputs": [
    {
     "name": "stdout",
     "output_type": "stream",
     "text": [
      "1.993687977423548\n"
     ]
    }
   ],
   "source": [
    "from heuristics import *\n",
    "\n",
    "fac1, asgn1 = center_of_homes(5)\n",
    "print(calculate_objective(asgn1))\n"
   ]
  },
  {
   "cell_type": "code",
   "execution_count": 9,
   "metadata": {},
   "outputs": [],
   "source": [
    "home_obj = [calculate_percentile_objective(asgn1, i/100) for i in range(50,101,1)]"
   ]
  },
  {
   "cell_type": "code",
   "execution_count": 8,
   "metadata": {},
   "outputs": [
    {
     "name": "stdout",
     "output_type": "stream",
     "text": [
      "6.395545048189607\n"
     ]
    }
   ],
   "source": [
    "fac2, asgn2 = center_of_centers(5)\n",
    "print(calculate_objective(asgn2))"
   ]
  },
  {
   "cell_type": "code",
   "execution_count": 10,
   "metadata": {},
   "outputs": [],
   "source": [
    "center_obj = [calculate_percentile_objective(asgn2, i/100) for i in range(50,101,1)]"
   ]
  },
  {
   "cell_type": "code",
   "execution_count": 12,
   "metadata": {},
   "outputs": [],
   "source": [
    "import matplotlib.pyplot as plt\n",
    "x = [i for i in range(50,101,1)]"
   ]
  },
  {
   "cell_type": "code",
   "execution_count": 46,
   "metadata": {},
   "outputs": [
    {
     "data": {
      "text/plain": [
       "<matplotlib.legend.Legend at 0x7fb03e94ee80>"
      ]
     },
     "execution_count": 46,
     "metadata": {},
     "output_type": "execute_result"
    },
    {
     "data": {
      "image/png": "[encoded data removed]",
      "text/plain": [
       "<Figure size 432x288 with 1 Axes>"
      ]
     },
     "metadata": {
      "needs_background": "light"
     },
     "output_type": "display_data"
    }
   ],
   "source": [
    "plt.plot(x, home_obj, label='home')\n",
    "#plt.plot(x, center_obj, label='center')\n",
    "plt.plot(x, pop_obj, label='popular')\n",
    "plt.plot(x, fpt_obj, label='fpt')\n",
    "plt.legend()"
   ]
  },
  {
   "cell_type": "code",
   "execution_count": 41,
   "metadata": {},
   "outputs": [],
   "source": [
    "import json\n",
    "with open(\"fpt_exp_sensitivity_0.json\", 'r') as file:\n",
    "    j = json.load(file)\n",
    "    \n",
    "    asgn4 = j['(5, 15)']['assignments']\n",
    "    \n",
    "#fpt_obj = [calculate_percentile_objective(asgn4, i/100) for i in range(50,101,1)]\n",
    "\n",
    "with open(\"fpt_exp_sensitivity_1.json\", 'r') as file:\n",
    "    j = json.load(file)\n",
    "    \n",
    "    asgn5 = j['(5, 20)']['assignments']\n",
    "    \n",
    "fpt_obj = [calculate_percentile_objective(asgn5, i/100) for i in range(50,101,1)]"
   ]
  },
  {
   "cell_type": "code",
   "execution_count": 44,
   "metadata": {},
   "outputs": [],
   "source": [
    "fac3, asgn3 = most_populous_agg(5, 1)\n",
    "pop_obj = [calculate_percentile_objective(asgn3, i/100) for i in range(50,101,1)]"
   ]
  },
  {
   "cell_type": "code",
   "execution_count": 21,
   "metadata": {},
   "outputs": [],
   "source": [
    "def most_populous(k: int):\n",
    "    return list(range(k)), assign_facilities(list(range(k)))"
   ]
  },
  {
   "cell_type": "code",
   "execution_count": null,
   "metadata": {},
   "outputs": [],
   "source": [
    "def center_of_centers2(k: int):\n",
    "    \"\"\"\n",
    "    PARAMETERS\n",
    "    ----------\n",
    "    k : int\n",
    "        number of facilities to be opened\n",
    "    \n",
    "    RETURNS\n",
    "    ----------\n",
    "    facilities : List[int]\n",
    "        contains facility indices that are open\n",
    "    assignments : List[Tuple[int, int]]\n",
    "        visited location and facility assignment indexed by each client\n",
    "    \"\"\"\n",
    "    clients = []\n",
    "    \n",
    "    for client_row in CLIENT_LOCATIONS.values():\n",
    "        \n",
    "        client = client_row[\"lid\"]\n",
    "        \n",
    "        dispersion = 1e10\n",
    "        effective_center = -1\n",
    "        \n",
    "        for center in client:\n",
    "            \n",
    "            max_dist = 0\n",
    "            \n",
    "            for loc in client:\n",
    "                max_dist = max(calculate_distance(center, loc), max_dist)\n",
    "                \n",
    "            if max_dist < dispersion:\n",
    "                dispersion = max_dist\n",
    "                effective_center = center\n",
    "                \n",
    "        clients.append(effective_center)\n",
    "        \n",
    "    locations = [i for i in range(len(LOCATIONS)) if LOCATIONS[i]['lid'] < HOME_SHIFT]\n",
    "    facilities = _k_supplier(clients, locations, k)\n",
    "    \n",
    "    return facilities, assign_facilities(facilities)"
   ]
  }
 ],
 "metadata": {
  "kernelspec": {
   "display_name": "Python 3",
   "language": "python",
   "name": "python3"
  },
  "language_info": {
   "codemirror_mode": {
    "name": "ipython",
    "version": 3
   },
   "file_extension": ".py",
   "mimetype": "text/x-python",
   "name": "python",
   "nbconvert_exporter": "python",
   "pygments_lexer": "ipython3",
   "version": "3.8.8"
  }
 },
 "nbformat": 4,
 "nbformat_minor": 5
}
