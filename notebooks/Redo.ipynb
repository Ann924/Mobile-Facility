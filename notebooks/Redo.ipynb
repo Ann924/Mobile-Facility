{
 "cells": [
  {
   "cell_type": "markdown",
   "id": "894d7aac",
   "metadata": {},
   "source": [
    "### Notes\n",
    "(filter only for commerical (non-housing center))\n",
    "(throw warnings when radii is too big) (100 to 200m)\n",
    "(sort aid by activity descending)\n",
    "\n",
    "\n",
    "lid -> [pid] (flip) groupby lid, set(pid)\n",
    "\n",
    "aid' -> [lid] (generate groupings)\n",
    "\n",
    "aid' -> [pid] (expand groupings)\n",
    "aid -> [pid] (sort)\n",
    "pid -> aid (revert)\n",
    "\n",
    "\n",
    "Plan:\n",
    "Housing IDs treated seperately.\n",
    "\n",
    "1. \n"
   ]
  },
  {
   "cell_type": "markdown",
   "id": "227e2064",
   "metadata": {},
   "source": [
    "### New Plan:\n"
   ]
  },
  {
   "cell_type": "code",
   "execution_count": 1,
   "id": "2327b3d8",
   "metadata": {
    "scrolled": true
   },
   "outputs": [
    {
     "name": "stderr",
     "output_type": "stream",
     "text": [
      "/home/ubuntu/anaconda3/envs/facility/lib/python3.9/site-packages/ray/autoscaler/_private/cli_logger.py:57: FutureWarning: Not all Ray CLI dependencies were found. In Ray 1.4+, the Ray CLI, autoscaler, and dashboard will only be usable via `pip install 'ray[default]'`. Please update your install command.\n",
      "  warnings.warn(\n"
     ]
    }
   ],
   "source": [
    "#%%\n",
    "\n",
    "%load_ext autoreload\n",
    "%autoreload 2\n",
    "\n",
    "import random\n",
    "import pandas as pd\n",
    "from typing import Dict, List, Tuple, Set\n",
    "from src.problem import *\n",
    "from src.round import *\n",
    "from src.heuristics import *\n",
    "from src.utils import *\n",
    "from src.config import *\n",
    "import folium\n",
    "import numpy as np\n",
    "from folium.plugins import FastMarkerCluster, MarkerCluster\n",
    "\n",
    "# Data loading and preprocessing\n",
    "RAW_DATA_DIR = PROJECT_ROOT / 'data' / 'raw'\n",
    "\n",
    "# Need to preprocess the adult_df\n",
    "# act_df?\n",
    "df_act = pd.read_csv(RAW_DATA_DIR / \"usa_va_charlottesville_city_adult_activity_location_assignment_week.csv\")\n",
    "\n",
    "# aloc_df?\n",
    "# rloc_df?\n",
    "df_aloc = pd.read_csv(RAW_DATA_DIR / \"usa_va_charlottesville_city_activity_locations.csv\")\n",
    "df_rloc = pd.read_csv(RAW_DATA_DIR / \"usa_va_charlottesville_city_residence_locations.csv\")\n",
    "\n",
    "# Define lid\n",
    "df_aloc['lid'] = df_aloc['alid']\n",
    "df_rloc['lid'] = df_rloc['rlid'] + HOME_SHIFT\n",
    "\n",
    "# Location dataframe (with both activity and residential locations)\n",
    "df_loc = pd.concat([df_aloc[['lid', 'longitude', 'latitude']], df_rloc[['lid', 'longitude', 'latitude']]]).set_index('lid')\n",
    "\n",
    "mat_aloc = df_aloc[['longitude', 'latitude']].to_numpy()\n",
    "\n"
   ]
  },
  {
   "cell_type": "code",
   "execution_count": 2,
   "id": "d56f7735",
   "metadata": {},
   "outputs": [],
   "source": [
    "# Shift df_act's rloc by HOME_SHIFT\n",
    "\n",
    "# All coordinates of residential areas\n",
    "coord_r = set(df_rloc[['latitude', 'longitude']].apply(tuple, axis=1).tolist())\n",
    "\n",
    "df_act['coord'] = df_act[['latitude', 'longitude']].apply(lambda x: (x.latitude, x.longitude), axis = 1)\n",
    "df_act.loc[df_act.coord.isin(coord_r), 'lid'] += HOME_SHIFT"
   ]
  },
  {
   "cell_type": "code",
   "execution_count": 29,
   "id": "3c1e4373",
   "metadata": {},
   "outputs": [
    {
     "data": {
      "text/html": [
       "<div>\n",
       "<style scoped>\n",
       "    .dataframe tbody tr th:only-of-type {\n",
       "        vertical-align: middle;\n",
       "    }\n",
       "\n",
       "    .dataframe tbody tr th {\n",
       "        vertical-align: top;\n",
       "    }\n",
       "\n",
       "    .dataframe thead th {\n",
       "        text-align: right;\n",
       "    }\n",
       "</style>\n",
       "<table border=\"1\" class=\"dataframe\">\n",
       "  <thead>\n",
       "    <tr style=\"text-align: right;\">\n",
       "      <th></th>\n",
       "      <th>hid</th>\n",
       "      <th>pid</th>\n",
       "      <th>activity_number</th>\n",
       "      <th>activity_type</th>\n",
       "      <th>start_time</th>\n",
       "      <th>duration</th>\n",
       "      <th>lid</th>\n",
       "      <th>longitude</th>\n",
       "      <th>latitude</th>\n",
       "      <th>travel_mode</th>\n",
       "      <th>coord</th>\n",
       "    </tr>\n",
       "  </thead>\n",
       "  <tbody>\n",
       "    <tr>\n",
       "      <th>0</th>\n",
       "      <td>2208253</td>\n",
       "      <td>5586585</td>\n",
       "      <td>0</td>\n",
       "      <td>1</td>\n",
       "      <td>0</td>\n",
       "      <td>27900</td>\n",
       "      <td>1001018209</td>\n",
       "      <td>-78.488467</td>\n",
       "      <td>38.043025</td>\n",
       "      <td>-1</td>\n",
       "      <td>(38.0430255, -78.4884675)</td>\n",
       "    </tr>\n",
       "    <tr>\n",
       "      <th>1</th>\n",
       "      <td>2208253</td>\n",
       "      <td>5586585</td>\n",
       "      <td>2</td>\n",
       "      <td>2</td>\n",
       "      <td>28800</td>\n",
       "      <td>17100</td>\n",
       "      <td>82246</td>\n",
       "      <td>-78.414920</td>\n",
       "      <td>38.157530</td>\n",
       "      <td>-1</td>\n",
       "      <td>(38.1575300000001, -78.4149199999999)</td>\n",
       "    </tr>\n",
       "    <tr>\n",
       "      <th>2</th>\n",
       "      <td>2208253</td>\n",
       "      <td>5586585</td>\n",
       "      <td>4</td>\n",
       "      <td>4</td>\n",
       "      <td>46800</td>\n",
       "      <td>1200</td>\n",
       "      <td>86726</td>\n",
       "      <td>-78.498790</td>\n",
       "      <td>38.139160</td>\n",
       "      <td>-1</td>\n",
       "      <td>(38.1391600000001, -78.49879)</td>\n",
       "    </tr>\n",
       "    <tr>\n",
       "      <th>3</th>\n",
       "      <td>2208253</td>\n",
       "      <td>5586585</td>\n",
       "      <td>6</td>\n",
       "      <td>2</td>\n",
       "      <td>48600</td>\n",
       "      <td>15300</td>\n",
       "      <td>82246</td>\n",
       "      <td>-78.414920</td>\n",
       "      <td>38.157530</td>\n",
       "      <td>-1</td>\n",
       "      <td>(38.1575300000001, -78.4149199999999)</td>\n",
       "    </tr>\n",
       "    <tr>\n",
       "      <th>4</th>\n",
       "      <td>2208253</td>\n",
       "      <td>5586585</td>\n",
       "      <td>8</td>\n",
       "      <td>1</td>\n",
       "      <td>64800</td>\n",
       "      <td>36000</td>\n",
       "      <td>1001018209</td>\n",
       "      <td>-78.488467</td>\n",
       "      <td>38.043025</td>\n",
       "      <td>-1</td>\n",
       "      <td>(38.0430255, -78.4884675)</td>\n",
       "    </tr>\n",
       "  </tbody>\n",
       "</table>\n",
       "</div>"
      ],
      "text/plain": [
       "       hid      pid  activity_number  activity_type  start_time  duration  \\\n",
       "0  2208253  5586585                0              1           0     27900   \n",
       "1  2208253  5586585                2              2       28800     17100   \n",
       "2  2208253  5586585                4              4       46800      1200   \n",
       "3  2208253  5586585                6              2       48600     15300   \n",
       "4  2208253  5586585                8              1       64800     36000   \n",
       "\n",
       "          lid  longitude   latitude  travel_mode  \\\n",
       "0  1001018209 -78.488467  38.043025           -1   \n",
       "1       82246 -78.414920  38.157530           -1   \n",
       "2       86726 -78.498790  38.139160           -1   \n",
       "3       82246 -78.414920  38.157530           -1   \n",
       "4  1001018209 -78.488467  38.043025           -1   \n",
       "\n",
       "                                   coord  \n",
       "0              (38.0430255, -78.4884675)  \n",
       "1  (38.1575300000001, -78.4149199999999)  \n",
       "2          (38.1391600000001, -78.49879)  \n",
       "3  (38.1575300000001, -78.4149199999999)  \n",
       "4              (38.0430255, -78.4884675)  "
      ]
     },
     "execution_count": 29,
     "metadata": {},
     "output_type": "execute_result"
    }
   ],
   "source": [
    "df_act.head()"
   ]
  },
  {
   "cell_type": "code",
   "execution_count": 32,
   "id": "4f939978",
   "metadata": {},
   "outputs": [
    {
     "data": {
      "text/plain": [
       "True"
      ]
     },
     "execution_count": 32,
     "metadata": {},
     "output_type": "execute_result"
    }
   ],
   "source": [
    "# Assert that activity locations are a subset of total locations\n",
    "set(df_act['lid']) - set(df_loc.index) == set()"
   ]
  },
  {
   "cell_type": "code",
   "execution_count": 33,
   "id": "11eb479c",
   "metadata": {},
   "outputs": [],
   "source": [
    "# Generate single-linkage clusters (aid' -> lid)\n",
    "import matplotlib.pyplot as plt\n",
    "import numpy as np\n",
    "from sklearn.neighbors import BallTree\n",
    "from networkx.utils.union_find import UnionFind\n",
    "\n",
    "THRESHOLD = .025 # distance in km\n",
    "EARTH_RADIUS = 6371 # kilometers\n",
    "\n",
    "\n",
    "def generate_groups(loc_mat, threshold):  \n",
    "    '''\n",
    "    loc_mat: a N x 2 matrix holding spherical coordinates\n",
    "    threshold: a threshold in km for linkage clustering\n",
    "    '''\n",
    "    tree = BallTree(loc_mat, leaf_size=40, metric='haversine')\n",
    "    # Threshold all values less than radius r\n",
    "    \n",
    "    threshold_radius = threshold / EARTH_RADIUS\n",
    "    groups = tree.query_radius(loc_mat, r=threshold_radius)\n",
    "    valid_groups = [group for group in groups if len(group) > 1]\n",
    "\n",
    "    uf = UnionFind(range(len(loc_mat)))\n",
    "    for group in groups:\n",
    "        uf.union(*group)\n",
    "    agg_groups = list(uf.to_sets())\n",
    "    return agg_groups\n",
    "\n",
    "# Generates aid' -> activity_index (aids are tentative)\n",
    "groups = generate_groups(mat_aloc, THRESHOLD)\n",
    "aid2lid = [[df_aloc.iloc[e]['lid'] for e in g] for g in groups]"
   ]
  },
  {
   "cell_type": "code",
   "execution_count": 34,
   "id": "f67917fc",
   "metadata": {
    "scrolled": false
   },
   "outputs": [],
   "source": [
    "# For each location, get a list of different pids associated with it\n",
    "# Some locations may not appear ...\n",
    "lid2pid = df_act.groupby(\"lid\")[\"pid\"].agg(set).to_dict()\n"
   ]
  },
  {
   "cell_type": "code",
   "execution_count": 38,
   "id": "cd1b2e36",
   "metadata": {
    "scrolled": false
   },
   "outputs": [
    {
     "name": "stdout",
     "output_type": "stream",
     "text": [
      "6957\n"
     ]
    }
   ],
   "source": [
    "aid_raw = [None] * len(aid2lid)\n",
    "\n",
    "for i, lids in enumerate(aid2lid):\n",
    "    members = set().union(*[lid2pid.get(i, []) for i in lids])\n",
    "    activity = len(members)\n",
    "    aid_raw[i] = {\n",
    "        'members': members,\n",
    "        'locations': lids,\n",
    "        'activity': activity,\n",
    "    }\n",
    "    # Check if there are duplicate members in aggregated markers\n",
    "    # YES, there are members that are duplicate across aggregated markers\n",
    "#     if len(members) != sum([len(lid2pid.pid.get(i, [])) for i in lids]):\n",
    "#         print(i, lids, [lid2pid.pid.get(i, []) for i in lids])\n",
    "print(len(aid_raw))\n"
   ]
  },
  {
   "cell_type": "code",
   "execution_count": 39,
   "id": "706ebb7b",
   "metadata": {},
   "outputs": [],
   "source": [
    "aid2pid = [{'aid': i, **group} for i, group in enumerate(sorted(aid_raw, key=(lambda x: (-x['activity'], min(members)))))]"
   ]
  },
  {
   "cell_type": "code",
   "execution_count": null,
   "id": "d7b9ca18",
   "metadata": {},
   "outputs": [],
   "source": [
    "\n",
    "# Visualization of different groups\n",
    "# Objective: show different markers, use color of marker to denote different aggregate groups?\n",
    "\n"
   ]
  }
 ],
 "metadata": {
  "kernelspec": {
   "display_name": "Python 3",
   "language": "python",
   "name": "python3"
  },
  "language_info": {
   "codemirror_mode": {
    "name": "ipython",
    "version": 3
   },
   "file_extension": ".py",
   "mimetype": "text/x-python",
   "name": "python",
   "nbconvert_exporter": "python",
   "pygments_lexer": "ipython3",
   "version": "3.9.6"
  }
 },
 "nbformat": 4,
 "nbformat_minor": 5
}
