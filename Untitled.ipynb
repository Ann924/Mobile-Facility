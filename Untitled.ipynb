{
 "cells": [
  {
   "cell_type": "code",
   "execution_count": 1,
   "id": "ca6c3850",
   "metadata": {},
   "outputs": [],
   "source": [
    "from typing import Dict, List, Tuple, Set\n",
    "from utils import *\n",
    "\n",
    "def center_of_centers(distances: List[List[float]], client_locations: List[List[int]], k: int):\n",
    "    \n",
    "    clients = []\n",
    "    \n",
    "    for client in client_locations:\n",
    "        \n",
    "        dispersion = 1e10\n",
    "        effective_center = -1\n",
    "        \n",
    "        for center in client:\n",
    "            \n",
    "            max_dist = 0\n",
    "            \n",
    "            for loc in client:\n",
    "                max_dist = max(distances[center][loc], max_dist)\n",
    "                \n",
    "            if max_dist < dispersion:\n",
    "                dispersion = max_dist\n",
    "                effective_center = center\n",
    "                \n",
    "        clients.append(effective_center)\n",
    "        \n",
    "    homes = [locs[0] for locs in client_locations]\n",
    "    locations = [i for i in range(len(distances)) if i not in homes]\n",
    "    facilities = _k_supplier(distances, clients, locations, k)\n",
    "    \n",
    "    return facilities, assign_facilities(G, [locs[:1] for locs in client_locations], facilities)\n",
    "    \n",
    "\n",
    "def _k_supplier(distances: List[List[int]], clients: List[int], locations: List[int], k: int):\n",
    "    \n",
    "    #set the radius to ensure there exists a facility within radius r of each client\n",
    "    max_min_dist = max([min([cost(distances, c, f) for f in locations]) for c in clients])\n",
    "    \n",
    "    possible_OPT = [i for k in distances for i in k if i>=max_min_dist]\n",
    "    possible_OPT.sort()\n",
    "    \n",
    "    l = 0;\n",
    "    r = len(possible_OPT)-1\n",
    "    to_ret = -1\n",
    "    pairwise_disjoint = set()\n",
    "    \n",
    "    while l <= r:\n",
    "  \n",
    "        mid = l + (r - l) // 2;\n",
    "        \n",
    "        pairwise_disjoint =  _check_radius(possible_OPT[mid], distances, clients, locations, k)\n",
    "        if len(pairwise_disjoint) <= k:\n",
    "            r = mid - 1\n",
    "            to_ret = mid\n",
    "        else:\n",
    "            l = mid + 1\n",
    "        \n",
    "    if to_ret >= 0:\n",
    "        facilities = _locate_facilities(possible_OPT[to_ret], distances, pairwise_disjoint, locations, k)\n",
    "        return facilities\n",
    "    else:\n",
    "        print(\"NO SOLUTION\")\n",
    "\n",
    "def _check_radius(radius: int, distances: List[List[int]], clients: List[int], locations: List[int], k: int):\n",
    "    \n",
    "    pairwise_disjoint = set()\n",
    "    \n",
    "    V = set(clients)\n",
    "    while len(V)!=0:\n",
    "        v = V.pop()\n",
    "        pairwise_disjoint.add(v)\n",
    "        remove = set()\n",
    "        for i in V:\n",
    "            if cost(distances,v,i) <= 2*radius:\n",
    "                remove.add(i)\n",
    "        V-=remove\n",
    "    \n",
    "    return pairwise_disjoint\n",
    "\n",
    "\n",
    "def _locate_facilities(radius: int, distances: List[List[int]], pairwise_disjoint: Set[int], locations: List[int], k: int):\n",
    "    \n",
    "    facilities = set()\n",
    "    for c in pairwise_disjoint:\n",
    "        for l in locations:\n",
    "            if cost(distances, c, l) <= 2*radius:\n",
    "                facilities.add(l)\n",
    "                break\n",
    "    \n",
    "    #Check if k is too large\n",
    "    k = min(k, len(locations))\n",
    "    \n",
    "    #If there are more facilities to open\n",
    "    if k>len(facilities):\n",
    "        unopened_facilities = set(locations)-facilities\n",
    "        for i in range(k-len(facilities)):\n",
    "            facilities.add(unopened_facilities.pop())\n",
    "    return list(facilities)"
   ]
  },
  {
   "cell_type": "code",
   "execution_count": 2,
   "id": "cac91143",
   "metadata": {},
   "outputs": [
    {
     "data": {
      "text/plain": [
       "([1],\n",
       " {address(index=0, location=0, facility=1): 1,\n",
       "  address(index=1, location=2, facility=1): 1})"
      ]
     },
     "execution_count": 2,
     "metadata": {},
     "output_type": "execute_result"
    }
   ],
   "source": [
    "G = [[0], [5, 0], [12, 7, 0]]\n",
    "clients = [[0], [2]]\n",
    "k = 1\n",
    "center_of_centers(G, clients, k)"
   ]
  },
  {
   "cell_type": "code",
   "execution_count": 4,
   "id": "f238db88",
   "metadata": {},
   "outputs": [
    {
     "name": "stdout",
     "output_type": "stream",
     "text": [
      "[5, 6, 7, 8, 1, 2, 3, 4, 8]\n",
      "[1, 2, 3, 4, 5, 6, 7, 8, 8]\n"
     ]
    }
   ],
   "source": [
    "distances = [[5,6,7,8],[1,2,3,4],[8]]\n",
    "\n",
    "possible_OPT = [i for k in distances for i in k]\n",
    "\n",
    "print(possible_OPT)\n",
    "\n",
    "possible_OPT.sort()\n",
    "\n",
    "print(possible_OPT)"
   ]
  }
 ],
 "metadata": {
  "kernelspec": {
   "display_name": "Python 3",
   "language": "python",
   "name": "python3"
  },
  "language_info": {
   "codemirror_mode": {
    "name": "ipython",
    "version": 3
   },
   "file_extension": ".py",
   "mimetype": "text/x-python",
   "name": "python",
   "nbconvert_exporter": "python",
   "pygments_lexer": "ipython3",
   "version": "3.8.8"
  }
 },
 "nbformat": 4,
 "nbformat_minor": 5
}
