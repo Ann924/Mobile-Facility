{
 "cells": [
  {
   "cell_type": "code",
   "execution_count": 8,
   "id": "ca6c3850",
   "metadata": {},
   "outputs": [],
   "source": [
    "from typing import Dict, List, Tuple, Set\n",
    "\n",
    "\n",
    "def _k_supplier(distances: List[List[int]], clients: List[int], locations: List[int], k: int):\n",
    "    \n",
    "    possible_OPT = [i for k in distances for i in k]\n",
    "    possible_OPT.sort()\n",
    "    \n",
    "    l = 0;\n",
    "    r = len(possible_OPT)-1\n",
    "    to_ret = -1\n",
    "    \n",
    "    while l <= r:\n",
    "  \n",
    "        mid = l + (r - l) // 2;\n",
    "          \n",
    "        if _check_radius(mid, distances, clients, locations, k):\n",
    "            l = mid + 1\n",
    "            to_ret = mid\n",
    "        else:\n",
    "            r = mid - 1\n",
    "            \n",
    "    return to_ret\n",
    "\n",
    "def _check_radius(radius: int, distances: List[List[int]], clients: List[int], locations: List[int], k: int):\n",
    "    print()"
   ]
  },
  {
   "cell_type": "code",
   "execution_count": 4,
   "id": "f238db88",
   "metadata": {},
   "outputs": [
    {
     "name": "stdout",
     "output_type": "stream",
     "text": [
      "[5, 6, 7, 8, 1, 2, 3, 4, 8]\n",
      "[1, 2, 3, 4, 5, 6, 7, 8, 8]\n"
     ]
    }
   ],
   "source": [
    "distances = [[5,6,7,8],[1,2,3,4],[8]]\n",
    "\n",
    "possible_OPT = [i for k in distances for i in k]\n",
    "\n",
    "print(possible_OPT)\n",
    "\n",
    "possible_OPT.sort()\n",
    "\n",
    "print(possible_OPT)"
   ]
  }
 ],
 "metadata": {
  "kernelspec": {
   "display_name": "Python 3",
   "language": "python",
   "name": "python3"
  },
  "language_info": {
   "codemirror_mode": {
    "name": "ipython",
    "version": 3
   },
   "file_extension": ".py",
   "mimetype": "text/x-python",
   "name": "python",
   "nbconvert_exporter": "python",
   "pygments_lexer": "ipython3",
   "version": "3.8.8"
  }
 },
 "nbformat": 4,
 "nbformat_minor": 5
}
